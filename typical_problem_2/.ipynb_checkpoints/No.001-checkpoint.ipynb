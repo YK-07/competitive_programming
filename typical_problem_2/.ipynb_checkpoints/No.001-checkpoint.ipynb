{
 "cells": [
  {
   "cell_type": "code",
   "execution_count": 20,
   "id": "344d56ca",
   "metadata": {
    "scrolled": true
   },
   "outputs": [
    {
     "name": "stdout",
     "output_type": "stream",
     "text": [
      "7 45\n",
      "2\n",
      "7 11 16 20 28 34 38\n",
      "38\n",
      "34\n",
      "28\n",
      "20\n",
      "16\n",
      "11\n",
      "7\n",
      "7\n"
     ]
    }
   ],
   "source": [
    "# WA\n",
    "N,L=map(int,input().split())\n",
    "K=int(input())\n",
    "A=list(map(int,input().split()))\n",
    "ans=0\n",
    "for i in range(1,N+1):\n",
    "    _K=K\n",
    "    cut=A[-i]\n",
    "    if ans>=cut:\n",
    "        break\n",
    "        \n",
    "    if _K==1:\n",
    "        piece=L-cut\n",
    "        score=min(cut,piece)\n",
    "        ans=max(score,ans)\n",
    "    \n",
    "    else:# _K>=2\n",
    "        for j in range(N-i,N):\n",
    "            if j==N-i:\n",
    "                standard=j\n",
    "            else:\n",
    "                piece=A[j]-A[standard]\n",
    "                if piece>=cut:\n",
    "                    standard=j\n",
    "                    _K-=1\n",
    "                    if _K==0:\n",
    "                        break\n",
    "    \n",
    "        if _K==0:\n",
    "            piece=L-A[standard]\n",
    "            score=min(cut,piece)\n",
    "            ans=max(score,ans)\n",
    "\n",
    "print(ans)"
   ]
  },
  {
   "cell_type": "code",
   "execution_count": 9,
   "id": "ba626b31",
   "metadata": {},
   "outputs": [
    {
     "name": "stdout",
     "output_type": "stream",
     "text": [
      "46\n"
     ]
    }
   ],
   "source": [
    "a=max(34,46)\n",
    "print(a)"
   ]
  },
  {
   "cell_type": "code",
   "execution_count": null,
   "id": "b6c2a195",
   "metadata": {},
   "outputs": [],
   "source": [
    "# AC\n",
    "N, L, K, *A = map(int, open(0).read().split())\n",
    "\n",
    "def pred(score: int) -> bool:\n",
    "    k = 0\n",
    "    now = 0\n",
    "    for a in A:\n",
    "        if score <= a - now and score <= L - a:\n",
    "            k += 1\n",
    "            now = a\n",
    "    return K <= k\n",
    "\n",
    "lo = 1\n",
    "hi = L\n",
    "while 1 < hi - lo:\n",
    "    mid = (lo + hi) // 2\n",
    "    if pred(mid):\n",
    "        lo = mid\n",
    "    else:\n",
    "        hi = mid\n",
    "\n",
    "print(lo)"
   ]
  },
  {
   "cell_type": "code",
   "execution_count": null,
   "id": "8f331705",
   "metadata": {},
   "outputs": [],
   "source": [
    "# 二分探索\n",
    "# 答えは４以上か　No　答えの範囲は０～３\n",
    "# 答えは２以上か　Yes　答えの範囲は２～３\n",
    "# 答えは３以上か　No　答えは２に決定"
   ]
  },
  {
   "cell_type": "code",
   "execution_count": 36,
   "id": "693b6e31",
   "metadata": {},
   "outputs": [
    {
     "name": "stdout",
     "output_type": "stream",
     "text": [
      "[51, 18, 33, 25, 106, 62, 55, 38, 29, 49, 3, 54, 30, 34, 133, 19, 62, 54, 71, 28, 46]\n"
     ]
    }
   ],
   "source": [
    "print(a)"
   ]
  },
  {
   "cell_type": "code",
   "execution_count": 44,
   "id": "3d59eda5",
   "metadata": {},
   "outputs": [
    {
     "name": "stdout",
     "output_type": "stream",
     "text": [
      "523\n"
     ]
    }
   ],
   "source": [
    "print(sum([51, 18, 33, 25, 106, 62, 55, 38, 29, 49, 3, 54]))"
   ]
  },
  {
   "cell_type": "code",
   "execution_count": 48,
   "id": "7dbc9682",
   "metadata": {
    "scrolled": true
   },
   "outputs": [
    {
     "name": "stdout",
     "output_type": "stream",
     "text": [
      "20 1000\n",
      "4\n",
      "51 69 102 127 233 295 350 388 417 466 469 523 553 587 720 739 801 855 926 954\n",
      "ub 500\n",
      "ub 250\n",
      "lb 125\n",
      "ub 187\n",
      "lb 156\n",
      "ub 171\n",
      "lb 163\n",
      "lb 167\n",
      "lb 169\n",
      "lb 170\n",
      "170\n"
     ]
    }
   ],
   "source": [
    "# AC 二分探索\n",
    "N,L=map(int,input().split())\n",
    "K=int(input())\n",
    "A=list(map(int,input().split()))\n",
    "a=A+[L]\n",
    "\n",
    "for i in range(N,0,-1):\n",
    "    a[i]=a[i]-a[i-1]\n",
    "\n",
    "lb,ub=0,L\n",
    "while ub-lb>1:\n",
    "    mid=(lb+ub)//2\n",
    "    #print('mid',mid)\n",
    "    cnt,cut=0,0\n",
    "    for _a in a:\n",
    "        cut+=_a\n",
    "        if cut>=mid:\n",
    "            cnt+=1\n",
    "            #print('cut',cut)\n",
    "            cut=0\n",
    "    if cnt>=K+1:\n",
    "        lb=mid\n",
    "        print('lb',lb)\n",
    "    else:\n",
    "        ub=mid\n",
    "        print('ub',ub)\n",
    "ans=lb\n",
    "#print(ub)\n",
    "print(ans)"
   ]
  },
  {
   "cell_type": "code",
   "execution_count": 46,
   "id": "e99b2e4f",
   "metadata": {},
   "outputs": [
    {
     "data": {
      "text/plain": [
       "170"
      ]
     },
     "execution_count": 46,
     "metadata": {},
     "output_type": "execute_result"
    }
   ],
   "source": [
    "(171+170)//2"
   ]
  },
  {
   "cell_type": "code",
   "execution_count": 25,
   "id": "cb80101d",
   "metadata": {},
   "outputs": [
    {
     "name": "stdout",
     "output_type": "stream",
     "text": [
      "[10, 8, 6, 4]\n"
     ]
    }
   ],
   "source": [
    "print(list(range(10, 3, -2)))"
   ]
  },
  {
   "cell_type": "code",
   "execution_count": 31,
   "id": "09d34712",
   "metadata": {},
   "outputs": [
    {
     "name": "stdout",
     "output_type": "stream",
     "text": [
      "20 1000\n",
      "4\n",
      "51 69 102 127 233 295 350 388 417 466 469 523 553 587 720 739 801 855 926 954\n",
      "[51, 69, 102, 127, 233, 295, 350, 388, 417, 466, 469, 523, 553, 587, 720, 739, 801, 855, 926, 954, 1000]\n",
      "21\n",
      "[51, 18, 33, 25, 106, 62, 55, 38, 29, 49, 3, 54, 30, 34, 133, 19, 62, 54, 71, 28, 46]\n",
      "21\n"
     ]
    }
   ],
   "source": [
    "N,L=map(int,input().split())\n",
    "K=int(input())\n",
    "A=list(map(int,input().split()))\n",
    "a=A+[L]\n",
    "print(a)\n",
    "print(len(a))\n",
    "for i in range(N,0,-1):\n",
    "    a[i]=a[i]-a[i-1]\n",
    "print(a)\n",
    "print(len(a))"
   ]
  },
  {
   "cell_type": "code",
   "execution_count": null,
   "id": "c3228e3c",
   "metadata": {},
   "outputs": [],
   "source": []
  }
 ],
 "metadata": {
  "kernelspec": {
   "display_name": "Python 3 (ipykernel)",
   "language": "python",
   "name": "python3"
  },
  "language_info": {
   "codemirror_mode": {
    "name": "ipython",
    "version": 3
   },
   "file_extension": ".py",
   "mimetype": "text/x-python",
   "name": "python",
   "nbconvert_exporter": "python",
   "pygments_lexer": "ipython3",
   "version": "3.9.12"
  }
 },
 "nbformat": 4,
 "nbformat_minor": 5
}
