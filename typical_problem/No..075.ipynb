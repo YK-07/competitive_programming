{
 "cells": [
  {
   "cell_type": "code",
   "execution_count": null,
   "id": "77ef3d8d",
   "metadata": {},
   "outputs": [],
   "source": [
    "# AC\n",
    "n=int(input())\n",
    "def factorization(n):\n",
    "    arr = 0\n",
    "    temp = n\n",
    "    for i in range(2, int(n**0.5//1)+1):#(2, int(-(-n**0.5//1))+1)\n",
    "        if temp%i==0:\n",
    "            cnt=0\n",
    "            while temp%i==0:\n",
    "                cnt+=1\n",
    "                temp //= i\n",
    "            arr+=cnt\n",
    "\n",
    "    if temp!=1:\n",
    "        arr+=1\n",
    "    if arr==0:\n",
    "        arr+=1\n",
    "\n",
    "    return arr\n",
    "\n",
    "pr_de=factorization(n)\n",
    "num=2\n",
    "ans=1\n",
    "while num<pr_de:\n",
    "    num*=2\n",
    "    ans+=1\n",
    "if pr_de==1:\n",
    "    print(0)\n",
    "else:\n",
    "    print(ans)"
   ]
  },
  {
   "cell_type": "code",
   "execution_count": 58,
   "id": "a694017e",
   "metadata": {},
   "outputs": [
    {
     "data": {
      "text/plain": [
       "2.0"
      ]
     },
     "execution_count": 58,
     "metadata": {},
     "output_type": "execute_result"
    }
   ],
   "source": [
    "5**0.5//1"
   ]
  },
  {
   "cell_type": "code",
   "execution_count": 48,
   "id": "b7d31f9f",
   "metadata": {},
   "outputs": [
    {
     "name": "stdout",
     "output_type": "stream",
     "text": [
      "53\n",
      "0\n"
     ]
    }
   ],
   "source": [
    "# おそらくACだが、AtoderにsympyがないのでRE\n",
    "import sympy\n",
    "N=int(input())\n",
    "fact_dic = sympy.factorint(N)\n",
    "fact_cnt = list(sympy.factorint(N))\n",
    "\n",
    "cnt=0\n",
    "for i in fact_cnt:\n",
    "    cnt+=fact_dic[i]\n",
    "\n",
    "ans=0\n",
    "while cnt>=2:\n",
    "    if cnt%2==1:\n",
    "        cnt//=2\n",
    "        cnt+=1\n",
    "        ans+=1\n",
    "    else:\n",
    "        cnt//=2\n",
    "        ans+=1\n",
    "print(ans)"
   ]
  },
  {
   "cell_type": "code",
   "execution_count": 44,
   "id": "ff7df0e7",
   "metadata": {},
   "outputs": [
    {
     "name": "stdout",
     "output_type": "stream",
     "text": [
      "{2: 4, 3: 1}\n",
      "[2, 3]\n"
     ]
    }
   ],
   "source": [
    "print(fact_dic)\n",
    "print(fact_cnt)"
   ]
  },
  {
   "cell_type": "code",
   "execution_count": 1,
   "id": "a3de2e60",
   "metadata": {},
   "outputs": [],
   "source": [
    "import sympy"
   ]
  },
  {
   "cell_type": "code",
   "execution_count": 15,
   "id": "47244564",
   "metadata": {},
   "outputs": [],
   "source": [
    "fact_dic = sympy.factorint(N)\n",
    "fact_cnt = list(sympy.factorint(N))"
   ]
  },
  {
   "cell_type": "code",
   "execution_count": 18,
   "id": "a6aa2233",
   "metadata": {},
   "outputs": [],
   "source": [
    "cnt=0\n",
    "for i in fact_cnt:\n",
    "    cnt+=fact_dic[i]"
   ]
  },
  {
   "cell_type": "code",
   "execution_count": 37,
   "id": "d81fbcf0",
   "metadata": {},
   "outputs": [],
   "source": [
    "cnt=15"
   ]
  },
  {
   "cell_type": "code",
   "execution_count": 38,
   "id": "a072f3d4",
   "metadata": {},
   "outputs": [
    {
     "name": "stdout",
     "output_type": "stream",
     "text": [
      "4\n"
     ]
    }
   ],
   "source": [
    "ans=0\n",
    "while cnt>=2:\n",
    "    if cnt==3:\n",
    "        ans+=2\n",
    "        break\n",
    "    cnt//=2\n",
    "    ans+=1\n",
    "print(ans)"
   ]
  },
  {
   "cell_type": "code",
   "execution_count": 26,
   "id": "d85e2577",
   "metadata": {},
   "outputs": [
    {
     "data": {
      "text/plain": [
       "1"
      ]
     },
     "execution_count": 26,
     "metadata": {},
     "output_type": "execute_result"
    }
   ],
   "source": [
    "ans"
   ]
  },
  {
   "cell_type": "code",
   "execution_count": 27,
   "id": "381b7672",
   "metadata": {},
   "outputs": [
    {
     "data": {
      "text/plain": [
       "1"
      ]
     },
     "execution_count": 27,
     "metadata": {},
     "output_type": "execute_result"
    }
   ],
   "source": [
    "cnt"
   ]
  },
  {
   "cell_type": "code",
   "execution_count": null,
   "id": "316d2da9",
   "metadata": {},
   "outputs": [],
   "source": []
  },
  {
   "cell_type": "code",
   "execution_count": null,
   "id": "4679fa0c",
   "metadata": {},
   "outputs": [],
   "source": []
  },
  {
   "cell_type": "code",
   "execution_count": null,
   "id": "2025e039",
   "metadata": {},
   "outputs": [],
   "source": []
  },
  {
   "cell_type": "code",
   "execution_count": null,
   "id": "9be45f89",
   "metadata": {},
   "outputs": [],
   "source": []
  }
 ],
 "metadata": {
  "kernelspec": {
   "display_name": "Python 3 (ipykernel)",
   "language": "python",
   "name": "python3"
  },
  "language_info": {
   "codemirror_mode": {
    "name": "ipython",
    "version": 3
   },
   "file_extension": ".py",
   "mimetype": "text/x-python",
   "name": "python",
   "nbconvert_exporter": "python",
   "pygments_lexer": "ipython3",
   "version": "3.9.12"
  }
 },
 "nbformat": 4,
 "nbformat_minor": 5
}
