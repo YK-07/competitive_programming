{
 "cells": [
  {
   "cell_type": "code",
   "execution_count": 68,
   "id": "876a5e3f",
   "metadata": {},
   "outputs": [
    {
     "name": "stdout",
     "output_type": "stream",
     "text": [
      "2311640221315 15\n",
      "474547\n"
     ]
    }
   ],
   "source": [
    "#AC\n",
    "N,K=map(int,input().split())\n",
    "if N == 0:\n",
    "    exit(print(0))\n",
    "def base_9(n):\n",
    "    base_9 = \"\"\n",
    "    while n!=0:\n",
    "        base_9 += str(n%9)\n",
    "        n = n//9\n",
    "    return int(base_9[::-1])\n",
    "\n",
    "def base_10(n):\n",
    "    n = str(n)\n",
    "    l = len(n)-1\n",
    "    base_10 = 0\n",
    "    for i in range(len(n)):\n",
    "        base_10 += (8**l)*int(n[i])\n",
    "        l -= 1\n",
    "    return base_10\n",
    "\n",
    "N_tem=N \n",
    "for _ in range(K):\n",
    "    value=base_10(N_tem) # valueに8進法のN_temを10進法に変換したものをいれる\n",
    "    N_tem=base_9(value) # N_temを9進法に変換\n",
    "    N_tem=str(N_tem)\n",
    "#    if '8' in N_tem:\n",
    "    N_tem=N_tem.replace('8','5')\n",
    "    N_tem=int(N_tem) #この時点ではN_temは９進数だが8進数として扱う、 8を5に変換済み,\n",
    "    \n",
    "print(N_tem)"
   ]
  },
  {
   "cell_type": "code",
   "execution_count": 70,
   "id": "2fb5124d",
   "metadata": {},
   "outputs": [
    {
     "name": "stdout",
     "output_type": "stream",
     "text": [
      "2311640221315 15\n",
      "474547\n"
     ]
    }
   ],
   "source": [
    "#AC\n",
    "N,K=map(int,input().split())\n",
    "if N == 0:\n",
    "    exit(print(0))\n",
    "def base_N_8(x,y):\n",
    "    N_tem_10=int(str(x),y) # 8進法Nを10進法に変換\n",
    "    return N_tem_10\n",
    "\n",
    "def base_9(n):\n",
    "    base_9 = \"\"\n",
    "    while n!=0:\n",
    "        base_9 += str(n%9)\n",
    "        n = n//9\n",
    "    return int(base_9[::-1])\n",
    "\n",
    "N_tem=N \n",
    "for _ in range(K):\n",
    "    value=base_N_8(N_tem,8) # valueに8進法のN_temを10進法に変換したものをいれる\n",
    "    N_tem=base_9(value) # N_temを9進法に変換\n",
    "    N_tem=str(N_tem)\n",
    "    N_tem=N_tem.replace('8','5')\n",
    "    N_tem=int(N_tem) #この時点ではN_temは９進数だが8進数として扱う、 8を5に変換済み,\n",
    "    \n",
    "print(N_tem)"
   ]
  },
  {
   "cell_type": "code",
   "execution_count": 58,
   "id": "edf7fdca",
   "metadata": {},
   "outputs": [
    {
     "name": "stdout",
     "output_type": "stream",
     "text": [
      "2311640221315 15\n",
      "474547\n"
     ]
    }
   ],
   "source": [
    "# WA\n",
    "N,K=map(int,input().split())\n",
    "def base_N_8(x,y):\n",
    "    N_tem_10=int(str(x),y) # 8進法Nを10進法に変換\n",
    "    return N_tem_10\n",
    "\n",
    "def base10int(value, base):\n",
    "    if (int(value / base)):\n",
    "        return base10int(int(value / base), base) + str(value % base)\n",
    "    return str(value % base)\n",
    "\n",
    "N_tem=N \n",
    "for _ in range(K):\n",
    "    value=base_N_8(N_tem,8) # valueに8進法のN_temを10進法に変換したものをいれる\n",
    "    N_tem=base10int(value,9) # N_temを9進法に変換\n",
    "    N_tem=str(N_tem)\n",
    "#    if '8' in N_tem:\n",
    "    N_tem=N_tem.replace('8','5')\n",
    "    N_tem=int(N_tem) #この時点ではN_temは９進数だが8進数として扱う、 8を5に変換済み,\n",
    "    \n",
    "print(N_tem)        "
   ]
  },
  {
   "cell_type": "code",
   "execution_count": 47,
   "id": "b80b073e",
   "metadata": {},
   "outputs": [
    {
     "name": "stdout",
     "output_type": "stream",
     "text": [
      "455\n",
      "455\n"
     ]
    }
   ],
   "source": [
    "print(81*5+9*5+5)\n",
    "print(64*7+8*0+7)"
   ]
  },
  {
   "cell_type": "code",
   "execution_count": 9,
   "id": "e05f0ad2",
   "metadata": {},
   "outputs": [
    {
     "name": "stdout",
     "output_type": "stream",
     "text": [
      "64\n"
     ]
    }
   ],
   "source": [
    "print(int(str(100), 8)) # or'100'"
   ]
  },
  {
   "cell_type": "code",
   "execution_count": 13,
   "id": "32ecb8b1",
   "metadata": {},
   "outputs": [
    {
     "name": "stdout",
     "output_type": "stream",
     "text": [
      "57\n"
     ]
    }
   ],
   "source": [
    "def base10int(value, base):\n",
    "    if (int(value / base)):\n",
    "        return base10int(int(value / base), base) + str(value % base)\n",
    "    return str(value % base)\n",
    "\n",
    "print(base10int(base_n(64), 9))"
   ]
  },
  {
   "cell_type": "code",
   "execution_count": 19,
   "id": "fe118f99",
   "metadata": {},
   "outputs": [
    {
     "name": "stdout",
     "output_type": "stream",
     "text": [
      "1 2 3 4 3 3\n"
     ]
    }
   ],
   "source": [
    "a='1 2 3 4 3 3'\n",
    "if '3' in a:\n",
    "    a.replace('3','9', 3)\n",
    "print(a)\n",
    "    "
   ]
  },
  {
   "cell_type": "code",
   "execution_count": 28,
   "id": "cd2e8499",
   "metadata": {},
   "outputs": [
    {
     "name": "stdout",
     "output_type": "stream",
     "text": [
      "1 2 9 4 9 9 9\n"
     ]
    }
   ],
   "source": [
    "a='1 2 3 4 3 3 3' \n",
    "if '3' in a:\n",
    "    a=a.replace('3','9')\n",
    "print(a)"
   ]
  },
  {
   "cell_type": "code",
   "execution_count": 66,
   "id": "8eb56f3e",
   "metadata": {
    "scrolled": true
   },
   "outputs": [
    {
     "name": "stdout",
     "output_type": "stream",
     "text": [
      "21 1\n",
      "17\n",
      "8 n9\n",
      "1 n\n",
      "18 n9\n",
      "0 n\n",
      "15\n"
     ]
    }
   ],
   "source": [
    "n, k = map(int, input().split())\n",
    "if n == 0:\n",
    "    exit(print(0))\n",
    "n = int(str(n), 8) #8進数nを10進数に変換\n",
    "\n",
    "for _ in range(k):\n",
    "    n9 = \"\"\n",
    "    while n > 0:\n",
    "        n9 = str(n % 9) + n9\n",
    "        n //= 9\n",
    "    n9 = n9.replace(\"8\", \"5\")\n",
    "    n = int(n9, 8)\n",
    "\n",
    "print(n9)"
   ]
  },
  {
   "cell_type": "code",
   "execution_count": 61,
   "id": "95411b01",
   "metadata": {},
   "outputs": [
    {
     "name": "stdout",
     "output_type": "stream",
     "text": [
      "3\n"
     ]
    }
   ],
   "source": [
    "a=16\n",
    "a //=5\n",
    "print(a)"
   ]
  },
  {
   "cell_type": "code",
   "execution_count": 67,
   "id": "2fbe72ed",
   "metadata": {},
   "outputs": [
    {
     "name": "stdout",
     "output_type": "stream",
     "text": [
      "3\n"
     ]
    }
   ],
   "source": [
    "a=17\n",
    "a= a//5\n",
    "print(a)"
   ]
  },
  {
   "cell_type": "code",
   "execution_count": 63,
   "id": "2d180a9b",
   "metadata": {},
   "outputs": [
    {
     "name": "stdout",
     "output_type": "stream",
     "text": [
      "3.2\n"
     ]
    }
   ],
   "source": [
    "a=16\n",
    "a=a/5\n",
    "print(a)"
   ]
  },
  {
   "cell_type": "code",
   "execution_count": null,
   "id": "2873441a",
   "metadata": {},
   "outputs": [],
   "source": []
  }
 ],
 "metadata": {
  "kernelspec": {
   "display_name": "Python 3 (ipykernel)",
   "language": "python",
   "name": "python3"
  },
  "language_info": {
   "codemirror_mode": {
    "name": "ipython",
    "version": 3
   },
   "file_extension": ".py",
   "mimetype": "text/x-python",
   "name": "python",
   "nbconvert_exporter": "python",
   "pygments_lexer": "ipython3",
   "version": "3.9.12"
  }
 },
 "nbformat": 4,
 "nbformat_minor": 5
}
