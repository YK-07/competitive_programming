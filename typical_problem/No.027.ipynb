{
 "cells": [
  {
   "cell_type": "code",
   "execution_count": 32,
   "id": "919921e9",
   "metadata": {},
   "outputs": [
    {
     "name": "stdout",
     "output_type": "stream",
     "text": [
      "5\n",
      "t\n",
      "a\n",
      "t\n",
      "f\n",
      "f\n",
      "1\n",
      "2\n",
      "4\n"
     ]
    }
   ],
   "source": [
    "#正解\n",
    "N = int(input())\n",
    "S = [input() for _ in range(N)]\n",
    "ansset = set()\n",
    "for i,j in enumerate(S):\n",
    "    if j in ansset:\n",
    "        pass\n",
    "    else:\n",
    "        ansset.add(j)\n",
    "        print(i+1)\n",
    "#　できるだけ for l in []: print(*l)　の形は使わず、処理にprint()を組み込んだほうが良いのかもしれない"
   ]
  },
  {
   "cell_type": "code",
   "execution_count": 34,
   "id": "4d99dc05",
   "metadata": {},
   "outputs": [
    {
     "name": "stdout",
     "output_type": "stream",
     "text": [
      "5\n",
      "t\n",
      "a\n",
      "t\n",
      "f\n",
      "f\n",
      "1\n",
      "2\n",
      "4\n"
     ]
    }
   ],
   "source": [
    "#一部不正解\n",
    "N = int(input())\n",
    "S = [input() for _ in range(N)]\n",
    "ansset = set()\n",
    "ans=[]\n",
    "for i,j in enumerate(S):\n",
    "    if j in ansset:\n",
    "        pass\n",
    "    else:\n",
    "        ansset.add(j)\n",
    "        ans.append(str(i+1))\n",
    "for l in ans:\n",
    "    print(*l)"
   ]
  },
  {
   "cell_type": "code",
   "execution_count": 26,
   "id": "af18afbb",
   "metadata": {
    "scrolled": true
   },
   "outputs": [
    {
     "name": "stdout",
     "output_type": "stream",
     "text": [
      "0 e\n",
      "1 a\n",
      "2 e\n",
      "3 s\n",
      "4 s\n"
     ]
    }
   ],
   "source": [
    "for i,j in enumerate(S):\n",
    "    print(i,j)"
   ]
  },
  {
   "cell_type": "code",
   "execution_count": 24,
   "id": "1bd3c219",
   "metadata": {},
   "outputs": [
    {
     "name": "stdout",
     "output_type": "stream",
     "text": [
      "['e']\n"
     ]
    }
   ],
   "source": [
    "print(S[:1])"
   ]
  },
  {
   "cell_type": "code",
   "execution_count": 9,
   "id": "3a6a1e00",
   "metadata": {},
   "outputs": [
    {
     "name": "stdout",
     "output_type": "stream",
     "text": [
      "Yes\n"
     ]
    }
   ],
   "source": [
    "a = [1,2,3,4,5,5,5,6,7]\n",
    "if 5 in a[0:5]:\n",
    "    print('Yes')\n",
    "else:\n",
    "    print('No')"
   ]
  },
  {
   "cell_type": "code",
   "execution_count": 13,
   "id": "3fcc1867",
   "metadata": {},
   "outputs": [
    {
     "name": "stdout",
     "output_type": "stream",
     "text": [
      "A\n",
      "B\n",
      "C\n"
     ]
    }
   ],
   "source": [
    "a = ['A','B','C']\n",
    "for l in a:\n",
    "    print(*l)"
   ]
  },
  {
   "cell_type": "code",
   "execution_count": null,
   "id": "c99a4efd",
   "metadata": {},
   "outputs": [],
   "source": []
  },
  {
   "cell_type": "code",
   "execution_count": null,
   "id": "2f49b180",
   "metadata": {},
   "outputs": [],
   "source": []
  }
 ],
 "metadata": {
  "kernelspec": {
   "display_name": "Python 3 (ipykernel)",
   "language": "python",
   "name": "python3"
  },
  "language_info": {
   "codemirror_mode": {
    "name": "ipython",
    "version": 3
   },
   "file_extension": ".py",
   "mimetype": "text/x-python",
   "name": "python",
   "nbconvert_exporter": "python",
   "pygments_lexer": "ipython3",
   "version": "3.9.12"
  }
 },
 "nbformat": 4,
 "nbformat_minor": 5
}
