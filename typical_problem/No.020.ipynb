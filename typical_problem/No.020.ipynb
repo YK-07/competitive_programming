{
 "cells": [
  {
   "cell_type": "code",
   "execution_count": 14,
   "id": "6b41d65c",
   "metadata": {},
   "outputs": [
    {
     "name": "stdout",
     "output_type": "stream",
     "text": [
      "8650415919381337932 17 13\n",
      "No\n"
     ]
    }
   ],
   "source": [
    "a,b,c = map(int, input().split())\n",
    "import math\n",
    "if math.log(a,2)<b*math.log(c,2):\n",
    "    print('Yes')\n",
    "else:\n",
    "    print('No')"
   ]
  },
  {
   "cell_type": "code",
   "execution_count": 16,
   "id": "31c91d14",
   "metadata": {},
   "outputs": [
    {
     "name": "stdout",
     "output_type": "stream",
     "text": [
      "8650415919381337932 17 13\n",
      "Yes\n"
     ]
    }
   ],
   "source": [
    "a,b,c = map(int, input().split())\n",
    "if a<c**b:\n",
    "    print('Yes')\n",
    "else:\n",
    "    print('No')"
   ]
  },
  {
   "cell_type": "code",
   "execution_count": 15,
   "id": "535fb051",
   "metadata": {},
   "outputs": [
    {
     "name": "stdout",
     "output_type": "stream",
     "text": [
      "62.907475208398566\n",
      "62.907475208398566\n"
     ]
    }
   ],
   "source": [
    "print(math.log(a,2))\n",
    "print(b*math.log(c,2))"
   ]
  },
  {
   "cell_type": "code",
   "execution_count": null,
   "id": "2b5b0fb5",
   "metadata": {},
   "outputs": [],
   "source": [
    "8650415919381337932"
   ]
  },
  {
   "cell_type": "code",
   "execution_count": 17,
   "id": "7348cd42",
   "metadata": {},
   "outputs": [
    {
     "name": "stdout",
     "output_type": "stream",
     "text": [
      "8650415919381337933\n"
     ]
    }
   ],
   "source": [
    "print(c**b)"
   ]
  },
  {
   "cell_type": "code",
   "execution_count": null,
   "id": "0f1156e7",
   "metadata": {},
   "outputs": [],
   "source": []
  },
  {
   "cell_type": "code",
   "execution_count": null,
   "id": "6e91065d",
   "metadata": {},
   "outputs": [],
   "source": []
  }
 ],
 "metadata": {
  "kernelspec": {
   "display_name": "Python 3 (ipykernel)",
   "language": "python",
   "name": "python3"
  },
  "language_info": {
   "codemirror_mode": {
    "name": "ipython",
    "version": 3
   },
   "file_extension": ".py",
   "mimetype": "text/x-python",
   "name": "python",
   "nbconvert_exporter": "python",
   "pygments_lexer": "ipython3",
   "version": "3.9.12"
  }
 },
 "nbformat": 4,
 "nbformat_minor": 5
}
