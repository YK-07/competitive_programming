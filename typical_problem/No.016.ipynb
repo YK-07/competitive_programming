{
 "cells": [
  {
   "cell_type": "code",
   "execution_count": null,
   "id": "8d1cce69",
   "metadata": {},
   "outputs": [],
   "source": [
    "N=int(input())\n",
    "A,B,C=list(map(int,input().split()))\n",
    " \n",
    "Min=float(\"inf\")\n",
    "for a in range(10000):\n",
    "    for b in range(10000-a):\n",
    "        if N-A*a-B*b>=0 and (A*a+B*b-N)%C==0:\n",
    "            Min=min(a+b+(N-A*a-B*b)//C,Min)\n",
    "print(Min) "
   ]
  },
  {
   "cell_type": "code",
   "execution_count": 57,
   "id": "868cbd8d",
   "metadata": {},
   "outputs": [
    {
     "name": "stdout",
     "output_type": "stream",
     "text": [
      "inf\n"
     ]
    }
   ],
   "source": [
    "Min=float(\"inf\")\n",
    "print(Min)"
   ]
  },
  {
   "cell_type": "code",
   "execution_count": 60,
   "id": "8b09086c",
   "metadata": {},
   "outputs": [
    {
     "name": "stdout",
     "output_type": "stream",
     "text": [
      "100000000\n",
      "10001 10002 10003\n",
      "9998\n"
     ]
    }
   ],
   "source": [
    "n = int(input())\n",
    "a, b, c = list(map(int, input().split()))\n",
    "\n",
    "ans=float('inf')\n",
    "for i in range(10000):\n",
    "    for j in range(10000-i):\n",
    "        if (n-a*i-b*j)>=0 and (n-a*i-b*j)%c==0:\n",
    "            ans=min(i+j+(n-a*i-b*j)//c,ans)\n",
    "print(ans)"
   ]
  },
  {
   "cell_type": "code",
   "execution_count": 59,
   "id": "24502f84",
   "metadata": {},
   "outputs": [
    {
     "name": "stdout",
     "output_type": "stream",
     "text": [
      "22\n"
     ]
    }
   ],
   "source": [
    "ans= min(65, 22)\n",
    "print(ans)"
   ]
  },
  {
   "cell_type": "code",
   "execution_count": 52,
   "id": "218ce2a2",
   "metadata": {},
   "outputs": [
    {
     "name": "stdout",
     "output_type": "stream",
     "text": [
      "100000000\n",
      "10001 10002 10003\n",
      "9998\n"
     ]
    }
   ],
   "source": [
    "n = int(input())\n",
    "abc = list(map(int, input().split()))\n",
    "abc.sort()\n",
    "a=abc[0]\n",
    "b=abc[1]\n",
    "c=abc[2]\n",
    "ans1 = n//c\n",
    "ans2 = n%c//b\n",
    "if n%c%b%c==0 or a==1:\n",
    "    ans3 = n%c%b//a\n",
    "else:\n",
    "    ans3 = n%c%b//a +1\n",
    "print(ans1+ans2+ans3)"
   ]
  },
  {
   "cell_type": "code",
   "execution_count": 43,
   "id": "e1123517",
   "metadata": {},
   "outputs": [
    {
     "name": "stdout",
     "output_type": "stream",
     "text": [
      "99824353\n",
      "314159 265358 97932\n",
      "1020\n"
     ]
    }
   ],
   "source": [
    "n = int(input())\n",
    "a, b, c = map(int, input().split())\n",
    "ans1 = n//c\n",
    "ans2 = n%c//b\n",
    "if n%c%b%c==0 or a==1:\n",
    "    ans3 = n%c%b//a\n",
    "else:\n",
    "    ans3 = n%c%b//a +1\n",
    "print(ans1+ans2+ans3)"
   ]
  },
  {
   "cell_type": "code",
   "execution_count": 39,
   "id": "47567a91",
   "metadata": {},
   "outputs": [
    {
     "name": "stdout",
     "output_type": "stream",
     "text": [
      "4\n"
     ]
    }
   ],
   "source": [
    "print(n%c%b//a)"
   ]
  },
  {
   "cell_type": "code",
   "execution_count": 32,
   "id": "50605b57",
   "metadata": {
    "scrolled": true
   },
   "outputs": [
    {
     "name": "stdout",
     "output_type": "stream",
     "text": [
      "227\n",
      "21 47 56\n",
      "401\n"
     ]
    }
   ],
   "source": [
    "n = int(input())\n",
    "a, b, c = map(int, input().split())\n",
    "ans1 = n//c\n",
    "ans2 = n%c//b\n",
    "if n%c%b%c==0:\n",
    "    ans3 = n%c%b//a\n",
    "else:\n",
    "    ans3 = n%c%b//a +1\n",
    "ans = []\n",
    "ans.extend([ans1,ans2,ans3])\n",
    "ans = list(map(str,ans))\n",
    "print(''.join(ans))"
   ]
  },
  {
   "cell_type": "code",
   "execution_count": 4,
   "id": "02cf35bb",
   "metadata": {},
   "outputs": [
    {
     "name": "stdout",
     "output_type": "stream",
     "text": [
      "2\n"
     ]
    }
   ],
   "source": [
    "print(5%3)"
   ]
  },
  {
   "cell_type": "code",
   "execution_count": 5,
   "id": "d540f37e",
   "metadata": {},
   "outputs": [
    {
     "name": "stdout",
     "output_type": "stream",
     "text": [
      "1\n"
     ]
    }
   ],
   "source": [
    "print(5//3)"
   ]
  },
  {
   "cell_type": "code",
   "execution_count": 9,
   "id": "e76e492e",
   "metadata": {},
   "outputs": [
    {
     "name": "stdout",
     "output_type": "stream",
     "text": [
      "0\n"
     ]
    }
   ],
   "source": [
    "print(0//2)"
   ]
  },
  {
   "cell_type": "code",
   "execution_count": 15,
   "id": "ad0223b8",
   "metadata": {},
   "outputs": [],
   "source": [
    "d = []\n",
    "f =5\n",
    "h =7\n",
    "k= 9\n",
    "d.append(str(f))\n",
    "d.append(str(h))\n",
    "d.append(str(k))"
   ]
  },
  {
   "cell_type": "code",
   "execution_count": 16,
   "id": "cd7e7b97",
   "metadata": {},
   "outputs": [
    {
     "name": "stdout",
     "output_type": "stream",
     "text": [
      "579\n"
     ]
    }
   ],
   "source": [
    "print(''.join(d))"
   ]
  },
  {
   "cell_type": "code",
   "execution_count": 29,
   "id": "b65cf149",
   "metadata": {
    "scrolled": true
   },
   "outputs": [],
   "source": [
    "j=[]\n",
    "j.extend([f,h,k])\n",
    "j = list(map(str,j))"
   ]
  },
  {
   "cell_type": "code",
   "execution_count": null,
   "id": "61bbb59a",
   "metadata": {},
   "outputs": [],
   "source": []
  }
 ],
 "metadata": {
  "kernelspec": {
   "display_name": "Python 3 (ipykernel)",
   "language": "python",
   "name": "python3"
  },
  "language_info": {
   "codemirror_mode": {
    "name": "ipython",
    "version": 3
   },
   "file_extension": ".py",
   "mimetype": "text/x-python",
   "name": "python",
   "nbconvert_exporter": "python",
   "pygments_lexer": "ipython3",
   "version": "3.9.12"
  }
 },
 "nbformat": 4,
 "nbformat_minor": 5
}
