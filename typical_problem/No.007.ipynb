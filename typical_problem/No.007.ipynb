{
 "cells": [
  {
   "cell_type": "code",
   "execution_count": 60,
   "id": "37cebdea",
   "metadata": {},
   "outputs": [
    {
     "name": "stdout",
     "output_type": "stream",
     "text": [
      "3\n",
      "2\n",
      "4\n",
      "[3, 2, 4]\n"
     ]
    }
   ],
   "source": [
    "q = 3\n",
    "b = [int(input()) for _ in range(q)]\n",
    "print(b)"
   ]
  },
  {
   "cell_type": "code",
   "execution_count": 32,
   "id": "e65d37d0",
   "metadata": {},
   "outputs": [
    {
     "name": "stdout",
     "output_type": "stream",
     "text": [
      "1\n",
      "4000\n",
      "3\n",
      "3582\n",
      "3538\n",
      "3320\n",
      "418\n",
      "462\n",
      "680\n"
     ]
    }
   ],
   "source": [
    "N = int(input())\n",
    "A = list(map(int, input().split()))\n",
    "Q = int(input())\n",
    "B = []\n",
    "for _ in range(Q):\n",
    "    B.append(int(input()))\n",
    "ans = []\n",
    "for i in range(Q):\n",
    "    ans2 = []\n",
    "    for j in range(N):\n",
    "        ans2.append(abs(A[j] - B[i]))\n",
    "    ans.append(min(ans2))\n",
    "for l in ans:\n",
    "    print(l)"
   ]
  },
  {
   "cell_type": "code",
   "execution_count": 10,
   "id": "a5bc7826",
   "metadata": {},
   "outputs": [
    {
     "name": "stdout",
     "output_type": "stream",
     "text": [
      "688\n"
     ]
    }
   ],
   "source": [
    "ans2 = A[0] - B[0]\n",
    "print(ans2)"
   ]
  },
  {
   "cell_type": "code",
   "execution_count": 17,
   "id": "c312dbf7",
   "metadata": {},
   "outputs": [
    {
     "name": "stdout",
     "output_type": "stream",
     "text": [
      "[112, 208, 171]\n"
     ]
    }
   ],
   "source": [
    "print(ans)"
   ]
  },
  {
   "cell_type": "code",
   "execution_count": null,
   "id": "a601f0b3",
   "metadata": {},
   "outputs": [],
   "source": [
    "N = int(input())\n",
    "A = list(map(int, input().split()))\n",
    "Q = int(input())\n",
    "B = []\n",
    "for _ in range(Q):\n",
    "    B.append(int(input()))\n",
    "\n"
   ]
  },
  {
   "cell_type": "code",
   "execution_count": 50,
   "id": "2db6cd83",
   "metadata": {},
   "outputs": [
    {
     "name": "stdout",
     "output_type": "stream",
     "text": [
      "3 2 4\n",
      "['0b11', '0b10', '0b100']\n"
     ]
    }
   ],
   "source": [
    "A2 = list(map(int, input().split()))\n",
    "A = []\n",
    "for a in A2:\n",
    "    A.append(bin(a))\n",
    "print(A)"
   ]
  },
  {
   "cell_type": "code",
   "execution_count": null,
   "id": "5f3e5d57",
   "metadata": {},
   "outputs": [],
   "source": [
    "from bisect import bisect_left\n",
    "n = int(input())\n",
    "a = list(map(int, input().split()))\n",
    "q = int(input())\n",
    "b = [int(input()) for _ in range(q)]\n",
    "a.sort()\n",
    "\n",
    "for i in range(q):\n",
    "    x = bisect_left(a,b[i])\n",
    "    if x == 0:\n",
    "        print(a[0]-b[i])\n",
    "    elif x == n:\n",
    "        print(b[i]- a[-1])\n",
    "    else:\n",
    "        print(min(b[i]-a[x-1],a[x]-b[i]))"
   ]
  },
  {
   "cell_type": "code",
   "execution_count": null,
   "id": "6eac038a",
   "metadata": {},
   "outputs": [],
   "source": []
  },
  {
   "cell_type": "code",
   "execution_count": null,
   "id": "329d98d7",
   "metadata": {},
   "outputs": [],
   "source": []
  }
 ],
 "metadata": {
  "kernelspec": {
   "display_name": "Python 3 (ipykernel)",
   "language": "python",
   "name": "python3"
  },
  "language_info": {
   "codemirror_mode": {
    "name": "ipython",
    "version": 3
   },
   "file_extension": ".py",
   "mimetype": "text/x-python",
   "name": "python",
   "nbconvert_exporter": "python",
   "pygments_lexer": "ipython3",
   "version": "3.9.12"
  }
 },
 "nbformat": 4,
 "nbformat_minor": 5
}
