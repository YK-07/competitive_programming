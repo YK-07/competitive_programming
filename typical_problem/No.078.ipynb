{
 "cells": [
  {
   "cell_type": "code",
   "execution_count": null,
   "id": "80710cdf",
   "metadata": {},
   "outputs": [],
   "source": [
    "n,m=map(int,input().split())\n",
    "#ab=[list(map(int,input().split())) for _ in range(m)]\n"
   ]
  },
  {
   "cell_type": "code",
   "execution_count": 2,
   "id": "e5b298a4",
   "metadata": {},
   "outputs": [
    {
     "name": "stdout",
     "output_type": "stream",
     "text": [
      "4\n"
     ]
    }
   ],
   "source": [
    "a=[[1,2],[3,4]]\n",
    "print(a[1][1])"
   ]
  },
  {
   "cell_type": "code",
   "execution_count": 3,
   "id": "d90fed01",
   "metadata": {},
   "outputs": [
    {
     "name": "stdout",
     "output_type": "stream",
     "text": [
      "5 5\n",
      "1 2\n",
      "1 3\n",
      "3 2\n",
      "5 2\n",
      "4 2\n",
      "3\n"
     ]
    }
   ],
   "source": [
    "n,m=map(int,input().split())\n",
    "graph=[[] for _ in range(n)]\n",
    "for _ in range(m):\n",
    "    a,b=map(int,input().split())\n",
    "    graph[a-1].append(b)\n",
    "    graph[b-1].append(a)\n",
    "\n",
    "ans=0\n",
    "for i in range(n):\n",
    "    count=0\n",
    "    if i==0:\n",
    "        pass\n",
    "    else:\n",
    "        for j in range(len(graph[i])):\n",
    "            if graph[i][j]<(i+1):\n",
    "                count+=1\n",
    "            if count==2:\n",
    "                break\n",
    "        if count==1:\n",
    "            ans+=1\n",
    "print(ans)"
   ]
  },
  {
   "cell_type": "code",
   "execution_count": 4,
   "id": "65ea5947",
   "metadata": {},
   "outputs": [
    {
     "data": {
      "text/plain": [
       "[[2, 3], [1, 3, 5, 4], [1, 2], [2], [2]]"
      ]
     },
     "execution_count": 4,
     "metadata": {},
     "output_type": "execute_result"
    }
   ],
   "source": [
    "graph"
   ]
  },
  {
   "cell_type": "code",
   "execution_count": null,
   "id": "244e59fd",
   "metadata": {},
   "outputs": [],
   "source": [
    "n,m=map(int,input().split())\n",
    "graph=[[] for _ in range(n)]\n",
    "for _ in range(m):\n",
    "    a,b=map(int,input().split())\n",
    "    graph[a-1].append(b)\n",
    "    graph[b-1].append(a)\n",
    "\n",
    "ans=0\n",
    "for i in range(n):\n",
    "    count=0\n",
    "    if i==0:\n",
    "        pass\n",
    "    else:\n",
    "        for j in range(len(graph[i])):\n",
    "            if graph[i][j]<(i+1):\n",
    "                count+=1\n",
    "#            if count==2:\n",
    "#                break\n",
    "        if count==1:\n",
    "            ans+=1\n",
    "print(ans)"
   ]
  },
  {
   "cell_type": "code",
   "execution_count": null,
   "id": "49fbfc0a",
   "metadata": {},
   "outputs": [],
   "source": []
  }
 ],
 "metadata": {
  "kernelspec": {
   "display_name": "Python 3 (ipykernel)",
   "language": "python",
   "name": "python3"
  },
  "language_info": {
   "codemirror_mode": {
    "name": "ipython",
    "version": 3
   },
   "file_extension": ".py",
   "mimetype": "text/x-python",
   "name": "python",
   "nbconvert_exporter": "python",
   "pygments_lexer": "ipython3",
   "version": "3.9.12"
  }
 },
 "nbformat": 4,
 "nbformat_minor": 5
}
