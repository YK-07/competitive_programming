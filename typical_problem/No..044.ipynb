{
 "cells": [
  {
   "cell_type": "code",
   "execution_count": null,
   "id": "336ba61b",
   "metadata": {},
   "outputs": [],
   "source": [
    "from collections import deque\n",
    "import sys\n",
    "input = sys.stdin.readline\n",
    "N,Q=map(int,input().split())\n",
    "A= deque(map(int,input().split()))\n",
    "\n",
    "for i in range(Q):\n",
    "    T,x,y=map(int,input().split())\n",
    "    \n",
    "    if T==1:\n",
    "        Ax_tem=A[x-1]\n",
    "        Ay_tem=A[y-1]\n",
    "        A[x-1]=Ay_tem\n",
    "        A[y-1]=Ax_tem\n",
    "    elif T==2:\n",
    "        A.appendleft(A[N-1])\n",
    "        A.pop()\n",
    "    else:\n",
    "        print(A[x-1])"
   ]
  },
  {
   "cell_type": "code",
   "execution_count": null,
   "id": "6b3a13ee",
   "metadata": {},
   "outputs": [],
   "source": [
    "import sys\n",
    "input = sys.stdin.readline\n",
    "def main():\n",
    "    N, Q = map(int, input().split())\n",
    "    *A, = map(int, input().split())\n",
    "    shift = 0\n",
    "    for i in range(Q):\n",
    "        t, x, y = map(int, input().split())\n",
    "        if t == 1:\n",
    "            X, Y = A[x-1-shift], A[y-1-shift]\n",
    "            A[x-1-shift], A[y-1-shift] = Y, X\n",
    "        elif t == 2:\n",
    "            shift = (shift+1)%N\n",
    "        else:\n",
    "            print(A[x-1-shift])\n",
    "    #print(A)\n",
    "if __name__ == \"__main__\":\n",
    "    main()"
   ]
  },
  {
   "cell_type": "code",
   "execution_count": null,
   "id": "7db51f93",
   "metadata": {},
   "outputs": [],
   "source": []
  },
  {
   "cell_type": "code",
   "execution_count": null,
   "id": "153995bb",
   "metadata": {},
   "outputs": [],
   "source": []
  },
  {
   "cell_type": "code",
   "execution_count": null,
   "id": "3708697a",
   "metadata": {},
   "outputs": [],
   "source": []
  },
  {
   "cell_type": "code",
   "execution_count": null,
   "id": "d48352a5",
   "metadata": {},
   "outputs": [],
   "source": []
  }
 ],
 "metadata": {
  "kernelspec": {
   "display_name": "Python 3 (ipykernel)",
   "language": "python",
   "name": "python3"
  },
  "language_info": {
   "codemirror_mode": {
    "name": "ipython",
    "version": 3
   },
   "file_extension": ".py",
   "mimetype": "text/x-python",
   "name": "python",
   "nbconvert_exporter": "python",
   "pygments_lexer": "ipython3",
   "version": "3.9.12"
  }
 },
 "nbformat": 4,
 "nbformat_minor": 5
}
