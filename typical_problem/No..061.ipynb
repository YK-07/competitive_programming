{
 "cells": [
  {
   "cell_type": "code",
   "execution_count": null,
   "id": "f1ba5c64",
   "metadata": {},
   "outputs": [],
   "source": [
    "from collections import deque\n",
    "\n",
    "Q=int(input())\n",
    "_deque=deque()\n",
    "for _ in range(Q):\n",
    "    t,x=map(int,input().split())\n",
    "    if t==1:\n",
    "        _deque.appendleft(x)\n",
    "    elif t==2:\n",
    "        _deque.append(x)\n",
    "    else:\n",
    "        print(_deque[x-1])"
   ]
  },
  {
   "cell_type": "code",
   "execution_count": 2,
   "id": "349d71dd",
   "metadata": {},
   "outputs": [],
   "source": [
    "from collections import deque"
   ]
  },
  {
   "cell_type": "code",
   "execution_count": 4,
   "id": "0aea8c54",
   "metadata": {},
   "outputs": [],
   "source": [
    "_deque=deque()\n",
    "\n",
    "_deque.appendleft(2)"
   ]
  },
  {
   "cell_type": "code",
   "execution_count": null,
   "id": "10f55b9d",
   "metadata": {},
   "outputs": [],
   "source": []
  },
  {
   "cell_type": "code",
   "execution_count": null,
   "id": "869901d6",
   "metadata": {},
   "outputs": [],
   "source": []
  },
  {
   "cell_type": "code",
   "execution_count": null,
   "id": "31ac8ca9",
   "metadata": {},
   "outputs": [],
   "source": []
  },
  {
   "cell_type": "code",
   "execution_count": null,
   "id": "786c5b72",
   "metadata": {},
   "outputs": [],
   "source": []
  }
 ],
 "metadata": {
  "kernelspec": {
   "display_name": "Python 3 (ipykernel)",
   "language": "python",
   "name": "python3"
  },
  "language_info": {
   "codemirror_mode": {
    "name": "ipython",
    "version": 3
   },
   "file_extension": ".py",
   "mimetype": "text/x-python",
   "name": "python",
   "nbconvert_exporter": "python",
   "pygments_lexer": "ipython3",
   "version": "3.9.12"
  }
 },
 "nbformat": 4,
 "nbformat_minor": 5
}
