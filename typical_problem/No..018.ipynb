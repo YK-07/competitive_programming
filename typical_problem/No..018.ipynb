{
 "cells": [
  {
   "cell_type": "code",
   "execution_count": 13,
   "id": "8c11a24e",
   "metadata": {},
   "outputs": [
    {
     "name": "stdout",
     "output_type": "stream",
     "text": [
      "4\n",
      "2 1 1\n",
      "4\n"
     ]
    }
   ],
   "source": [
    "T=int(input())\n",
    "L,X,Y=map(int,input().split())\n",
    "Q=int(input())"
   ]
  },
  {
   "cell_type": "code",
   "execution_count": 17,
   "id": "8cfbb90c",
   "metadata": {},
   "outputs": [
    {
     "name": "stdout",
     "output_type": "stream",
     "text": [
      "0\n",
      "0.0\n",
      "1\n",
      "24.0948425521107\n",
      "2\n",
      "54.735610317245346\n",
      "3\n",
      "45.00000000000001\n"
     ]
    }
   ],
   "source": [
    "import math\n",
    "T=int(input())\n",
    "L,X,Y=map(int,input().split())\n",
    "Q=int(input())\n",
    "pi=math.pi\n",
    "for _ in range(Q):\n",
    "    E=int(input())\n",
    "    theta=(2*E/T+1/2)*pi\n",
    "    z=L/2*math.sin(-theta)+L/2\n",
    "    y=L/2*math.cos(-theta)\n",
    "    t=(X**2+(Y-y)**2)**(1/2)\n",
    "    tan=z/t\n",
    "    print(math.degrees(math.atan(tan)))\n",
    "    "
   ]
  },
  {
   "cell_type": "code",
   "execution_count": 15,
   "id": "ea51ffd6",
   "metadata": {},
   "outputs": [
    {
     "name": "stdout",
     "output_type": "stream",
     "text": [
      "4\n",
      "2 1 1\n",
      "4\n",
      "0\n",
      "0.0\n",
      "1\n",
      "24.0948425521107\n",
      "2\n",
      "54.735610317245346\n",
      "3\n",
      "45.00000000000001\n"
     ]
    }
   ],
   "source": [
    "import math\n",
    "T = int(input())\n",
    "L, X, Y = map(int, input().split())\n",
    "Q = int(input())\n",
    " \n",
    "for i in range(Q):\n",
    "    E = int(input())\n",
    "    y = L/2 * math.cos(-math.pi*(2*E/T + 1/2))\n",
    "    z = L/2 * (math.sin(-math.pi*(2*E/T + 1/2)) + 1)# 1/2 は L/2 のこと\n",
    "    ans = math.degrees(math.atan(z / math.sqrt(X**2 + (Y-y)**2)))\n",
    "    print(ans)"
   ]
  },
  {
   "cell_type": "code",
   "execution_count": 12,
   "id": "511957af",
   "metadata": {
    "scrolled": true
   },
   "outputs": [
    {
     "name": "stdout",
     "output_type": "stream",
     "text": [
      "0.75 1.4142135623730951 -0.7071067811865476\n"
     ]
    }
   ],
   "source": [
    "print(theta/pi,z,y)"
   ]
  },
  {
   "cell_type": "code",
   "execution_count": 4,
   "id": "90f41ff5",
   "metadata": {},
   "outputs": [],
   "source": [
    "import math"
   ]
  },
  {
   "cell_type": "code",
   "execution_count": 7,
   "id": "b0c39cda",
   "metadata": {},
   "outputs": [],
   "source": [
    "theta=1/2*math.pi"
   ]
  },
  {
   "cell_type": "code",
   "execution_count": 8,
   "id": "672df645",
   "metadata": {},
   "outputs": [
    {
     "name": "stdout",
     "output_type": "stream",
     "text": [
      "1.0\n"
     ]
    }
   ],
   "source": [
    "w=math.sin(theta)\n",
    "print(w)"
   ]
  },
  {
   "cell_type": "code",
   "execution_count": null,
   "id": "f7821637",
   "metadata": {},
   "outputs": [],
   "source": []
  },
  {
   "cell_type": "code",
   "execution_count": null,
   "id": "61b70d54",
   "metadata": {},
   "outputs": [],
   "source": []
  },
  {
   "cell_type": "code",
   "execution_count": null,
   "id": "b8b8b7f0",
   "metadata": {},
   "outputs": [],
   "source": []
  },
  {
   "cell_type": "code",
   "execution_count": null,
   "id": "b4a15eaa",
   "metadata": {},
   "outputs": [],
   "source": []
  },
  {
   "cell_type": "code",
   "execution_count": null,
   "id": "002cfc53",
   "metadata": {},
   "outputs": [],
   "source": []
  },
  {
   "cell_type": "code",
   "execution_count": null,
   "id": "90a93f6b",
   "metadata": {},
   "outputs": [],
   "source": []
  },
  {
   "cell_type": "code",
   "execution_count": null,
   "id": "80ed69ab",
   "metadata": {},
   "outputs": [],
   "source": []
  }
 ],
 "metadata": {
  "kernelspec": {
   "display_name": "Python 3 (ipykernel)",
   "language": "python",
   "name": "python3"
  },
  "language_info": {
   "codemirror_mode": {
    "name": "ipython",
    "version": 3
   },
   "file_extension": ".py",
   "mimetype": "text/x-python",
   "name": "python",
   "nbconvert_exporter": "python",
   "pygments_lexer": "ipython3",
   "version": "3.9.12"
  }
 },
 "nbformat": 4,
 "nbformat_minor": 5
}
