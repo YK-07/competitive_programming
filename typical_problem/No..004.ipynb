{
 "cells": [
  {
   "cell_type": "code",
   "execution_count": 18,
   "id": "68c7b338",
   "metadata": {},
   "outputs": [
    {
     "name": "stdout",
     "output_type": "stream",
     "text": [
      "4 4\n",
      "3 1 4 1\n",
      "5 9 2 6\n",
      "5 3 5 8\n",
      "9 7 9 3\n"
     ]
    }
   ],
   "source": [
    "h,w=map(int,input().split())\n",
    "H,W,A,B=[],[],[],[]\n",
    "for _ in range(h):\n",
    "    a=list(map(int, input().split()))\n",
    "    A.append(a)\n",
    "    H.append(sum(a))\n",
    "\n",
    "for i in range(w):\n",
    "    W_num=0\n",
    "    for j in range(h):\n",
    "        W_num+=A[j][i]\n",
    "    W.append(W_num)\n",
    "\n",
    "for j in range(h):\n",
    "    B_tem=[]\n",
    "    for i in range(w):\n",
    "        B_num=0\n",
    "        B_num+=H[j]+W[i]-A[j][i]\n",
    "        B_tem.append(str(B_num))\n",
    "    B.append(B_tem)\n",
    "\n",
    "for b in B:\n",
    "    ans=' '.join(b)\n",
    "    print(ans)"
   ]
  },
  {
   "cell_type": "code",
   "execution_count": 20,
   "id": "84665a7e",
   "metadata": {},
   "outputs": [
    {
     "name": "stdout",
     "output_type": "stream",
     "text": [
      "28 28 25 26\n",
      "39 33 40 34\n",
      "38 38 36 31\n",
      "41 41 39 43\n"
     ]
    }
   ],
   "source": [
    "for b in B:\n",
    "    ans=' '.join(b)\n",
    "    print(ans)"
   ]
  },
  {
   "cell_type": "code",
   "execution_count": 77,
   "id": "95e5379a",
   "metadata": {
    "scrolled": true
   },
   "outputs": [
    {
     "name": "stdout",
     "output_type": "stream",
     "text": [
      "7 6\n",
      "......\n",
      "......\n",
      ".####.\n",
      "#..S.#\n",
      "#....#\n",
      ".####.\n",
      "......\n",
      "No\n"
     ]
    }
   ],
   "source": [
    "H,W=map(int,input().split())\n",
    "_sharp=['#' for _ in range(W+2)]\n",
    "S=[]\n",
    "S.append(_sharp)\n",
    "cnt=0\n",
    "for i in range(H):\n",
    "    s=input()\n",
    "    s2=['#']\n",
    "    for j in range(W):\n",
    "        if s[j]=='.':\n",
    "            s2.append(0)\n",
    "        elif s[j]=='#':\n",
    "            s2.append('#')\n",
    "        else:\n",
    "            s2.append('S')\n",
    "            x,y=cnt,j\n",
    "    s2.append('#')\n",
    "    cnt+=1\n",
    "    S.append(s2)\n",
    "S.append(_sharp)\n",
    "\n",
    "_list=[[x+1,y+1]]   \n",
    "_list=tuple(_list)\n",
    "while True:\n",
    "    if len(_list)==0:\n",
    "        break\n",
    "    _list2=[]\n",
    "    for x,y in _list:\n",
    "        for i,j in ([1, 0],[-1, 0],[0, 1],[0, -1]):\n",
    "            _x,_y=x+i,y+j\n",
    "            if S[_x][_y]==0:\n",
    "                S[_x][_y]+=1\n",
    "                _list2.append([_x,_y])\n",
    "    _list=tuple(_list2)\n",
    "\n",
    "ans=0\n",
    "for i in range(W):\n",
    "    if S[1][i]!=0 and S[1][i]!='#':\n",
    "        ans+=1\n",
    "for i in range(W):\n",
    "    if S[-2][i]!=0 and S[-2][i]!='#':\n",
    "        ans+=1\n",
    "for i in range(H):\n",
    "    if S[i][1]!=0 and S[i][1]!='#':\n",
    "        ans+=1\n",
    "for i in range(H):\n",
    "    if S[i][-2]!=0 and S[i][-2]!='#':\n",
    "        ans+=1\n",
    "\n",
    "if ans!=0:\n",
    "    print('Yes\\n')\n",
    "else:\n",
    "    print('No\\n')\n",
    "   "
   ]
  },
  {
   "cell_type": "code",
   "execution_count": 81,
   "id": "e073cc32",
   "metadata": {},
   "outputs": [
    {
     "name": "stdout",
     "output_type": "stream",
     "text": [
      "Yes\n",
      "\n"
     ]
    }
   ],
   "source": [
    "print('Yes\\n')"
   ]
  },
  {
   "cell_type": "code",
   "execution_count": 71,
   "id": "d5ce1215",
   "metadata": {},
   "outputs": [
    {
     "name": "stdout",
     "output_type": "stream",
     "text": [
      "2 6\n",
      "######\n",
      "#.S#.#\n"
     ]
    }
   ],
   "source": [
    "H,W=map(int,input().split())\n",
    "_sharp=['#'for _ in range(W+2)]\n",
    "S=[]\n",
    "S.append(_sharp)\n",
    "cnt=0\n",
    "for i in range(H):\n",
    "    s=input()\n",
    "    s2=['#']\n",
    "    for j in range(W):\n",
    "        if s[j]=='.':\n",
    "            s2.append(0)\n",
    "        elif s[j]=='#':\n",
    "            s2.append('#')\n",
    "        else:\n",
    "            s2.append('S')\n",
    "            x,y=cnt,j\n",
    "    s2.append('#')\n",
    "    cnt+=1\n",
    "    S.append(s2)\n",
    "S.append(_sharp)"
   ]
  },
  {
   "cell_type": "code",
   "execution_count": 72,
   "id": "95428b4c",
   "metadata": {},
   "outputs": [
    {
     "data": {
      "text/plain": [
       "[['#', '#', '#', '#', '#', '#', '#', '#'],\n",
       " ['#', '#', '#', '#', '#', '#', '#', ['#']],\n",
       " ['#', '#', 0, 'S', '#', 0, '#', ['#']],\n",
       " ['#', '#', '#', '#', '#', '#', '#', '#']]"
      ]
     },
     "execution_count": 72,
     "metadata": {},
     "output_type": "execute_result"
    }
   ],
   "source": [
    "S"
   ]
  },
  {
   "cell_type": "code",
   "execution_count": 68,
   "id": "d3d48eac",
   "metadata": {},
   "outputs": [
    {
     "name": "stdout",
     "output_type": "stream",
     "text": [
      "['#', '#', '#', '#', '#', '#']\n"
     ]
    }
   ],
   "source": [
    "a=['#'for _ in range(W)]\n",
    "\n",
    "print(a)"
   ]
  },
  {
   "cell_type": "code",
   "execution_count": 56,
   "id": "3f9a909a",
   "metadata": {},
   "outputs": [
    {
     "name": "stdout",
     "output_type": "stream",
     "text": [
      "#\n",
      "#\n",
      "#\n",
      "1\n",
      "1\n",
      "#\n",
      "1\n",
      "#\n"
     ]
    }
   ],
   "source": [
    "x,y=3,2\n",
    "_list=[[x,y],[x+1,y+1]]\n",
    "for x,y in _list:\n",
    "    for i,j in ([1, 0],[-1, 0],[0, 1],[0, -1]):\n",
    "            _x,_y=x+i,y+j\n",
    "            if S[_x][_y]==0:\n",
    "                S[_x][_y]+=1\n",
    "                \n",
    "            print(S[_x][_y])"
   ]
  },
  {
   "cell_type": "code",
   "execution_count": 51,
   "id": "e6b0e3b1",
   "metadata": {},
   "outputs": [
    {
     "ename": "TypeError",
     "evalue": "list indices must be integers or slices, not tuple",
     "output_type": "error",
     "traceback": [
      "\u001b[1;31m---------------------------------------------------------------------------\u001b[0m",
      "\u001b[1;31mTypeError\u001b[0m                                 Traceback (most recent call last)",
      "Input \u001b[1;32mIn [51]\u001b[0m, in \u001b[0;36m<cell line: 4>\u001b[1;34m()\u001b[0m\n\u001b[0;32m      8\u001b[0m \u001b[38;5;28;01mfor\u001b[39;00m i,j \u001b[38;5;129;01min\u001b[39;00m ([\u001b[38;5;241m1\u001b[39m, \u001b[38;5;241m0\u001b[39m],[\u001b[38;5;241m-\u001b[39m\u001b[38;5;241m1\u001b[39m, \u001b[38;5;241m0\u001b[39m],[\u001b[38;5;241m0\u001b[39m, \u001b[38;5;241m1\u001b[39m],[\u001b[38;5;241m0\u001b[39m, \u001b[38;5;241m-\u001b[39m\u001b[38;5;241m1\u001b[39m]):\n\u001b[0;32m      9\u001b[0m     _x,_y\u001b[38;5;241m=\u001b[39mx\u001b[38;5;241m+\u001b[39mi,y\u001b[38;5;241m+\u001b[39mj\n\u001b[1;32m---> 10\u001b[0m     \u001b[38;5;28;01mif\u001b[39;00m \u001b[43mS\u001b[49m\u001b[43m[\u001b[49m\u001b[43m_x\u001b[49m\u001b[43m,\u001b[49m\u001b[43m_y\u001b[49m\u001b[43m]\u001b[49m\u001b[38;5;241m==\u001b[39m\u001b[38;5;241m0\u001b[39m:\n\u001b[0;32m     11\u001b[0m         S[_x,_y]\u001b[38;5;241m+\u001b[39m\u001b[38;5;241m=\u001b[39m\u001b[38;5;241m1\u001b[39m\n\u001b[0;32m     12\u001b[0m         _list2\u001b[38;5;241m.\u001b[39mappend([_x,_y])\n",
      "\u001b[1;31mTypeError\u001b[0m: list indices must be integers or slices, not tuple"
     ]
    }
   ],
   "source": [
    "_list=[[x,y]]   \n",
    "_list=tuple(_list)\n",
    "while True:\n",
    "    if len(_list)==0:\n",
    "        break\n",
    "    _list2=[]\n",
    "    for x,y in _list: \n",
    "        for i,j in ([1, 0],[-1, 0],[0, 1],[0, -1]):\n",
    "            _x,_y=x+i,y+j\n",
    "            if S[_x][_y]==0:\n",
    "                S[_x][_y]+=1\n",
    "                _list2.append([_x,_y])\n",
    "    _list=tuple(_list2)\n",
    "\n",
    "ans=0\n",
    "for i in range(W):\n",
    "    if S[0][i]!=0 and S[0][i]!='#':\n",
    "        ans+=1\n",
    "for i in range(W):\n",
    "    if S[-1][i]!=0 and S[-1][i]!='#':\n",
    "        ans+=1\n",
    "for i in range(H):\n",
    "    if S[i][0]!=0 and S[i][0]!='#':\n",
    "        ans+=1\n",
    "for i in range(H):\n",
    "    if S[i][-1]!=0 and S[i][-1]!='#':\n",
    "        ans+=1\n",
    "\n",
    "if ans!=0:\n",
    "    print('Yes')\n",
    "else:\n",
    "    print('No')"
   ]
  },
  {
   "cell_type": "code",
   "execution_count": 48,
   "id": "073f0c77",
   "metadata": {
    "scrolled": true
   },
   "outputs": [
    {
     "data": {
      "text/plain": [
       "[['#', '#', '#', '#', '#', '#'],\n",
       " [0, 0, 0, 0, 0, '#'],\n",
       " ['#', '#', '#', '#', 0, '#'],\n",
       " ['#', 0, 'S', '#', 0, '#'],\n",
       " ['#', 0, '#', '#', 0, '#'],\n",
       " ['#', 0, 0, 0, 0, '#'],\n",
       " ['#', '#', '#', '#', '#', '#']]"
      ]
     },
     "execution_count": 48,
     "metadata": {},
     "output_type": "execute_result"
    }
   ],
   "source": [
    "S"
   ]
  },
  {
   "cell_type": "code",
   "execution_count": 28,
   "id": "e3b94352",
   "metadata": {},
   "outputs": [
    {
     "data": {
      "text/plain": [
       "'#'"
      ]
     },
     "execution_count": 28,
     "metadata": {},
     "output_type": "execute_result"
    }
   ],
   "source": [
    "S[-2][0]"
   ]
  },
  {
   "cell_type": "code",
   "execution_count": null,
   "id": "505580cc",
   "metadata": {},
   "outputs": [],
   "source": [
    "7 6\n",
    "######\n",
    ".....#\n",
    "####.#\n",
    "#.S#.#\n",
    "#.##.#\n",
    "#....#\n",
    "######"
   ]
  },
  {
   "cell_type": "code",
   "execution_count": 29,
   "id": "1eb85d0d",
   "metadata": {},
   "outputs": [
    {
     "name": "stdout",
     "output_type": "stream",
     "text": [
      "1 0\n",
      "-1 0\n",
      "0 1\n",
      "0 -1\n"
     ]
    }
   ],
   "source": [
    "for i,j in ([1, 0],[-1, 0],[0, 1],[0, -1]):\n",
    "    print(i,j)"
   ]
  },
  {
   "cell_type": "code",
   "execution_count": 42,
   "id": "869d8156",
   "metadata": {},
   "outputs": [],
   "source": [
    "a=[[1,2],[3,4],[5,6]]"
   ]
  },
  {
   "cell_type": "code",
   "execution_count": 43,
   "id": "b484ce4b",
   "metadata": {},
   "outputs": [
    {
     "name": "stdout",
     "output_type": "stream",
     "text": [
      "([1, 2], [3, 4], [5, 6])\n"
     ]
    }
   ],
   "source": [
    "a=tuple(a)\n",
    "print(a)"
   ]
  },
  {
   "cell_type": "code",
   "execution_count": 46,
   "id": "0ddf79b2",
   "metadata": {},
   "outputs": [],
   "source": [
    "i,j=3,2\n",
    "a=[[i,j]]"
   ]
  },
  {
   "cell_type": "code",
   "execution_count": 47,
   "id": "45d180c3",
   "metadata": {},
   "outputs": [
    {
     "data": {
      "text/plain": [
       "[[3, 2]]"
      ]
     },
     "execution_count": 47,
     "metadata": {},
     "output_type": "execute_result"
    }
   ],
   "source": [
    "a"
   ]
  },
  {
   "cell_type": "code",
   "execution_count": null,
   "id": "68833e48",
   "metadata": {},
   "outputs": [],
   "source": []
  }
 ],
 "metadata": {
  "kernelspec": {
   "display_name": "Python 3 (ipykernel)",
   "language": "python",
   "name": "python3"
  },
  "language_info": {
   "codemirror_mode": {
    "name": "ipython",
    "version": 3
   },
   "file_extension": ".py",
   "mimetype": "text/x-python",
   "name": "python",
   "nbconvert_exporter": "python",
   "pygments_lexer": "ipython3",
   "version": "3.9.12"
  }
 },
 "nbformat": 4,
 "nbformat_minor": 5
}
