{
 "cells": [
  {
   "cell_type": "code",
   "execution_count": null,
   "id": "5961423e",
   "metadata": {},
   "outputs": [],
   "source": [
    "from bisect import bisect_left\n",
    "n = int(input())\n",
    "a = list(map(int, input().split()))\n",
    "q = int(input())\n",
    "b = [int(input()) for _ in range(q)]\n",
    "a.sort()\n",
    "\n",
    "for i in range(q):\n",
    "    x = bisect_left(a,b[i])\n",
    "    if x == 0:\n",
    "        print(a[0]-b[i])\n",
    "    elif x == n:\n",
    "        print(b[i]- a[-1])\n",
    "    else:\n",
    "        print(min(b[i]-a[x-1],a[x]-b[i]))"
   ]
  },
  {
   "cell_type": "code",
   "execution_count": 17,
   "id": "b5683fa7",
   "metadata": {},
   "outputs": [
    {
     "name": "stdout",
     "output_type": "stream",
     "text": [
      "[1, 4, 6, 9, 14] [1, 4, 6, 9, 14]\n",
      "2 3\n"
     ]
    }
   ],
   "source": [
    "from bisect import bisect_left\n",
    "A=[1,4,6,9,14]\n",
    "B=[1,4,6,9,14]\n",
    "a=bisect_left(A,5)\n",
    "b=bisect_left(B,7)\n",
    "print(A,B)\n",
    "print(a,b)"
   ]
  },
  {
   "cell_type": "code",
   "execution_count": 10,
   "id": "3f7fa69b",
   "metadata": {},
   "outputs": [
    {
     "name": "stdout",
     "output_type": "stream",
     "text": [
      "100\n",
      "298750376 229032640 602876667 944779015 909539868 533609371 231368330 445484152 408704870 850216874 349286798 30417810 807260002 554049450 40706045 380488344 749325840 801881841 459457853 66691229 5235900 8100458 46697277 997429858 827651689 790051948 981897272 271364774 536232393 997361572 449659237 602191750 294800444 346669663 792837293 277667068 997282249 468293808 444906878 702693341 894286137 845317003 27053625 926547765 739689211 447395911 902031510 326127348 582956343 842918193 235655766 844300842 438389323 406413067 862896425 464876303 68833418 76340212 911399808 745744264 551223563 854507876 196296968 52144186 431165823 275217640 424495332 847375861 337078801 83054466 648322745 694789156 301518763 319851750 432518459 772897937 630628124 581390864 313132255 350770227 642944345 677742851 448945480 688009163 160941957 290297295 5532462 823543277 19634445 15791361 193309093 66202596 72364149 743270896 297240520 264035189 898589962 59916738 307942952 403411309\n",
      "1\n",
      "930579110\n",
      "4031345\n"
     ]
    }
   ],
   "source": [
    "# TLE\n",
    "N=int(input())\n",
    "A=list(map(int,input().split()))\n",
    "Q=int(input())\n",
    "\n",
    "for _ in range(Q):\n",
    "    B=int(input())\n",
    "    ans=10**9\n",
    "    for i in range(N//2+1):\n",
    "        ans_tem=abs(A[i]-B)\n",
    "        if ans > ans_tem:\n",
    "            ans=ans_tem\n",
    "    for j in range(1,N//2+1):\n",
    "        ans_tem=abs(A[-j]-B)\n",
    "        if ans > ans_tem:\n",
    "            ans=ans_tem\n",
    "    print(ans)"
   ]
  },
  {
   "cell_type": "code",
   "execution_count": 13,
   "id": "79efaf20",
   "metadata": {},
   "outputs": [
    {
     "name": "stdout",
     "output_type": "stream",
     "text": [
      "100\n",
      "298750376 229032640 602876667 944779015 909539868 533609371 231368330 445484152 408704870 850216874 349286798 30417810 807260002 554049450 40706045 380488344 749325840 801881841 459457853 66691229 5235900 8100458 46697277 997429858 827651689 790051948 981897272 271364774 536232393 997361572 449659237 602191750 294800444 346669663 792837293 277667068 997282249 468293808 444906878 702693341 894286137 845317003 27053625 926547765 739689211 447395911 902031510 326127348 582956343 842918193 235655766 844300842 438389323 406413067 862896425 464876303 68833418 76340212 911399808 745744264 551223563 854507876 196296968 52144186 431165823 275217640 424495332 847375861 337078801 83054466 648322745 694789156 301518763 319851750 432518459 772897937 630628124 581390864 313132255 350770227 642944345 677742851 448945480 688009163 160941957 290297295 5532462 823543277 19634445 15791361 193309093 66202596 72364149 743270896 297240520 264035189 898589962 59916738 307942952 403411309\n",
      "1\n",
      "930579110\n",
      "4031345\n"
     ]
    }
   ],
   "source": [
    "# TLE   WA\n",
    "N=int(input())\n",
    "A=list(map(int,input().split()))\n",
    "A.sort()\n",
    "Q=int(input())\n",
    "\n",
    "for _ in range(Q):\n",
    "    B=int(input())\n",
    "    ans=10**9\n",
    "    for i in range(N):\n",
    "        ans_tem=B-A[i]\n",
    "        if ans_tem<0:\n",
    "            break\n",
    "        ans=min(ans_tem,ans)\n",
    "\n",
    "    print(ans)"
   ]
  },
  {
   "cell_type": "code",
   "execution_count": null,
   "id": "c55a3baa",
   "metadata": {},
   "outputs": [],
   "source": [
    "# TLE\n",
    "N=int(input())\n",
    "A=list(map(int,input().split()))\n",
    "A.sort()\n",
    "Q=int(input())\n",
    "\n",
    "for _ in range(Q):\n",
    "    B=int(input())\n",
    "    ans=10**9\n",
    "    for i in range(N//2+1):\n",
    "        ans=min(ans,abs(A[i]-B))\n",
    "    \n",
    "    for j in range(1,N//2+1):\n",
    "        ans=min(ans,abs(A[-j]-B))\n",
    "    \n",
    "    print(ans)"
   ]
  },
  {
   "cell_type": "code",
   "execution_count": null,
   "id": "603e465a",
   "metadata": {},
   "outputs": [],
   "source": []
  },
  {
   "cell_type": "code",
   "execution_count": null,
   "id": "074e0ef3",
   "metadata": {},
   "outputs": [],
   "source": [
    "l = ['a', 'a', 'a', 'a', 'b', 'c', 'c']\n",
    "print(l.count('a'))\n",
    "# 4"
   ]
  },
  {
   "cell_type": "code",
   "execution_count": 15,
   "id": "eecee009",
   "metadata": {},
   "outputs": [
    {
     "name": "stdout",
     "output_type": "stream",
     "text": [
      "15\n",
      "4 6\n",
      "8\n"
     ]
    }
   ],
   "source": [
    "N=int(input())\n",
    "A,B=map(int,input().split())\n",
    "_list=[]\n",
    "for i in range(N+1):\n",
    "    if i==0:\n",
    "        pass\n",
    "    \n",
    "    elif i < A:\n",
    "        _list.append(0)\n",
    "    \n",
    "    elif i==A:\n",
    "        _list.append(1)\n",
    "    \n",
    "    elif A < i < B:\n",
    "        if _list[-A]!=0:\n",
    "            _list.append(1)\n",
    "        else:\n",
    "            _list.append(0)\n",
    "    \n",
    "    elif i==B:\n",
    "        _list.append(1)\n",
    "    \n",
    "    else:\n",
    "        if _list[-A]!=0 or _list[-B]!=0:\n",
    "            _list.append(1)\n",
    "        else:\n",
    "            _list.append(0)\n",
    "if _list[-1]==0:\n",
    "    _list[-1]=1\n",
    "ans=_list.count(0)\n",
    "print(ans)"
   ]
  },
  {
   "cell_type": "code",
   "execution_count": 16,
   "id": "353534d3",
   "metadata": {},
   "outputs": [
    {
     "data": {
      "text/plain": [
       "[0, 0, 0, 1, 0, 1, 0, 1, 0, 1, 0, 1, 0, 1, 1]"
      ]
     },
     "execution_count": 16,
     "metadata": {},
     "output_type": "execute_result"
    }
   ],
   "source": [
    "_list"
   ]
  },
  {
   "cell_type": "code",
   "execution_count": null,
   "id": "14ff6505",
   "metadata": {},
   "outputs": [],
   "source": []
  },
  {
   "cell_type": "code",
   "execution_count": null,
   "id": "60a870f4",
   "metadata": {},
   "outputs": [],
   "source": [
    "N=int(input())\n",
    "A,B=map(int,input().split())\n",
    "_list=[]\n",
    "for i in range(N+1):\n",
    "    if i==0:\n",
    "        pass\n",
    "    \n",
    "    elif i < A:\n",
    "        _list.append(0)\n",
    "    \n",
    "    elif i==A:\n",
    "        _list.append(1)\n",
    "    \n",
    "    elif A < i < B:\n",
    "        if _list[-A]!=0:\n",
    "            _list.append(_list[-A]+1)\n",
    "        else:\n",
    "            _list.append(0)\n",
    "    \n",
    "    elif i==B:\n",
    "        if list[-A]!=0:\n",
    "            _add=_list[-A]+1\n",
    "            _add+=1\n",
    "            _list.append(_add)\n",
    "        else:\n",
    "            _list.append(1)\n",
    "    \n",
    "    else:\n",
    "        if _list[-A]!=0 and _list[-B]!=0:\n",
    "            _add+=_list[-A]+1\n",
    "            _add+=_list[-B]+1\n",
    "            _list.append(_add)\n",
    "        elif _list[-A]!=0 and _list[-B]==0:\n",
    "            _add+=_list[-A]+1\n",
    "            _list.append(_add)\n",
    "        elif _list[-A]==0 and _list[-B]!=0:\n",
    "            _add+=_list[-B]+1\n",
    "            _list.append(_add)\n",
    "        else:\n",
    "            _list.append(0)\n",
    "if _list[-1]==0:\n",
    "    _list[-1]=1\n",
    "ans=_list.count(0)\n",
    "print(ans)"
   ]
  },
  {
   "cell_type": "code",
   "execution_count": null,
   "id": "3ba0f2dd",
   "metadata": {},
   "outputs": [],
   "source": []
  },
  {
   "cell_type": "code",
   "execution_count": null,
   "id": "0f07edb1",
   "metadata": {},
   "outputs": [],
   "source": []
  },
  {
   "cell_type": "code",
   "execution_count": null,
   "id": "5cf27186",
   "metadata": {},
   "outputs": [],
   "source": []
  },
  {
   "cell_type": "code",
   "execution_count": null,
   "id": "5c1470cd",
   "metadata": {},
   "outputs": [],
   "source": []
  },
  {
   "cell_type": "code",
   "execution_count": null,
   "id": "974424ed",
   "metadata": {},
   "outputs": [],
   "source": []
  },
  {
   "cell_type": "code",
   "execution_count": null,
   "id": "87734e69",
   "metadata": {},
   "outputs": [],
   "source": []
  },
  {
   "cell_type": "code",
   "execution_count": null,
   "id": "76297609",
   "metadata": {},
   "outputs": [],
   "source": []
  },
  {
   "cell_type": "code",
   "execution_count": null,
   "id": "943bb8ea",
   "metadata": {},
   "outputs": [],
   "source": []
  },
  {
   "cell_type": "code",
   "execution_count": null,
   "id": "d3c1ada3",
   "metadata": {},
   "outputs": [],
   "source": []
  },
  {
   "cell_type": "code",
   "execution_count": null,
   "id": "d6c26389",
   "metadata": {},
   "outputs": [],
   "source": []
  },
  {
   "cell_type": "code",
   "execution_count": null,
   "id": "5c066b7b",
   "metadata": {},
   "outputs": [],
   "source": []
  },
  {
   "cell_type": "code",
   "execution_count": null,
   "id": "5c032af0",
   "metadata": {},
   "outputs": [],
   "source": []
  }
 ],
 "metadata": {
  "kernelspec": {
   "display_name": "Python 3 (ipykernel)",
   "language": "python",
   "name": "python3"
  },
  "language_info": {
   "codemirror_mode": {
    "name": "ipython",
    "version": 3
   },
   "file_extension": ".py",
   "mimetype": "text/x-python",
   "name": "python",
   "nbconvert_exporter": "python",
   "pygments_lexer": "ipython3",
   "version": "3.9.12"
  }
 },
 "nbformat": 4,
 "nbformat_minor": 5
}
