{
 "cells": [
  {
   "cell_type": "code",
   "execution_count": 62,
   "id": "b0a4d25e",
   "metadata": {},
   "outputs": [
    {
     "name": "stdout",
     "output_type": "stream",
     "text": [
      "2311640221315 15\n"
     ]
    },
    {
     "ename": "ValueError",
     "evalue": "invalid literal for int() with base 8: '140008385730'",
     "output_type": "error",
     "traceback": [
      "\u001b[1;31m---------------------------------------------------------------------------\u001b[0m",
      "\u001b[1;31mValueError\u001b[0m                                Traceback (most recent call last)",
      "Input \u001b[1;32mIn [62]\u001b[0m, in \u001b[0;36m<cell line: 28>\u001b[1;34m()\u001b[0m\n\u001b[0;32m     27\u001b[0m ans\u001b[38;5;241m=\u001b[39m\u001b[38;5;28mstr\u001b[39m(N)\n\u001b[0;32m     28\u001b[0m \u001b[38;5;28;01mfor\u001b[39;00m _ \u001b[38;5;129;01min\u001b[39;00m \u001b[38;5;28mrange\u001b[39m(K):\n\u001b[1;32m---> 29\u001b[0m     ans\u001b[38;5;241m=\u001b[39m\u001b[43m_10\u001b[49m\u001b[43m(\u001b[49m\u001b[43mans\u001b[49m\u001b[43m)\u001b[49m\u001b[38;5;66;03m# 8進数から10進数へ変換　strを入れる\u001b[39;00m\n\u001b[0;32m     30\u001b[0m     ans\u001b[38;5;241m=\u001b[39m_9(ans)\u001b[38;5;66;03m# 10進数から9進数に変換 intを入れる\u001b[39;00m\n\u001b[0;32m     31\u001b[0m     ans\u001b[38;5;241m=\u001b[39m\u001b[38;5;28mstr\u001b[39m(ans)\n",
      "Input \u001b[1;32mIn [62]\u001b[0m, in \u001b[0;36m_10\u001b[1;34m(_num)\u001b[0m\n\u001b[0;32m      3\u001b[0m \u001b[38;5;28;01mdef\u001b[39;00m \u001b[38;5;21m_10\u001b[39m(_num):\u001b[38;5;66;03m#_num\u001b[39;00m\n\u001b[1;32m----> 4\u001b[0m     num\u001b[38;5;241m=\u001b[39m\u001b[38;5;28;43mint\u001b[39;49m\u001b[43m(\u001b[49m\u001b[43m_num\u001b[49m\u001b[43m,\u001b[49m\u001b[38;5;241;43m8\u001b[39;49m\u001b[43m)\u001b[49m\u001b[38;5;66;03m#8進数を10進数に変換\u001b[39;00m\n\u001b[0;32m      5\u001b[0m     \u001b[38;5;28;01mreturn\u001b[39;00m num\n",
      "\u001b[1;31mValueError\u001b[0m: invalid literal for int() with base 8: '140008385730'"
     ]
    }
   ],
   "source": [
    "# AC,RE,WA\n",
    "N,K=map(int,input().split())\n",
    "def _10(_num):#_num\n",
    "    num=int(_num,8)#8進数を10進数に変換\n",
    "    return num\n",
    "\n",
    "def _9(_num):#10進数を9進数に変換する\n",
    "    rais_9=1\n",
    "    rais=0\n",
    "    while True:\n",
    "        if _num<=rais_9:\n",
    "            break\n",
    "        rais_9*=9\n",
    "        rais+=1\n",
    "    \n",
    "    rais_9//=9\n",
    "    num=[]\n",
    "    for _ in range(rais):\n",
    "        digit=_num//rais_9\n",
    "        num.append(str(digit))\n",
    "        _num%=rais_9\n",
    "        rais_9//=9\n",
    "\n",
    "    num=''.join(num)\n",
    "    return num\n",
    "\n",
    "ans=str(N)\n",
    "for _ in range(K):\n",
    "    ans=_10(ans)# 8進数から10進数へ変換　strを入れる\n",
    "    ans=_9(ans)# 10進数から9進数に変換 intを入れる\n",
    "    ans=str(ans)\n",
    "    ans.replace('8','5')\n",
    "\n",
    "print(ans)            "
   ]
  },
  {
   "cell_type": "code",
   "execution_count": 69,
   "id": "d3fa4247",
   "metadata": {},
   "outputs": [
    {
     "ename": "ValueError",
     "evalue": "invalid literal for int() with base 8: '140008385730'",
     "output_type": "error",
     "traceback": [
      "\u001b[1;31m---------------------------------------------------------------------------\u001b[0m",
      "\u001b[1;31mValueError\u001b[0m                                Traceback (most recent call last)",
      "Input \u001b[1;32mIn [69]\u001b[0m, in \u001b[0;36m<cell line: 1>\u001b[1;34m()\u001b[0m\n\u001b[1;32m----> 1\u001b[0m \u001b[38;5;28;43mint\u001b[39;49m\u001b[43m(\u001b[49m\u001b[38;5;124;43m'\u001b[39;49m\u001b[38;5;124;43m140008385730\u001b[39;49m\u001b[38;5;124;43m'\u001b[39;49m\u001b[43m,\u001b[49m\u001b[38;5;241;43m8\u001b[39;49m\u001b[43m)\u001b[49m\n",
      "\u001b[1;31mValueError\u001b[0m: invalid literal for int() with base 8: '140008385730'"
     ]
    }
   ],
   "source": [
    "int('140008385730',8)"
   ]
  },
  {
   "cell_type": "code",
   "execution_count": 57,
   "id": "713b1e8c",
   "metadata": {},
   "outputs": [
    {
     "ename": "ValueError",
     "evalue": "invalid literal for int() with base 8: '140008385730'",
     "output_type": "error",
     "traceback": [
      "\u001b[1;31m---------------------------------------------------------------------------\u001b[0m",
      "\u001b[1;31mValueError\u001b[0m                                Traceback (most recent call last)",
      "Input \u001b[1;32mIn [57]\u001b[0m, in \u001b[0;36m<cell line: 1>\u001b[1;34m()\u001b[0m\n\u001b[1;32m----> 1\u001b[0m a\u001b[38;5;241m=\u001b[39m\u001b[38;5;28;43mint\u001b[39;49m\u001b[43m(\u001b[49m\u001b[38;5;124;43m'\u001b[39;49m\u001b[38;5;124;43m140008385730\u001b[39;49m\u001b[38;5;124;43m'\u001b[39;49m\u001b[43m,\u001b[49m\u001b[38;5;241;43m8\u001b[39;49m\u001b[43m)\u001b[49m\n\u001b[0;32m      2\u001b[0m \u001b[38;5;28mprint\u001b[39m(a)\n",
      "\u001b[1;31mValueError\u001b[0m: invalid literal for int() with base 8: '140008385730'"
     ]
    }
   ],
   "source": [
    "a=int('140008385730',8)\n",
    "print(a)"
   ]
  },
  {
   "cell_type": "code",
   "execution_count": 61,
   "id": "ad5f405b",
   "metadata": {},
   "outputs": [
    {
     "name": "stdout",
     "output_type": "stream",
     "text": [
      "2311640221315 15\n",
      "474547\n"
     ]
    }
   ],
   "source": [
    "# AC\n",
    "N,K=map(int,input().split())\n",
    "if N == 0:\n",
    "    exit(print(0))\n",
    "def base_9(n):\n",
    "    base_9 = \"\"\n",
    "    while n!=0:\n",
    "        base_9 += str(n%9)\n",
    "        n = n//9\n",
    "    return int(base_9[::-1])\n",
    "\n",
    "def base_10(n):\n",
    "    n = str(n)\n",
    "    l = len(n)-1\n",
    "    base_10 = 0\n",
    "    for i in range(len(n)):\n",
    "        base_10 += (8**l)*int(n[i])\n",
    "        l -= 1\n",
    "    return base_10\n",
    "\n",
    "N_tem=N \n",
    "for _ in range(K):\n",
    "    value=base_10(N_tem) # valueに8進法のN_temを10進法に変換したものをいれる\n",
    "    N_tem=base_9(value) # N_temを9進法に変換\n",
    "    N_tem=str(N_tem)\n",
    "    N_tem=N_tem.replace('8','5')\n",
    "    N_tem=int(N_tem) #この時点ではN_temは９進数だが8進数として扱う、 8を5に変換済み,\n",
    "\n",
    "print(N_tem)"
   ]
  },
  {
   "cell_type": "code",
   "execution_count": 48,
   "id": "d6e30024",
   "metadata": {},
   "outputs": [
    {
     "data": {
      "text/plain": [
       "['1', '8']"
      ]
     },
     "execution_count": 48,
     "metadata": {},
     "output_type": "execute_result"
    }
   ],
   "source": [
    "ans_list"
   ]
  },
  {
   "cell_type": "code",
   "execution_count": 52,
   "id": "bb6f7ffe",
   "metadata": {},
   "outputs": [
    {
     "data": {
      "text/plain": [
       "'723723'"
      ]
     },
     "execution_count": 52,
     "metadata": {},
     "output_type": "execute_result"
    }
   ],
   "source": [
    "a='123123'\n",
    "a.replace('1','7')"
   ]
  },
  {
   "cell_type": "code",
   "execution_count": null,
   "id": "f6b383dc",
   "metadata": {},
   "outputs": [],
   "source": [
    "def _9(_num):#10進数を9進数に変換する\n",
    "    rais_9=1\n",
    "    rais=0\n",
    "    while True:\n",
    "        if _num<=rais_9:#100   1,9,81.729\n",
    "            break\n",
    "        rais_9*=9#729\n",
    "        rais+=1#3\n",
    "    \n",
    "    rais_9//=9#81\n",
    "    num=[]\n",
    "    for _ in range(rais):\n",
    "        digit=_num//rais_9\n",
    "        num.append(str(digit))\n",
    "        _num%=rais_9\n",
    "        rais_9//=9\n",
    "\n",
    "    num=''.join(num)\n",
    "    return num"
   ]
  },
  {
   "cell_type": "code",
   "execution_count": null,
   "id": "43b97b9d",
   "metadata": {},
   "outputs": [],
   "source": [
    "for j in range(len(num)):\n",
    "    num[j]=str(num[j])\n",
    "\n",
    "for i in range(len(num)):\n",
    "    if num[i]!=0:\n",
    "        break\n",
    "    else:\n",
    "        num.pop(-1)"
   ]
  },
  {
   "cell_type": "code",
   "execution_count": 31,
   "id": "c02cdd05",
   "metadata": {},
   "outputs": [
    {
     "name": "stdout",
     "output_type": "stream",
     "text": [
      "4\n",
      "3\n",
      "2\n",
      "1\n",
      "0\n"
     ]
    }
   ],
   "source": [
    "for i in reversed(range(5)):\n",
    "    print(i)"
   ]
  },
  {
   "cell_type": "code",
   "execution_count": 10,
   "id": "cb6c6993",
   "metadata": {},
   "outputs": [
    {
     "name": "stdout",
     "output_type": "stream",
     "text": [
      "14\n",
      "<class 'int'>\n"
     ]
    }
   ],
   "source": [
    "a=str(32)\n",
    "b=int(a,4)\n",
    "print(b)\n",
    "print(type(b))"
   ]
  },
  {
   "cell_type": "code",
   "execution_count": 3,
   "id": "fb739c72",
   "metadata": {},
   "outputs": [
    {
     "name": "stdout",
     "output_type": "stream",
     "text": [
      "20\n"
     ]
    }
   ],
   "source": [
    "print(int('10100', 2))"
   ]
  },
  {
   "cell_type": "code",
   "execution_count": 5,
   "id": "4536d15e",
   "metadata": {},
   "outputs": [],
   "source": [
    "def ab(t):\n",
    "    ab=t*45\n",
    "    return ab"
   ]
  },
  {
   "cell_type": "code",
   "execution_count": 8,
   "id": "a0fad70d",
   "metadata": {},
   "outputs": [
    {
     "name": "stdout",
     "output_type": "stream",
     "text": [
      "90\n"
     ]
    }
   ],
   "source": [
    "c=ab(2)\n",
    "print(c)"
   ]
  },
  {
   "cell_type": "code",
   "execution_count": 11,
   "id": "c0a974ff",
   "metadata": {},
   "outputs": [
    {
     "data": {
      "text/plain": [
       "1152921504606846976"
      ]
     },
     "execution_count": 11,
     "metadata": {},
     "output_type": "execute_result"
    }
   ],
   "source": [
    "8**20"
   ]
  },
  {
   "cell_type": "code",
   "execution_count": 12,
   "id": "40bc96d2",
   "metadata": {},
   "outputs": [],
   "source": [
    "a=['a','b','c']\n",
    "z=''.join(a)"
   ]
  },
  {
   "cell_type": "code",
   "execution_count": 13,
   "id": "7024dac4",
   "metadata": {},
   "outputs": [
    {
     "data": {
      "text/plain": [
       "'abc'"
      ]
     },
     "execution_count": 13,
     "metadata": {},
     "output_type": "execute_result"
    }
   ],
   "source": [
    "z"
   ]
  },
  {
   "cell_type": "code",
   "execution_count": null,
   "id": "cd1b0ccf",
   "metadata": {},
   "outputs": [],
   "source": []
  }
 ],
 "metadata": {
  "kernelspec": {
   "display_name": "Python 3 (ipykernel)",
   "language": "python",
   "name": "python3"
  },
  "language_info": {
   "codemirror_mode": {
    "name": "ipython",
    "version": 3
   },
   "file_extension": ".py",
   "mimetype": "text/x-python",
   "name": "python",
   "nbconvert_exporter": "python",
   "pygments_lexer": "ipython3",
   "version": "3.9.12"
  }
 },
 "nbformat": 4,
 "nbformat_minor": 5
}
