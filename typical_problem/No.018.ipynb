{
 "cells": [
  {
   "cell_type": "code",
   "execution_count": 1,
   "id": "ab97d897",
   "metadata": {},
   "outputs": [
    {
     "name": "stdout",
     "output_type": "stream",
     "text": [
      "4\n",
      "2 1 1\n",
      "4\n",
      "0\n",
      "1\n",
      "2\n",
      "3\n"
     ]
    }
   ],
   "source": [
    "T = int(input())\n",
    "L,X,Y=list(map(int,input().split()))\n",
    "Q = int(input())\n",
    "E = list(int(input()) for _ in range(Q))\n"
   ]
  },
  {
   "cell_type": "code",
   "execution_count": 2,
   "id": "34e31776",
   "metadata": {},
   "outputs": [
    {
     "name": "stdout",
     "output_type": "stream",
     "text": [
      "0 . 0\n",
      "3 2 . 3 1 1 5 3 3 2 3 7 4 2 3 8 5\n",
      "5 4 . 7 3 5 6 1 0 3 1 7 2 4 5 3 4 6\n",
      "5 4 . 7 3 5 6 1 0 3 1 7 2 4 5 3 4 6\n"
     ]
    }
   ],
   "source": [
    "import math\n",
    "\n",
    "ans = []\n",
    "for i in range(Q):\n",
    "    \n",
    "    theta=E[i]/T*math.pi\n",
    "#    print(theta)\n",
    "    Y2=L/2*math.sin(-E[i]/T*2*math.pi)\n",
    "    Z=L*math.sin(E[i]/T*math.pi)\n",
    "#    print(E[i],T)\n",
    "#    print(Y2,Z)\n",
    "#    print('-----')\n",
    "    ans2=math.degrees(math.atan(Z/(X**2+(Y2-Y)**2)**(1/2)))\n",
    "    ans.append(str(ans2))\n",
    "\n",
    "for l in ans:\n",
    "    print(*l)"
   ]
  },
  {
   "cell_type": "code",
   "execution_count": 45,
   "id": "0f51825e",
   "metadata": {},
   "outputs": [
    {
     "name": "stdout",
     "output_type": "stream",
     "text": [
      "['0.0', '32.31153323742385', '54.735610317245346', '54.735610317245346']\n"
     ]
    }
   ],
   "source": [
    "print(ans)"
   ]
  },
  {
   "cell_type": "code",
   "execution_count": 58,
   "id": "ab24323f",
   "metadata": {},
   "outputs": [],
   "source": [
    "Z=math.sin(1/4*math.pi)"
   ]
  },
  {
   "cell_type": "code",
   "execution_count": 59,
   "id": "f0f5977e",
   "metadata": {},
   "outputs": [
    {
     "data": {
      "text/plain": [
       "0.7071067811865476"
      ]
     },
     "execution_count": 59,
     "metadata": {},
     "output_type": "execute_result"
    }
   ],
   "source": [
    "Z"
   ]
  },
  {
   "cell_type": "code",
   "execution_count": 57,
   "id": "0dd4823a",
   "metadata": {},
   "outputs": [
    {
     "data": {
      "text/plain": [
       "45.0"
      ]
     },
     "execution_count": 57,
     "metadata": {},
     "output_type": "execute_result"
    }
   ],
   "source": [
    "math.degrees(0.7853981633974483)"
   ]
  },
  {
   "cell_type": "code",
   "execution_count": null,
   "id": "2368b185",
   "metadata": {},
   "outputs": [],
   "source": []
  }
 ],
 "metadata": {
  "kernelspec": {
   "display_name": "Python 3 (ipykernel)",
   "language": "python",
   "name": "python3"
  },
  "language_info": {
   "codemirror_mode": {
    "name": "ipython",
    "version": 3
   },
   "file_extension": ".py",
   "mimetype": "text/x-python",
   "name": "python",
   "nbconvert_exporter": "python",
   "pygments_lexer": "ipython3",
   "version": "3.9.12"
  }
 },
 "nbformat": 4,
 "nbformat_minor": 5
}
