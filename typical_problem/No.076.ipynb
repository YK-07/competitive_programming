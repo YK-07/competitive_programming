{
 "cells": [
  {
   "cell_type": "code",
   "execution_count": 19,
   "id": "76c7f943",
   "metadata": {},
   "outputs": [
    {
     "name": "stdout",
     "output_type": "stream",
     "text": [
      "3\n",
      "1 18 1\n",
      "Yes\n"
     ]
    }
   ],
   "source": [
    "# TLE\n",
    "N=int(input())\n",
    "A=list(map(int,input().split()))\n",
    "A_tenth=sum(A)/10\n",
    "ans=0\n",
    "\n",
    "for i in range(N//2+1):#　前から探索\n",
    "    A_tem=0\n",
    "    while A_tem<A_tenth:\n",
    "        A_tem+=A[i]\n",
    "        i+=1\n",
    "    if A_tem==A_tenth:\n",
    "        ans+=1\n",
    "        break\n",
    "\n",
    "for i in range(N//2):# 後ろから探索\n",
    "    A_tem=0\n",
    "    i+=1\n",
    "    while A_tem<A_tenth:\n",
    "        A_tem+=A[-i]\n",
    "        i+=1\n",
    "    if A_tem==A_tenth:\n",
    "        ans+=1\n",
    "        break\n",
    "x=0\n",
    "A_sum=0\n",
    "while A_sum<A_tenth:\n",
    "    A_sum_tem=0\n",
    "    A_sum+=A[x] # A[0],A[1],A[2].....と足していく\n",
    "    A_sum_tem+=A_sum\n",
    "    x+=1\n",
    "    for i in range(N):\n",
    "        i+=1\n",
    "        if A_sum_tem<A_tenth:\n",
    "            A_sum_tem+=A[-i]\n",
    "    if A_sum_tem==A_tenth:\n",
    "        ans+=1\n",
    "\n",
    "if ans!=0:\n",
    "    print('Yes')\n",
    "else:\n",
    "    print('No')"
   ]
  },
  {
   "cell_type": "code",
   "execution_count": 1,
   "id": "1651332e",
   "metadata": {},
   "outputs": [
    {
     "name": "stdout",
     "output_type": "stream",
     "text": [
      "3\n",
      "1 18 1\n",
      "Yes\n"
     ]
    },
    {
     "ename": "SystemExit",
     "evalue": "",
     "output_type": "error",
     "traceback": [
      "An exception has occurred, use %tb to see the full traceback.\n",
      "\u001b[1;31mSystemExit\u001b[0m\n"
     ]
    },
    {
     "name": "stderr",
     "output_type": "stream",
     "text": [
      "C:\\Users\\Yusuke\\anaconda3\\lib\\site-packages\\IPython\\core\\interactiveshell.py:3377: UserWarning: To exit: use 'exit', 'quit', or Ctrl-D.\n",
      "  warn(\"To exit: use 'exit', 'quit', or Ctrl-D.\", stacklevel=1)\n"
     ]
    }
   ],
   "source": [
    "# AC\n",
    "n = int(input())\n",
    "a = list(map(int, input().split()))\n",
    "s = sum(a)\n",
    "now = 0\n",
    "r = 0\n",
    "import sys\n",
    "for i in range(n):\n",
    "    while True:\n",
    "        now += a[r]\n",
    "        r += 1\n",
    "        r %= n\n",
    "        if now * 10 >= s:\n",
    "            break\n",
    "    if now * 10 == s:\n",
    "        print(\"Yes\")\n",
    "        sys.exit()\n",
    "    now -= a[i]\n",
    "print(\"No\")"
   ]
  },
  {
   "cell_type": "code",
   "execution_count": null,
   "id": "d19bf085",
   "metadata": {},
   "outputs": [],
   "source": []
  },
  {
   "cell_type": "code",
   "execution_count": null,
   "id": "7ddcea13",
   "metadata": {},
   "outputs": [],
   "source": []
  },
  {
   "cell_type": "code",
   "execution_count": null,
   "id": "4e6482a0",
   "metadata": {},
   "outputs": [],
   "source": []
  }
 ],
 "metadata": {
  "kernelspec": {
   "display_name": "Python 3 (ipykernel)",
   "language": "python",
   "name": "python3"
  },
  "language_info": {
   "codemirror_mode": {
    "name": "ipython",
    "version": 3
   },
   "file_extension": ".py",
   "mimetype": "text/x-python",
   "name": "python",
   "nbconvert_exporter": "python",
   "pygments_lexer": "ipython3",
   "version": "3.9.12"
  }
 },
 "nbformat": 4,
 "nbformat_minor": 5
}
