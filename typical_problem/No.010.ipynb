{
 "cells": [
  {
   "cell_type": "code",
   "execution_count": 21,
   "id": "dcb86880",
   "metadata": {},
   "outputs": [
    {
     "name": "stdout",
     "output_type": "stream",
     "text": [
      "[[72, 172]]\n",
      "[[72, 172], [23, 172]]\n",
      "[[72, 172], [23, 172], [23, 183]]\n",
      "[[72, 172], [23, 172], [23, 183], [63, 89]]\n",
      "[[72, 172], [23, 172], [23, 183], [63, 89], [115, 89]]\n"
     ]
    }
   ],
   "source": [
    "ans = []\n",
    "for i in range(q):\n",
    "    class1 = []\n",
    "    class2 = []\n",
    "    for j in range(lr[i][0]-1,lr[i][1]):\n",
    "        if cp[j][0]==1:\n",
    "            class1.append(cp[j][1])\n",
    "        else:\n",
    "            class2.append(cp[j][1])\n",
    "    ans.append([sum(class1),sum(class2)])\n",
    "    print(ans)"
   ]
  },
  {
   "cell_type": "code",
   "execution_count": null,
   "id": "8d1b7dba",
   "metadata": {},
   "outputs": [],
   "source": [
    "CP=[list(map(int,input().split())) for l in range(N)]"
   ]
  },
  {
   "cell_type": "code",
   "execution_count": 22,
   "id": "46c1fea3",
   "metadata": {
    "scrolled": false
   },
   "outputs": [
    {
     "name": "stdout",
     "output_type": "stream",
     "text": [
      "7\n",
      "1 72\n",
      "2 78\n",
      "2 94\n",
      "1 23\n",
      "2 89\n",
      "1 40\n",
      "1 75\n",
      "10\n",
      "1 3\n",
      "2 4\n",
      "3 5\n",
      "4 6\n",
      "5 7\n",
      "1 5\n",
      "2 6\n",
      "3 7\n",
      "1 6\n",
      "2 7\n",
      "72 172\n",
      "23 172\n",
      "23 183\n",
      "63 89\n",
      "115 89\n",
      "95 261\n",
      "63 261\n",
      "138 183\n",
      "135 261\n",
      "138 261\n"
     ]
    }
   ],
   "source": [
    "# TLE\n",
    "n = int(input())\n",
    "cp = []\n",
    "for _ in range(n):\n",
    "    cp.append(list(map(int, input().split())))\n",
    "q = int(input())\n",
    "lr = []\n",
    "for _ in range(q):\n",
    "    lr.append(list(map(int, input().split())))\n",
    "\n",
    "ans = []\n",
    "for i in range(q):\n",
    "    class1 = []\n",
    "    class2 = []\n",
    "    for j in range(lr[i][0]-1,lr[i][1]):\n",
    "        if cp[j][0]==1:\n",
    "            class1.append(cp[j][1])\n",
    "        else:\n",
    "            class2.append(cp[j][1])\n",
    "    ans.append([sum(class1),sum(class2)])\n",
    "for l in ans:\n",
    "    print(*l)"
   ]
  },
  {
   "cell_type": "code",
   "execution_count": 16,
   "id": "6cd2a85e",
   "metadata": {},
   "outputs": [
    {
     "name": "stdout",
     "output_type": "stream",
     "text": [
      "115 89\n",
      "72 172\n",
      "23 172\n",
      "23 183\n",
      "63 89\n"
     ]
    }
   ],
   "source": [
    "for l in ans:\n",
    "    print(*l)"
   ]
  },
  {
   "cell_type": "code",
   "execution_count": 15,
   "id": "a9915d60",
   "metadata": {},
   "outputs": [
    {
     "name": "stdout",
     "output_type": "stream",
     "text": [
      "[[115, 89], [72, 172], [23, 172], [23, 183], [63, 89]]\n"
     ]
    }
   ],
   "source": [
    "print(ans)"
   ]
  },
  {
   "cell_type": "code",
   "execution_count": 50,
   "id": "f4b05ba5",
   "metadata": {},
   "outputs": [
    {
     "name": "stdout",
     "output_type": "stream",
     "text": [
      "2 1\n",
      "2 3\n"
     ]
    }
   ],
   "source": [
    "a = [[2, 1], [2, 3]]\n",
    "for l in a:\n",
    "    print(*l)"
   ]
  },
  {
   "cell_type": "code",
   "execution_count": 47,
   "id": "de9a4044",
   "metadata": {},
   "outputs": [
    {
     "name": "stdout",
     "output_type": "stream",
     "text": [
      "[[6, 12]]\n"
     ]
    }
   ],
   "source": [
    "class1 = [1, 2, 3]\n",
    "class2 = [2, 4, 6]\n",
    "d = []\n",
    "d.append([sum(class1), sum(class2)])\n",
    "print(d)"
   ]
  },
  {
   "cell_type": "code",
   "execution_count": null,
   "id": "60789adb",
   "metadata": {},
   "outputs": [],
   "source": [
    "ans = []\n",
    "for i in range(q):\n",
    "    class1 = []\n",
    "    class2 = []\n",
    "    for j in range(lr[i][0],lr[i][1]):\n",
    "        if cp[j][0]==1:\n",
    "            class1.append(cp[j-1][1])\n",
    "        else:\n",
    "            class2.append(cp[j-1][1])\n",
    "    ans.append([sum(class1),sum(class2)])\n",
    "for l in ans:\n",
    "    print(*l)"
   ]
  },
  {
   "cell_type": "code",
   "execution_count": 2,
   "id": "4728d687",
   "metadata": {},
   "outputs": [
    {
     "name": "stdout",
     "output_type": "stream",
     "text": [
      "2\n",
      "3\n"
     ]
    }
   ],
   "source": [
    "a = [1,2,3,4,5,6,7,8,9,10]\n",
    "for i in range(2,4):\n",
    "    print(i)"
   ]
  },
  {
   "cell_type": "code",
   "execution_count": null,
   "id": "e8a6ea2a",
   "metadata": {},
   "outputs": [],
   "source": [
    "ans = []\n",
    "for i in range(q):\n",
    "    class1 = []\n",
    "    class2 = []\n",
    "#    class3 = []\n",
    "#    class3.append(cp[lr[i, 0]-1:lr[i,1]])\n",
    "    for j in range(lr[i][1]-lr[i][0]+1):\n",
    "        if class3[j,0]==1:\n",
    "            class1.append(class3[j])\n",
    "        else:\n",
    "            class2.append(class3[j])"
   ]
  },
  {
   "cell_type": "code",
   "execution_count": null,
   "id": "11215b4e",
   "metadata": {},
   "outputs": [],
   "source": [
    "ans = []\n",
    "for i in range(q):\n",
    "    class1 = []\n",
    "    class2 = []\n",
    "    class3 = []\n",
    "    class3.append(cp[lr[i, 0]-1:lr[i,1]])\n",
    "    for j in range(lr[i,1]-lr[i, 0]+1):\n",
    "        if class3[j,0]==1:\n",
    "            class1.append(class3[j])\n",
    "        else:\n",
    "            class2.append(class3[j])"
   ]
  },
  {
   "cell_type": "code",
   "execution_count": 31,
   "id": "91109486",
   "metadata": {
    "scrolled": true
   },
   "outputs": [
    {
     "name": "stdout",
     "output_type": "stream",
     "text": [
      "1 3\n",
      "[array([[ 1, 72],\n",
      "       [ 2, 78],\n",
      "       [ 2, 94]])]\n"
     ]
    }
   ],
   "source": [
    "i=0\n",
    "class3 = []\n",
    "print(lr[i, 0],lr[i,1])\n",
    "class3.append(cp[lr[i, 0]-1:lr[i,1]])\n",
    "print(class3)"
   ]
  },
  {
   "cell_type": "code",
   "execution_count": 33,
   "id": "95deda80",
   "metadata": {},
   "outputs": [
    {
     "ename": "SyntaxError",
     "evalue": "invalid syntax (3284899603.py, line 1)",
     "output_type": "error",
     "traceback": [
      "\u001b[1;36m  Input \u001b[1;32mIn [33]\u001b[1;36m\u001b[0m\n\u001b[1;33m    print(class3[axis=0])\u001b[0m\n\u001b[1;37m                     ^\u001b[0m\n\u001b[1;31mSyntaxError\u001b[0m\u001b[1;31m:\u001b[0m invalid syntax\n"
     ]
    }
   ],
   "source": [
    "print(class3[axis=0])"
   ]
  },
  {
   "cell_type": "code",
   "execution_count": null,
   "id": "477a5a5f",
   "metadata": {},
   "outputs": [],
   "source": [
    "print(class3[class3[] ==1].sum())"
   ]
  },
  {
   "cell_type": "code",
   "execution_count": 12,
   "id": "37bbc6ac",
   "metadata": {},
   "outputs": [
    {
     "name": "stdout",
     "output_type": "stream",
     "text": [
      "[[1, 72], [2, 78], [2, 94], [1, 23], [2, 89], [1, 40], [1, 75]]\n"
     ]
    }
   ],
   "source": [
    "print(cp)"
   ]
  },
  {
   "cell_type": "code",
   "execution_count": 13,
   "id": "6d3c3811",
   "metadata": {},
   "outputs": [
    {
     "name": "stdout",
     "output_type": "stream",
     "text": [
      "[[1, 3], [2, 4], [3, 5]]\n"
     ]
    }
   ],
   "source": [
    "print(lr)"
   ]
  },
  {
   "cell_type": "code",
   "execution_count": 14,
   "id": "8be0f4a1",
   "metadata": {},
   "outputs": [
    {
     "name": "stdout",
     "output_type": "stream",
     "text": [
      "[1, 3]\n"
     ]
    }
   ],
   "source": [
    "print(lr[0])"
   ]
  },
  {
   "cell_type": "code",
   "execution_count": 25,
   "id": "2528bafa",
   "metadata": {},
   "outputs": [
    {
     "name": "stdout",
     "output_type": "stream",
     "text": [
      "3\n"
     ]
    }
   ],
   "source": [
    "import numpy as np\n",
    "lr = np.array(lr)\n",
    "print(lr[2,0])"
   ]
  },
  {
   "cell_type": "code",
   "execution_count": 28,
   "id": "256e1fbf",
   "metadata": {},
   "outputs": [
    {
     "name": "stdout",
     "output_type": "stream",
     "text": [
      "[[1 3]\n",
      " [2 4]\n",
      " [3 5]]\n"
     ]
    }
   ],
   "source": [
    "import numpy as np\n",
    "lr = np.array(lr)\n",
    "print(lr)"
   ]
  },
  {
   "cell_type": "code",
   "execution_count": 43,
   "id": "e0b6ecc7",
   "metadata": {},
   "outputs": [],
   "source": [
    "a = [[1, 5],[2, 4]]"
   ]
  }
 ],
 "metadata": {
  "kernelspec": {
   "display_name": "Python 3 (ipykernel)",
   "language": "python",
   "name": "python3"
  },
  "language_info": {
   "codemirror_mode": {
    "name": "ipython",
    "version": 3
   },
   "file_extension": ".py",
   "mimetype": "text/x-python",
   "name": "python",
   "nbconvert_exporter": "python",
   "pygments_lexer": "ipython3",
   "version": "3.9.12"
  }
 },
 "nbformat": 4,
 "nbformat_minor": 5
}
