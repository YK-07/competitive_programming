{
 "cells": [
  {
   "cell_type": "code",
   "execution_count": null,
   "id": "1384307f",
   "metadata": {},
   "outputs": [],
   "source": [
    "A[i][j]"
   ]
  },
  {
   "cell_type": "code",
   "execution_count": 9,
   "id": "3ccea7ea",
   "metadata": {
    "scrolled": true
   },
   "outputs": [
    {
     "name": "stdout",
     "output_type": "stream",
     "text": [
      "4\n",
      "1 2 3 4\n",
      "5 6 7 8\n",
      "9 10 11 12\n",
      "13 14 15 16\n",
      "3\n",
      "1 2\n",
      "1 3\n",
      "2 3\n"
     ]
    }
   ],
   "source": [
    "N = int(input())\n",
    "A = [list(map(int, input().split())) for _ in range(N)]\n",
    "M = int(input())\n",
    "XY = [list(map(int, input().split())) for _ in range(M)]\n"
   ]
  },
  {
   "cell_type": "code",
   "execution_count": null,
   "id": "91e478c5",
   "metadata": {},
   "outputs": [],
   "source": [
    "from itertools import permutations\n",
    "N=int(input())\n",
    "A=[]\n",
    "for i in range(N):\n",
    "    A.append(list(map(int,input().split())))\n",
    "M=int(input())\n",
    "dis=set()\n",
    "for _ in range(M):\n",
    "    X,Y=map(int,input().split())\n",
    "    dis.add((X,Y))\n",
    "    dis.add((Y,X))\n",
    "\n",
    "def solve():\n",
    "    ans=10**5\n",
    "    for v in permutations(range(N)):\n",
    "        temp=0\n",
    "        goal=True\n",
    "        for i in range(N-1):\n",
    "            if (v[i]+1,v[i+1]+1) in dis:\n",
    "                goal=False\n",
    "                break\n",
    "            else:\n",
    "                temp+=A[v[i]][i]\n",
    "        if goal==True:\n",
    "            temp+=A[v[-1]][-1]\n",
    "            ans=min(ans,temp)\n",
    "    return -1 if ans==10**5 else ans\n",
    "\n",
    "print(solve())"
   ]
  },
  {
   "cell_type": "code",
   "execution_count": 28,
   "id": "6fbedb7f",
   "metadata": {},
   "outputs": [
    {
     "name": "stdout",
     "output_type": "stream",
     "text": [
      "100\n"
     ]
    }
   ],
   "source": [
    "b= min(100,10000)\n",
    "print(b)"
   ]
  },
  {
   "cell_type": "code",
   "execution_count": 27,
   "id": "89e2976c",
   "metadata": {},
   "outputs": [
    {
     "name": "stdout",
     "output_type": "stream",
     "text": [
      "Nooooo\n"
     ]
    }
   ],
   "source": [
    "def a():\n",
    "    ans=('Yeeeeeees')\n",
    "    return ans if ans=='Yeees' else 'Nooooo'\n",
    "print(a())"
   ]
  },
  {
   "cell_type": "code",
   "execution_count": 16,
   "id": "e0980e48",
   "metadata": {},
   "outputs": [
    {
     "name": "stdout",
     "output_type": "stream",
     "text": [
      "(0, 1, 2)\n",
      "(0, 2, 1)\n",
      "(1, 0, 2)\n",
      "(1, 2, 0)\n",
      "(2, 0, 1)\n",
      "(2, 1, 0)\n"
     ]
    }
   ],
   "source": [
    "from itertools import permutations\n",
    "N=3\n",
    "for v in permutations(range(N)):\n",
    "    print(v)"
   ]
  },
  {
   "cell_type": "code",
   "execution_count": 22,
   "id": "b7d9edc1",
   "metadata": {},
   "outputs": [
    {
     "name": "stdout",
     "output_type": "stream",
     "text": [
      "Yes\n"
     ]
    }
   ],
   "source": [
    "a = [[0,1],[2,3]]\n",
    "b= [2,3]\n",
    "c= [3,2]\n",
    "if b in a:\n",
    "    print('Yes')\n",
    "else:\n",
    "     print('No')"
   ]
  },
  {
   "cell_type": "code",
   "execution_count": 20,
   "id": "2490497a",
   "metadata": {},
   "outputs": [
    {
     "data": {
      "text/plain": [
       "2"
      ]
     },
     "execution_count": 20,
     "metadata": {},
     "output_type": "execute_result"
    }
   ],
   "source": [
    "v[0]"
   ]
  },
  {
   "cell_type": "code",
   "execution_count": 19,
   "id": "81a9c5de",
   "metadata": {},
   "outputs": [
    {
     "name": "stdout",
     "output_type": "stream",
     "text": [
      "Yes\n"
     ]
    }
   ],
   "source": [
    "a=True\n",
    "#a=False\n",
    "if a:    # a==True でも可\n",
    "    print('Yes')\n",
    "else:\n",
    "    print('No')"
   ]
  },
  {
   "cell_type": "code",
   "execution_count": null,
   "id": "029548ab",
   "metadata": {},
   "outputs": [],
   "source": []
  },
  {
   "cell_type": "code",
   "execution_count": null,
   "id": "1a7ea899",
   "metadata": {},
   "outputs": [],
   "source": [
    "#!/usr/bin/env python3\n",
    "dpos4 = ((1, 0), (0, 1), (-1, 0), (0, -1))\n",
    "dpos8 = ((0, -1), (1, -1), (1, 0), (1, 1), (0, 1), (-1, 1), (-1, 0), (-1, -1))\n",
    "mod1 = 10**9 + 7\n",
    "mod2 = 998244353\n",
    "from itertools import permutations\n",
    "from math import inf\n",
    " \n",
    "def main():\n",
    "    N = int(input())\n",
    "    A = [list(map(int, input().split())) for _ in range(N)]\n",
    "    M = int(input())\n",
    "    relationships = [set() for _ in range(N)]\n",
    "    for _ in range(M):\n",
    "        x, y = map(int, input().split())\n",
    "        x -= 1\n",
    "        y -= 1\n",
    "        relationships[x].add(y)\n",
    "        relationships[y].add(x)\n",
    " \n",
    "    ans = inf\n",
    "    for perms in permutations(range(N)):\n",
    "        tmp = A[perms[-1]][-1]\n",
    "        ok = True\n",
    "        for i in range(N - 1):\n",
    "            if perms[i + 1] in relationships[perms[i]]:\n",
    "                ok = False\n",
    "                break\n",
    "            tmp += A[perms[i]][i]\n",
    "        if not ok:\n",
    "            continue\n",
    "        ans = min(ans, tmp)\n",
    "    if ans == inf:\n",
    "        print(-1)\n",
    "        return\n",
    "    print(ans)\n",
    " \n",
    " \n",
    "if __name__ == \"__main__\":\n",
    "    main()"
   ]
  },
  {
   "cell_type": "code",
   "execution_count": null,
   "id": "d3417b48",
   "metadata": {},
   "outputs": [],
   "source": [
    "import itertools\n",
    " \n",
    "n = int(input())\n",
    "a = [list(map(int, input().split())) for _ in range(n)]\n",
    "m = int(input())\n",
    "b = [[False]*n for _ in range(n)]\n",
    "for _ in range(m):\n",
    "    x,y = map(lambda x: int(x)-1, input().split())\n",
    "    b[x][y] = True\n",
    "    b[y][x] = True\n",
    "\n",
    "ans = -1\n",
    "for l in  itertools.permutations(range(n)):\n",
    "    score = 0\n",
    "    valid = True\n",
    "    for i in range(n):\n",
    "        if i == 0 or not b[l[i-1]][l[i]]:\n",
    "            score += a[l[i]][i]\n",
    "        else:\n",
    "            valid = False\n",
    "            break\n",
    "    if valid:\n",
    "        if ans == -1:\n",
    "            ans = score\n",
    "        else:\n",
    "            ans = min(ans, score)\n",
    "print(ans)"
   ]
  }
 ],
 "metadata": {
  "kernelspec": {
   "display_name": "Python 3 (ipykernel)",
   "language": "python",
   "name": "python3"
  },
  "language_info": {
   "codemirror_mode": {
    "name": "ipython",
    "version": 3
   },
   "file_extension": ".py",
   "mimetype": "text/x-python",
   "name": "python",
   "nbconvert_exporter": "python",
   "pygments_lexer": "ipython3",
   "version": "3.9.12"
  }
 },
 "nbformat": 4,
 "nbformat_minor": 5
}
