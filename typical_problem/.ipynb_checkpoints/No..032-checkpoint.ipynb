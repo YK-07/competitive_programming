{
 "cells": [
  {
   "cell_type": "code",
   "execution_count": null,
   "id": "ce0ab181",
   "metadata": {},
   "outputs": [],
   "source": [
    "from itertools import permutations\n",
    "N=int(input())\n",
    "A=[]\n",
    "for i in range(N):\n",
    "    A.append(list(map(int,input().split())))\n",
    "M=int(input())\n",
    "dis=set()\n",
    "for _ in range(M):\n",
    "    X,Y=map(int,input().split())\n",
    "    dis.add((X,Y))\n",
    "    dis.add((Y,X))\n",
    "\n",
    "def solve():\n",
    "    ans=10**5\n",
    "    for v in permutations(range(N)):\n",
    "        temp=0\n",
    "        goal=True\n",
    "        for i in range(N-1):\n",
    "            if (v[i]+1,v[i+1]+1) in dis:\n",
    "                goal=False\n",
    "                break\n",
    "            else:\n",
    "                temp+=A[v[i]][i]\n",
    "        if goal==True:\n",
    "            temp+=A[v[-1]][-1]\n",
    "            ans=min(ans,temp)\n",
    "    return -1 if ans==10**5 else ans\n",
    "\n",
    "print(solve())"
   ]
  },
  {
   "cell_type": "code",
   "execution_count": 55,
   "id": "30e45891",
   "metadata": {},
   "outputs": [
    {
     "name": "stdout",
     "output_type": "stream",
     "text": [
      "3\n",
      "1 10 100\n",
      "10 1 100\n",
      "100 10 1\n",
      "1\n",
      "1 2\n",
      "111\n"
     ]
    }
   ],
   "source": [
    "import itertools\n",
    "N=int(input())\n",
    "A=[list(map(int,input().split())) for _ in range(N)]\n",
    "M=int(input())\n",
    "XY=[]\n",
    "for _ in range(M):\n",
    "    X,Y=map(int,input().split())\n",
    "    XY.append((X,Y))\n",
    "    XY.append((Y,X))\n",
    "\n",
    "perms = itertools.permutations(range(1,N+1))\n",
    "ans=10**6\n",
    "for perm in perms:\n",
    "    judge=0\n",
    "    for j in range(N-1):\n",
    "        _x,_y=perm[j],perm[j+1]\n",
    "        if judge<0:\n",
    "            break\n",
    "        for xy in XY:\n",
    "            if _x==xy[0] and _y==xy[1]:\n",
    "                judge-=1\n",
    "                break\n",
    "    \n",
    "    if judge==0:\n",
    "        cnt=0\n",
    "        _ans=0\n",
    "        for k in range(N):\n",
    "            num=perm[k]-1\n",
    "            _ans+=A[cnt][num]   \n",
    "            cnt+=1\n",
    "        ans=min(ans,_ans)\n",
    "        \n",
    "    else:\n",
    "        pass\n",
    "\n",
    "if ans==10**6:\n",
    "    print(-1)\n",
    "else:\n",
    "    print(ans)"
   ]
  },
  {
   "cell_type": "code",
   "execution_count": 43,
   "id": "160ddcd3",
   "metadata": {},
   "outputs": [
    {
     "data": {
      "text/plain": [
       "[1, 2, 3]"
      ]
     },
     "execution_count": 43,
     "metadata": {},
     "output_type": "execute_result"
    }
   ],
   "source": [
    "numbers"
   ]
  },
  {
   "cell_type": "code",
   "execution_count": 44,
   "id": "f19a42ba",
   "metadata": {},
   "outputs": [
    {
     "data": {
      "text/plain": [
       "[]"
      ]
     },
     "execution_count": 44,
     "metadata": {},
     "output_type": "execute_result"
    }
   ],
   "source": [
    "list(perms)"
   ]
  },
  {
   "cell_type": "code",
   "execution_count": 29,
   "id": "9fca6087",
   "metadata": {},
   "outputs": [
    {
     "name": "stdout",
     "output_type": "stream",
     "text": [
      "1\n"
     ]
    }
   ],
   "source": [
    "a=(1,2)\n",
    "print(a[0])"
   ]
  },
  {
   "cell_type": "code",
   "execution_count": 27,
   "id": "c5a61346",
   "metadata": {},
   "outputs": [
    {
     "name": "stdout",
     "output_type": "stream",
     "text": [
      "3\n"
     ]
    }
   ],
   "source": [
    "a=100\n",
    "a=min(3,a)\n",
    "print(a)"
   ]
  },
  {
   "cell_type": "code",
   "execution_count": 1,
   "id": "bfcd04f5",
   "metadata": {},
   "outputs": [
    {
     "name": "stdout",
     "output_type": "stream",
     "text": [
      "4\n",
      "2 4 3 5\n",
      "1 2 3 4\n",
      "6 5 4 1\n",
      "9 8 7 4\n"
     ]
    }
   ],
   "source": [
    "import itertools\n",
    "N=int(input())\n",
    "A=[list(map(int,input().split())) for _ in range(N)]\n",
    "numbers=[]\n",
    "for i in range(1,N+1):\n",
    "    numbers.append(i)\n",
    "products = itertools.product(numbers, repeat=N)"
   ]
  },
  {
   "cell_type": "code",
   "execution_count": 45,
   "id": "0042b624",
   "metadata": {},
   "outputs": [
    {
     "name": "stdout",
     "output_type": "stream",
     "text": [
      "[(1, 2, 3, 4), (1, 2, 4, 3), (1, 3, 2, 4), (1, 3, 4, 2), (1, 4, 2, 3), (1, 4, 3, 2), (2, 1, 3, 4), (2, 1, 4, 3), (2, 3, 1, 4), (2, 3, 4, 1), (2, 4, 1, 3), (2, 4, 3, 1), (3, 1, 2, 4), (3, 1, 4, 2), (3, 2, 1, 4), (3, 2, 4, 1), (3, 4, 1, 2), (3, 4, 2, 1), (4, 1, 2, 3), (4, 1, 3, 2), (4, 2, 1, 3), (4, 2, 3, 1), (4, 3, 1, 2), (4, 3, 2, 1)]\n"
     ]
    }
   ],
   "source": [
    "N=4\n",
    "numbers=[1,2,3,4]\n",
    "perms = itertools.permutations(numbers, N)\n",
    "print(list(perms))"
   ]
  },
  {
   "cell_type": "code",
   "execution_count": 19,
   "id": "7eff396d",
   "metadata": {
    "scrolled": true
   },
   "outputs": [
    {
     "data": {
      "text/plain": [
       "[(1, 2, 3, 4),\n",
       " (1, 2, 4, 3),\n",
       " (1, 3, 2, 4),\n",
       " (1, 3, 4, 2),\n",
       " (1, 4, 2, 3),\n",
       " (1, 4, 3, 2),\n",
       " (2, 1, 3, 4),\n",
       " (2, 1, 4, 3),\n",
       " (2, 3, 1, 4),\n",
       " (2, 3, 4, 1),\n",
       " (2, 4, 1, 3),\n",
       " (2, 4, 3, 1),\n",
       " (3, 1, 2, 4),\n",
       " (3, 1, 4, 2),\n",
       " (3, 2, 1, 4),\n",
       " (3, 2, 4, 1),\n",
       " (3, 4, 1, 2),\n",
       " (3, 4, 2, 1),\n",
       " (4, 1, 2, 3),\n",
       " (4, 1, 3, 2),\n",
       " (4, 2, 1, 3),\n",
       " (4, 2, 3, 1),\n",
       " (4, 3, 1, 2),\n",
       " (4, 3, 2, 1)]"
      ]
     },
     "execution_count": 19,
     "metadata": {},
     "output_type": "execute_result"
    }
   ],
   "source": [
    "ans=10**9\n",
    "cnt=0\n",
    "for product in products:\n",
    "    for xy in XY:\n",
    "        for j in range(1,N):\n",
    "            _x,_y=product[j],product[j+1]\n",
    "            if _x==xy[0] and _y==xy[1]:\n",
    "                break\n",
    "    _ans=0\n",
    "    for k in range(N):\n",
    "        num=product[k]\n",
    "        _ans+=A[cnt][num]\n",
    "    cnt+=1\n",
    "    ans=min(ans,_ans)"
   ]
  },
  {
   "cell_type": "code",
   "execution_count": null,
   "id": "1848d964",
   "metadata": {},
   "outputs": [],
   "source": []
  },
  {
   "cell_type": "code",
   "execution_count": null,
   "id": "b6efb0c5",
   "metadata": {},
   "outputs": [],
   "source": []
  },
  {
   "cell_type": "code",
   "execution_count": null,
   "id": "c4bcb8ed",
   "metadata": {},
   "outputs": [],
   "source": []
  },
  {
   "cell_type": "code",
   "execution_count": null,
   "id": "57c0af71",
   "metadata": {},
   "outputs": [],
   "source": []
  },
  {
   "cell_type": "code",
   "execution_count": null,
   "id": "cbd64fe7",
   "metadata": {},
   "outputs": [],
   "source": []
  },
  {
   "cell_type": "code",
   "execution_count": null,
   "id": "3032d9ea",
   "metadata": {},
   "outputs": [],
   "source": []
  },
  {
   "cell_type": "code",
   "execution_count": null,
   "id": "dbcd887a",
   "metadata": {},
   "outputs": [],
   "source": []
  },
  {
   "cell_type": "code",
   "execution_count": null,
   "id": "09aba0fe",
   "metadata": {},
   "outputs": [],
   "source": []
  }
 ],
 "metadata": {
  "kernelspec": {
   "display_name": "Python 3 (ipykernel)",
   "language": "python",
   "name": "python3"
  },
  "language_info": {
   "codemirror_mode": {
    "name": "ipython",
    "version": 3
   },
   "file_extension": ".py",
   "mimetype": "text/x-python",
   "name": "python",
   "nbconvert_exporter": "python",
   "pygments_lexer": "ipython3",
   "version": "3.9.12"
  }
 },
 "nbformat": 4,
 "nbformat_minor": 5
}
