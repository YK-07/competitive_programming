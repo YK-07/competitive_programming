{
 "cells": [
  {
   "cell_type": "code",
   "execution_count": 63,
   "id": "c9cfa2a7",
   "metadata": {},
   "outputs": [
    {
     "name": "stdout",
     "output_type": "stream",
     "text": [
      "3\n",
      "10 13 93\n",
      "5 27 35\n",
      "55 28 52\n",
      "3\n"
     ]
    }
   ],
   "source": [
    "n=int(input())\n",
    "A=list(map(int, input().split()))\n",
    "B=list(map(int, input().split()))\n",
    "C=list(map(int, input().split()))\n",
    "\n",
    "a46=[0]*46\n",
    "b46=[0]*46\n",
    "c46=[0]*46\n",
    "\n",
    "for i in range(n):\n",
    "    a=A[i]%46\n",
    "    a46[a]+=1\n",
    "    b=B[i]%46\n",
    "    b46[b]+=1\n",
    "    c=C[i]%46\n",
    "    c46[c]+=1\n",
    "\n",
    "ans=0\n",
    "for i in range(46):\n",
    "    ans2=0\n",
    "    for j in range(46):\n",
    "        for k in range(46):\n",
    "            if(i+j+k)%46==0:\n",
    "                ans2=a46[i]*b46[j]*c46[k]\n",
    "                ans+=ans2\n",
    "print(ans)"
   ]
  },
  {
   "cell_type": "code",
   "execution_count": 56,
   "id": "bf785b18",
   "metadata": {},
   "outputs": [
    {
     "name": "stdout",
     "output_type": "stream",
     "text": [
      "20\n",
      "238 395 46 238 264 114 354 52 324 14 472 64 307 280 209 24 165 194 179 248\n",
      "270 83 377 332 173 21 362 75 66 342 229 117 124 481 48 235 376 13 420 74\n",
      "175 427 76 278 486 169 311 47 348 225 41 482 355 356 263 95 170 156 340 289\n",
      "183\n"
     ]
    }
   ],
   "source": [
    "import array\n",
    "n=int(input())\n",
    "a=list(map(int, input().split()))\n",
    "b=list(map(int, input().split()))\n",
    "c=list(map(int, input().split()))\n",
    "\n",
    "a=array.array('i', a)\n",
    "b=array.array('i', b)\n",
    "c=array.array('i', c)\n",
    "\n",
    "anser=0\n",
    "count=[]\n",
    "for _ in range(46):\n",
    "    count.append(0)\n",
    "\n",
    "a_count=array.array('i', count)\n",
    "b_count=array.array('i', count)\n",
    "c_count=array.array('i', count)\n",
    "\n",
    "for i in range(n):\n",
    "    a2=a[i]%46\n",
    "    a_count[a2]+=1\n",
    "for i in range(n):\n",
    "    b2=b[i]%46\n",
    "    b_count[b2]+=1\n",
    "for i in range(n):\n",
    "    c2=c[i]%46\n",
    "    c_count[c2]+=1\n",
    "\n",
    "for i in range(46):    \n",
    "    anser2=0\n",
    "    for j in range(46):\n",
    "        if i==j==0:\n",
    "            pass\n",
    "        else:\n",
    "            anser2=a_count[i]*b_count[j]*c_count[46-i-j]\n",
    "            anser+=anser2\n",
    "print(anser)"
   ]
  },
  {
   "cell_type": "code",
   "execution_count": 23,
   "id": "6b85de01",
   "metadata": {},
   "outputs": [
    {
     "ename": "SyntaxError",
     "evalue": "cannot assign to operator (528489270.py, line 3)",
     "output_type": "error",
     "traceback": [
      "\u001b[1;36m  Input \u001b[1;32mIn [23]\u001b[1;36m\u001b[0m\n\u001b[1;33m    'a'+str(i)=0\u001b[0m\n\u001b[1;37m    ^\u001b[0m\n\u001b[1;31mSyntaxError\u001b[0m\u001b[1;31m:\u001b[0m cannot assign to operator\n"
     ]
    }
   ],
   "source": [
    "a_count=[]\n",
    "for i in range(46):\n",
    "    anum='a'+str(i)=0\n",
    "    \n",
    "    a_count.append('a'+str(i))\n",
    "print(a_count)"
   ]
  },
  {
   "cell_type": "code",
   "execution_count": 32,
   "id": "b4af8bb9",
   "metadata": {},
   "outputs": [
    {
     "name": "stdout",
     "output_type": "stream",
     "text": [
      "array('i', [0, 0, 0, 0, 0, 0, 0, 0, 0, 0, 0, 0, 0, 0, 0, 0, 0, 0, 0, 0, 0, 0, 0, 0, 0, 0, 0, 0, 0, 0, 0, 0, 0, 0, 0, 0, 0, 0, 0, 0, 0, 0, 0, 0, 0, 0])\n"
     ]
    }
   ],
   "source": [
    "import array\n",
    "a_count=[]\n",
    "for _ in range(46):\n",
    "    a_count.append(0)\n",
    "a_count=array.array('i', a_count)\n",
    "print(a_count)"
   ]
  },
  {
   "cell_type": "code",
   "execution_count": null,
   "id": "cbd25e94",
   "metadata": {},
   "outputs": [],
   "source": [
    "for i in range(n):\n",
    "    a=int(input())\n",
    "    a=a%46\n",
    "    a_count[a]+=1"
   ]
  },
  {
   "cell_type": "code",
   "execution_count": 34,
   "id": "1d0ed854",
   "metadata": {},
   "outputs": [],
   "source": [
    "a_count[2]+=1"
   ]
  },
  {
   "cell_type": "code",
   "execution_count": 35,
   "id": "af67425e",
   "metadata": {},
   "outputs": [
    {
     "data": {
      "text/plain": [
       "1"
      ]
     },
     "execution_count": 35,
     "metadata": {},
     "output_type": "execute_result"
    }
   ],
   "source": [
    "a_count[2]"
   ]
  },
  {
   "cell_type": "code",
   "execution_count": null,
   "id": "66b9d54c",
   "metadata": {},
   "outputs": [],
   "source": []
  }
 ],
 "metadata": {
  "kernelspec": {
   "display_name": "Python 3 (ipykernel)",
   "language": "python",
   "name": "python3"
  },
  "language_info": {
   "codemirror_mode": {
    "name": "ipython",
    "version": 3
   },
   "file_extension": ".py",
   "mimetype": "text/x-python",
   "name": "python",
   "nbconvert_exporter": "python",
   "pygments_lexer": "ipython3",
   "version": "3.9.12"
  }
 },
 "nbformat": 4,
 "nbformat_minor": 5
}
