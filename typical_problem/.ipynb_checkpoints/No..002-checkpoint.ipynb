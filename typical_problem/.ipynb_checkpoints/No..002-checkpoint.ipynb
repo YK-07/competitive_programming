{
 "cells": [
  {
   "cell_type": "code",
   "execution_count": null,
   "id": "aee29fdf",
   "metadata": {},
   "outputs": [],
   "source": [
    "numbers = [1,2,3,4] \n",
    "products = itertools.product(numbers, repeat=2)\n",
    "for product in products:\n",
    "    print(product)"
   ]
  },
  {
   "cell_type": "code",
   "execution_count": 15,
   "id": "66deef57",
   "metadata": {},
   "outputs": [
    {
     "data": {
      "text/plain": [
       "<itertools.combinations at 0x287283bdcc0>"
      ]
     },
     "execution_count": 15,
     "metadata": {},
     "output_type": "execute_result"
    }
   ],
   "source": [
    "itertools.combinations('()()',4)"
   ]
  },
  {
   "cell_type": "code",
   "execution_count": 42,
   "id": "d739c991",
   "metadata": {},
   "outputs": [
    {
     "name": "stdout",
     "output_type": "stream",
     "text": [
      "8\n",
      "()()()()\n"
     ]
    }
   ],
   "source": [
    "n=int(input())\n",
    "par='()'*(n//2)\n",
    "print(par)"
   ]
  },
  {
   "cell_type": "code",
   "execution_count": 72,
   "id": "32d71a4e",
   "metadata": {},
   "outputs": [
    {
     "name": "stdout",
     "output_type": "stream",
     "text": [
      "6\n",
      "((()))\n",
      "(()())\n",
      "(())()\n",
      "()(())\n",
      "()()()\n"
     ]
    }
   ],
   "source": [
    "# TLE\n",
    "n=int(input())\n",
    "import itertools\n",
    "import sys\n",
    "\n",
    "if n%2==1:\n",
    "    sys.exit()\n",
    "\n",
    "par='()'*(n//2)\n",
    "pairs=itertools.product(par,repeat=n)\n",
    "com='('\n",
    "com_list=[]\n",
    "for pair in pairs:\n",
    "    out=0\n",
    "    if pair.count('(')==pair.count(')'):\n",
    "        pair = ''.join(pair)\n",
    "        if com!=pair and pair not in com_list:\n",
    "            out=0\n",
    "            for i in range(n):\n",
    "                if pair[i]=='(':\n",
    "                    out+=1\n",
    "                else:\n",
    "                    out-=1\n",
    "                    if out<0:\n",
    "                        break\n",
    "            if out>=0:\n",
    "                print(pair)\n",
    "                com=pair\n",
    "                com_list.append(pair)\n",
    "        else:\n",
    "            pass"
   ]
  },
  {
   "cell_type": "code",
   "execution_count": 82,
   "id": "4b657697",
   "metadata": {},
   "outputs": [
    {
     "name": "stdout",
     "output_type": "stream",
     "text": [
      "6\n",
      "((()))\n",
      "(()())\n",
      "(())()\n",
      "()(())\n",
      "()()()\n"
     ]
    }
   ],
   "source": [
    "# TLE\n",
    "n=int(input())\n",
    "import itertools\n",
    "import sys\n",
    "\n",
    "if n%2==1:\n",
    "    sys.exit()\n",
    "\n",
    "pairs=itertools.product('()',repeat=n)\n",
    "com='('\n",
    "com_list=[]\n",
    "for pair in pairs:\n",
    "    cnt=0\n",
    "        \n",
    "    if com!=pair and pair not in com_list:\n",
    "        out=0\n",
    "        for i in range(n):\n",
    "            if pair[i]=='(':\n",
    "                cnt+=1\n",
    "            else:\n",
    "                cnt-=1\n",
    "                if cnt<0:\n",
    "                    break\n",
    "        if cnt==0:\n",
    "            com=pair\n",
    "            com_list.append(pair)\n",
    "            pair = ''.join(pair)\n",
    "            print(pair)\n",
    "    else:\n",
    "        pass"
   ]
  },
  {
   "cell_type": "code",
   "execution_count": 83,
   "id": "0a7b68a3",
   "metadata": {},
   "outputs": [
    {
     "name": "stdout",
     "output_type": "stream",
     "text": [
      "6\n",
      "((()))\n",
      "(()())\n",
      "(())()\n",
      "()(())\n",
      "()()()\n"
     ]
    }
   ],
   "source": [
    "# AC\n",
    "n=int(input())\n",
    "import itertools\n",
    "import sys\n",
    "\n",
    "if n%2==1:\n",
    "    sys.exit()\n",
    "\n",
    "pairs=itertools.product('()',repeat=n)\n",
    "for pair in pairs:\n",
    "    cnt=0\n",
    "        \n",
    "    for i in range(n):\n",
    "        if pair[i]=='(':\n",
    "            cnt+=1\n",
    "        else:\n",
    "            cnt-=1\n",
    "            if cnt<0:\n",
    "                break\n",
    "    if cnt==0:\n",
    "        pair = ''.join(pair)\n",
    "        print(pair)\n",
    "    else:\n",
    "        pass"
   ]
  },
  {
   "cell_type": "code",
   "execution_count": 73,
   "id": "97670a4e",
   "metadata": {},
   "outputs": [
    {
     "name": "stdout",
     "output_type": "stream",
     "text": [
      "6\n",
      "((()))\n",
      "(()())\n",
      "(())()\n",
      "()(())\n",
      "()()()\n"
     ]
    }
   ],
   "source": [
    "import itertools\n",
    "n = int(input())\n",
    " \n",
    "for S in itertools.product(['(',')'], repeat=n):\n",
    "    cnt = 0\n",
    "    for s in S:\n",
    "        if s =='(':\n",
    "            cnt+=1\n",
    "        else:\n",
    "            cnt-=1\n",
    "        if cnt < 0:\n",
    "            break\n",
    "    if cnt ==0:\n",
    "        print(*S,sep='')"
   ]
  },
  {
   "cell_type": "code",
   "execution_count": null,
   "id": "960d7855",
   "metadata": {},
   "outputs": [],
   "source": [
    "import sys\n",
    " \n",
    "n=int(input())\n",
    "if n%2:\n",
    "    sys.exit()\n",
    "\n",
    "def dfs(l,r,s):\n",
    "    if(len(s)==n):\n",
    "        print(\"\".join(s))\n",
    "        return\n",
    "    \n",
    "    if(l<n/2):\n",
    "        s.append('(')\n",
    "        dfs(l+1,r,s)\n",
    "        s.pop()\n",
    "    \n",
    "    if(r<l):\n",
    "        s.append(')')\n",
    "        dfs(l,r+1,s)\n",
    "        s.pop()\n",
    "\n",
    "dfs(0,0,[])"
   ]
  },
  {
   "cell_type": "code",
   "execution_count": null,
   "id": "9c446a63",
   "metadata": {},
   "outputs": [],
   "source": [
    "N = int(input())\n",
    " \n",
    "if N % 2:\n",
    "    exit()\n",
    "\n",
    "flag1 = '('\n",
    "flag2 = ')'\n",
    " \n",
    "def rec(flag, count, N):\n",
    "    if count < 0:\n",
    "        return\n",
    "    if not N:\n",
    "        if not count:\n",
    "            print(flag)\n",
    "        return\n",
    "    rec(flag+flag1, count+1, N-1)\n",
    "    rec(flag+flag2, count-1, N-1)\n",
    "\n",
    "rec(\"\", 0, N)"
   ]
  },
  {
   "cell_type": "code",
   "execution_count": null,
   "id": "82fcf443",
   "metadata": {},
   "outputs": [],
   "source": []
  },
  {
   "cell_type": "code",
   "execution_count": null,
   "id": "20f81a0d",
   "metadata": {},
   "outputs": [],
   "source": [
    "# paiza"
   ]
  },
  {
   "cell_type": "code",
   "execution_count": 7,
   "id": "07222f67",
   "metadata": {},
   "outputs": [],
   "source": [
    "C=[1,2,3,4,5]"
   ]
  },
  {
   "cell_type": "code",
   "execution_count": 8,
   "id": "4e78fdf3",
   "metadata": {},
   "outputs": [
    {
     "name": "stdout",
     "output_type": "stream",
     "text": [
      "1\n",
      "2\n",
      "3\n",
      "4\n",
      "5\n"
     ]
    }
   ],
   "source": [
    "for i in C:\n",
    "    print(i)"
   ]
  },
  {
   "cell_type": "code",
   "execution_count": 11,
   "id": "b1eaf9a9",
   "metadata": {},
   "outputs": [
    {
     "name": "stdout",
     "output_type": "stream",
     "text": [
      "4 6\n",
      "4\n",
      "2\n",
      "4\n",
      "2\n",
      "9\n",
      "3\n",
      "5\n",
      "7\n",
      "1\n",
      "3\n",
      "10\n",
      "5\n",
      "7\n",
      "6\n"
     ]
    }
   ],
   "source": [
    "N,M=map(int,input().split())\n",
    "A=list(int(input()) for _ in range(N))\n",
    "B=list(int(input()) for _ in range(M))\n",
    "C=[0 for _ in range(N)]\n",
    "cnt_A=0\n",
    "for i in range(M):\n",
    "    if cnt_A==N:\n",
    "        cnt_A=0\n",
    "    cnt_B=B[i]\n",
    "    if cnt_B <= A[cnt_A]:\n",
    "        C[cnt_A]+=cnt_B\n",
    "        cnt_A+=1\n",
    "    else:\n",
    "        while cnt_B>0:\n",
    "            if cnt_A==N:\n",
    "                cnt_A=0\n",
    "            \n",
    "            if cnt_B > A[cnt_A]:\n",
    "                C[cnt_A]+=A[cnt_A]\n",
    "                cnt_B-=A[cnt_A]\n",
    "                cnt_A+=1\n",
    "            \n",
    "            else:#cnt_B <= A[cnt_A]\n",
    "                C[cnt_A]+=cnt_B\n",
    "                cnt_B=0\n",
    "                cnt_A+=1\n",
    "\n",
    "for l in C:\n",
    "    print(l)"
   ]
  },
  {
   "cell_type": "code",
   "execution_count": null,
   "id": "e99fe941",
   "metadata": {},
   "outputs": [],
   "source": []
  },
  {
   "cell_type": "code",
   "execution_count": null,
   "id": "5fcc740e",
   "metadata": {},
   "outputs": [],
   "source": []
  },
  {
   "cell_type": "code",
   "execution_count": null,
   "id": "c18be4fb",
   "metadata": {},
   "outputs": [],
   "source": []
  },
  {
   "cell_type": "code",
   "execution_count": null,
   "id": "7f1619fd",
   "metadata": {},
   "outputs": [],
   "source": []
  },
  {
   "cell_type": "code",
   "execution_count": null,
   "id": "74cf654a",
   "metadata": {},
   "outputs": [],
   "source": []
  },
  {
   "cell_type": "code",
   "execution_count": null,
   "id": "c555dbba",
   "metadata": {},
   "outputs": [],
   "source": []
  },
  {
   "cell_type": "code",
   "execution_count": null,
   "id": "44e3a07f",
   "metadata": {},
   "outputs": [],
   "source": []
  },
  {
   "cell_type": "code",
   "execution_count": null,
   "id": "c7ee07d0",
   "metadata": {},
   "outputs": [],
   "source": []
  },
  {
   "cell_type": "code",
   "execution_count": null,
   "id": "756fc2ad",
   "metadata": {},
   "outputs": [],
   "source": []
  }
 ],
 "metadata": {
  "kernelspec": {
   "display_name": "Python 3 (ipykernel)",
   "language": "python",
   "name": "python3"
  },
  "language_info": {
   "codemirror_mode": {
    "name": "ipython",
    "version": 3
   },
   "file_extension": ".py",
   "mimetype": "text/x-python",
   "name": "python",
   "nbconvert_exporter": "python",
   "pygments_lexer": "ipython3",
   "version": "3.9.12"
  }
 },
 "nbformat": 4,
 "nbformat_minor": 5
}
