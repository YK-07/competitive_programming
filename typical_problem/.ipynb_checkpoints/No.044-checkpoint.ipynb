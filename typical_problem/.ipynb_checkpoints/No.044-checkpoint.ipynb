{
 "cells": [
  {
   "cell_type": "code",
   "execution_count": 60,
   "id": "ea8d69e7",
   "metadata": {},
   "outputs": [
    {
     "name": "stdout",
     "output_type": "stream",
     "text": [
      "8 5\n",
      "6 17 2 4 17 19 1 7\n",
      "2 0 0\n",
      "1 7 2\n",
      "1 2 6\n",
      "1 4 5\n",
      "3 4 0\n",
      "4\n"
     ]
    }
   ],
   "source": [
    "n,q=map(int,input().split())\n",
    "a=list(map(int,input().split()))\n",
    "shift=0\n",
    "for i in range(q):\n",
    "    t,x,y=map(int,input().split())\n",
    "    x,y=x-1-shift,y-1-shift\n",
    "    if x<0:\n",
    "        x=n-abs(x)\n",
    "    if y<0:\n",
    "        y=n-abs(y)\n",
    "\n",
    "    if t==1:\n",
    "        a[x],a[y]=a[y],a[x]\n",
    "    elif t==2:\n",
    "        shift+=1\n",
    "    else:\n",
    "        print(a[x])"
   ]
  },
  {
   "cell_type": "code",
   "execution_count": 56,
   "id": "6ea3ce35",
   "metadata": {},
   "outputs": [
    {
     "name": "stdout",
     "output_type": "stream",
     "text": [
      "0 1\n"
     ]
    }
   ],
   "source": [
    "a=1\n",
    "b=2\n",
    "a,b=a-1,b-1\n",
    "print(a,b)"
   ]
  },
  {
   "cell_type": "code",
   "execution_count": 44,
   "id": "003098ad",
   "metadata": {
    "scrolled": false
   },
   "outputs": [
    {
     "name": "stdout",
     "output_type": "stream",
     "text": [
      "8 5\n",
      "6 17 2 4 17 19 1 7\n",
      "2 0 0\n",
      "1 7 2\n",
      "1 2 6\n",
      "1 4 5\n",
      "3 4 0\n",
      "17\n"
     ]
    }
   ],
   "source": [
    "n,q=map(int,input().split())\n",
    "a=list(map(int,input().split()))\n",
    "txy = [list(map(int, input().split())) for _ in range(q)]\n",
    "shift=0\n",
    "for i in range(q):\n",
    "    if txy[i][0]==1:\n",
    "        a[txy[i][1]-1],a[txy[i][2]-1]=a[txy[i][2]-1],a[txy[i][1]-1]\n",
    "    elif txy[i][0]==2:\n",
    "        a[0]=a[-1]\n",
    "        a.pop()\n",
    "    else:\n",
    "        print(a[txy[i][1]-1])"
   ]
  },
  {
   "cell_type": "code",
   "execution_count": 45,
   "id": "eee90256",
   "metadata": {},
   "outputs": [
    {
     "data": {
      "text/plain": [
       "[7, 19, 2, 17, 4, 1, 17]"
      ]
     },
     "execution_count": 45,
     "metadata": {},
     "output_type": "execute_result"
    }
   ],
   "source": [
    "a"
   ]
  },
  {
   "cell_type": "code",
   "execution_count": 52,
   "id": "e6f3b9c2",
   "metadata": {},
   "outputs": [],
   "source": [
    "a=[1,2,3,4,5]\n",
    "b=0"
   ]
  },
  {
   "cell_type": "code",
   "execution_count": 54,
   "id": "76e527b5",
   "metadata": {},
   "outputs": [
    {
     "name": "stdout",
     "output_type": "stream",
     "text": [
      "[5, 2, 3, 4, 5]\n",
      "[5, 2, 4, 4, 5]\n"
     ]
    }
   ],
   "source": [
    "a[0]=a[-1]\n",
    "print(a)\n",
    "b+=1\n",
    "a[0+b]=a[1+b]\n",
    "print(a)"
   ]
  },
  {
   "cell_type": "code",
   "execution_count": 16,
   "id": "2700ccb1",
   "metadata": {},
   "outputs": [
    {
     "name": "stdout",
     "output_type": "stream",
     "text": [
      "[4, 1, 2, 3, 4]\n"
     ]
    }
   ],
   "source": [
    "a=[1,2,3,4]\n",
    "a.insert(0,a[-1])\n",
    "print(a)"
   ]
  },
  {
   "cell_type": "code",
   "execution_count": 17,
   "id": "1dd65e61",
   "metadata": {},
   "outputs": [
    {
     "name": "stdout",
     "output_type": "stream",
     "text": [
      "[4, 1, 2, 3]\n"
     ]
    }
   ],
   "source": [
    "a.pop()\n",
    "print(a)"
   ]
  },
  {
   "cell_type": "code",
   "execution_count": 18,
   "id": "cb4e67d0",
   "metadata": {},
   "outputs": [],
   "source": [
    "i=0\n",
    "txy=[[1,1,3],[2,1,3]]\n",
    "a[txy[i][1]],a[txy[i][2]]=a[txy[i][2]],a[txy[i][1]]"
   ]
  },
  {
   "cell_type": "code",
   "execution_count": 19,
   "id": "dfaab626",
   "metadata": {},
   "outputs": [
    {
     "name": "stdout",
     "output_type": "stream",
     "text": [
      "[4, 3, 2, 1]\n"
     ]
    }
   ],
   "source": [
    "print(a)"
   ]
  },
  {
   "cell_type": "code",
   "execution_count": 38,
   "id": "da659dba",
   "metadata": {},
   "outputs": [
    {
     "name": "stdout",
     "output_type": "stream",
     "text": [
      "1\n",
      "2\n",
      "3\n"
     ]
    }
   ],
   "source": [
    "a=set()\n",
    "for i in range(3):\n",
    "    a.add(int(input()))"
   ]
  },
  {
   "cell_type": "code",
   "execution_count": 39,
   "id": "3fb96568",
   "metadata": {},
   "outputs": [
    {
     "name": "stdout",
     "output_type": "stream",
     "text": [
      "{1, 2, 3}\n"
     ]
    }
   ],
   "source": [
    "print(a)"
   ]
  },
  {
   "cell_type": "code",
   "execution_count": 40,
   "id": "c028b47a",
   "metadata": {},
   "outputs": [
    {
     "ename": "SyntaxError",
     "evalue": "invalid syntax (464131590.py, line 1)",
     "output_type": "error",
     "traceback": [
      "\u001b[1;36m  Input \u001b[1;32mIn [40]\u001b[1;36m\u001b[0m\n\u001b[1;33m    a{1}\u001b[0m\n\u001b[1;37m     ^\u001b[0m\n\u001b[1;31mSyntaxError\u001b[0m\u001b[1;31m:\u001b[0m invalid syntax\n"
     ]
    }
   ],
   "source": [
    "a{1}"
   ]
  },
  {
   "cell_type": "code",
   "execution_count": null,
   "id": "1791d5b1",
   "metadata": {},
   "outputs": [],
   "source": []
  }
 ],
 "metadata": {
  "kernelspec": {
   "display_name": "Python 3 (ipykernel)",
   "language": "python",
   "name": "python3"
  },
  "language_info": {
   "codemirror_mode": {
    "name": "ipython",
    "version": 3
   },
   "file_extension": ".py",
   "mimetype": "text/x-python",
   "name": "python",
   "nbconvert_exporter": "python",
   "pygments_lexer": "ipython3",
   "version": "3.9.12"
  }
 },
 "nbformat": 4,
 "nbformat_minor": 5
}
