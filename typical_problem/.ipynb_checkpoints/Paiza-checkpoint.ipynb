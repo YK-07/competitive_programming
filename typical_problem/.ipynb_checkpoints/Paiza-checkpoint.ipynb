{
 "cells": [
  {
   "cell_type": "code",
   "execution_count": 16,
   "id": "699fdb8d",
   "metadata": {},
   "outputs": [
    {
     "name": "stdout",
     "output_type": "stream",
     "text": [
      "26\n"
     ]
    }
   ],
   "source": [
    "cnt_list=[0 for _ in range(26)]\n",
    "alpha=[['a',0],['b',0],['c',0],['d',0],['e',0],['f',0],['g',0],['h',0],\n",
    "        ['i',0],['j',0],['k',0],['l',0],['m',0],['n',0],['o',0],['p',0],\n",
    "        ['q',0],['r',0],['s',0],['t',0],['u',0],['v',0],['w',0],['x',0],['y',0],['z',0]]\n",
    "print(len(alpha))"
   ]
  },
  {
   "cell_type": "code",
   "execution_count": 17,
   "id": "8a134615",
   "metadata": {},
   "outputs": [
    {
     "name": "stdout",
     "output_type": "stream",
     "text": [
      "abcdefg10h12(ij2(3k))l9mnop4(3(2(6(qq)r)s5tu)7v5w)x15(yz)\n"
     ]
    }
   ],
   "source": [
    "s=input()\n",
    "s_len=len(s)\n",
    "alpha=[['a',0],['b',0],['c',0],['d',0],['e',0],['f',0],['g',0],['h',0],\n",
    "        ['i',0],['j',0],['k',0],['l',0],['m',0],['n',0],['o',0],['p',0],\n",
    "        ['q',0],['r',0],['s',0],['t',0],['u',0],['v',0],['w',0],['x',0],['y',0],['z',0]]\n"
   ]
  },
  {
   "cell_type": "code",
   "execution_count": null,
   "id": "e1a2a546",
   "metadata": {},
   "outputs": [],
   "source": [
    "cnt_left=0\n",
    "cnt_right=0"
   ]
  },
  {
   "cell_type": "code",
   "execution_count": null,
   "id": "29400813",
   "metadata": {},
   "outputs": [],
   "source": [
    "for i in range(s_len):\n",
    "    if s[i]=="
   ]
  },
  {
   "cell_type": "code",
   "execution_count": 4,
   "id": "27a536d9",
   "metadata": {},
   "outputs": [],
   "source": [
    "s='abc12'\n",
    "num='0123456789'"
   ]
  },
  {
   "cell_type": "code",
   "execution_count": 5,
   "id": "aaf0d757",
   "metadata": {},
   "outputs": [
    {
     "name": "stdout",
     "output_type": "stream",
     "text": [
      "str\n",
      "str\n",
      "str\n",
      "int\n",
      "int\n"
     ]
    }
   ],
   "source": [
    "for i in range(5):\n",
    "    if s[i] in num:\n",
    "        print('int')\n",
    "    else:\n",
    "        print('str')"
   ]
  },
  {
   "cell_type": "code",
   "execution_count": null,
   "id": "a09c6f42",
   "metadata": {},
   "outputs": [],
   "source": []
  },
  {
   "cell_type": "code",
   "execution_count": null,
   "id": "ed7cafe7",
   "metadata": {},
   "outputs": [],
   "source": []
  },
  {
   "cell_type": "code",
   "execution_count": null,
   "id": "9b9fc1cc",
   "metadata": {},
   "outputs": [],
   "source": []
  }
 ],
 "metadata": {
  "kernelspec": {
   "display_name": "Python 3 (ipykernel)",
   "language": "python",
   "name": "python3"
  },
  "language_info": {
   "codemirror_mode": {
    "name": "ipython",
    "version": 3
   },
   "file_extension": ".py",
   "mimetype": "text/x-python",
   "name": "python",
   "nbconvert_exporter": "python",
   "pygments_lexer": "ipython3",
   "version": "3.9.12"
  }
 },
 "nbformat": 4,
 "nbformat_minor": 5
}
