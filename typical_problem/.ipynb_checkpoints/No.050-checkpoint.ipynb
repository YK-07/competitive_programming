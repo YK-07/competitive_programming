{
 "cells": [
  {
   "cell_type": "code",
   "execution_count": 24,
   "id": "11d2fc99",
   "metadata": {},
   "outputs": [
    {
     "name": "stdout",
     "output_type": "stream",
     "text": [
      "6783 125\n",
      "365547385\n"
     ]
    }
   ],
   "source": [
    "n,l=map(int,input().split())\n",
    "count=1\n",
    "import math\n",
    "for i in range(n):\n",
    "    if (n-i)%l==0:\n",
    "        if i==0:\n",
    "            count+=1\n",
    "        else:\n",
    "            l_num=(n-i)//l\n",
    "            count_tem=math.factorial(l_num+i)/(math.factorial(l_num)*math.factorial(i))\n",
    "            count+=count_tem\n",
    "    else:\n",
    "        pass\n",
    "ans=count%(10**9+7)\n",
    "print(int(ans))"
   ]
  },
  {
   "cell_type": "code",
   "execution_count": null,
   "id": "074a9428",
   "metadata": {},
   "outputs": [],
   "source": [
    "modu=1000000007\n",
    "n,l=list(map(int, input().split()))\n",
    " \n",
    "dp=[0]*(n+1)\n",
    "dp[0]= 1\n",
    " \n",
    "for i in range(n):\n",
    "    dp[i+1]+=dp[i]\n",
    "    if i+l <= n:\n",
    "        dp[i+l]+=dp[i]\n",
    "\n",
    "print(dp[n]%modu)"
   ]
  },
  {
   "cell_type": "code",
   "execution_count": 25,
   "id": "9f4a77b0",
   "metadata": {},
   "outputs": [],
   "source": [
    "dp=[0]*3"
   ]
  },
  {
   "cell_type": "code",
   "execution_count": 27,
   "id": "f5262afd",
   "metadata": {},
   "outputs": [],
   "source": [
    "dp[0]=1"
   ]
  },
  {
   "cell_type": "code",
   "execution_count": 28,
   "id": "dec6acd3",
   "metadata": {},
   "outputs": [
    {
     "data": {
      "text/plain": [
       "[1, 0, 0]"
      ]
     },
     "execution_count": 28,
     "metadata": {},
     "output_type": "execute_result"
    }
   ],
   "source": [
    "dp"
   ]
  },
  {
   "cell_type": "code",
   "execution_count": null,
   "id": "fe3e6205",
   "metadata": {},
   "outputs": [],
   "source": []
  },
  {
   "cell_type": "code",
   "execution_count": null,
   "id": "ac85d0fd",
   "metadata": {},
   "outputs": [],
   "source": []
  },
  {
   "cell_type": "code",
   "execution_count": null,
   "id": "b10a4226",
   "metadata": {},
   "outputs": [],
   "source": []
  }
 ],
 "metadata": {
  "kernelspec": {
   "display_name": "Python 3 (ipykernel)",
   "language": "python",
   "name": "python3"
  },
  "language_info": {
   "codemirror_mode": {
    "name": "ipython",
    "version": 3
   },
   "file_extension": ".py",
   "mimetype": "text/x-python",
   "name": "python",
   "nbconvert_exporter": "python",
   "pygments_lexer": "ipython3",
   "version": "3.9.12"
  }
 },
 "nbformat": 4,
 "nbformat_minor": 5
}
