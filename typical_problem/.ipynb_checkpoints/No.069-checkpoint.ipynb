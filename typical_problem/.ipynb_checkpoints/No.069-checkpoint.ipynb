{
 "cells": [
  {
   "cell_type": "code",
   "execution_count": null,
   "id": "663874e3",
   "metadata": {},
   "outputs": [],
   "source": [
    "#AC   累乗計算で余りを扱う場合は ** よりも pow が圧倒的に早い\n",
    "N, K = map(int, input().split())\n",
    "MOD = 10 ** 9 + 7\n",
    "if N == 1:\n",
    "    print(K)\n",
    "else:\n",
    "    x = K * (K - 1) * pow(K - 2, N - 2, MOD)\n",
    "    print(x % MOD)"
   ]
  },
  {
   "cell_type": "code",
   "execution_count": 9,
   "id": "62a835c0",
   "metadata": {},
   "outputs": [],
   "source": [
    "a=23145145"
   ]
  },
  {
   "cell_type": "code",
   "execution_count": 10,
   "id": "b5e0b1e4",
   "metadata": {},
   "outputs": [
    {
     "data": {
      "text/plain": [
       "22985065"
      ]
     },
     "execution_count": 10,
     "metadata": {},
     "output_type": "execute_result"
    }
   ],
   "source": [
    "(10*9*8**12)%a"
   ]
  },
  {
   "cell_type": "code",
   "execution_count": 11,
   "id": "7fd8c17f",
   "metadata": {
    "scrolled": true
   },
   "outputs": [
    {
     "data": {
      "text/plain": [
       "22985065"
      ]
     },
     "execution_count": 11,
     "metadata": {},
     "output_type": "execute_result"
    }
   ],
   "source": [
    "(10*9*(8**12%a))%a"
   ]
  },
  {
   "cell_type": "code",
   "execution_count": 13,
   "id": "9a366483",
   "metadata": {},
   "outputs": [
    {
     "data": {
      "text/plain": [
       "68719476736"
      ]
     },
     "execution_count": 13,
     "metadata": {},
     "output_type": "execute_result"
    }
   ],
   "source": [
    "8**12"
   ]
  },
  {
   "cell_type": "code",
   "execution_count": 19,
   "id": "76475b7a",
   "metadata": {},
   "outputs": [
    {
     "data": {
      "text/plain": [
       "1541231"
      ]
     },
     "execution_count": 19,
     "metadata": {},
     "output_type": "execute_result"
    }
   ],
   "source": [
    "8**12%a"
   ]
  },
  {
   "cell_type": "code",
   "execution_count": 20,
   "id": "b9fa6baa",
   "metadata": {},
   "outputs": [
    {
     "data": {
      "text/plain": [
       "68719476736"
      ]
     },
     "execution_count": 20,
     "metadata": {},
     "output_type": "execute_result"
    }
   ],
   "source": [
    "1541231+(a*2969)"
   ]
  },
  {
   "cell_type": "code",
   "execution_count": null,
   "id": "a6b25f68",
   "metadata": {},
   "outputs": [],
   "source": [
    "ans_tem=K*(K-1)*(K-2)**(N-2)\n",
    "print(ans_tem%mod)"
   ]
  },
  {
   "cell_type": "code",
   "execution_count": null,
   "id": "6a88a6af",
   "metadata": {},
   "outputs": [],
   "source": [
    "N,K=map(int,input().split())\n",
    "mod=10**9+7\n",
    "if K==1:\n",
    "    if N==1:\n",
    "        print(K)\n",
    "    else:\n",
    "        print(0)\n",
    "elif K==2:\n",
    "    if N==1 or N==2:\n",
    "        print(K)\n",
    "    else:\n",
    "        print(0)\n",
    "\n",
    "elif N==1:\n",
    "    print(K)\n",
    "elif N==2:\n",
    "    print(K*(K-1))\n",
    "elif N==3:\n",
    "    print(K*(K-1)*(K-2))\n",
    "else:\n",
    "    ans_tem=K*(K-1)*pow(K-2,N-2,mod)\n",
    "    print(ans_tem%mod)"
   ]
  },
  {
   "cell_type": "code",
   "execution_count": 27,
   "id": "9f6ec467",
   "metadata": {},
   "outputs": [
    {
     "name": "stdout",
     "output_type": "stream",
     "text": [
      "2021 617\n",
      "53731843\n"
     ]
    }
   ],
   "source": [
    "N,K=map(int,input().split())\n",
    "mod=10**9+7\n",
    "if K==1:\n",
    "    if N==1:\n",
    "        print(K)\n",
    "    else:\n",
    "        print(0)\n",
    "elif K==2:\n",
    "    if N==1 or N==2:\n",
    "        print(K)\n",
    "    else:\n",
    "        print(0)\n",
    "\n",
    "elif N==1:\n",
    "    print(K)\n",
    "elif N==2:\n",
    "    print(K*(K-1))\n",
    "elif N==3:\n",
    "    print(K*(K-1)*(K-2))\n",
    "else:\n",
    "    K_rais=[]\n",
    "    K_rais.append(K)\n",
    "    K_rais_num=1\n",
    "    K_rais_len=1\n",
    "    \n",
    "    while K_rais_num<(N-2):    \n",
    "        K_rais.append(K**(K_rais_num*2))\n",
    "        K_rais_num*=2\n",
    "        K_rais_len+=1\n",
    "    N_tem=N-2\n",
    "    for i in range(K_rais_len):\n",
    "        N_tem%=K_rais[-(i+1)]\n",
    "        K_rais_len-=1"
   ]
  },
  {
   "cell_type": "code",
   "execution_count": null,
   "id": "af702e38",
   "metadata": {},
   "outputs": [],
   "source": [
    "N=2021   K=617   ans=53731843"
   ]
  },
  {
   "cell_type": "code",
   "execution_count": 26,
   "id": "81cfbc16",
   "metadata": {},
   "outputs": [
    {
     "name": "stdout",
     "output_type": "stream",
     "text": [
      "53731843\n",
      "8\n"
     ]
    }
   ],
   "source": [
    "mod=10**9+7\n",
    "ans=617*616*615**2019%mod\n",
    "print(ans)\n",
    "print(len(str(ans)))"
   ]
  },
  {
   "cell_type": "code",
   "execution_count": 12,
   "id": "8a6fe202",
   "metadata": {},
   "outputs": [
    {
     "data": {
      "text/plain": [
       "8"
      ]
     },
     "execution_count": 12,
     "metadata": {},
     "output_type": "execute_result"
    }
   ],
   "source": [
    "len(str(53731843))"
   ]
  },
  {
   "cell_type": "code",
   "execution_count": 37,
   "id": "001b7676",
   "metadata": {},
   "outputs": [],
   "source": [
    "N=5\n",
    "K=5\n",
    "K_rais=[]\n",
    "for i in range(N):\n",
    "    if i==0:\n",
    "        K_rais.append(K)\n",
    "    else:    \n",
    "        K_rais.append(K**(i*2))\n",
    "    "
   ]
  },
  {
   "cell_type": "code",
   "execution_count": 38,
   "id": "285081b8",
   "metadata": {},
   "outputs": [
    {
     "data": {
      "text/plain": [
       "[5, 25, 625, 15625, 390625]"
      ]
     },
     "execution_count": 38,
     "metadata": {},
     "output_type": "execute_result"
    }
   ],
   "source": [
    "K_rais"
   ]
  },
  {
   "cell_type": "code",
   "execution_count": 39,
   "id": "e760717f",
   "metadata": {},
   "outputs": [
    {
     "name": "stdout",
     "output_type": "stream",
     "text": [
      "150\n"
     ]
    }
   ],
   "source": [
    "A=0\n",
    "while True:\n",
    "    A+=5\n",
    "    if A==50:\n",
    "        break\n",
    "print(A*3)"
   ]
  },
  {
   "cell_type": "code",
   "execution_count": 44,
   "id": "42c1eca4",
   "metadata": {},
   "outputs": [
    {
     "name": "stdout",
     "output_type": "stream",
     "text": [
      "180\n"
     ]
    }
   ],
   "source": [
    "A=60\n",
    "A*=3\n",
    "print(A)"
   ]
  },
  {
   "cell_type": "code",
   "execution_count": 48,
   "id": "b88b78d6",
   "metadata": {},
   "outputs": [
    {
     "name": "stdout",
     "output_type": "stream",
     "text": [
      "1\n"
     ]
    }
   ],
   "source": [
    "X=[1,2,3,4,5]\n",
    "print(X[-0])"
   ]
  },
  {
   "cell_type": "code",
   "execution_count": null,
   "id": "2cdb2897",
   "metadata": {},
   "outputs": [],
   "source": []
  },
  {
   "cell_type": "code",
   "execution_count": null,
   "id": "ebc891bc",
   "metadata": {},
   "outputs": [],
   "source": []
  },
  {
   "cell_type": "code",
   "execution_count": null,
   "id": "23aa5ea0",
   "metadata": {},
   "outputs": [],
   "source": []
  }
 ],
 "metadata": {
  "kernelspec": {
   "display_name": "Python 3 (ipykernel)",
   "language": "python",
   "name": "python3"
  },
  "language_info": {
   "codemirror_mode": {
    "name": "ipython",
    "version": 3
   },
   "file_extension": ".py",
   "mimetype": "text/x-python",
   "name": "python",
   "nbconvert_exporter": "python",
   "pygments_lexer": "ipython3",
   "version": "3.9.12"
  }
 },
 "nbformat": 4,
 "nbformat_minor": 5
}
