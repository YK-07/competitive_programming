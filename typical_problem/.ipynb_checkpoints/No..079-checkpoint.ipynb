{
 "cells": [
  {
   "cell_type": "code",
   "execution_count": 3,
   "id": "fdcf66b0",
   "metadata": {},
   "outputs": [
    {
     "name": "stdout",
     "output_type": "stream",
     "text": [
      "5 5\n",
      "6 17 18 29 22\n",
      "39 50 25 39 25\n",
      "34 34 8 25 17\n",
      "28 48 25 47 42\n",
      "27 47 24 32 28\n",
      "4 6 3 29 28\n",
      "48 50 21 48 29\n",
      "44 44 19 47 28\n",
      "4 49 46 29 28\n",
      "4 49 45 1 1\n",
      "No\n"
     ]
    }
   ],
   "source": [
    "H,W=map(int,input().split())\n",
    "A_list=[list(map(int,input().split())) for _ in range(H)]\n",
    "B_list=[list(map(int,input().split())) for _ in range(H)]\n",
    "\n",
    "ans='Yes'\n",
    "cnt=0\n",
    "for i in range(H-1):\n",
    "    for j in range(W-1):\n",
    "        A=A_list[i][j]\n",
    "        B=B_list[i][j]\n",
    "        if A==B:\n",
    "            pass\n",
    "        elif A>B:\n",
    "            A_B=A-B\n",
    "            A_list[i][j]-=A_B\n",
    "            A_list[i+1][j]-=A_B\n",
    "            A_list[i][j+1]-=A_B\n",
    "            A_list[i+1][j+1]-=A_B\n",
    "            cnt+=A_B\n",
    "        else:# A<B\n",
    "            B_A=B-A\n",
    "            A_list[i][j]+=B_A\n",
    "            A_list[i+1][j]+=B_A\n",
    "            A_list[i][j+1]+=B_A\n",
    "            A_list[i+1][j+1]+=B_A\n",
    "            cnt+=B_A\n",
    "    \n",
    "    if A_list[i][W-1]!=B_list[i][W-1]:\n",
    "        ans='No'\n",
    "        break\n",
    "\n",
    "if A_list[H-1]!=B_list[H-1]:\n",
    "    ans='No'\n",
    "\n",
    "if ans=='Yes':\n",
    "    print(ans)\n",
    "    print(cnt)\n",
    "else:\n",
    "    print(ans)"
   ]
  },
  {
   "cell_type": "code",
   "execution_count": null,
   "id": "1f36f8da",
   "metadata": {},
   "outputs": [],
   "source": [
    "5 5\n",
    "6 17 18 29 22\n",
    "39 50 25 39 25\n",
    "34 34 8 25 17\n",
    "28 48 25 47 42\n",
    "27 47 24 32 28\n",
    "4 6 3 29 28\n",
    "48 50 21 48 29\n",
    "44 44 19 47 28\n",
    "4 49 46 29 28\n",
    "4 49 45 1 1"
   ]
  },
  {
   "cell_type": "code",
   "execution_count": null,
   "id": "e2105fba",
   "metadata": {},
   "outputs": [],
   "source": []
  },
  {
   "cell_type": "code",
   "execution_count": null,
   "id": "ad7eeb0b",
   "metadata": {},
   "outputs": [],
   "source": []
  },
  {
   "cell_type": "code",
   "execution_count": null,
   "id": "0e5e5650",
   "metadata": {},
   "outputs": [],
   "source": []
  },
  {
   "cell_type": "code",
   "execution_count": null,
   "id": "f973229f",
   "metadata": {},
   "outputs": [],
   "source": []
  },
  {
   "cell_type": "code",
   "execution_count": null,
   "id": "ea862769",
   "metadata": {},
   "outputs": [],
   "source": []
  },
  {
   "cell_type": "code",
   "execution_count": null,
   "id": "d1a0b02a",
   "metadata": {},
   "outputs": [],
   "source": []
  },
  {
   "cell_type": "code",
   "execution_count": null,
   "id": "e9ac24d4",
   "metadata": {},
   "outputs": [],
   "source": []
  },
  {
   "cell_type": "code",
   "execution_count": null,
   "id": "886e5c0d",
   "metadata": {},
   "outputs": [],
   "source": []
  }
 ],
 "metadata": {
  "kernelspec": {
   "display_name": "Python 3 (ipykernel)",
   "language": "python",
   "name": "python3"
  },
  "language_info": {
   "codemirror_mode": {
    "name": "ipython",
    "version": 3
   },
   "file_extension": ".py",
   "mimetype": "text/x-python",
   "name": "python",
   "nbconvert_exporter": "python",
   "pygments_lexer": "ipython3",
   "version": "3.9.12"
  }
 },
 "nbformat": 4,
 "nbformat_minor": 5
}
