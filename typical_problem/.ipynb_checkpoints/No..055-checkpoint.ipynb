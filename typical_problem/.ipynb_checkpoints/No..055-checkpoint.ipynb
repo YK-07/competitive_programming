{
 "cells": [
  {
   "cell_type": "code",
   "execution_count": null,
   "id": "ad31512d",
   "metadata": {},
   "outputs": [],
   "source": [
    "# AC\n",
    "n,P,Q=map(int,input().split())\n",
    "A=list(map(int,input().split()))\n",
    "ans=0\n",
    "for t in range(n):\n",
    "    A[t]%=P\n",
    "A.sort()\n",
    "for i in range(n - 4):\n",
    "    for j in range(i + 1, n - 3):\n",
    "        for k in range(j + 1, n - 2):\n",
    "            for l in range(k + 1, n - 1):\n",
    "                for m in range(l + 1, n):\n",
    "                    if A[i] * A[j] % P * A[k] % P * A[l] % P* A[m] % P == Q:\n",
    "                        ans += 1\n",
    "print(ans)"
   ]
  },
  {
   "cell_type": "code",
   "execution_count": null,
   "id": "13040e76",
   "metadata": {},
   "outputs": [],
   "source": [
    "# WA これは組み合わせの数が足りない\n",
    "n,P,Q=map(int,input().split())\n",
    "A=list(map(int,input().split()))\n",
    "ans=0\n",
    "for t in range(n):\n",
    "    A[t]%=P\n",
    "A.sort()\n",
    "for i in range(n - 4):\n",
    "    j=i + 1\n",
    "    k=j + 1\n",
    "    l=k + 1\n",
    "    m=l + 1\n",
    "    if A[i] * A[j] % P * A[k] % P * A[l] % P* A[m] % P == Q:\n",
    "        ans += 1\n",
    "print(ans)"
   ]
  },
  {
   "cell_type": "code",
   "execution_count": 37,
   "id": "1a6b51f0",
   "metadata": {},
   "outputs": [
    {
     "name": "stdout",
     "output_type": "stream",
     "text": [
      "10 1 0\n",
      "0 0 0 0 0 0 0 0 0 0\n",
      "25200000\n"
     ]
    }
   ],
   "source": [
    "from itertools import groupby\n",
    "from itertools import combinations\n",
    "from math import prod\n",
    "\n",
    "N,P,Q=map(int,input().split())\n",
    "A=list(map(int,input().split()))\n",
    "\n",
    "for i in range(N):\n",
    "    A[i]%=P\n",
    "A.sort()\n",
    "_overs=set(A)\n",
    "if len(_overs)<=4:\n",
    "    over_com=list(combinations(A, 5))\n",
    "else:\n",
    "    over_com=list(combinations(_overs, 5))\n",
    "\n",
    "list_over=[]\n",
    "list_qua=[]\n",
    "for k,g in groupby(A):\n",
    "    list_over.append(k)\n",
    "    list_qua.append(len(list(g)))\n",
    "ans=0\n",
    "for _over in over_com:\n",
    "    over_vol=prod(_over)\n",
    "    over_vol%=P\n",
    "    if over_vol==Q:\n",
    "        ans_tem=1\n",
    "        for j in range(5):\n",
    "            l=list_over.index(_over[j])\n",
    "            ans_tem*=list_qua[l]\n",
    "        ans+=ans_tem\n",
    "print(ans)"
   ]
  },
  {
   "cell_type": "code",
   "execution_count": 36,
   "id": "5a9b2656",
   "metadata": {},
   "outputs": [
    {
     "name": "stdout",
     "output_type": "stream",
     "text": [
      "{0}\n"
     ]
    }
   ],
   "source": [
    "print(_overs)"
   ]
  },
  {
   "cell_type": "code",
   "execution_count": 26,
   "id": "a758e7e5",
   "metadata": {},
   "outputs": [
    {
     "name": "stdout",
     "output_type": "stream",
     "text": [
      "{1, 2, 3, 4, 5, 6, 7}\n"
     ]
    }
   ],
   "source": [
    "A=[1,1,1,2,3,4,5,6,6,7,7]\n",
    "_over=set(A)\n",
    "print(_over)"
   ]
  },
  {
   "cell_type": "code",
   "execution_count": 27,
   "id": "fec29201",
   "metadata": {},
   "outputs": [
    {
     "name": "stdout",
     "output_type": "stream",
     "text": [
      "[(1, 2, 3, 4, 5), (1, 2, 3, 4, 6), (1, 2, 3, 4, 7), (1, 2, 3, 5, 6), (1, 2, 3, 5, 7), (1, 2, 3, 6, 7), (1, 2, 4, 5, 6), (1, 2, 4, 5, 7), (1, 2, 4, 6, 7), (1, 2, 5, 6, 7), (1, 3, 4, 5, 6), (1, 3, 4, 5, 7), (1, 3, 4, 6, 7), (1, 3, 5, 6, 7), (1, 4, 5, 6, 7), (2, 3, 4, 5, 6), (2, 3, 4, 5, 7), (2, 3, 4, 6, 7), (2, 3, 5, 6, 7), (2, 4, 5, 6, 7), (3, 4, 5, 6, 7)]\n"
     ]
    }
   ],
   "source": [
    "from itertools import combinations\n",
    "over_com=list(combinations(_over, 5))\n",
    "print(over_com)"
   ]
  },
  {
   "cell_type": "code",
   "execution_count": 28,
   "id": "90e42bec",
   "metadata": {},
   "outputs": [],
   "source": [
    "from math import prod"
   ]
  },
  {
   "cell_type": "code",
   "execution_count": null,
   "id": "968c12be",
   "metadata": {},
   "outputs": [],
   "source": []
  },
  {
   "cell_type": "code",
   "execution_count": null,
   "id": "5581c6d5",
   "metadata": {},
   "outputs": [],
   "source": []
  },
  {
   "cell_type": "code",
   "execution_count": null,
   "id": "a9ffa4df",
   "metadata": {},
   "outputs": [],
   "source": []
  },
  {
   "cell_type": "code",
   "execution_count": null,
   "id": "11d0aa7b",
   "metadata": {},
   "outputs": [],
   "source": []
  }
 ],
 "metadata": {
  "kernelspec": {
   "display_name": "Python 3 (ipykernel)",
   "language": "python",
   "name": "python3"
  },
  "language_info": {
   "codemirror_mode": {
    "name": "ipython",
    "version": 3
   },
   "file_extension": ".py",
   "mimetype": "text/x-python",
   "name": "python",
   "nbconvert_exporter": "python",
   "pygments_lexer": "ipython3",
   "version": "3.9.12"
  }
 },
 "nbformat": 4,
 "nbformat_minor": 5
}
