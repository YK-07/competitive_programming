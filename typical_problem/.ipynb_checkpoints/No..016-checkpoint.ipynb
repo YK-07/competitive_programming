{
 "cells": [
  {
   "cell_type": "code",
   "execution_count": 27,
   "id": "d2cb3da1",
   "metadata": {},
   "outputs": [
    {
     "name": "stdout",
     "output_type": "stream",
     "text": [
      "100000000\n",
      "10001 10002 10003\n",
      "9998\n"
     ]
    }
   ],
   "source": [
    "N=int(input())\n",
    "A,B,C=map(int,input().split())\n",
    "ans=9999\n",
    "for i in range(10000):\n",
    "    for j in range(10000-i):\n",
    "        N_tem=N\n",
    "        N_tem-=A*i+B*j\n",
    "        if N_tem<0:\n",
    "            break\n",
    "        N_tem2=N_tem\n",
    "        N_tem%=C\n",
    "        if N_tem==0:\n",
    "            k=N_tem2//C\n",
    "            if i+j+k<ans:\n",
    "                ans=i+j+k\n",
    "print(ans)   "
   ]
  },
  {
   "cell_type": "code",
   "execution_count": 22,
   "id": "76acdf82",
   "metadata": {},
   "outputs": [
    {
     "data": {
      "text/plain": [
       "2"
      ]
     },
     "execution_count": 22,
     "metadata": {},
     "output_type": "execute_result"
    }
   ],
   "source": [
    "100000000\n",
    "10001 10002 10003\n"
   ]
  },
  {
   "cell_type": "code",
   "execution_count": null,
   "id": "da48e7ed",
   "metadata": {},
   "outputs": [],
   "source": []
  },
  {
   "cell_type": "code",
   "execution_count": null,
   "id": "b292eb4d",
   "metadata": {},
   "outputs": [],
   "source": []
  },
  {
   "cell_type": "code",
   "execution_count": null,
   "id": "22323b7a",
   "metadata": {},
   "outputs": [],
   "source": []
  },
  {
   "cell_type": "code",
   "execution_count": null,
   "id": "d325d337",
   "metadata": {},
   "outputs": [],
   "source": []
  },
  {
   "cell_type": "code",
   "execution_count": null,
   "id": "24c17a19",
   "metadata": {},
   "outputs": [],
   "source": []
  }
 ],
 "metadata": {
  "kernelspec": {
   "display_name": "Python 3 (ipykernel)",
   "language": "python",
   "name": "python3"
  },
  "language_info": {
   "codemirror_mode": {
    "name": "ipython",
    "version": 3
   },
   "file_extension": ".py",
   "mimetype": "text/x-python",
   "name": "python",
   "nbconvert_exporter": "python",
   "pygments_lexer": "ipython3",
   "version": "3.9.12"
  }
 },
 "nbformat": 4,
 "nbformat_minor": 5
}
