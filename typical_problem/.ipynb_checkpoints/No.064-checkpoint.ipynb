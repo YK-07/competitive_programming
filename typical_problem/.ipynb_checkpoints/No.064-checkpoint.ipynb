{
 "cells": [
  {
   "cell_type": "code",
   "execution_count": 73,
   "id": "dd50448e",
   "metadata": {
    "scrolled": false
   },
   "outputs": [
    {
     "name": "stdout",
     "output_type": "stream",
     "text": [
      "a\n"
     ]
    },
    {
     "ename": "ValueError",
     "evalue": "invalid literal for int() with base 10: 'a'",
     "output_type": "error",
     "traceback": [
      "\u001b[1;31m---------------------------------------------------------------------------\u001b[0m",
      "\u001b[1;31mValueError\u001b[0m                                Traceback (most recent call last)",
      "Input \u001b[1;32mIn [73]\u001b[0m, in \u001b[0;36m<cell line: 2>\u001b[1;34m()\u001b[0m\n\u001b[0;32m      1\u001b[0m \u001b[38;5;66;03m#TLE\u001b[39;00m\n\u001b[1;32m----> 2\u001b[0m N,Q\u001b[38;5;241m=\u001b[39m\u001b[38;5;28mmap\u001b[39m(\u001b[38;5;28mint\u001b[39m,\u001b[38;5;28minput\u001b[39m()\u001b[38;5;241m.\u001b[39msplit())\n\u001b[0;32m      3\u001b[0m A\u001b[38;5;241m=\u001b[39m\u001b[38;5;28mlist\u001b[39m(\u001b[38;5;28mmap\u001b[39m(\u001b[38;5;28mint\u001b[39m,\u001b[38;5;28minput\u001b[39m()\u001b[38;5;241m.\u001b[39msplit()))\n\u001b[0;32m      4\u001b[0m A_dif\u001b[38;5;241m=\u001b[39m[]\n",
      "\u001b[1;31mValueError\u001b[0m: invalid literal for int() with base 10: 'a'"
     ]
    }
   ],
   "source": [
    "#TLE\n",
    "N,Q=map(int,input().split())\n",
    "A=list(map(int,input().split()))\n",
    "A_dif=[]\n",
    "\n",
    "for i in range(N-1):\n",
    "    A_dif.append(A[i+1]-A[i])\n",
    "\n",
    "ans=0\n",
    "for i in range(N-1):\n",
    "    ans+=abs(A_dif[i])\n",
    "    \n",
    "for _ in range(Q):\n",
    "    LRV=list(map(int,input().split()))\n",
    "    \n",
    "    if LRV[0]==1 and LRV[1]==N:\n",
    "        print(ans)\n",
    "    \n",
    "    elif LRV[0]==1 and LRV[1]!=N:\n",
    "        tem=A_dif[LRV[1]-2]\n",
    "        A_dif[LRV[1]-2]-=LRV[2]\n",
    "        ans+=abs(A_dif[LRV[1]-2])-abs(tem)\n",
    "        print(ans)\n",
    "    \n",
    "    elif LRV[1]==N and LRV[0]!=1:\n",
    "        tem=A_dif[LRV[0]-2]\n",
    "        A_dif[LRV[0]-2]+=LRV[2]\n",
    "        ans+=abs(A_dif[LRV[0]-2])-abs(tem)\n",
    "        print(ans)\n",
    "    \n",
    "    elif LRV[0]==LRV[1]:\n",
    "        tem=A_dif[LRV[1]-1]\n",
    "        tem1=A_dif[LRV[0]-2]\n",
    "        A_dif[LRV[1]-1]-=LRV[2]\n",
    "        A_dif[LRV[0]-2]+=LRV[2]\n",
    "        ans+=abs(A_dif[LRV[1]-1])-abs(tem)\n",
    "        ans+=abs(A_dif[LRV[0]-2])-abs(tem1)\n",
    "        print(ans)\n",
    "        \n",
    "    else:\n",
    "        tem=A_dif[LRV[1]-1]\n",
    "        tem1=A_dif[LRV[0]-2]\n",
    "        A_dif[LRV[1]-1]-=LRV[2]\n",
    "        A_dif[LRV[0]-2]+=LRV[2]\n",
    "        ans+=abs(A_dif[LRV[1]-1])-abs(tem)\n",
    "        ans+=abs(A_dif[LRV[0]-2])-abs(tem1)\n",
    "        print(ans)"
   ]
  },
  {
   "cell_type": "code",
   "execution_count": null,
   "id": "85e8d2f5",
   "metadata": {},
   "outputs": [],
   "source": [
    "20 10\n",
    "61 51 92 -100 -89 -65 -89 -64 -74 7 87 -2 51 -39 -50 63 -23 36 74 37\n",
    "2 2 -45,   6 19 82,    2 9 36,   7 13 71,   16 20 90,   18 20 -24\n",
    "14 17 -78, 10 11 -55,  7 19 -26,    20 20 -7\n",
    "\n",
    "1164,1328,1256,1350,1440,1416,1572,1482,1430,1437"
   ]
  },
  {
   "cell_type": "code",
   "execution_count": 72,
   "id": "6f895e39",
   "metadata": {},
   "outputs": [
    {
     "name": "stdout",
     "output_type": "stream",
     "text": [
      "20 10\n",
      "61 51 92 -100 -89 -65 -89 -64 -74 7 87 -2 51 -39 -50 63 -23 36 74 37\n",
      "2 2 -45\n",
      "1164\n",
      "6 19 82\n",
      "1328\n",
      "2 9 36\n",
      "1256\n",
      "7 13 71\n",
      "1350\n",
      "a\n"
     ]
    },
    {
     "ename": "ValueError",
     "evalue": "invalid literal for int() with base 10: 'a'",
     "output_type": "error",
     "traceback": [
      "\u001b[1;31m---------------------------------------------------------------------------\u001b[0m",
      "\u001b[1;31mValueError\u001b[0m                                Traceback (most recent call last)",
      "Input \u001b[1;32mIn [72]\u001b[0m, in \u001b[0;36m<cell line: 8>\u001b[1;34m()\u001b[0m\n\u001b[0;32m      6\u001b[0m     ans\u001b[38;5;241m+\u001b[39m\u001b[38;5;241m=\u001b[39m\u001b[38;5;28mabs\u001b[39m(A[i]\u001b[38;5;241m-\u001b[39mA[i\u001b[38;5;241m+\u001b[39m\u001b[38;5;241m1\u001b[39m])\n\u001b[0;32m      8\u001b[0m \u001b[38;5;28;01mfor\u001b[39;00m _ \u001b[38;5;129;01min\u001b[39;00m \u001b[38;5;28mrange\u001b[39m(Q):\n\u001b[1;32m----> 9\u001b[0m     LRV\u001b[38;5;241m=\u001b[39m\u001b[38;5;28;43mlist\u001b[39;49m\u001b[43m(\u001b[49m\u001b[38;5;28;43mmap\u001b[39;49m\u001b[43m(\u001b[49m\u001b[38;5;28;43mint\u001b[39;49m\u001b[43m,\u001b[49m\u001b[38;5;28;43minput\u001b[39;49m\u001b[43m(\u001b[49m\u001b[43m)\u001b[49m\u001b[38;5;241;43m.\u001b[39;49m\u001b[43msplit\u001b[49m\u001b[43m(\u001b[49m\u001b[43m)\u001b[49m\u001b[43m)\u001b[49m\u001b[43m)\u001b[49m\n\u001b[0;32m     10\u001b[0m     tem_bef\u001b[38;5;241m=\u001b[39mA[LRV[\u001b[38;5;241m0\u001b[39m]\u001b[38;5;241m-\u001b[39m\u001b[38;5;241m1\u001b[39m]\n\u001b[0;32m     11\u001b[0m     tem_aft\u001b[38;5;241m=\u001b[39mA[LRV[\u001b[38;5;241m1\u001b[39m]\u001b[38;5;241m-\u001b[39m\u001b[38;5;241m1\u001b[39m]\n",
      "\u001b[1;31mValueError\u001b[0m: invalid literal for int() with base 10: 'a'"
     ]
    }
   ],
   "source": [
    "#TLE\n",
    "N,Q=map(int,input().split())\n",
    "A=list(map(int,input().split()))\n",
    "ans=0\n",
    "for i in range(N-1):\n",
    "    ans+=abs(A[i]-A[i+1])\n",
    "    \n",
    "for _ in range(Q):\n",
    "    LRV=list(map(int,input().split()))\n",
    "    tem_bef=A[LRV[0]-1]\n",
    "    tem_aft=A[LRV[1]-1]\n",
    "    for i in range(LRV[1]-LRV[0]+1):\n",
    "        A[LRV[0]-1+i]+=LRV[2]\n",
    "    \n",
    "    if LRV[0]==1 and LRV[1]!=N:\n",
    "        ans+=abs(A[LRV[1]-1]-A[LRV[1]])-abs(tem_aft-A[LRV[1]])\n",
    "    \n",
    "    elif LRV[1]==N and LRV[0]!=1:\n",
    "        ans+=abs(A[LRV[0]-2]-A[LRV[0]-1])-abs(A[LRV[0]-2]-tem_bef)\n",
    "        \n",
    "    elif LRV[0]==1 and LRV[1]==N:\n",
    "        pass\n",
    "        \n",
    "    else:\n",
    "        ans+=abs(A[LRV[1]-1]-A[LRV[1]])-abs(tem_aft-A[LRV[1]]) #変化の最後\n",
    "        ans+=abs(A[LRV[0]-2]-A[LRV[0]-1])-abs(A[LRV[0]-2]-tem_bef)#　変化の最前\n",
    "    \n",
    "    print(ans)"
   ]
  },
  {
   "cell_type": "code",
   "execution_count": null,
   "id": "091b3c72",
   "metadata": {},
   "outputs": [],
   "source": [
    "N,Q=map(int,input().split())\n",
    "A=list(map(int,input().split()))\n",
    "Fluctuation=[list(map(int,input().split())) for _ in range(Q)]\n",
    "diff=[0]*(N-1)\n",
    "for i in range(N-1):\n",
    "    diff[i]=A[i+1]-A[i]\n",
    "ans=sum([abs(x) for x in diff])\n",
    "for l,r,v in Fluctuation:\n",
    "    l-=1\n",
    "    r-=1\n",
    "    if l!=0:\n",
    "        ans+=abs(diff[l-1]+v)-abs(diff[l-1])\n",
    "        diff[l-1]+=v\n",
    "    if r!=N-1:\n",
    "        ans+=abs(diff[r]-v)-abs(diff[r])\n",
    "        diff[r]-=v\n",
    "    print(ans)"
   ]
  },
  {
   "cell_type": "code",
   "execution_count": null,
   "id": "026524bb",
   "metadata": {},
   "outputs": [],
   "source": []
  },
  {
   "cell_type": "code",
   "execution_count": null,
   "id": "6e467592",
   "metadata": {},
   "outputs": [],
   "source": []
  }
 ],
 "metadata": {
  "kernelspec": {
   "display_name": "Python 3 (ipykernel)",
   "language": "python",
   "name": "python3"
  },
  "language_info": {
   "codemirror_mode": {
    "name": "ipython",
    "version": 3
   },
   "file_extension": ".py",
   "mimetype": "text/x-python",
   "name": "python",
   "nbconvert_exporter": "python",
   "pygments_lexer": "ipython3",
   "version": "3.9.12"
  }
 },
 "nbformat": 4,
 "nbformat_minor": 5
}
