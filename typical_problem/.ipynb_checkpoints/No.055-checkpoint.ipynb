{
 "cells": [
  {
   "cell_type": "code",
   "execution_count": 4,
   "id": "345f6dab",
   "metadata": {},
   "outputs": [
    {
     "name": "stdout",
     "output_type": "stream",
     "text": [
      "10 1 0\n",
      "0 0 0 0 0 0 0 0 0 0\n",
      "252\n"
     ]
    }
   ],
   "source": [
    "# TLE \n",
    "N,P,Q=map(int,input().split())\n",
    "A=list(map(int,input().split()))\n",
    "import itertools\n",
    "import math\n",
    "count=0\n",
    "com_lists = list(itertools.combinations(A, 5))\n",
    "for com_list in com_lists:\n",
    "    mul=math.prod(com_list)\n",
    "    if mul%P==Q:\n",
    "        count+=1\n",
    "print(count)"
   ]
  },
  {
   "cell_type": "code",
   "execution_count": null,
   "id": "87d83db8",
   "metadata": {},
   "outputs": [],
   "source": [
    "n,P,Q=map(int,input().split())\n",
    "A=list(map(int,input().split()))\n",
    "ans=0\n",
    "for i in range(n - 4):\n",
    "    for j in range(i + 1, n - 3):\n",
    "        for k in range(j + 1, n - 2):\n",
    "            for l in range(k + 1, n - 1):\n",
    "                for m in range(l + 1, n):\n",
    "                    if A[i] * A[j] % P * A[k] % P * A[l] % P* A[m] % P == Q:\n",
    "                        ans += 1\n",
    "print(ans)"
   ]
  },
  {
   "cell_type": "code",
   "execution_count": null,
   "id": "3466a892",
   "metadata": {},
   "outputs": [],
   "source": []
  },
  {
   "cell_type": "code",
   "execution_count": null,
   "id": "c3053487",
   "metadata": {},
   "outputs": [],
   "source": []
  },
  {
   "cell_type": "code",
   "execution_count": null,
   "id": "dda7374a",
   "metadata": {},
   "outputs": [],
   "source": []
  },
  {
   "cell_type": "code",
   "execution_count": null,
   "id": "8ab9461e",
   "metadata": {},
   "outputs": [],
   "source": []
  },
  {
   "cell_type": "code",
   "execution_count": null,
   "id": "22395d77",
   "metadata": {},
   "outputs": [],
   "source": []
  }
 ],
 "metadata": {
  "kernelspec": {
   "display_name": "Python 3 (ipykernel)",
   "language": "python",
   "name": "python3"
  },
  "language_info": {
   "codemirror_mode": {
    "name": "ipython",
    "version": 3
   },
   "file_extension": ".py",
   "mimetype": "text/x-python",
   "name": "python",
   "nbconvert_exporter": "python",
   "pygments_lexer": "ipython3",
   "version": "3.9.12"
  }
 },
 "nbformat": 4,
 "nbformat_minor": 5
}
