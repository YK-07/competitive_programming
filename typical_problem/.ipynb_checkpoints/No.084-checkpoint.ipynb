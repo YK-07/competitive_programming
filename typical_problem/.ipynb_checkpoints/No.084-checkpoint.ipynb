{
 "cells": [
  {
   "cell_type": "code",
   "execution_count": null,
   "id": "3ffd074e",
   "metadata": {},
   "outputs": [],
   "source": [
    "oooooxxxxxxoooo"
   ]
  },
  {
   "cell_type": "code",
   "execution_count": 37,
   "id": "59797634",
   "metadata": {},
   "outputs": [
    {
     "name": "stdout",
     "output_type": "stream",
     "text": [
      "15\n",
      "oooooxxxxxxoooo\n",
      "74\n"
     ]
    }
   ],
   "source": [
    "# TLE\n",
    "N=int(input())\n",
    "S=str(input())\n",
    "ans=0\n",
    "for _ in range(N-1):\n",
    "    cha_end=S[-1]\n",
    "    count=2\n",
    "    while N>=count:\n",
    "        if S[-count]==cha_end:\n",
    "            count+=1\n",
    "        else:\n",
    "            break\n",
    "    ans+=N-count+1\n",
    "    S=S[:-1]\n",
    "    N-=1\n",
    "print(ans)"
   ]
  },
  {
   "cell_type": "code",
   "execution_count": 10,
   "id": "4df364cb",
   "metadata": {},
   "outputs": [
    {
     "name": "stdout",
     "output_type": "stream",
     "text": [
      "AHDGDJFKHDHD\n"
     ]
    }
   ],
   "source": [
    "A='AHDGDJFKHDHDH'\n",
    "A=A[:-1]\n",
    "print(A)"
   ]
  },
  {
   "cell_type": "code",
   "execution_count": 23,
   "id": "e22f17ed",
   "metadata": {},
   "outputs": [
    {
     "name": "stdout",
     "output_type": "stream",
     "text": [
      "5\n",
      "5 oxoxo\n",
      "10\n"
     ]
    }
   ],
   "source": [
    "# 全体から余事象を引けば答えになる\n",
    "# N(N+!)//2 - ret    retは余事象\n",
    "from itertools import groupby\n",
    "N = int(input())\n",
    "s = input()\n",
    "x = [len(list(g)) for c, g in groupby(s)]\n",
    "tot = N * (N - 1) // 2\n",
    "ret = 0\n",
    "for i in x:\n",
    "    ret += i * (i - 1) // 2\n",
    "print(tot - cnt)"
   ]
  },
  {
   "cell_type": "code",
   "execution_count": 27,
   "id": "db42caff",
   "metadata": {},
   "outputs": [],
   "source": [
    "import itertools\n",
    "# kはkeyで、gはgrupe"
   ]
  },
  {
   "cell_type": "code",
   "execution_count": 28,
   "id": "51443fd9",
   "metadata": {
    "scrolled": true
   },
   "outputs": [
    {
     "name": "stdout",
     "output_type": "stream",
     "text": [
      "<itertools.groupby object at 0x0000019EDE041810>\n"
     ]
    }
   ],
   "source": [
    "l = 'ooxoooxxxoo'\n",
    "print(itertools.groupby(l))"
   ]
  },
  {
   "cell_type": "code",
   "execution_count": 29,
   "id": "08997f86",
   "metadata": {},
   "outputs": [
    {
     "name": "stdout",
     "output_type": "stream",
     "text": [
      "o <itertools._grouper object at 0x0000019EDC502130>\n",
      "x <itertools._grouper object at 0x0000019EDD7DC6A0>\n",
      "o <itertools._grouper object at 0x0000019EDD790B20>\n",
      "x <itertools._grouper object at 0x0000019EDD797A90>\n",
      "o <itertools._grouper object at 0x0000019EDC502610>\n"
     ]
    }
   ],
   "source": [
    "for k, g in itertools.groupby(l):\n",
    "    print(k, g)"
   ]
  },
  {
   "cell_type": "code",
   "execution_count": 30,
   "id": "d8fc98b2",
   "metadata": {},
   "outputs": [
    {
     "name": "stdout",
     "output_type": "stream",
     "text": [
      "o ['o', 'o']\n",
      "x ['x']\n",
      "o ['o', 'o', 'o']\n",
      "x ['x', 'x', 'x']\n",
      "o ['o', 'o']\n"
     ]
    }
   ],
   "source": [
    "for k, g in itertools.groupby(l):\n",
    "    print(k, list(g))"
   ]
  },
  {
   "cell_type": "code",
   "execution_count": 31,
   "id": "9b9322a1",
   "metadata": {},
   "outputs": [
    {
     "name": "stdout",
     "output_type": "stream",
     "text": [
      "['o', 'x', 'o', 'x', 'o']\n"
     ]
    }
   ],
   "source": [
    "print([k for k, g in itertools.groupby(l)])"
   ]
  },
  {
   "cell_type": "code",
   "execution_count": 32,
   "id": "2e62d161",
   "metadata": {},
   "outputs": [
    {
     "name": "stdout",
     "output_type": "stream",
     "text": [
      "[['o', 'o'], ['x'], ['o', 'o', 'o'], ['x', 'x', 'x'], ['o', 'o']]\n"
     ]
    }
   ],
   "source": [
    "print([list(g) for k, g in itertools.groupby(l)])"
   ]
  },
  {
   "cell_type": "code",
   "execution_count": 33,
   "id": "4681d1fc",
   "metadata": {},
   "outputs": [
    {
     "name": "stdout",
     "output_type": "stream",
     "text": [
      "[('o', ['o', 'o']), ('x', ['x']), ('o', ['o', 'o', 'o']), ('x', ['x', 'x', 'x']), ('o', ['o', 'o'])]\n"
     ]
    }
   ],
   "source": [
    "print([(k, list(g)) for k, g in itertools.groupby(l)])"
   ]
  },
  {
   "cell_type": "code",
   "execution_count": 34,
   "id": "5c804e9a",
   "metadata": {},
   "outputs": [
    {
     "name": "stdout",
     "output_type": "stream",
     "text": [
      "o 2\n",
      "x 1\n",
      "o 3\n",
      "x 3\n",
      "o 2\n"
     ]
    }
   ],
   "source": [
    "for k, g in itertools.groupby(l):\n",
    "    print(k, len(list(g))) "
   ]
  },
  {
   "cell_type": "code",
   "execution_count": 35,
   "id": "27572d16",
   "metadata": {},
   "outputs": [
    {
     "name": "stdout",
     "output_type": "stream",
     "text": [
      "[2, 1, 3, 3, 2]\n"
     ]
    }
   ],
   "source": [
    "print([len(list(g)) for k,g in itertools.groupby(l)])"
   ]
  },
  {
   "cell_type": "code",
   "execution_count": 36,
   "id": "17b7a658",
   "metadata": {},
   "outputs": [
    {
     "name": "stdout",
     "output_type": "stream",
     "text": [
      "[0, 1, 2, 3, 4]\n"
     ]
    }
   ],
   "source": [
    "print([i for i in range(5)])"
   ]
  },
  {
   "cell_type": "code",
   "execution_count": null,
   "id": "fae67ef7",
   "metadata": {},
   "outputs": [],
   "source": []
  },
  {
   "cell_type": "code",
   "execution_count": null,
   "id": "2565a4ca",
   "metadata": {},
   "outputs": [],
   "source": []
  },
  {
   "cell_type": "code",
   "execution_count": null,
   "id": "d06eb61f",
   "metadata": {},
   "outputs": [],
   "source": []
  },
  {
   "cell_type": "code",
   "execution_count": null,
   "id": "e0acbf7b",
   "metadata": {},
   "outputs": [],
   "source": []
  },
  {
   "cell_type": "code",
   "execution_count": null,
   "id": "a68bc6ba",
   "metadata": {},
   "outputs": [],
   "source": []
  }
 ],
 "metadata": {
  "kernelspec": {
   "display_name": "Python 3 (ipykernel)",
   "language": "python",
   "name": "python3"
  },
  "language_info": {
   "codemirror_mode": {
    "name": "ipython",
    "version": 3
   },
   "file_extension": ".py",
   "mimetype": "text/x-python",
   "name": "python",
   "nbconvert_exporter": "python",
   "pygments_lexer": "ipython3",
   "version": "3.9.12"
  }
 },
 "nbformat": 4,
 "nbformat_minor": 5
}
