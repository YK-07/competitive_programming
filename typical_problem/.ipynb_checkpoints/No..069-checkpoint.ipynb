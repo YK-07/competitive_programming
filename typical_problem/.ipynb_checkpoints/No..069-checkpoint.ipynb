{
 "cells": [
  {
   "cell_type": "code",
   "execution_count": null,
   "id": "6a6d6f8e",
   "metadata": {},
   "outputs": [],
   "source": [
    "# pow(基数, 指数,割る余り)"
   ]
  },
  {
   "cell_type": "code",
   "execution_count": 11,
   "id": "32540b23",
   "metadata": {},
   "outputs": [
    {
     "name": "stdout",
     "output_type": "stream",
     "text": [
      "2021 617\n",
      "53731843\n"
     ]
    }
   ],
   "source": [
    "# TLE\n",
    "N,K=map(int,input().split())\n",
    "mod=10**9+7\n",
    "\n",
    "if N==1:\n",
    "    ans=K\n",
    "elif N==2:\n",
    "    ans=K*(K-1)\n",
    "    ans%=mod\n",
    "else:\n",
    "    ans1=K*(K-1)\n",
    "    ans1%=mod\n",
    "    ans2=pow(K-2,N-2,mod)\n",
    "    ans=ans1*ans2%mod\n",
    "print(ans)"
   ]
  },
  {
   "cell_type": "code",
   "execution_count": null,
   "id": "af6b3122",
   "metadata": {},
   "outputs": [],
   "source": [
    "# AC\n",
    "N,K = map(int,input().split())\n",
    "MOD = 10**9+7\n",
    " \n",
    "if N == 1:\n",
    "    print(K%MOD)\n",
    "elif N == 2:\n",
    "    print(K*(K-1)%MOD)\n",
    "elif N > 2:\n",
    "    print(K*(K-1)%MOD*pow(K-2,N-2,MOD)%MOD)"
   ]
  },
  {
   "cell_type": "code",
   "execution_count": 10,
   "id": "5e92f50c",
   "metadata": {},
   "outputs": [
    {
     "data": {
      "text/plain": [
       "1"
      ]
     },
     "execution_count": 10,
     "metadata": {},
     "output_type": "execute_result"
    }
   ],
   "source": [
    "pow(2,3,7)"
   ]
  },
  {
   "cell_type": "code",
   "execution_count": null,
   "id": "be24d14f",
   "metadata": {},
   "outputs": [],
   "source": [
    "2021 617\n",
    "53731843"
   ]
  },
  {
   "cell_type": "code",
   "execution_count": null,
   "id": "906053b9",
   "metadata": {},
   "outputs": [],
   "source": []
  },
  {
   "cell_type": "code",
   "execution_count": null,
   "id": "7d7a4849",
   "metadata": {},
   "outputs": [],
   "source": []
  }
 ],
 "metadata": {
  "kernelspec": {
   "display_name": "Python 3 (ipykernel)",
   "language": "python",
   "name": "python3"
  },
  "language_info": {
   "codemirror_mode": {
    "name": "ipython",
    "version": 3
   },
   "file_extension": ".py",
   "mimetype": "text/x-python",
   "name": "python",
   "nbconvert_exporter": "python",
   "pygments_lexer": "ipython3",
   "version": "3.9.12"
  }
 },
 "nbformat": 4,
 "nbformat_minor": 5
}
