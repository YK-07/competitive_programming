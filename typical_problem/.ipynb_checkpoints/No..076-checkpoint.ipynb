{
 "cells": [
  {
   "cell_type": "code",
   "execution_count": null,
   "id": "9ea2f935",
   "metadata": {},
   "outputs": [],
   "source": [
    "# AC\n",
    "N=int(input())\n",
    "A=list(map(int,input().split()))\n",
    "T=A+A\n",
    "N=len(T)\n",
    "whole=sum(A)\n",
    "ans=\"No\"\n",
    "if whole%10==0:\n",
    "    goal=whole//10\n",
    "    now=0\n",
    "    r=0\n",
    "    for l in range(N):\n",
    "        while now<goal and r<len(T):\n",
    "            now+=T[r]\n",
    "            r+=1\n",
    "        if now==goal:\n",
    "            ans=\"Yes\"\n",
    "            break\n",
    "        now-=T[l]\n",
    "\n",
    "print(ans)"
   ]
  },
  {
   "cell_type": "code",
   "execution_count": 28,
   "id": "f27af914",
   "metadata": {},
   "outputs": [
    {
     "name": "stdout",
     "output_type": "stream",
     "text": [
      "10\n",
      "1 1 1 1 1 1 1 1 1 1\n",
      "Yes\n"
     ]
    }
   ],
   "source": [
    "# AC WA　探索が足りない\n",
    "\n",
    "N=int(input())\n",
    "A=list(map(int,input().split()))\n",
    "\n",
    "A_tenth=sum(A)/10\n",
    "A_twice=A\n",
    "n=N\n",
    "for i in range(N):\n",
    "    A_add=A[i]\n",
    "    if A[i] < A_tenth:\n",
    "        A_twice.append(A_add)\n",
    "        n+=1\n",
    "    else:\n",
    "        break\n",
    "cnt=0\n",
    "for j in range(n):\n",
    "    if cnt < A_tenth:\n",
    "        cnt+=A_twice[j]\n",
    "    \n",
    "    elif cnt==A_tenth:\n",
    "        break\n",
    "    \n",
    "    else:\n",
    "        cnt=A_twice[j-1]\n",
    "        \n",
    "        if cnt < A_tenth:\n",
    "            cnt+=A_twice[j]\n",
    "        \n",
    "        elif cnt==A_tenth:\n",
    "            break\n",
    "        \n",
    "        else:\n",
    "            cnt=A_twice[j]\n",
    "\n",
    "if cnt==A_tenth:\n",
    "    print('Yes')\n",
    "else:\n",
    "    print('No')"
   ]
  },
  {
   "cell_type": "code",
   "execution_count": null,
   "id": "56db95c0",
   "metadata": {},
   "outputs": [],
   "source": [
    "# AC\n",
    "n = int(input())\n",
    "a = list(map(int, input().split()))\n",
    "s = sum(a)\n",
    "now = 0\n",
    "r = 0\n",
    "import sys\n",
    "for i in range(n):\n",
    "    while True:\n",
    "        now += a[r]\n",
    "        r += 1\n",
    "        r %= n\n",
    "        if now * 10 >= s:\n",
    "            break\n",
    "    if now * 10 == s:\n",
    "        print(\"Yes\")\n",
    "        sys.exit()\n",
    "    now -= a[i]\n",
    "print(\"No\")"
   ]
  },
  {
   "cell_type": "code",
   "execution_count": 27,
   "id": "4ac4238b",
   "metadata": {},
   "outputs": [
    {
     "name": "stdout",
     "output_type": "stream",
     "text": [
      "Yes\n"
     ]
    }
   ],
   "source": [
    "if A_tenth==2.0:\n",
    "    print('Yes')"
   ]
  },
  {
   "cell_type": "code",
   "execution_count": null,
   "id": "53cac7b9",
   "metadata": {},
   "outputs": [],
   "source": []
  },
  {
   "cell_type": "code",
   "execution_count": null,
   "id": "4b91b460",
   "metadata": {},
   "outputs": [],
   "source": []
  },
  {
   "cell_type": "code",
   "execution_count": null,
   "id": "f0acbb65",
   "metadata": {},
   "outputs": [],
   "source": []
  }
 ],
 "metadata": {
  "kernelspec": {
   "display_name": "Python 3 (ipykernel)",
   "language": "python",
   "name": "python3"
  },
  "language_info": {
   "codemirror_mode": {
    "name": "ipython",
    "version": 3
   },
   "file_extension": ".py",
   "mimetype": "text/x-python",
   "name": "python",
   "nbconvert_exporter": "python",
   "pygments_lexer": "ipython3",
   "version": "3.9.12"
  }
 },
 "nbformat": 4,
 "nbformat_minor": 5
}
