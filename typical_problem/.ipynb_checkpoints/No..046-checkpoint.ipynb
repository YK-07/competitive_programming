{
 "cells": [
  {
   "cell_type": "code",
   "execution_count": null,
   "id": "0846197c",
   "metadata": {},
   "outputs": [],
   "source": [
    "# AC\n",
    "n=int(input())\n",
    "A=list(map(int, input().split()))\n",
    "B=list(map(int, input().split()))\n",
    "C=list(map(int, input().split()))\n",
    "\n",
    "a46=[0]*46\n",
    "b46=[0]*46\n",
    "c46=[0]*46\n",
    "\n",
    "for i in range(n):\n",
    "    a=A[i]%46\n",
    "    a46[a]+=1\n",
    "    b=B[i]%46\n",
    "    b46[b]+=1\n",
    "    c=C[i]%46\n",
    "    c46[c]+=1\n",
    "\n",
    "ans=0\n",
    "for i in range(46):\n",
    "    ans2=0\n",
    "    for j in range(46):\n",
    "        for k in range(46):\n",
    "            if(i+j+k)%46==0:\n",
    "                ans2=a46[i]*b46[j]*c46[k]\n",
    "                ans+=ans2\n",
    "print(ans)"
   ]
  },
  {
   "cell_type": "code",
   "execution_count": 155,
   "id": "be32a9b6",
   "metadata": {},
   "outputs": [
    {
     "name": "stdout",
     "output_type": "stream",
     "text": [
      "20\n",
      "238 395 46 238 264 114 354 52 324 14 472 64 307 280 209 24 165 194 179 248\n",
      "270 83 377 332 173 21 362 75 66 342 229 117 124 481 48 235 376 13 420 74\n",
      "175 427 76 278 486 169 311 47 348 225 41 482 355 356 263 95 170 156 340 289\n",
      "183\n"
     ]
    }
   ],
   "source": [
    "# AC\n",
    "from itertools import groupby\n",
    "N=int(input())\n",
    "A=list(map(int,input().split()))\n",
    "B=list(map(int,input().split()))\n",
    "C=list(map(int,input().split()))\n",
    "\n",
    "for i in range(N):\n",
    "    A[i]%=46\n",
    "    B[i]%=46\n",
    "    C[i]%=46\n",
    "A_list=[[i,0] for i in range(46)]\n",
    "B_list=[[i,0] for i in range(46)]\n",
    "C_list=[[i,0] for i in range(46)]\n",
    "A.sort()# sort しないと重複が数えられない、二回目以降の数字は検出されない\n",
    "B.sort()\n",
    "C.sort()\n",
    "for k, g in groupby(A):\n",
    "    A_list[k]=[k,len(list(g))]\n",
    "for k, g in groupby(B):\n",
    "    B_list[k]=[k,len(list(g))]\n",
    "for k, g in groupby(C):\n",
    "    C_list[k]=[k,len(list(g))]\n",
    "    \n",
    "ans=0\n",
    "for i in range(46):\n",
    "    for j in range(46):\n",
    "        for l in range(46):\n",
    "            if (i+j+l)%46==0:\n",
    "                ans+=A_list[i][1]*B_list[j][1]*C_list[l][1]\n",
    "print(ans)"
   ]
  },
  {
   "cell_type": "code",
   "execution_count": null,
   "id": "f9ad6804",
   "metadata": {},
   "outputs": [],
   "source": [
    "20\n",
    "238 395 46 238 264 114 354 52 324 14 472 64 307 280 209 24 165 194 179 248\n",
    "270 83 377 332 173 21 362 75 66 342 229 117 124 481 48 235 376 13 420 74\n",
    "175 427 76 278 486 169 311 47 348 225 41 482 355 356 263 95 170 156 340 289"
   ]
  },
  {
   "cell_type": "code",
   "execution_count": 152,
   "id": "fc7ef5fa",
   "metadata": {},
   "outputs": [
    {
     "name": "stdout",
     "output_type": "stream",
     "text": [
      "[0, 2, 4, 6, 8, 8, 10, 12, 14, 18, 18, 22, 24, 25, 27, 27, 31, 32, 34, 41]\n"
     ]
    }
   ],
   "source": [
    "A.sort()\n",
    "print(A)"
   ]
  },
  {
   "cell_type": "code",
   "execution_count": 153,
   "id": "7e667758",
   "metadata": {},
   "outputs": [],
   "source": [
    "for k, g in groupby(A):\n",
    "    A_list[k]=[k,list(g)]"
   ]
  },
  {
   "cell_type": "code",
   "execution_count": 147,
   "id": "df0dafe5",
   "metadata": {},
   "outputs": [],
   "source": [
    "for k, g in groupby(A):\n",
    "    A_list[k]=[k,len(list(g))]"
   ]
  },
  {
   "cell_type": "code",
   "execution_count": 145,
   "id": "d03485fc",
   "metadata": {
    "scrolled": true
   },
   "outputs": [
    {
     "name": "stdout",
     "output_type": "stream",
     "text": [
      "17\n"
     ]
    }
   ],
   "source": [
    "a=0\n",
    "for i in range(46):\n",
    "    a+=A_list[i][1]\n",
    "print(a)"
   ]
  },
  {
   "cell_type": "code",
   "execution_count": 154,
   "id": "d6994b76",
   "metadata": {},
   "outputs": [
    {
     "data": {
      "text/plain": [
       "[[0, [0]],\n",
       " [1, 0],\n",
       " [2, [2]],\n",
       " [3, 0],\n",
       " [4, [4]],\n",
       " [5, 0],\n",
       " [6, [6]],\n",
       " [7, 0],\n",
       " [8, [8, 8]],\n",
       " [9, 0],\n",
       " [10, [10]],\n",
       " [11, 0],\n",
       " [12, [12]],\n",
       " [13, 0],\n",
       " [14, [14]],\n",
       " [15, 0],\n",
       " [16, 0],\n",
       " [17, 0],\n",
       " [18, [18, 18]],\n",
       " [19, 0],\n",
       " [20, 0],\n",
       " [21, 0],\n",
       " [22, [22]],\n",
       " [23, 0],\n",
       " [24, [24]],\n",
       " [25, [25]],\n",
       " [26, 0],\n",
       " [27, [27, 27]],\n",
       " [28, 0],\n",
       " [29, 0],\n",
       " [30, 0],\n",
       " [31, [31]],\n",
       " [32, [32]],\n",
       " [33, 0],\n",
       " [34, [34]],\n",
       " [35, 0],\n",
       " [36, 0],\n",
       " [37, 0],\n",
       " [38, 0],\n",
       " [39, 0],\n",
       " [40, 0],\n",
       " [41, [41]],\n",
       " [42, 0],\n",
       " [43, 0],\n",
       " [44, 0],\n",
       " [45, 0]]"
      ]
     },
     "execution_count": 154,
     "metadata": {},
     "output_type": "execute_result"
    }
   ],
   "source": [
    "A_list"
   ]
  },
  {
   "cell_type": "code",
   "execution_count": 148,
   "id": "bd51b780",
   "metadata": {},
   "outputs": [
    {
     "data": {
      "text/plain": [
       "[[0, 1],\n",
       " [1, 0],\n",
       " [2, 1],\n",
       " [3, 0],\n",
       " [4, 1],\n",
       " [5, 0],\n",
       " [6, 1],\n",
       " [7, 0],\n",
       " [8, 1],\n",
       " [9, 0],\n",
       " [10, 1],\n",
       " [11, 0],\n",
       " [12, 1],\n",
       " [13, 0],\n",
       " [14, 1],\n",
       " [15, 0],\n",
       " [16, 0],\n",
       " [17, 0],\n",
       " [18, 1],\n",
       " [19, 0],\n",
       " [20, 0],\n",
       " [21, 0],\n",
       " [22, 1],\n",
       " [23, 0],\n",
       " [24, 1],\n",
       " [25, 1],\n",
       " [26, 0],\n",
       " [27, 1],\n",
       " [28, 0],\n",
       " [29, 0],\n",
       " [30, 0],\n",
       " [31, 1],\n",
       " [32, 1],\n",
       " [33, 0],\n",
       " [34, 1],\n",
       " [35, 0],\n",
       " [36, 0],\n",
       " [37, 0],\n",
       " [38, 0],\n",
       " [39, 0],\n",
       " [40, 0],\n",
       " [41, 1],\n",
       " [42, 0],\n",
       " [43, 0],\n",
       " [44, 0],\n",
       " [45, 0]]"
      ]
     },
     "execution_count": 148,
     "metadata": {},
     "output_type": "execute_result"
    }
   ],
   "source": [
    "A_list"
   ]
  },
  {
   "cell_type": "code",
   "execution_count": 149,
   "id": "1e0fb705",
   "metadata": {},
   "outputs": [],
   "source": [
    "x=[238, 395, 46, 238 ,264 ,114, 354 ,52 ,324, 14, 472 ,64 ,307 ,280, 209, 24, 165, 194, 179 ,248]"
   ]
  },
  {
   "cell_type": "code",
   "execution_count": 112,
   "id": "53d99441",
   "metadata": {},
   "outputs": [
    {
     "name": "stdout",
     "output_type": "stream",
     "text": [
      "20\n"
     ]
    }
   ],
   "source": [
    "print(len(x))"
   ]
  },
  {
   "cell_type": "code",
   "execution_count": 110,
   "id": "c47ffeec",
   "metadata": {},
   "outputs": [],
   "source": [
    "for i in range(20):\n",
    "    x[i]%=46"
   ]
  },
  {
   "cell_type": "code",
   "execution_count": 111,
   "id": "63dd5f25",
   "metadata": {},
   "outputs": [
    {
     "data": {
      "text/plain": [
       "[8, 27, 0, 8, 34, 22, 32, 6, 2, 14, 12, 18, 31, 4, 25, 24, 27, 10, 41, 18]"
      ]
     },
     "execution_count": 111,
     "metadata": {},
     "output_type": "execute_result"
    }
   ],
   "source": [
    "x"
   ]
  },
  {
   "cell_type": "code",
   "execution_count": null,
   "id": "97aace6e",
   "metadata": {},
   "outputs": [],
   "source": []
  },
  {
   "cell_type": "code",
   "execution_count": null,
   "id": "d44c9c6f",
   "metadata": {},
   "outputs": [],
   "source": []
  },
  {
   "cell_type": "code",
   "execution_count": null,
   "id": "8fd79d14",
   "metadata": {},
   "outputs": [],
   "source": []
  },
  {
   "cell_type": "code",
   "execution_count": null,
   "id": "77134628",
   "metadata": {},
   "outputs": [],
   "source": []
  }
 ],
 "metadata": {
  "kernelspec": {
   "display_name": "Python 3 (ipykernel)",
   "language": "python",
   "name": "python3"
  },
  "language_info": {
   "codemirror_mode": {
    "name": "ipython",
    "version": 3
   },
   "file_extension": ".py",
   "mimetype": "text/x-python",
   "name": "python",
   "nbconvert_exporter": "python",
   "pygments_lexer": "ipython3",
   "version": "3.9.12"
  }
 },
 "nbformat": 4,
 "nbformat_minor": 5
}
