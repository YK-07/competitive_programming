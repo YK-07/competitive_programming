{
 "cells": [
  {
   "cell_type": "code",
   "execution_count": 13,
   "id": "59312734",
   "metadata": {},
   "outputs": [
    {
     "name": "stdout",
     "output_type": "stream",
     "text": [
      "5 5\n",
      "6 17 18 29 22\n",
      "39 50 25 39 25\n",
      "34 34 8 25 17\n",
      "28 48 25 47 42\n",
      "27 47 24 32 28\n",
      "4 6 3 29 28\n",
      "48 50 21 48 29\n",
      "44 44 19 47 28\n",
      "4 49 46 29 28\n",
      "4 49 45 1 1\n",
      "Yes\n",
      "140\n"
     ]
    }
   ],
   "source": [
    "H,W=map(int,input().split())\n",
    "A=[list(map(int,input().split())) for _ in range(H)]\n",
    "B=[list(map(int,input().split())) for _ in range(H)]\n",
    "ans=0\n",
    "import sys\n",
    "\n",
    "def add(x,y):\n",
    "    if A[x][y]<B[x][y]:\n",
    "        A[x][y]+=1\n",
    "        A[x+1][y]+=1\n",
    "        A[x][y+1]+=1\n",
    "        A[x+1][y+1]+=1\n",
    "\n",
    "    elif A[x][y]>B[x][y]:\n",
    "        A[x][y]-=1\n",
    "        A[x+1][y]-=1\n",
    "        A[x][y+1]-=1\n",
    "        A[x+1][y+1]-=1\n",
    "\n",
    "    else:\n",
    "        pass\n",
    "    return\n",
    "\n",
    "for i in range(H-1):\n",
    "    for j in range(W-1):\n",
    "        while A[i][j]!=B[i][j]:\n",
    "            add(i,j)\n",
    "            ans+=1\n",
    "    if A[i][W-1]!=B[i][W-1]:\n",
    "        print('No')\n",
    "        sys.exit()\n",
    "\n",
    "if A[H-1]==B[H-1]:\n",
    "    print('Yes')\n",
    "    print(ans)\n",
    "else:\n",
    "    print('No')\n"
   ]
  },
  {
   "cell_type": "code",
   "execution_count": 19,
   "id": "a0812726",
   "metadata": {},
   "outputs": [
    {
     "name": "stdout",
     "output_type": "stream",
     "text": [
      "3 3\n",
      "0 0 0\n",
      "0 0 0\n",
      "0 0 0\n",
      "1 1 0\n",
      "1 1 0\n",
      "0 0 0\n",
      "Yes\n",
      "1\n"
     ]
    }
   ],
   "source": [
    "H,W=map(int,input().split())\n",
    "A=[list(map(int,input().split())) for _ in range(H)]\n",
    "B=[list(map(int,input().split())) for _ in range(H)]\n",
    "ans=0\n",
    "import sys\n",
    "\n",
    "def add(x,y):\n",
    "    if A[x][y]<B[x][y]:\n",
    "        A[x][y]+=num\n",
    "        A[x+1][y]+=num\n",
    "        A[x][y+1]+=num\n",
    "        A[x+1][y+1]+=num\n",
    "        \n",
    "    elif A[x][y]>B[x][y]:\n",
    "        A[x][y]-=num\n",
    "        A[x+1][y]-=num\n",
    "        A[x][y+1]-=num\n",
    "        A[x+1][y+1]-=num\n",
    "    return\n",
    "\n",
    "for i in range(H-1):\n",
    "    for j in range(W-1):\n",
    "        while A[i][j]!=B[i][j]:\n",
    "            num=A[i][j]-B[i][j]\n",
    "            if num<0:\n",
    "                num*=-1\n",
    "            add(i,j)\n",
    "            ans+=num\n",
    "    if A[i][W-1]!=B[i][W-1]:\n",
    "        print('No')\n",
    "        sys.exit()\n",
    "\n",
    "if A[H-1]==B[H-1]:\n",
    "    print('Yes')\n",
    "    print(ans)\n",
    "else:\n",
    "    print('No')"
   ]
  },
  {
   "cell_type": "code",
   "execution_count": null,
   "id": "c4de6943",
   "metadata": {},
   "outputs": [],
   "source": [
    "5 5\n",
    "6 17 18 29 22\n",
    "39 50 25 39 25\n",
    "34 34 8 25 17\n",
    "28 48 25 47 42\n",
    "27 47 24 32 28\n",
    "4 6 3 29 28\n",
    "48 50 21 48 29\n",
    "44 44 19 47 28\n",
    "4 49 46 29 28\n",
    "4 49 45 1 1\n"
   ]
  },
  {
   "cell_type": "code",
   "execution_count": null,
   "id": "ef606833",
   "metadata": {},
   "outputs": [],
   "source": []
  },
  {
   "cell_type": "code",
   "execution_count": null,
   "id": "a1d67674",
   "metadata": {},
   "outputs": [],
   "source": []
  },
  {
   "cell_type": "code",
   "execution_count": null,
   "id": "40ef3d6a",
   "metadata": {},
   "outputs": [],
   "source": []
  },
  {
   "cell_type": "code",
   "execution_count": null,
   "id": "96e2f277",
   "metadata": {},
   "outputs": [],
   "source": []
  }
 ],
 "metadata": {
  "kernelspec": {
   "display_name": "Python 3 (ipykernel)",
   "language": "python",
   "name": "python3"
  },
  "language_info": {
   "codemirror_mode": {
    "name": "ipython",
    "version": 3
   },
   "file_extension": ".py",
   "mimetype": "text/x-python",
   "name": "python",
   "nbconvert_exporter": "python",
   "pygments_lexer": "ipython3",
   "version": "3.9.12"
  }
 },
 "nbformat": 4,
 "nbformat_minor": 5
}
