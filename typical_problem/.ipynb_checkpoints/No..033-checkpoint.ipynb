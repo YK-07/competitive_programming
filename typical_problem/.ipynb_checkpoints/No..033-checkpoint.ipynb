{
 "cells": [
  {
   "cell_type": "code",
   "execution_count": 4,
   "id": "307ee03a",
   "metadata": {},
   "outputs": [
    {
     "name": "stdout",
     "output_type": "stream",
     "text": [
      "3 6\n",
      "6\n"
     ]
    }
   ],
   "source": [
    "H,W=map(int,input().split())\n",
    "if H==1 or W==1:\n",
    "    print(H*W)\n",
    "elif H%2==0 and W%2==0:\n",
    "    print(H//2*W//2)\n",
    "elif H%2==0 and W%2==1:\n",
    "    print((H//2)*(W//2+1))\n",
    "elif H%2==1 and W%2==0:\n",
    "    print((H//2+1)*(W//2))\n",
    "else:\n",
    "    print((H//2+1)*(W//2+1))"
   ]
  },
  {
   "cell_type": "code",
   "execution_count": null,
   "id": "bc0a7d36",
   "metadata": {},
   "outputs": [],
   "source": [
    "H,W=map(int,input().split())\n",
    "ans=0\n",
    "if H==1 or W==1:\n",
    "    ans+=H*W\n",
    "else:\n",
    "    for i in range(H):\n",
    "        if i%2==0:\n",
    "            if W%2==0:\n",
    "                ans+=W//2\n",
    "            else:\n",
    "                ans+=W//2+1\n",
    "print(ans)"
   ]
  },
  {
   "cell_type": "code",
   "execution_count": null,
   "id": "c5653f04",
   "metadata": {},
   "outputs": [],
   "source": []
  },
  {
   "cell_type": "code",
   "execution_count": null,
   "id": "ac6326ed",
   "metadata": {},
   "outputs": [],
   "source": []
  },
  {
   "cell_type": "code",
   "execution_count": null,
   "id": "3d7f8ab9",
   "metadata": {},
   "outputs": [],
   "source": []
  },
  {
   "cell_type": "code",
   "execution_count": null,
   "id": "35a2277a",
   "metadata": {},
   "outputs": [],
   "source": []
  },
  {
   "cell_type": "code",
   "execution_count": null,
   "id": "40941b51",
   "metadata": {},
   "outputs": [],
   "source": []
  }
 ],
 "metadata": {
  "kernelspec": {
   "display_name": "Python 3 (ipykernel)",
   "language": "python",
   "name": "python3"
  },
  "language_info": {
   "codemirror_mode": {
    "name": "ipython",
    "version": 3
   },
   "file_extension": ".py",
   "mimetype": "text/x-python",
   "name": "python",
   "nbconvert_exporter": "python",
   "pygments_lexer": "ipython3",
   "version": "3.9.12"
  }
 },
 "nbformat": 4,
 "nbformat_minor": 5
}
