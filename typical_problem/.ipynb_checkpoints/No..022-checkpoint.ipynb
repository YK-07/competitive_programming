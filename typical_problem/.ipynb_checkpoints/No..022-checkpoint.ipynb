{
 "cells": [
  {
   "cell_type": "code",
   "execution_count": 16,
   "id": "f778c465",
   "metadata": {},
   "outputs": [
    {
     "name": "stdout",
     "output_type": "stream",
     "text": [
      "1000000000000000000 999999999999999999 999999999999999998\n",
      "2999999999999999994\n"
     ]
    }
   ],
   "source": [
    "# AC\n",
    "import math\n",
    "A,B,C=map(int,input().split())\n",
    "gcd=math.gcd(A,math.gcd(B,C))\n",
    "if gcd==1:\n",
    "    print(A+B+C-3)\n",
    "else:\n",
    "    ans=0\n",
    "    ans+=A//gcd\n",
    "    ans+=B//gcd\n",
    "    ans+=C//gcd\n",
    "    ans-=3\n",
    "    print(ans)\n",
    "    "
   ]
  },
  {
   "cell_type": "code",
   "execution_count": 15,
   "id": "db37529b",
   "metadata": {},
   "outputs": [
    {
     "name": "stdout",
     "output_type": "stream",
     "text": [
      "1000000000000000000 999999999999999999 999999999999999998\n",
      "2999999999999999994\n"
     ]
    }
   ],
   "source": [
    "# RE \n",
    "from math import gcd\n",
    "A,B,C=map(int,input().split())\n",
    "gcd=gcd(A,B,C)\n",
    "if gcd==1:\n",
    "    print(A+B+C-3)\n",
    "else:\n",
    "    ans=0\n",
    "    ans+=A//gcd\n",
    "    ans+=B//gcd\n",
    "    ans+=C//gcd\n",
    "    ans-=3\n",
    "    print(ans)"
   ]
  },
  {
   "cell_type": "code",
   "execution_count": null,
   "id": "241d8802",
   "metadata": {},
   "outputs": [],
   "source": []
  },
  {
   "cell_type": "code",
   "execution_count": null,
   "id": "3e09d148",
   "metadata": {},
   "outputs": [],
   "source": []
  },
  {
   "cell_type": "code",
   "execution_count": null,
   "id": "29df50ef",
   "metadata": {},
   "outputs": [],
   "source": []
  },
  {
   "cell_type": "code",
   "execution_count": null,
   "id": "abf74d08",
   "metadata": {},
   "outputs": [],
   "source": []
  },
  {
   "cell_type": "code",
   "execution_count": null,
   "id": "c5352b49",
   "metadata": {},
   "outputs": [],
   "source": []
  }
 ],
 "metadata": {
  "kernelspec": {
   "display_name": "Python 3 (ipykernel)",
   "language": "python",
   "name": "python3"
  },
  "language_info": {
   "codemirror_mode": {
    "name": "ipython",
    "version": 3
   },
   "file_extension": ".py",
   "mimetype": "text/x-python",
   "name": "python",
   "nbconvert_exporter": "python",
   "pygments_lexer": "ipython3",
   "version": "3.9.12"
  }
 },
 "nbformat": 4,
 "nbformat_minor": 5
}
