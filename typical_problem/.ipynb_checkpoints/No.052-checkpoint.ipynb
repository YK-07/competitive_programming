{
 "cells": [
  {
   "cell_type": "code",
   "execution_count": 51,
   "id": "e86e8593",
   "metadata": {},
   "outputs": [
    {
     "name": "stdout",
     "output_type": "stream",
     "text": [
      "1\n",
      "11 13 17 19 23 29\n",
      "112\n"
     ]
    }
   ],
   "source": [
    "N=int(input())\n",
    "\n",
    "for i in range(N):\n",
    "    if i==0:\n",
    "        A_bef=list(map(int,input().split()))\n",
    "    else:\n",
    "        A_aft=list(map(int,input().split()))\n",
    "        for j in range(6):\n",
    "            A_aft_sum=sum(A_aft)\n",
    "            A_bef[j]=A_bef[j]*A_aft_sum\n",
    "\n",
    "ans=sum(A_bef)%(10**9+7)\n",
    "print(ans)"
   ]
  },
  {
   "cell_type": "code",
   "execution_count": null,
   "id": "3ec85308",
   "metadata": {},
   "outputs": [],
   "source": [
    "19 23 51 59 91 99\n",
    "15 45 56 65 69 94\n",
    "7 11 16 34 59 95\n",
    "27 30 40 43 83 85\n",
    "19 23 25 27 45 99\n",
    "27 48 52 53 60 81\n",
    "21 36 49 72 82 84"
   ]
  },
  {
   "cell_type": "code",
   "execution_count": 33,
   "id": "016f26ac",
   "metadata": {},
   "outputs": [
    {
     "name": "stdout",
     "output_type": "stream",
     "text": [
      "[8, 16, 24, 32, 40, 48]\n"
     ]
    }
   ],
   "source": [
    "A_bef=[1,2,3,4,5,6]\n",
    "for j in range(6):\n",
    "    A_aft_sum=8\n",
    "    A_bef[j]=A_bef[j]*A_aft_sum\n",
    "print(A_bef)"
   ]
  },
  {
   "cell_type": "code",
   "execution_count": null,
   "id": "2f72b666",
   "metadata": {},
   "outputs": [],
   "source": [
    "A=[list(map(int,input().split())) for _ in range(N)]"
   ]
  },
  {
   "cell_type": "code",
   "execution_count": 45,
   "id": "d252f7c4",
   "metadata": {},
   "outputs": [
    {
     "data": {
      "text/plain": [
       "[4, 6, 8, 9, 10, 12]"
      ]
     },
     "execution_count": 45,
     "metadata": {},
     "output_type": "execute_result"
    }
   ],
   "source": [
    "A_aft"
   ]
  },
  {
   "cell_type": "code",
   "execution_count": 46,
   "id": "b160e022",
   "metadata": {},
   "outputs": [
    {
     "data": {
      "text/plain": [
       "4"
      ]
     },
     "execution_count": 46,
     "metadata": {},
     "output_type": "execute_result"
    }
   ],
   "source": [
    "A_aft[0]"
   ]
  },
  {
   "cell_type": "code",
   "execution_count": 47,
   "id": "a179671f",
   "metadata": {},
   "outputs": [
    {
     "ename": "TypeError",
     "evalue": "'int' object is not iterable",
     "output_type": "error",
     "traceback": [
      "\u001b[1;31m---------------------------------------------------------------------------\u001b[0m",
      "\u001b[1;31mTypeError\u001b[0m                                 Traceback (most recent call last)",
      "Input \u001b[1;32mIn [47]\u001b[0m, in \u001b[0;36m<cell line: 1>\u001b[1;34m()\u001b[0m\n\u001b[1;32m----> 1\u001b[0m A_aft_sum\u001b[38;5;241m=\u001b[39m\u001b[38;5;28;43msum\u001b[39;49m\u001b[43m(\u001b[49m\u001b[43mA_aft\u001b[49m\u001b[43m[\u001b[49m\u001b[38;5;241;43m0\u001b[39;49m\u001b[43m]\u001b[49m\u001b[38;5;241;43m+\u001b[39;49m\u001b[43mA_aft\u001b[49m\u001b[43m[\u001b[49m\u001b[38;5;241;43m1\u001b[39;49m\u001b[43m]\u001b[49m\u001b[38;5;241;43m+\u001b[39;49m\u001b[43mA_aft\u001b[49m\u001b[43m[\u001b[49m\u001b[38;5;241;43m2\u001b[39;49m\u001b[43m]\u001b[49m\u001b[38;5;241;43m+\u001b[39;49m\u001b[43mA_aft\u001b[49m\u001b[43m[\u001b[49m\u001b[38;5;241;43m3\u001b[39;49m\u001b[43m]\u001b[49m\u001b[38;5;241;43m+\u001b[39;49m\u001b[43mA_aft\u001b[49m\u001b[43m[\u001b[49m\u001b[38;5;241;43m4\u001b[39;49m\u001b[43m]\u001b[49m\u001b[38;5;241;43m+\u001b[39;49m\u001b[43mA_aft\u001b[49m\u001b[43m[\u001b[49m\u001b[38;5;241;43m5\u001b[39;49m\u001b[43m]\u001b[49m\u001b[43m)\u001b[49m\n",
      "\u001b[1;31mTypeError\u001b[0m: 'int' object is not iterable"
     ]
    }
   ],
   "source": [
    "A_aft_sum=sum(A_aft[0]+A_aft[1]+A_aft[2]+A_aft[3]+A_aft[4]+A_aft[5])"
   ]
  },
  {
   "cell_type": "code",
   "execution_count": null,
   "id": "3e619dd8",
   "metadata": {},
   "outputs": [],
   "source": []
  },
  {
   "cell_type": "code",
   "execution_count": null,
   "id": "d27797ac",
   "metadata": {},
   "outputs": [],
   "source": []
  }
 ],
 "metadata": {
  "kernelspec": {
   "display_name": "Python 3 (ipykernel)",
   "language": "python",
   "name": "python3"
  },
  "language_info": {
   "codemirror_mode": {
    "name": "ipython",
    "version": 3
   },
   "file_extension": ".py",
   "mimetype": "text/x-python",
   "name": "python",
   "nbconvert_exporter": "python",
   "pygments_lexer": "ipython3",
   "version": "3.9.12"
  }
 },
 "nbformat": 4,
 "nbformat_minor": 5
}
