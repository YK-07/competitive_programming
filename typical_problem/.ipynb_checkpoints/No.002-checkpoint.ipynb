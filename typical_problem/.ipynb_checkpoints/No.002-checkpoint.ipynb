{
 "cells": [
  {
   "cell_type": "code",
   "execution_count": 40,
   "id": "24c625ca",
   "metadata": {},
   "outputs": [
    {
     "name": "stdout",
     "output_type": "stream",
     "text": [
      "10\n",
      "1\n"
     ]
    }
   ],
   "source": [
    "a=11\n",
    "b=110\n",
    "c=101\n",
    "print(a&b)\n",
    "print(a&c)\n",
    "\n",
    "# (i>>j)&1==1　は iのj桁目が1かどうかチェック　桁数は右から0,1,2で指数で考える"
   ]
  },
  {
   "cell_type": "code",
   "execution_count": 2,
   "id": "5a9a7c47",
   "metadata": {
    "scrolled": true
   },
   "outputs": [
    {
     "name": "stdout",
     "output_type": "stream",
     "text": [
      "2\n",
      "0 1\n",
      "0\n",
      "['(']\n",
      "0 0\n",
      "0\n",
      "['(', '(']\n",
      "1 1\n",
      "0\n",
      "['(']\n",
      "1 0\n",
      "1\n",
      "['(', ')']\n",
      "()\n",
      "------\n",
      "2 1\n",
      "1\n",
      "[')']\n",
      "3 1\n",
      "1\n",
      "[')']\n"
     ]
    }
   ],
   "source": [
    "N = int(input())\n",
    "if N % 2 ==1:\n",
    "    print('')\n",
    "else:\n",
    "    l = []\n",
    "    for i in range(2**N):\n",
    "        count = 0\n",
    "        for j in reversed(range(N)): # iがNの全パターン、jがNの桁数、reversedは答えを条件を満たすように並び替え\n",
    "            print(i,j)\n",
    "            print(i>>j)\n",
    "            if (i>>j)&1==1:    # AND はどちらもTrueのときにTrue\n",
    "                l.append(')')\n",
    "                count -= 1\n",
    "                print(l)\n",
    "                if count<0: # ')'が'('の数を上回らないようにと、')('とならないように\n",
    "                    break\n",
    "            else:\n",
    "                l.append('(')\n",
    "                count += 1\n",
    "                print(l)\n",
    "        if count == 0: # '('と')'が同数のときcount==0\n",
    "            print(''.join(l))\n",
    "            print('------')\n",
    "        l.clear()"
   ]
  },
  {
   "cell_type": "code",
   "execution_count": 13,
   "id": "ac4d4418",
   "metadata": {},
   "outputs": [
    {
     "name": "stdout",
     "output_type": "stream",
     "text": [
      "10\n",
      "((((()))))\n",
      "(((()())))\n",
      "((()(())))\n",
      "(()((())))\n",
      "()(((())))\n",
      "(((())()))\n",
      "((()()()))\n",
      "(()(()()))\n",
      "()((()()))\n",
      "((())(()))\n",
      "(()()(()))\n",
      "()(()(()))\n",
      "(())((()))\n",
      "()()((()))\n",
      "(((()))())\n",
      "((()())())\n",
      "(()(())())\n",
      "()((())())\n",
      "((())()())\n",
      "(()()()())\n",
      "()(()()())\n",
      "(())(()())\n",
      "()()(()())\n",
      "((()))(())\n",
      "(()())(())\n",
      "()(())(())\n",
      "(())()(())\n",
      "()()()(())\n",
      "(((())))()\n",
      "((()()))()\n",
      "(()(()))()\n",
      "()((()))()\n",
      "((())())()\n",
      "(()()())()\n",
      "()(()())()\n",
      "(())(())()\n",
      "()()(())()\n",
      "((()))()()\n",
      "(()())()()\n",
      "()(())()()\n",
      "(())()()()\n",
      "()()()()()\n"
     ]
    }
   ],
   "source": [
    "N = int(input())\n",
    "pair=[]\n",
    "if N % 2 ==1:\n",
    "    print('')\n",
    "else:\n",
    "    l = []\n",
    "    for i in range(2**N):\n",
    "        count = 0\n",
    "        for j in range(N):\n",
    "            # print(i,j)\n",
    "            # print(i>>j)\n",
    "            if (i>>j)&1==1:    # & はどちらもTrueのときにTrue\n",
    "                l.append(')')\n",
    "                count -= 1\n",
    "                if count<0:\n",
    "                    break\n",
    "            else:\n",
    "                l.append('(')\n",
    "                count += 1\n",
    "        if count == 0:\n",
    "            pair.append(''.join(l))\n",
    "        l.clear()\n",
    "for k in reversed(pair):\n",
    "    print(k)"
   ]
  },
  {
   "cell_type": "code",
   "execution_count": 1,
   "id": "dadaedf2",
   "metadata": {},
   "outputs": [
    {
     "name": "stdout",
     "output_type": "stream",
     "text": [
      "abc\n"
     ]
    }
   ],
   "source": [
    "a = ['a', 'b', 'c']\n",
    "print(''.join(a))"
   ]
  },
  {
   "cell_type": "code",
   "execution_count": 17,
   "id": "35d2ed55",
   "metadata": {},
   "outputs": [
    {
     "name": "stdout",
     "output_type": "stream",
     "text": [
      "6\n",
      "((()))\n",
      "(()())\n",
      "(())()\n",
      "()(())\n",
      "()()()\n"
     ]
    }
   ],
   "source": [
    "N=int(input())\n",
    "h=2**N\n",
    "if N%2==0:\n",
    "    for i in range(h-1,h//2-1,-1):\n",
    "        a=list(map(int,format(i,\"0b\")))\n",
    "        k=0\n",
    "        for j in range(N):\n",
    "            k+=a[j]\n",
    "            if k<j+1-k:\n",
    "                break\n",
    "        if N//2==N-k:\n",
    "            a=list(map(str,a))\n",
    "            s=\"\".join(a)\n",
    "            print(s.replace(\"1\",'(').replace(\"0\",')'))"
   ]
  },
  {
   "cell_type": "code",
   "execution_count": 44,
   "id": "7ead8e0d",
   "metadata": {},
   "outputs": [
    {
     "name": "stdout",
     "output_type": "stream",
     "text": [
      "2\n",
      "4\n",
      "6\n",
      "8\n",
      "10\n",
      "12\n"
     ]
    }
   ],
   "source": [
    "for i in range(2, 13, 2):  # (開始要素数、終了要素数、step)\n",
    "    print(i)"
   ]
  },
  {
   "cell_type": "code",
   "execution_count": 45,
   "id": "a10945b3",
   "metadata": {},
   "outputs": [
    {
     "name": "stdout",
     "output_type": "stream",
     "text": [
      "4\n",
      "3\n",
      "2\n",
      "1\n",
      "0\n"
     ]
    }
   ],
   "source": [
    "for j in reversed(range(5)):\n",
    "    print(j)"
   ]
  },
  {
   "cell_type": "code",
   "execution_count": null,
   "id": "61eb4a32",
   "metadata": {},
   "outputs": [],
   "source": []
  }
 ],
 "metadata": {
  "kernelspec": {
   "display_name": "Python 3 (ipykernel)",
   "language": "python",
   "name": "python3"
  },
  "language_info": {
   "codemirror_mode": {
    "name": "ipython",
    "version": 3
   },
   "file_extension": ".py",
   "mimetype": "text/x-python",
   "name": "python",
   "nbconvert_exporter": "python",
   "pygments_lexer": "ipython3",
   "version": "3.9.12"
  }
 },
 "nbformat": 4,
 "nbformat_minor": 5
}
