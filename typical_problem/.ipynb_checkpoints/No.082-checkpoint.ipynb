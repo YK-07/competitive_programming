{
 "cells": [
  {
   "cell_type": "code",
   "execution_count": null,
   "id": "6666129e",
   "metadata": {},
   "outputs": [],
   "source": [
    "# 数学におけるmod　10**9+7の割り算  　modの世界 "
   ]
  },
  {
   "cell_type": "code",
   "execution_count": 2,
   "id": "508c7f22",
   "metadata": {},
   "outputs": [
    {
     "name": "stdout",
     "output_type": "stream",
     "text": [
      "3 6\n",
      "3\n",
      "4\n",
      "5\n"
     ]
    }
   ],
   "source": [
    "L,R=map(int,input().split())\n",
    "for i in range(L,R):\n",
    "    print(i)"
   ]
  },
  {
   "cell_type": "code",
   "execution_count": 146,
   "id": "b04815f8",
   "metadata": {},
   "outputs": [
    {
     "name": "stdout",
     "output_type": "stream",
     "text": [
      "98 100\n",
      "694\n"
     ]
    }
   ],
   "source": [
    "L,R=map(int,input().split())\n",
    "mod=10**9+7\n",
    "ans=0\n",
    "for i in range(L,R+1):\n",
    "    ans+=len(str(i))*i\n",
    "\n",
    "print(ans%mod)"
   ]
  },
  {
   "cell_type": "code",
   "execution_count": 159,
   "id": "76dc9029",
   "metadata": {},
   "outputs": [
    {
     "data": {
      "text/plain": [
       "4851.0"
      ]
     },
     "execution_count": 159,
     "metadata": {},
     "output_type": "execute_result"
    }
   ],
   "source": [
    "98*(98+1)/2"
   ]
  },
  {
   "cell_type": "code",
   "execution_count": 160,
   "id": "c9848c27",
   "metadata": {},
   "outputs": [
    {
     "data": {
      "text/plain": [
       "4851"
      ]
     },
     "execution_count": 160,
     "metadata": {},
     "output_type": "execute_result"
    }
   ],
   "source": [
    "98*(98+1)//2"
   ]
  },
  {
   "cell_type": "code",
   "execution_count": 7,
   "id": "b43790cb",
   "metadata": {},
   "outputs": [
    {
     "name": "stdout",
     "output_type": "stream",
     "text": [
      "381453331666495446 746254773042091083\n",
      "584127830\n"
     ]
    }
   ],
   "source": [
    "L,R=map(int,input().split())\n",
    "mod=10**9+7\n",
    "ans=0\n",
    "def fn(x):\n",
    "    fn=(x*(x+1))%mod//2\n",
    "    return fn\n",
    "for i in range(len(str(L)),len(str(R))+1):\n",
    "    num=10**(i-1)\n",
    "    if len(str(L))==len(str(R)):\n",
    "        ans+=(fn(R)-fn(L-1))*i\n",
    "        ans%=mod\n",
    "    else:\n",
    "        num_small=max(num,L)-1\n",
    "        num_large=min(num*10-1,R)\n",
    "        ans+=(fn(num_large)-fn(num_small))*i\n",
    "        ans%=mod\n",
    "\n",
    "print(int(ans))"
   ]
  },
  {
   "cell_type": "code",
   "execution_count": 5,
   "id": "86234488",
   "metadata": {},
   "outputs": [
    {
     "name": "stdout",
     "output_type": "stream",
     "text": [
      "381453331666495446 746254773042091083\n",
      "584127830\n"
     ]
    }
   ],
   "source": [
    "# fn(x) の計算は '//'だと正解で、'/ 'だと間違い\n",
    "L,R=map(int,input().split())\n",
    "mod=10**9+7\n",
    "ans=0\n",
    "def fn(x):\n",
    "    fn=((x%mod)*((x+1)%mod))//2\n",
    "    return fn\n",
    "for i in range(len(str(L)),len(str(R))+1):\n",
    "    num=10**(i-1)\n",
    "    if len(str(L))==len(str(R)):\n",
    "        ans+=(fn(R)-fn(L-1))*i\n",
    "        ans%=mod\n",
    "    else:\n",
    "        num_small=max(num,L)-1\n",
    "        num_large=min(num*10-1,R)\n",
    "        ans+=(fn(num_large)-fn(num_small))*i\n",
    "        ans%=mod\n",
    "\n",
    "print(int(ans))"
   ]
  },
  {
   "cell_type": "code",
   "execution_count": 144,
   "id": "8e0be3c2",
   "metadata": {},
   "outputs": [
    {
     "name": "stdout",
     "output_type": "stream",
     "text": [
      "818307714 996322150\n"
     ]
    }
   ],
   "source": [
    "print(R,L)"
   ]
  },
  {
   "cell_type": "code",
   "execution_count": 129,
   "id": "eca158da",
   "metadata": {
    "scrolled": true
   },
   "outputs": [
    {
     "name": "stdout",
     "output_type": "stream",
     "text": [
      "381453331666495446 746254773042091083\n",
      "168158148\n"
     ]
    }
   ],
   "source": [
    "L,R=map(int,input().split())\n",
    "mod=10**9+7\n",
    "ans=0\n",
    "def fn(x):\n",
    "    fn=x*(x+1)/2\n",
    "    return fn\n",
    "for i in range(len(str(L)),len(str(R))+1):\n",
    "    num=10**(i-1)\n",
    "    if len(str(L))==len(str(R)):\n",
    "        ans+=(fn(R)-fn(L-1))*i\n",
    "        ans%=mod\n",
    "    else:\n",
    "        num_small=max(num,L)-1\n",
    "        num_large=min(num*10-1,R)\n",
    "        ans+=(fn(num_large)-fn(num_small))*i\n",
    "        ans%=mod\n",
    "        print(int(ans))\n",
    "\n",
    "print(int(ans))"
   ]
  },
  {
   "cell_type": "code",
   "execution_count": 130,
   "id": "dd8703eb",
   "metadata": {},
   "outputs": [
    {
     "name": "stdout",
     "output_type": "stream",
     "text": [
      "381453331666495446 746254773042091083\n",
      "168158148\n"
     ]
    }
   ],
   "source": [
    "L,R=map(int,input().split())\n",
    "mod=10**9+7\n",
    "ans=0\n",
    "def fn(x):\n",
    "    fn=(((x)*(x+1)))/2\n",
    "    return fn\n",
    "\n",
    "if len(str(L))==len(str(R)):\n",
    "    ans+=len(str(L))*((fn(R)-(fn(L-1))))\n",
    "else:\n",
    "    for i in range(len(str(L)),len(str(R))+1):\n",
    "        num=10**i\n",
    "        if i==len(str(L)):\n",
    "            ans+=i*(fn(num-1)-fn(L-1))\n",
    "        elif i!=len(str(R)):\n",
    "            ans+=i*(fn(num-1)-fn(num/10-1))\n",
    "        else:\n",
    "            ans+=i*(fn(R)-fn(num/10-1))\n",
    "\n",
    "print(int(ans%mod))"
   ]
  },
  {
   "cell_type": "code",
   "execution_count": 103,
   "id": "5ca5ec0e",
   "metadata": {},
   "outputs": [
    {
     "data": {
      "text/plain": [
       "6"
      ]
     },
     "execution_count": 103,
     "metadata": {},
     "output_type": "execute_result"
    }
   ],
   "source": [
    "(6%4)*(7%4)"
   ]
  },
  {
   "cell_type": "code",
   "execution_count": 108,
   "id": "2bf51d76",
   "metadata": {},
   "outputs": [
    {
     "name": "stdout",
     "output_type": "stream",
     "text": [
      "-632\n"
     ]
    }
   ],
   "source": [
    "print(584127830-584128462)"
   ]
  },
  {
   "cell_type": "code",
   "execution_count": 92,
   "id": "c5665dd2",
   "metadata": {},
   "outputs": [
    {
     "name": "stdout",
     "output_type": "stream",
     "text": [
      "168158148\n"
     ]
    }
   ],
   "source": [
    "print(int(ans%mod))"
   ]
  },
  {
   "cell_type": "code",
   "execution_count": 96,
   "id": "baa2e31a",
   "metadata": {},
   "outputs": [
    {
     "name": "stdout",
     "output_type": "stream",
     "text": [
      "18\n",
      "18\n",
      "9\n"
     ]
    }
   ],
   "source": [
    "print(len('381453331666495446')) \n",
    "print(len('746254773042091083'))\n",
    "print(len('584127830'))"
   ]
  },
  {
   "cell_type": "code",
   "execution_count": null,
   "id": "bf4cf999",
   "metadata": {},
   "outputs": [],
   "source": [
    "L,R=map(int,input().split())\n",
    "mod=10**9+7\n",
    "ans=0\n",
    "def fn(x):\n",
    "    fn=x*(x+1)/2\n",
    "    return fn\n",
    "\n",
    "for i in range(len(str(L)),len(str(R))+1):#L=20  R=1000 \n",
    "    num=10**i#num=10**3\n",
    "    if i==len(str(L)):#i=2\n",
    "        ans+=i*(fn(num-1)-fn(L-1))# fn(100-1)-fn(20-1)\n",
    "    elif i!=len(str(R)):#i=3\n",
    "        ans+=i*(fn(num-1)-fn(num/10-1))# f(1000-1)-fn(100-1)\n",
    "    else:#i=4\n",
    "        ans+=i*(fn(R)-fn(num/10-1))#fn(1000)-fn(1000-1)\n",
    "\n",
    "print(ans%mod)"
   ]
  },
  {
   "cell_type": "code",
   "execution_count": 27,
   "id": "81fd1f8f",
   "metadata": {},
   "outputs": [],
   "source": [
    "def fn(x):\n",
    "    fn=x*(x+1)/2\n",
    "    return fn"
   ]
  },
  {
   "cell_type": "code",
   "execution_count": 28,
   "id": "f228fa10",
   "metadata": {},
   "outputs": [
    {
     "data": {
      "text/plain": [
       "6.0"
      ]
     },
     "execution_count": 28,
     "metadata": {},
     "output_type": "execute_result"
    }
   ],
   "source": [
    "fn(3)"
   ]
  },
  {
   "cell_type": "code",
   "execution_count": 29,
   "id": "bcb95ccd",
   "metadata": {},
   "outputs": [
    {
     "name": "stdout",
     "output_type": "stream",
     "text": [
      "3\n"
     ]
    }
   ],
   "source": [
    "ans=0\n",
    "ans+=6-3\n",
    "print(ans)"
   ]
  },
  {
   "cell_type": "code",
   "execution_count": null,
   "id": "0a7c8d8f",
   "metadata": {},
   "outputs": [],
   "source": []
  },
  {
   "cell_type": "code",
   "execution_count": null,
   "id": "a4cb0f63",
   "metadata": {},
   "outputs": [],
   "source": []
  }
 ],
 "metadata": {
  "kernelspec": {
   "display_name": "Python 3 (ipykernel)",
   "language": "python",
   "name": "python3"
  },
  "language_info": {
   "codemirror_mode": {
    "name": "ipython",
    "version": 3
   },
   "file_extension": ".py",
   "mimetype": "text/x-python",
   "name": "python",
   "nbconvert_exporter": "python",
   "pygments_lexer": "ipython3",
   "version": "3.9.12"
  }
 },
 "nbformat": 4,
 "nbformat_minor": 5
}
