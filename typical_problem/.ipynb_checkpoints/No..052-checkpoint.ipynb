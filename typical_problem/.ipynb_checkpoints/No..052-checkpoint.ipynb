{
 "cells": [
  {
   "cell_type": "code",
   "execution_count": 1,
   "id": "23bce152",
   "metadata": {},
   "outputs": [
    {
     "name": "stdout",
     "output_type": "stream",
     "text": [
      "1\n",
      "11 13 17 19 23 29\n",
      "112\n"
     ]
    }
   ],
   "source": [
    "N=int(input())\n",
    "mod=10**9+7\n",
    "\n",
    "for i in range(N):\n",
    "    if i==0:\n",
    "        A=list(map(int,input().split()))\n",
    "        A_bef_sum=sum(A)\n",
    "        A_bef_sum%=mod\n",
    "    else:\n",
    "        A=list(map(int,input().split()))\n",
    "        for j in range(6):\n",
    "            A[j]*=A_bef_sum\n",
    "        A_bef_sum=sum(A)\n",
    "        A_bef_sum%=mod\n",
    "\n",
    "print(A_bef_sum)"
   ]
  },
  {
   "cell_type": "code",
   "execution_count": null,
   "id": "95b61747",
   "metadata": {},
   "outputs": [],
   "source": []
  },
  {
   "cell_type": "code",
   "execution_count": null,
   "id": "5baab5c6",
   "metadata": {},
   "outputs": [],
   "source": []
  },
  {
   "cell_type": "code",
   "execution_count": null,
   "id": "7e6319c8",
   "metadata": {},
   "outputs": [],
   "source": []
  },
  {
   "cell_type": "code",
   "execution_count": null,
   "id": "e1580a0f",
   "metadata": {},
   "outputs": [],
   "source": []
  },
  {
   "cell_type": "code",
   "execution_count": null,
   "id": "546940f0",
   "metadata": {},
   "outputs": [],
   "source": []
  },
  {
   "cell_type": "code",
   "execution_count": null,
   "id": "457060e2",
   "metadata": {},
   "outputs": [],
   "source": []
  },
  {
   "cell_type": "code",
   "execution_count": null,
   "id": "0c96cc6a",
   "metadata": {},
   "outputs": [],
   "source": []
  },
  {
   "cell_type": "code",
   "execution_count": null,
   "id": "36a71920",
   "metadata": {},
   "outputs": [],
   "source": []
  }
 ],
 "metadata": {
  "kernelspec": {
   "display_name": "Python 3 (ipykernel)",
   "language": "python",
   "name": "python3"
  },
  "language_info": {
   "codemirror_mode": {
    "name": "ipython",
    "version": 3
   },
   "file_extension": ".py",
   "mimetype": "text/x-python",
   "name": "python",
   "nbconvert_exporter": "python",
   "pygments_lexer": "ipython3",
   "version": "3.9.12"
  }
 },
 "nbformat": 4,
 "nbformat_minor": 5
}
