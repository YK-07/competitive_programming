{
 "cells": [
  {
   "cell_type": "code",
   "execution_count": 4,
   "id": "dcfea428",
   "metadata": {},
   "outputs": [
    {
     "name": "stdout",
     "output_type": "stream",
     "text": [
      "1\n",
      "1 3\n",
      "1\n",
      "9 8\n"
     ]
    }
   ],
   "source": [
    "N=int(input())\n",
    "CP=[list(map(int,input().split())) for _ in range(N)]\n",
    "Q=int(input())\n",
    "LR=[list(map(int,input().split())) for _ in range(Q)]"
   ]
  },
  {
   "cell_type": "code",
   "execution_count": null,
   "id": "5b2d32d9",
   "metadata": {},
   "outputs": [],
   "source": [
    "import sys\n",
    "input = sys.stdin.readline\n",
    "from itertools import accumulate\n",
    "\n",
    "N = int(input())\n",
    "score1 = [0] * (N+1)\n",
    "score2 = [0] * (N+1)\n",
    "# クラスごとに各出席番号の生徒の点数を埋める\n",
    "for i in range(1, N+1):\n",
    "    C, P = map(int, input().split())\n",
    "    if C == 1:\n",
    "        score1[i] = P\n",
    "    else:\n",
    "        score2[i] = P\n",
    "# 累積和を計算\n",
    "cum1 = list(accumulate(score1))\n",
    "cum2 = list(accumulate(score2))\n",
    "Q = int(input())\n",
    "# L, Rを受け取って点数を出力\n",
    "for _ in range(Q):\n",
    "    L, R = map(int, input().split())\n",
    "    print(cum1[R] - cum1[L-1], cum2[R] - cum2[L-1])"
   ]
  },
  {
   "cell_type": "code",
   "execution_count": null,
   "id": "3adc68cd",
   "metadata": {},
   "outputs": [],
   "source": [
    "import sys \n",
    "input = sys.stdin.readline\n",
    " \n",
    "N=int(input())\n",
    "C1=[0]*(N+1)\n",
    "C2=[0]*(N+1)\n",
    "C1tmp=0\n",
    "C2tmp=0\n",
    "for i in range(N):\n",
    "    A, B = map(int, input().split())\n",
    "    if A==1:\n",
    "        C1tmp += B\n",
    "        C1[i+1]=C1tmp\n",
    "        C2[i+1]=C2tmp\n",
    "    else:\n",
    "        C2tmp += B\n",
    "        C1[i+1]=C1tmp\n",
    "        C2[i+1]=C2tmp\n",
    "ans=[]\n",
    "Q=int(input())\n",
    "for i in range(Q):\n",
    "    A, B = map(int, input().split())\n",
    "    ans.append([C1[B]-C1[A-1], C2[B]-C2[A-1]])\n",
    "\n",
    "for i in ans:\n",
    "    print(*i)"
   ]
  },
  {
   "cell_type": "code",
   "execution_count": 11,
   "id": "1bb33378",
   "metadata": {},
   "outputs": [
    {
     "name": "stdout",
     "output_type": "stream",
     "text": [
      "7\n",
      "1 72\n",
      "2 78\n",
      "2 94\n",
      "1 23\n",
      "2 89\n",
      "1 40\n",
      "1 75\n",
      "3\n",
      "1 3\n",
      "72 172\n",
      "2 4\n",
      "23 172\n",
      "3 5\n",
      "23 183\n"
     ]
    }
   ],
   "source": [
    "# TLE\n",
    "N=int(input())\n",
    "CP=[list(map(int,input().split())) for _ in range(N)]\n",
    "Q=int(input())\n",
    "for _ in range(Q):\n",
    "    L,R=map(int,input().split())\n",
    "    ans1,ans2=0,0\n",
    "    for i in range(L-1,R):\n",
    "        if CP[i][0]==1:\n",
    "            ans1+=CP[i][1]\n",
    "        else:\n",
    "            ans2+=CP[i][1]\n",
    "    print(ans1,ans2)"
   ]
  },
  {
   "cell_type": "code",
   "execution_count": 15,
   "id": "6c8f85d7",
   "metadata": {},
   "outputs": [
    {
     "name": "stdout",
     "output_type": "stream",
     "text": [
      "7\n",
      "1 72\n",
      "2 78\n",
      "2 94\n",
      "1 23\n",
      "2 89\n",
      "1 40\n",
      "1 75\n",
      "3\n",
      "1 3\n",
      "72 172\n",
      "2 4\n",
      "23 172\n",
      "3 5\n",
      "23 183\n"
     ]
    }
   ],
   "source": [
    "# TLE\n",
    "N=int(input())\n",
    "CP=[list(map(int,input().split())) for _ in range(N)]\n",
    "Q=int(input())\n",
    "for _ in range(Q):\n",
    "    L,R=map(int,input().split())\n",
    "    ans1,ans2=0,0    \n",
    "    for i in range(L-1,R):\n",
    "        CP_tem=CP[i]\n",
    "        if CP_tem[0]==1:\n",
    "            ans1+=CP_tem[1]\n",
    "        else:\n",
    "            ans2+=CP_tem[1]\n",
    "    print(ans1,ans2)"
   ]
  },
  {
   "cell_type": "code",
   "execution_count": null,
   "id": "31c60e26",
   "metadata": {},
   "outputs": [],
   "source": []
  },
  {
   "cell_type": "code",
   "execution_count": null,
   "id": "e0d4b0ce",
   "metadata": {},
   "outputs": [],
   "source": []
  },
  {
   "cell_type": "code",
   "execution_count": null,
   "id": "e91bc101",
   "metadata": {},
   "outputs": [],
   "source": []
  }
 ],
 "metadata": {
  "kernelspec": {
   "display_name": "Python 3 (ipykernel)",
   "language": "python",
   "name": "python3"
  },
  "language_info": {
   "codemirror_mode": {
    "name": "ipython",
    "version": 3
   },
   "file_extension": ".py",
   "mimetype": "text/x-python",
   "name": "python",
   "nbconvert_exporter": "python",
   "pygments_lexer": "ipython3",
   "version": "3.9.12"
  }
 },
 "nbformat": 4,
 "nbformat_minor": 5
}
