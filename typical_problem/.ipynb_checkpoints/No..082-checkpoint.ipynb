{
 "cells": [
  {
   "cell_type": "code",
   "execution_count": 42,
   "id": "9e66f376",
   "metadata": {},
   "outputs": [
    {
     "name": "stdout",
     "output_type": "stream",
     "text": [
      "381453331666495446 746254773042091083\n",
      "584127830\n"
     ]
    }
   ],
   "source": [
    "L,R=map(int,input().split())\n",
    "mod=10**9+7\n",
    "L_len,R_len=len(str(L)),len(str(R))\n",
    "\n",
    "if L_len==R_len:\n",
    "    ans=L_len*(L+R)*(R-L+1)//2\n",
    "    ans%=mod\n",
    "else:\n",
    "    ans=0\n",
    "    for i in range(L_len,R_len+1):\n",
    "        if i==L_len:\n",
    "            a_1=L\n",
    "            a_n=10**i-1\n",
    "            ans+=i*(a_1+a_n)*(a_n-a_1+1)//2\n",
    "            ans%=mod\n",
    "        elif i!=L_len and i!=R_len:\n",
    "            a_1=10**(i-1)\n",
    "            a_1%=mod\n",
    "            a_n=10**i-1\n",
    "            a_n%=mod\n",
    "            ans+=i*(a_1+a_n)*(a_n-a_1+1)//2\n",
    "            ans%=mod\n",
    "        else:# i==R_len\n",
    "            a_1=10**(i-1)\n",
    "            a_1%=mod\n",
    "            a_n=R\n",
    "            a_n%=mod           \n",
    "            ans+=i*(a_1+a_n)*(a_n-a_1+1)//2\n",
    "            ans%=mod\n",
    "            \n",
    "print(ans)"
   ]
  },
  {
   "cell_type": "code",
   "execution_count": null,
   "id": "5e6b77d7",
   "metadata": {},
   "outputs": [],
   "source": [
    "L,R=map(int,input().split())\n",
    "mod=10**9+7\n",
    "L_len,R_len=len(str(L)),len(str(R))\n",
    "\n",
    "if L_len==R_len:\n",
    "    ans=L_len*(L+R)*(R-L+1)//2\n",
    "    ans%=mod\n",
    "else:\n",
    "    ans=0\n",
    "    for i in range(L_len,R_len+1):\n",
    "        if i==L_len:\n",
    "            a_1=L\n",
    "            a_n=10**i-1\n",
    "            ans+=i*(a_1+a_n)*(a_n-a_1+1)//2\n",
    "            ans%=mod\n",
    "        elif i!=L_len and i!=R_len:\n",
    "            a_1=10**(i-1)\n",
    "            a_n=10**i-1\n",
    "            ans+=i*(a_1+a_n)*(a_n-a_1+1)//2\n",
    "            ans%=mod\n",
    "        else:# i==R_len\n",
    "            a_1=10**(i-1)\n",
    "            a_n=R         \n",
    "            ans+=i*(a_1+a_n)*(a_n-a_1+1)//2\n",
    "            ans%=mod\n",
    "            \n",
    "print(ans)"
   ]
  },
  {
   "cell_type": "code",
   "execution_count": 35,
   "id": "6a6180f9",
   "metadata": {},
   "outputs": [
    {
     "data": {
      "text/plain": [
       "2"
      ]
     },
     "execution_count": 35,
     "metadata": {},
     "output_type": "execute_result"
    }
   ],
   "source": [
    "L_len"
   ]
  },
  {
   "cell_type": "code",
   "execution_count": 38,
   "id": "a4079571",
   "metadata": {},
   "outputs": [
    {
     "data": {
      "text/plain": [
       "3"
      ]
     },
     "execution_count": 38,
     "metadata": {},
     "output_type": "execute_result"
    }
   ],
   "source": [
    "R_len"
   ]
  },
  {
   "cell_type": "code",
   "execution_count": 5,
   "id": "15e8fcc7",
   "metadata": {},
   "outputs": [
    {
     "name": "stdout",
     "output_type": "stream",
     "text": [
      "32 34\n"
     ]
    }
   ],
   "source": [
    "L,R=map(int,input().split())\n",
    "L_len,R_len=len(str(L)),len(str(R))"
   ]
  },
  {
   "cell_type": "code",
   "execution_count": 10,
   "id": "2209ecb5",
   "metadata": {},
   "outputs": [
    {
     "data": {
      "text/plain": [
       "198"
      ]
     },
     "execution_count": 10,
     "metadata": {},
     "output_type": "execute_result"
    }
   ],
   "source": [
    "L_len*(L+R)*(R-L+1)//2"
   ]
  },
  {
   "cell_type": "code",
   "execution_count": 19,
   "id": "43376ff2",
   "metadata": {},
   "outputs": [],
   "source": [
    "i=2\n",
    "L=98"
   ]
  },
  {
   "cell_type": "code",
   "execution_count": 20,
   "id": "e639291c",
   "metadata": {},
   "outputs": [],
   "source": [
    "ans=i*(L+10**i-1)*(10**i-1-L+1)//2"
   ]
  },
  {
   "cell_type": "code",
   "execution_count": 21,
   "id": "44bd7784",
   "metadata": {},
   "outputs": [
    {
     "data": {
      "text/plain": [
       "394"
      ]
     },
     "execution_count": 21,
     "metadata": {},
     "output_type": "execute_result"
    }
   ],
   "source": [
    "ans"
   ]
  },
  {
   "cell_type": "code",
   "execution_count": 22,
   "id": "de928e94",
   "metadata": {},
   "outputs": [
    {
     "data": {
      "text/plain": [
       "197"
      ]
     },
     "execution_count": 22,
     "metadata": {},
     "output_type": "execute_result"
    }
   ],
   "source": [
    "(L+10**i-1)*(10**i-1-L+1)//2"
   ]
  },
  {
   "cell_type": "code",
   "execution_count": null,
   "id": "96d575e5",
   "metadata": {},
   "outputs": [],
   "source": []
  }
 ],
 "metadata": {
  "kernelspec": {
   "display_name": "Python 3 (ipykernel)",
   "language": "python",
   "name": "python3"
  },
  "language_info": {
   "codemirror_mode": {
    "name": "ipython",
    "version": 3
   },
   "file_extension": ".py",
   "mimetype": "text/x-python",
   "name": "python",
   "nbconvert_exporter": "python",
   "pygments_lexer": "ipython3",
   "version": "3.9.12"
  }
 },
 "nbformat": 4,
 "nbformat_minor": 5
}
