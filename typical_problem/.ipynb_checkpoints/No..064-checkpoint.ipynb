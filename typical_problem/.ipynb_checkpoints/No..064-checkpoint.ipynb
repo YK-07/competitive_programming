{
 "cells": [
  {
   "cell_type": "code",
   "execution_count": null,
   "id": "829c4310",
   "metadata": {},
   "outputs": [],
   "source": [
    "# AC\n",
    "N,Q=map(int,input().split())\n",
    "A=list(map(int,input().split()))\n",
    "Fluctuation=[list(map(int,input().split())) for _ in range(Q)]\n",
    "diff=[0]*(N-1)\n",
    "for i in range(N-1):\n",
    "    diff[i]=A[i+1]-A[i]\n",
    "ans=sum([abs(x) for x in diff])\n",
    "for l,r,v in Fluctuation:\n",
    "    l-=1\n",
    "    r-=1\n",
    "    if l!=0:\n",
    "        ans+=abs(diff[l-1]+v)-abs(diff[l-1])\n",
    "        diff[l-1]+=v\n",
    "    if r!=N-1:\n",
    "        ans+=abs(diff[r]-v)-abs(diff[r])\n",
    "        diff[r]-=v\n",
    "    print(ans)"
   ]
  },
  {
   "cell_type": "code",
   "execution_count": 16,
   "id": "3b14f0c6",
   "metadata": {},
   "outputs": [
    {
     "name": "stdout",
     "output_type": "stream",
     "text": [
      "3 3\n",
      "1 2 3\n",
      "2 3 1\n",
      "3\n",
      "1 2 -1\n",
      "4\n",
      "1 3 2\n",
      "4\n"
     ]
    }
   ],
   "source": [
    "# AC\n",
    "N,Q=map(int,input().split())\n",
    "A=list(map(int,input().split()))\n",
    "diff=[]\n",
    "for i in range(N-1):\n",
    "    _diff=A[i+1]-A[i]\n",
    "    diff.append(_diff)\n",
    "ans=sum([abs(x) for x in diff])\n",
    "\n",
    "for _ in range(Q):\n",
    "    L,R,V=map(int,input().split())\n",
    "    if R==N and L!=1:\n",
    "        diff_L=diff[L-2]\n",
    "        diff[L-2]+=V\n",
    "        ans+=abs(diff[L-2])-abs(diff_L)\n",
    "    elif L==1 and R!=N:\n",
    "        diff_R=diff[R-1]\n",
    "        diff[R-1]-=V\n",
    "        ans+=abs(diff[R-1])-abs(diff_R)\n",
    "    elif R==N and L==1:\n",
    "        pass    \n",
    "    else:# R!=N and L!=1\n",
    "        diff_L=diff[L-2]\n",
    "        diff_R=diff[R-1]\n",
    "        diff[L-2]+=V\n",
    "        diff[R-1]-=V\n",
    "        ans+=abs(diff[L-2])-abs(diff_L)\n",
    "        ans+=abs(diff[R-1])-abs(diff_R)\n",
    "    print(ans)"
   ]
  },
  {
   "cell_type": "code",
   "execution_count": null,
   "id": "d0b222b8",
   "metadata": {},
   "outputs": [],
   "source": [
    "3 3\n",
    "1 2 3\n",
    "2 3 1\n",
    "3\n",
    "1 2 -1\n",
    "4\n",
    "1 3 2\n",
    "4"
   ]
  },
  {
   "cell_type": "code",
   "execution_count": 13,
   "id": "c4025228",
   "metadata": {},
   "outputs": [
    {
     "ename": "TypeError",
     "evalue": "'int' object is not subscriptable",
     "output_type": "error",
     "traceback": [
      "\u001b[1;31m---------------------------------------------------------------------------\u001b[0m",
      "\u001b[1;31mTypeError\u001b[0m                                 Traceback (most recent call last)",
      "Input \u001b[1;32mIn [13]\u001b[0m, in \u001b[0;36m<cell line: 1>\u001b[1;34m()\u001b[0m\n\u001b[1;32m----> 1\u001b[0m _diff[L\u001b[38;5;241m-\u001b[39m\u001b[38;5;241m2\u001b[39m]\u001b[38;5;241m+\u001b[39m\u001b[38;5;241m=\u001b[39mV\n",
      "\u001b[1;31mTypeError\u001b[0m: 'int' object is not subscriptable"
     ]
    }
   ],
   "source": [
    "_diff[L-2]+=V"
   ]
  },
  {
   "cell_type": "code",
   "execution_count": 4,
   "id": "24618760",
   "metadata": {},
   "outputs": [
    {
     "data": {
      "text/plain": [
       "[1, 1]"
      ]
     },
     "execution_count": 4,
     "metadata": {},
     "output_type": "execute_result"
    }
   ],
   "source": [
    "diff"
   ]
  },
  {
   "cell_type": "code",
   "execution_count": 7,
   "id": "eef71e5b",
   "metadata": {},
   "outputs": [],
   "source": [
    "dif=[1,2,3]\n",
    "V=2\n",
    "dif[1]+=V"
   ]
  },
  {
   "cell_type": "code",
   "execution_count": 8,
   "id": "badb896f",
   "metadata": {},
   "outputs": [
    {
     "data": {
      "text/plain": [
       "4"
      ]
     },
     "execution_count": 8,
     "metadata": {},
     "output_type": "execute_result"
    }
   ],
   "source": [
    "dif[1]"
   ]
  },
  {
   "cell_type": "code",
   "execution_count": null,
   "id": "ca0af0ed",
   "metadata": {},
   "outputs": [],
   "source": []
  },
  {
   "cell_type": "code",
   "execution_count": null,
   "id": "7386edc0",
   "metadata": {},
   "outputs": [],
   "source": []
  },
  {
   "cell_type": "code",
   "execution_count": null,
   "id": "cde48226",
   "metadata": {},
   "outputs": [],
   "source": []
  },
  {
   "cell_type": "code",
   "execution_count": null,
   "id": "12e6ae5c",
   "metadata": {},
   "outputs": [],
   "source": []
  }
 ],
 "metadata": {
  "kernelspec": {
   "display_name": "Python 3 (ipykernel)",
   "language": "python",
   "name": "python3"
  },
  "language_info": {
   "codemirror_mode": {
    "name": "ipython",
    "version": 3
   },
   "file_extension": ".py",
   "mimetype": "text/x-python",
   "name": "python",
   "nbconvert_exporter": "python",
   "pygments_lexer": "ipython3",
   "version": "3.9.12"
  }
 },
 "nbformat": 4,
 "nbformat_minor": 5
}
