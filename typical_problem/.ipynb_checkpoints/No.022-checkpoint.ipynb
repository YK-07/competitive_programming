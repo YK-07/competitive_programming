{
 "cells": [
  {
   "cell_type": "code",
   "execution_count": 39,
   "id": "ed68bbd6",
   "metadata": {
    "scrolled": true
   },
   "outputs": [
    {
     "name": "stdout",
     "output_type": "stream",
     "text": [
      "24 30 12\n",
      "8\n"
     ]
    }
   ],
   "source": [
    "num=list(map(int, input().split()))\n",
    "num.sort()\n",
    "a,b,c=num\n",
    "import math\n",
    "d=math.gcd(a,b,c)\n",
    "if c%a==0 and b%a==0 and a<b<c:\n",
    "    ans=c//a+b//c-2\n",
    "    print(ans)\n",
    "\n",
    "elif c%a==0 and b%a==0 and a==b<c:\n",
    "    ans=c//a-1\n",
    "    print(ans)\n",
    "elif a==b==c:\n",
    "    print(0)\n",
    "elif d>=2:\n",
    "    ans=a//d+b//d+c//d-3\n",
    "    print(ans)\n",
    "else:\n",
    "    ans=a-1+b-1+c-1\n",
    "    print(ans)"
   ]
  },
  {
   "cell_type": "code",
   "execution_count": 24,
   "id": "fa00e673",
   "metadata": {},
   "outputs": [
    {
     "data": {
      "text/plain": [
       "0"
      ]
     },
     "execution_count": 24,
     "metadata": {},
     "output_type": "execute_result"
    }
   ],
   "source": [
    "8%1"
   ]
  },
  {
   "cell_type": "code",
   "execution_count": 26,
   "id": "2f9b99d4",
   "metadata": {},
   "outputs": [
    {
     "data": {
      "text/plain": [
       "0"
      ]
     },
     "execution_count": 26,
     "metadata": {},
     "output_type": "execute_result"
    }
   ],
   "source": [
    "1%1"
   ]
  },
  {
   "cell_type": "code",
   "execution_count": 33,
   "id": "197b9a70",
   "metadata": {},
   "outputs": [
    {
     "data": {
      "text/plain": [
       "2"
      ]
     },
     "execution_count": 33,
     "metadata": {},
     "output_type": "execute_result"
    }
   ],
   "source": [
    "import math\n",
    "math.gcd(24,30, 10)"
   ]
  },
  {
   "cell_type": "code",
   "execution_count": 40,
   "id": "bb3e8b1c",
   "metadata": {},
   "outputs": [
    {
     "name": "stdout",
     "output_type": "stream",
     "text": [
      "6\n"
     ]
    }
   ],
   "source": [
    "print(d)"
   ]
  },
  {
   "cell_type": "code",
   "execution_count": 43,
   "id": "ffb37074",
   "metadata": {},
   "outputs": [
    {
     "ename": "IndentationError",
     "evalue": "expected an indented block (3931941475.py, line 3)",
     "output_type": "error",
     "traceback": [
      "\u001b[1;36m  Input \u001b[1;32mIn [43]\u001b[1;36m\u001b[0m\n\u001b[1;33m    a,b = b, a % b\u001b[0m\n\u001b[1;37m    ^\u001b[0m\n\u001b[1;31mIndentationError\u001b[0m\u001b[1;31m:\u001b[0m expected an indented block\n"
     ]
    }
   ],
   "source": [
    "def gcd(a, b):\n",
    "    while b > 0:\n",
    "    a,b = b,a % b\n",
    "    return a\n",
    " \n",
    "A,B,C=map(int,input().split())\n",
    "r=gcd(A,gcd(B,C))"
   ]
  },
  {
   "cell_type": "code",
   "execution_count": null,
   "id": "c364b65f",
   "metadata": {},
   "outputs": [],
   "source": []
  }
 ],
 "metadata": {
  "kernelspec": {
   "display_name": "Python 3 (ipykernel)",
   "language": "python",
   "name": "python3"
  },
  "language_info": {
   "codemirror_mode": {
    "name": "ipython",
    "version": 3
   },
   "file_extension": ".py",
   "mimetype": "text/x-python",
   "name": "python",
   "nbconvert_exporter": "python",
   "pygments_lexer": "ipython3",
   "version": "3.9.12"
  }
 },
 "nbformat": 4,
 "nbformat_minor": 5
}
