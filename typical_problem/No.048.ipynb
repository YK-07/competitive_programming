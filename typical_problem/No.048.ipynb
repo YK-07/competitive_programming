{
 "cells": [
  {
   "cell_type": "code",
   "execution_count": 16,
   "id": "276ed82c",
   "metadata": {},
   "outputs": [
    {
     "name": "stdout",
     "output_type": "stream",
     "text": [
      "10 12\n",
      "987753612 748826789\n",
      "36950727 36005047\n",
      "961239509 808587458\n",
      "905633062 623962559\n",
      "940964276 685396947\n",
      "959540552 928301562\n",
      "60467784 37828572\n",
      "953685176 482123245\n",
      "87983282 66762644\n",
      "912605260 709048491\n",
      "6437530406\n"
     ]
    }
   ],
   "source": [
    "n,k=map(int,input().split())\n",
    "ab=[]\n",
    "for _ in range(n):\n",
    "    a,b=map(int,input().split())\n",
    "    a=a-b\n",
    "    ab.append(a)\n",
    "    ab.append(b)\n",
    "ab.sort(reverse=True)\n",
    "ans=0\n",
    "for i in range(k):\n",
    "    ans+=ab[i]\n",
    "print(ans)"
   ]
  },
  {
   "cell_type": "code",
   "execution_count": null,
   "id": "837f4e13",
   "metadata": {},
   "outputs": [],
   "source": [
    "10 12\n",
    "987753612 748826789\n",
    "36950727 36005047\n",
    "961239509 808587458\n",
    "905633062 623962559\n",
    "940964276 685396947\n",
    "959540552 928301562\n",
    "60467784 37828572\n",
    "953685176 482123245\n",
    "87983282 66762644\n",
    "912605260 709048491"
   ]
  },
  {
   "cell_type": "code",
   "execution_count": 12,
   "id": "b27af354",
   "metadata": {
    "scrolled": true
   },
   "outputs": [],
   "source": [
    "a=[2,12,14,65,45]\n",
    "a.sort(reverse=True)"
   ]
  },
  {
   "cell_type": "code",
   "execution_count": null,
   "id": "b3fad867",
   "metadata": {},
   "outputs": [],
   "source": []
  }
 ],
 "metadata": {
  "kernelspec": {
   "display_name": "Python 3 (ipykernel)",
   "language": "python",
   "name": "python3"
  },
  "language_info": {
   "codemirror_mode": {
    "name": "ipython",
    "version": 3
   },
   "file_extension": ".py",
   "mimetype": "text/x-python",
   "name": "python",
   "nbconvert_exporter": "python",
   "pygments_lexer": "ipython3",
   "version": "3.9.12"
  }
 },
 "nbformat": 4,
 "nbformat_minor": 5
}
