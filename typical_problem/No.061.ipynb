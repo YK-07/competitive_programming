{
 "cells": [
  {
   "cell_type": "code",
   "execution_count": 8,
   "id": "95edf6ba",
   "metadata": {},
   "outputs": [
    {
     "name": "stdout",
     "output_type": "stream",
     "text": [
      "6\n",
      "1 100000\n",
      "2 200000\n",
      "1 3000000\n",
      "2 400000\n",
      "1 5000000\n",
      "3 3\n",
      "100000\n"
     ]
    }
   ],
   "source": [
    "Q=int(input())\n",
    "txs=[list(map(int,input().split())) for _ in range(Q)]\n",
    "num=[]\n",
    "num_rev=[]\n",
    "num_vol=0\n",
    "\n",
    "for tx in txs:\n",
    "    if tx[0]==1:\n",
    "        num.append(tx[1])\n",
    "        num_vol+=1\n",
    "    elif tx[0]==2:\n",
    "        num_rev.append(tx[1])\n",
    "    else:\n",
    "        if num_vol>=tx[1]:\n",
    "            print(num[-tx[1]])\n",
    "        else:\n",
    "            print(num_rev[tx[1]-num_vol-1])"
   ]
  },
  {
   "cell_type": "code",
   "execution_count": null,
   "id": "5f90e7b1",
   "metadata": {},
   "outputs": [],
   "source": [
    "# python　collections.dequeは計算量 O(1) で双方向から挿入、削除ができる\n",
    "import collections\n",
    "import itertools\n",
    "import math\n",
    "import re\n",
    "import sys\n",
    "import heapq\n",
    " \n",
    "input = sys.stdin.readline\n",
    " \n",
    "def main():\n",
    "    d = collections.deque()\n",
    "    Q = int(input())\n",
    "    for _ in range(Q):\n",
    "        t, x = map(int, input().split())\n",
    "        if t == 1:\n",
    "            d.appendleft(x)\n",
    "        elif t == 2:\n",
    "            d.append(x)\n",
    "        else:\n",
    "            print(d[x-1])\n",
    "\n",
    "if __name__ == '__main__':\n",
    "    main()"
   ]
  },
  {
   "cell_type": "code",
   "execution_count": null,
   "id": "b9f46386",
   "metadata": {},
   "outputs": [],
   "source": []
  },
  {
   "cell_type": "code",
   "execution_count": null,
   "id": "7a0f88c8",
   "metadata": {},
   "outputs": [],
   "source": []
  },
  {
   "cell_type": "code",
   "execution_count": null,
   "id": "6929e009",
   "metadata": {},
   "outputs": [],
   "source": []
  },
  {
   "cell_type": "code",
   "execution_count": null,
   "id": "c8c8bb52",
   "metadata": {},
   "outputs": [],
   "source": []
  }
 ],
 "metadata": {
  "kernelspec": {
   "display_name": "Python 3 (ipykernel)",
   "language": "python",
   "name": "python3"
  },
  "language_info": {
   "codemirror_mode": {
    "name": "ipython",
    "version": 3
   },
   "file_extension": ".py",
   "mimetype": "text/x-python",
   "name": "python",
   "nbconvert_exporter": "python",
   "pygments_lexer": "ipython3",
   "version": "3.9.12"
  }
 },
 "nbformat": 4,
 "nbformat_minor": 5
}
