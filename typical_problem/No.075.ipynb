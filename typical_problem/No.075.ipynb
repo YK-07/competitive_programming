{
 "cells": [
  {
   "cell_type": "code",
   "execution_count": 52,
   "id": "6b7c71e5",
   "metadata": {},
   "outputs": [
    {
     "name": "stdout",
     "output_type": "stream",
     "text": [
      "53\n",
      "0\n"
     ]
    }
   ],
   "source": [
    "n=int(input())\n",
    "def factorization(n):\n",
    "    arr = 0\n",
    "    temp = n\n",
    "    for i in range(2, int(-(-n**0.5//1))+1):\n",
    "        if temp%i==0:\n",
    "            cnt=0\n",
    "            while temp%i==0:\n",
    "                cnt+=1\n",
    "                temp //= i\n",
    "            arr+=cnt\n",
    "\n",
    "    if temp!=1:\n",
    "        arr+=1\n",
    "    if arr==0:\n",
    "        arr+=1\n",
    "\n",
    "    return arr\n",
    "\n",
    "pr_de=factorization(n)\n",
    "num=2\n",
    "ans=1\n",
    "while num<pr_de:\n",
    "    num*=2\n",
    "    ans+=1\n",
    "if pr_de==1:\n",
    "    print(0)\n",
    "else:\n",
    "    print(ans)\n"
   ]
  },
  {
   "cell_type": "code",
   "execution_count": 49,
   "id": "7b0816ec",
   "metadata": {
    "scrolled": true
   },
   "outputs": [
    {
     "data": {
      "text/plain": [
       "2"
      ]
     },
     "execution_count": 49,
     "metadata": {},
     "output_type": "execute_result"
    }
   ],
   "source": [
    "pr_de"
   ]
  },
  {
   "cell_type": "code",
   "execution_count": 31,
   "id": "0ae8eadb",
   "metadata": {},
   "outputs": [
    {
     "name": "stdout",
     "output_type": "stream",
     "text": [
      "2\n"
     ]
    }
   ],
   "source": [
    "arr=4\n",
    "num=2\n",
    "ans=1\n",
    "while num<arr:\n",
    "    num*=2\n",
    "    ans+=1\n",
    "\n",
    "if num==arr:\n",
    "    print(ans)\n",
    "else:\n",
    "    print(ans+1)"
   ]
  },
  {
   "cell_type": "code",
   "execution_count": 21,
   "id": "478791b3",
   "metadata": {},
   "outputs": [
    {
     "data": {
      "text/plain": [
       "12"
      ]
     },
     "execution_count": 21,
     "metadata": {},
     "output_type": "execute_result"
    }
   ],
   "source": [
    "len(str(2**38))"
   ]
  },
  {
   "cell_type": "code",
   "execution_count": null,
   "id": "f8c340e9",
   "metadata": {},
   "outputs": [],
   "source": [
    "54==(2**1)*(3**3) #4"
   ]
  },
  {
   "cell_type": "code",
   "execution_count": 39,
   "id": "d23e8f77",
   "metadata": {},
   "outputs": [
    {
     "name": "stdout",
     "output_type": "stream",
     "text": [
      "5\n"
     ]
    }
   ],
   "source": [
    "def factorization(n):\n",
    "    arr = 0\n",
    "    temp = n\n",
    "    for i in range(2, int(-(-n**0.5//1))+1):\n",
    "        if temp%i==0:\n",
    "            cnt=0\n",
    "            while temp%i==0:\n",
    "                cnt+=1\n",
    "                temp //= i\n",
    "            arr+=cnt\n",
    "\n",
    "    if temp!=1:\n",
    "        arr+=1\n",
    "\n",
    "    if arr==0:\n",
    "        arr+=1\n",
    "\n",
    "    return arr\n",
    "print(factorization(48))"
   ]
  },
  {
   "cell_type": "code",
   "execution_count": 6,
   "id": "63fac1de",
   "metadata": {},
   "outputs": [
    {
     "data": {
      "text/plain": [
       "1"
      ]
     },
     "execution_count": 6,
     "metadata": {},
     "output_type": "execute_result"
    }
   ],
   "source": [
    "factorization(7)"
   ]
  },
  {
   "cell_type": "code",
   "execution_count": 1,
   "id": "b36dab8a",
   "metadata": {},
   "outputs": [
    {
     "data": {
      "text/plain": [
       "[[2, 3], [3, 1]]"
      ]
     },
     "execution_count": 1,
     "metadata": {},
     "output_type": "execute_result"
    }
   ],
   "source": [
    "\"\"\"nを素因数分解\"\"\"\n",
    "\"\"\"2以上の整数n => [[素因数, 指数], ...]の2次元リスト\"\"\"\n",
    "\n",
    "def factorization(n):\n",
    "    arr = []\n",
    "    temp = n\n",
    "    for i in range(2, int(-(-n**0.5//1))+1):\n",
    "        if temp%i==0:\n",
    "            cnt=0\n",
    "            while temp%i==0:\n",
    "                cnt+=1\n",
    "                temp //= i\n",
    "            arr.append([i, cnt])\n",
    "\n",
    "    if temp!=1:\n",
    "        arr.append([temp, 1])\n",
    "\n",
    "    if arr==[]:\n",
    "        arr.append([n, 1])\n",
    "\n",
    "    return arr\n",
    "\n",
    "factorization(24) \n",
    "\n",
    "## [[2, 3], [3, 1]] \n",
    "##  24 = 2^3 * 3^1"
   ]
  },
  {
   "cell_type": "code",
   "execution_count": null,
   "id": "f73dbd0a",
   "metadata": {},
   "outputs": [],
   "source": []
  },
  {
   "cell_type": "code",
   "execution_count": null,
   "id": "33cf759c",
   "metadata": {},
   "outputs": [],
   "source": []
  },
  {
   "cell_type": "code",
   "execution_count": null,
   "id": "d5181105",
   "metadata": {},
   "outputs": [],
   "source": []
  },
  {
   "cell_type": "code",
   "execution_count": null,
   "id": "0b802d10",
   "metadata": {},
   "outputs": [],
   "source": []
  }
 ],
 "metadata": {
  "kernelspec": {
   "display_name": "Python 3 (ipykernel)",
   "language": "python",
   "name": "python3"
  },
  "language_info": {
   "codemirror_mode": {
    "name": "ipython",
    "version": 3
   },
   "file_extension": ".py",
   "mimetype": "text/x-python",
   "name": "python",
   "nbconvert_exporter": "python",
   "pygments_lexer": "ipython3",
   "version": "3.9.12"
  }
 },
 "nbformat": 4,
 "nbformat_minor": 5
}
