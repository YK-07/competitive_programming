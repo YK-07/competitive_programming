{
 "cells": [
  {
   "cell_type": "code",
   "execution_count": null,
   "id": "74ce5249",
   "metadata": {},
   "outputs": [],
   "source": [
    "N,K = map(int, input().split())\n",
    "A=list(map(int, input().split()))\n",
    "B=list(map(int, input().split()))\n",
    "AB=0\n",
    "for i in range(N):\n",
    "    AB+=abs(A[i]-B[i])\n",
    "if AB%2==0 and K%2==0 and AB<=K:\n",
    "    print('Yes')\n",
    "elif AB%2==1 and K%2==1 and AB<=K:\n",
    "    print('Yes')\n",
    "else:\n",
    "    print('No')"
   ]
  },
  {
   "cell_type": "code",
   "execution_count": 15,
   "id": "a99b472b",
   "metadata": {},
   "outputs": [
    {
     "name": "stdout",
     "output_type": "stream",
     "text": [
      "5 3\n",
      "2\n",
      "8\n",
      "No\n"
     ]
    }
   ],
   "source": [
    "N,K = map(int, input().split())\n",
    "A=list(map(int, input().split()))\n",
    "B=list(map(int, input().split()))\n",
    "AB=abs(sum(A)-sum(B))\n",
    "if AB%2==0 and K%2==0 and AB<=K:\n",
    "    print('Yes')\n",
    "elif AB%2==1 and K%2==1 and AB<=K:\n",
    "    print('Yes')\n",
    "else:\n",
    "    print('No')"
   ]
  },
  {
   "cell_type": "code",
   "execution_count": 14,
   "id": "871024c9",
   "metadata": {},
   "outputs": [
    {
     "name": "stdout",
     "output_type": "stream",
     "text": [
      "3 1\n",
      "7 8 9\n",
      "7 8 9\n",
      "No\n"
     ]
    }
   ],
   "source": [
    "N,K = map(int, input().split())\n",
    "A=list(map(int, input().split()))\n",
    "B=list(map(int, input().split()))\n",
    "Asum=sum(A)\n",
    "Bsum=sum(B)\n",
    "AB=Asum-Bsum\n",
    "if AB%2==0 and K%2==1:\n",
    "    print('No')\n",
    "elif AB%2==1 and K%2==0:\n",
    "    print('No')\n",
    "elif abs(AB)>K:\n",
    "    print('No')\n",
    "else:\n",
    "    print('Yes')"
   ]
  },
  {
   "cell_type": "code",
   "execution_count": 10,
   "id": "78af1a8e",
   "metadata": {},
   "outputs": [
    {
     "data": {
      "text/plain": [
       "1"
      ]
     },
     "execution_count": 10,
     "metadata": {},
     "output_type": "execute_result"
    }
   ],
   "source": [
    "-5%2"
   ]
  },
  {
   "cell_type": "code",
   "execution_count": 11,
   "id": "1e8c7094",
   "metadata": {},
   "outputs": [
    {
     "data": {
      "text/plain": [
       "6"
      ]
     },
     "execution_count": 11,
     "metadata": {},
     "output_type": "execute_result"
    }
   ],
   "source": [
    "abs(-6)"
   ]
  },
  {
   "cell_type": "code",
   "execution_count": 16,
   "id": "d94cd318",
   "metadata": {},
   "outputs": [
    {
     "data": {
      "text/plain": [
       "0"
      ]
     },
     "execution_count": 16,
     "metadata": {},
     "output_type": "execute_result"
    }
   ],
   "source": [
    "0%2"
   ]
  },
  {
   "cell_type": "code",
   "execution_count": 17,
   "id": "faac993b",
   "metadata": {},
   "outputs": [
    {
     "data": {
      "text/plain": [
       "1"
      ]
     },
     "execution_count": 17,
     "metadata": {},
     "output_type": "execute_result"
    }
   ],
   "source": [
    "1%2"
   ]
  },
  {
   "cell_type": "code",
   "execution_count": null,
   "id": "f0c16281",
   "metadata": {},
   "outputs": [],
   "source": []
  }
 ],
 "metadata": {
  "kernelspec": {
   "display_name": "Python 3 (ipykernel)",
   "language": "python",
   "name": "python3"
  },
  "language_info": {
   "codemirror_mode": {
    "name": "ipython",
    "version": 3
   },
   "file_extension": ".py",
   "mimetype": "text/x-python",
   "name": "python",
   "nbconvert_exporter": "python",
   "pygments_lexer": "ipython3",
   "version": "3.9.12"
  }
 },
 "nbformat": 4,
 "nbformat_minor": 5
}
