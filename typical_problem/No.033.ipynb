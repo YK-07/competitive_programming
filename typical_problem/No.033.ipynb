{
 "cells": [
  {
   "cell_type": "code",
   "execution_count": 3,
   "id": "1c7d08bd",
   "metadata": {},
   "outputs": [
    {
     "name": "stdout",
     "output_type": "stream",
     "text": [
      "3 6\n",
      "6\n"
     ]
    }
   ],
   "source": [
    "H,W=map(int,input().split())\n",
    "ans=0\n",
    "for i in range(H):\n",
    "    if i%2==0:\n",
    "        for j in range(W):\n",
    "            if j%2==0:\n",
    "                ans+=1\n",
    "            else:\n",
    "                pass\n",
    "print(ans)"
   ]
  },
  {
   "cell_type": "code",
   "execution_count": 10,
   "id": "eaa29d9c",
   "metadata": {},
   "outputs": [
    {
     "name": "stdout",
     "output_type": "stream",
     "text": [
      "2 3\n",
      "2\n"
     ]
    }
   ],
   "source": [
    "# AC\n",
    "H,W=map(int,input().split())\n",
    "ans=0\n",
    "if H==1 or W==1:\n",
    "    ans+=H*W\n",
    "else:\n",
    "    for i in range(H):\n",
    "        if i%2==0:\n",
    "            if W%2==0:\n",
    "                ans+=W//2\n",
    "            else:\n",
    "                ans+=W//2+1\n",
    "print(ans)"
   ]
  },
  {
   "cell_type": "code",
   "execution_count": 5,
   "id": "9813cb85",
   "metadata": {},
   "outputs": [
    {
     "data": {
      "text/plain": [
       "0"
      ]
     },
     "execution_count": 5,
     "metadata": {},
     "output_type": "execute_result"
    }
   ],
   "source": [
    "0%2"
   ]
  },
  {
   "cell_type": "code",
   "execution_count": 12,
   "id": "34089d7e",
   "metadata": {},
   "outputs": [
    {
     "name": "stdout",
     "output_type": "stream",
     "text": [
      "1 5\n",
      "5\n"
     ]
    }
   ],
   "source": [
    "h,w = map(int, input().split())\n",
    "if h == 1 or w == 1:\n",
    "    print(h*w)\n",
    "else:\n",
    "    print(((h+1)//2) * ((w+1)//2))"
   ]
  },
  {
   "cell_type": "code",
   "execution_count": null,
   "id": "c8918360",
   "metadata": {},
   "outputs": [],
   "source": []
  },
  {
   "cell_type": "code",
   "execution_count": null,
   "id": "22a6a9a8",
   "metadata": {},
   "outputs": [],
   "source": []
  }
 ],
 "metadata": {
  "kernelspec": {
   "display_name": "Python 3 (ipykernel)",
   "language": "python",
   "name": "python3"
  },
  "language_info": {
   "codemirror_mode": {
    "name": "ipython",
    "version": 3
   },
   "file_extension": ".py",
   "mimetype": "text/x-python",
   "name": "python",
   "nbconvert_exporter": "python",
   "pygments_lexer": "ipython3",
   "version": "3.9.12"
  }
 },
 "nbformat": 4,
 "nbformat_minor": 5
}
