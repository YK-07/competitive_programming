{
 "cells": [
  {
   "cell_type": "code",
   "execution_count": 3,
   "id": "359814fa",
   "metadata": {},
   "outputs": [
    {
     "name": "stdout",
     "output_type": "stream",
     "text": [
      "7\n",
      "xxoooxx\n",
      "16\n"
     ]
    }
   ],
   "source": [
    "import itertools\n",
    "N=int(input())\n",
    "S=input()\n",
    "_list=[[k, len(list(g))] for k, g in itertools.groupby(S)]\n",
    "_len=len(_list)\n",
    "ret=0\n",
    "for i in range(_len):\n",
    "    d=_list[i][1]\n",
    "    ret+=d*(d+1)//2\n",
    "n=N*(N+1)//2\n",
    "print(n-ret)"
   ]
  },
  {
   "cell_type": "code",
   "execution_count": 2,
   "id": "f64f3a59",
   "metadata": {},
   "outputs": [
    {
     "data": {
      "text/plain": [
       "[['x', 2], ['o', 3], ['x', 2]]"
      ]
     },
     "execution_count": 2,
     "metadata": {},
     "output_type": "execute_result"
    }
   ],
   "source": [
    "_list"
   ]
  },
  {
   "cell_type": "code",
   "execution_count": null,
   "id": "19343ac3",
   "metadata": {},
   "outputs": [],
   "source": [
    "#　ラングレス圧縮\n",
    "d(d+1)//2"
   ]
  },
  {
   "cell_type": "code",
   "execution_count": null,
   "id": "d98491a7",
   "metadata": {},
   "outputs": [],
   "source": []
  },
  {
   "cell_type": "code",
   "execution_count": null,
   "id": "cde4fbb1",
   "metadata": {},
   "outputs": [],
   "source": []
  },
  {
   "cell_type": "code",
   "execution_count": null,
   "id": "632d893c",
   "metadata": {},
   "outputs": [],
   "source": []
  },
  {
   "cell_type": "code",
   "execution_count": null,
   "id": "f2e37dba",
   "metadata": {},
   "outputs": [],
   "source": []
  },
  {
   "cell_type": "code",
   "execution_count": null,
   "id": "7d8d2665",
   "metadata": {},
   "outputs": [],
   "source": []
  }
 ],
 "metadata": {
  "kernelspec": {
   "display_name": "Python 3 (ipykernel)",
   "language": "python",
   "name": "python3"
  },
  "language_info": {
   "codemirror_mode": {
    "name": "ipython",
    "version": 3
   },
   "file_extension": ".py",
   "mimetype": "text/x-python",
   "name": "python",
   "nbconvert_exporter": "python",
   "pygments_lexer": "ipython3",
   "version": "3.9.12"
  }
 },
 "nbformat": 4,
 "nbformat_minor": 5
}
