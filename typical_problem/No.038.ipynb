{
 "cells": [
  {
   "cell_type": "code",
   "execution_count": 12,
   "id": "9e32a5c6",
   "metadata": {},
   "outputs": [
    {
     "name": "stdout",
     "output_type": "stream",
     "text": [
      "4 6\n",
      "12\n"
     ]
    }
   ],
   "source": [
    "# 最小公倍数 = a*b // 最大公約数\n",
    "# math.lcm　最小公倍数　Atcorderには実装されてない\n",
    "A,B=map(int, input().split())\n",
    "import math\n",
    "def lcm(A, B):\n",
    "    return A * B // math.gcd(A, B)\n",
    "ans=lcm(A,B)\n",
    "if ans<=10**18:\n",
    "    print(ans)\n",
    "else:\n",
    "    print('Large')"
   ]
  },
  {
   "cell_type": "code",
   "execution_count": 11,
   "id": "b8afe3f2",
   "metadata": {},
   "outputs": [
    {
     "name": "stdout",
     "output_type": "stream",
     "text": [
      "4 6\n",
      "12\n"
     ]
    }
   ],
   "source": [
    "A,B=map(int, input().split())\n",
    "import math\n",
    "a=math.gcd(A,B)\n",
    "ans=A*B//a\n",
    "if ans<=10**18:\n",
    "    print(ans)\n",
    "else:\n",
    "    print('Large')"
   ]
  },
  {
   "cell_type": "code",
   "execution_count": null,
   "id": "37d6e776",
   "metadata": {},
   "outputs": [],
   "source": [
    "def lcm(x, y):\n",
    "    return x * y // gcd(x, y)"
   ]
  },
  {
   "cell_type": "code",
   "execution_count": null,
   "id": "bb64ce7b",
   "metadata": {},
   "outputs": [],
   "source": []
  },
  {
   "cell_type": "code",
   "execution_count": null,
   "id": "14e32a0f",
   "metadata": {},
   "outputs": [],
   "source": []
  }
 ],
 "metadata": {
  "kernelspec": {
   "display_name": "Python 3 (ipykernel)",
   "language": "python",
   "name": "python3"
  },
  "language_info": {
   "codemirror_mode": {
    "name": "ipython",
    "version": 3
   },
   "file_extension": ".py",
   "mimetype": "text/x-python",
   "name": "python",
   "nbconvert_exporter": "python",
   "pygments_lexer": "ipython3",
   "version": "3.9.12"
  }
 },
 "nbformat": 4,
 "nbformat_minor": 5
}
