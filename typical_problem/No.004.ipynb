{
 "cells": [
  {
   "cell_type": "code",
   "execution_count": null,
   "id": "4a5a9ae0",
   "metadata": {},
   "outputs": [],
   "source": [
    "# H 行 W 列のマス目があります。上から i (1≤i≤H) 行目、左から j (1≤j≤W) 列目にあるマス (i,j) には、整数 Ai,jが書かれています。 すべてのマス (i,j) (1≤i≤H,1≤j≤W) について、以下の値を求めてください。\n",
    "\n",
    "from sys import stdin\n",
    "readline = stdin.readline\n",
    "\n",
    "H, W = map(int, input().split())\n",
    "A = [[int(x) for x in readline().split()] for i in range(H)]   # 二次元配列で入力を受けた！やった！\n",
    "\n",
    "Row = []\n",
    "Column = []\n",
    "\n",
    "# どうやら前処理をした方がオーダが減るらしい\n",
    "for i in range(H):  # 横方向から計算してみる\n",
    "    row_sum = 0\n",
    "    row_sum = sum(A[i])\n",
    "    Row.append(row_sum) \n",
    "\n",
    "for i in range(W):  # 縦方向の計算\n",
    "    column_sum = 0\n",
    "    for j in range(H):\n",
    "        column_sum += A[j][i]\n",
    "    Column.append(column_sum)\n",
    "\n",
    "for i in range(H):\n",
    "    output = []             #二次元配列で出力する場合は、一列ずつ出力⇒リセットでもいいかもしれない\n",
    "    for j in range(W):\n",
    "        all_sum = Row[i]+Column[j]-A[i][j]\n",
    "        output.append(all_sum)\n",
    "    # print(\" \".join(output))   # joinは配列の中身がstrじゃないとダメらしい\n",
    "    print(*output)\n",
    "\n",
    "'''\n",
    "for i in range(H):\n",
    "    output = []             #二次元配列で出力する場合は、一列ずつ出力⇒リセットでもいいかもしれない\n",
    "    for j in range(W):\n",
    "        Aij = A[i][j]\n",
    "        all_sum = 0\n",
    "        all_sum += sum(A[i])    #横方向の和計算\n",
    "        for k in range(H):  #縦方向の和計算\n",
    "            all_sum += A[k][j]\n",
    "        all_sum -= Aij\n",
    "        output.append(all_sum)\n",
    "    # print(\" \".join(output))   # joinは配列の中身がstrじゃないとダメらしい\n",
    "    print(*output)\n",
    "'''"
   ]
  },
  {
   "cell_type": "code",
   "execution_count": 28,
   "id": "2d4da12f",
   "metadata": {
    "scrolled": true
   },
   "outputs": [
    {
     "name": "stdout",
     "output_type": "stream",
     "text": [
      "2 2\n",
      "3 3\n",
      "5 5\n"
     ]
    }
   ],
   "source": [
    "H, W = map(int, input().split())\n",
    "A = []\n",
    "for i in range(H):\n",
    "    A2 = list(map(int,input().split()))\n",
    "    A.append(A2)"
   ]
  },
  {
   "cell_type": "code",
   "execution_count": 43,
   "id": "fb47a8db",
   "metadata": {},
   "outputs": [
    {
     "name": "stdout",
     "output_type": "stream",
     "text": [
      "4 4\n",
      "3 1 4 1\n",
      "5 9 2 6\n",
      "5 3 5 8\n",
      "9 7 9 3\n",
      "28 28 25 26\n",
      "39 33 40 34\n",
      "38 38 36 31\n",
      "41 41 39 43\n"
     ]
    }
   ],
   "source": [
    "H, W = map(int, input().split())\n",
    "A = []\n",
    "for i in range(H):\n",
    "    A2 = list(map(int,input().split()))\n",
    "    A.append(A2)\n",
    "B = []\n",
    "for i in range(H):\n",
    "    B2 = []\n",
    "    for j in range(W):\n",
    "        B2.append(sum(A[i][:]) + sum([r[j] for r in A]) - A[i][j])\n",
    "    B.append(B2)\n",
    "for l in B:\n",
    "    print(*l)"
   ]
  },
  {
   "cell_type": "code",
   "execution_count": 41,
   "id": "7ff706f6",
   "metadata": {},
   "outputs": [
    {
     "name": "stdout",
     "output_type": "stream",
     "text": [
      "114 61 34 65\n",
      "116 63 36 67\n",
      "302 249 222 253\n"
     ]
    }
   ],
   "source": [
    "for l in B:\n",
    "    print(*l)"
   ]
  },
  {
   "cell_type": "code",
   "execution_count": 9,
   "id": "6c788936",
   "metadata": {},
   "outputs": [
    {
     "data": {
      "text/plain": [
       "[[3, 5], [4, 2]]"
      ]
     },
     "execution_count": 9,
     "metadata": {},
     "output_type": "execute_result"
    }
   ],
   "source": [
    "A"
   ]
  },
  {
   "cell_type": "code",
   "execution_count": 10,
   "id": "fdb2c30b",
   "metadata": {},
   "outputs": [
    {
     "name": "stdout",
     "output_type": "stream",
     "text": [
      "2\n"
     ]
    }
   ],
   "source": [
    "print(A[1][1])"
   ]
  },
  {
   "cell_type": "code",
   "execution_count": 14,
   "id": "64490d0d",
   "metadata": {},
   "outputs": [
    {
     "name": "stdout",
     "output_type": "stream",
     "text": [
      "[3, 5]\n"
     ]
    }
   ],
   "source": [
    "print(A[0][:])"
   ]
  },
  {
   "cell_type": "code",
   "execution_count": 17,
   "id": "5b3aca94",
   "metadata": {},
   "outputs": [
    {
     "name": "stdout",
     "output_type": "stream",
     "text": [
      "[5, 2]\n"
     ]
    }
   ],
   "source": [
    "print([r[1] for r in A])"
   ]
  },
  {
   "cell_type": "code",
   "execution_count": 19,
   "id": "0a53b547",
   "metadata": {},
   "outputs": [
    {
     "name": "stdout",
     "output_type": "stream",
     "text": [
      "7\n"
     ]
    }
   ],
   "source": [
    "print(sum([r[0] for r in A]))"
   ]
  },
  {
   "cell_type": "code",
   "execution_count": null,
   "id": "d5da29ac",
   "metadata": {},
   "outputs": [],
   "source": []
  }
 ],
 "metadata": {
  "kernelspec": {
   "display_name": "Python 3 (ipykernel)",
   "language": "python",
   "name": "python3"
  },
  "language_info": {
   "codemirror_mode": {
    "name": "ipython",
    "version": 3
   },
   "file_extension": ".py",
   "mimetype": "text/x-python",
   "name": "python",
   "nbconvert_exporter": "python",
   "pygments_lexer": "ipython3",
   "version": "3.9.12"
  }
 },
 "nbformat": 4,
 "nbformat_minor": 5
}
