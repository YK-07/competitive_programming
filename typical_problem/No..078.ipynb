{
 "cells": [
  {
   "cell_type": "code",
   "execution_count": null,
   "id": "386ca53c",
   "metadata": {},
   "outputs": [],
   "source": [
    "# AC\n",
    "N,M=map(int,input().split())\n",
    "cnt_list=[0]*N\n",
    "\n",
    "for _ in range(M):\n",
    "    a,b=map(int,input().split())\n",
    "    num_max=max(a,b)\n",
    "    cnt_list[num_max-1]+=1\n",
    "    \n",
    "ans=cnt_list.count(1)\n",
    "print(ans)"
   ]
  },
  {
   "cell_type": "code",
   "execution_count": 9,
   "id": "38437df8",
   "metadata": {},
   "outputs": [
    {
     "name": "stdout",
     "output_type": "stream",
     "text": [
      "2 1\n"
     ]
    },
    {
     "ename": "OSError",
     "evalue": "[WinError 6] ハンドルが無効です。",
     "output_type": "error",
     "traceback": [
      "\u001b[1;31m---------------------------------------------------------------------------\u001b[0m",
      "\u001b[1;31mOSError\u001b[0m                                   Traceback (most recent call last)",
      "Input \u001b[1;32mIn [9]\u001b[0m, in \u001b[0;36m<cell line: 4>\u001b[1;34m()\u001b[0m\n\u001b[0;32m      2\u001b[0m cnt_list\u001b[38;5;241m=\u001b[39m[\u001b[38;5;241m0\u001b[39m \u001b[38;5;28;01mfor\u001b[39;00m _ \u001b[38;5;129;01min\u001b[39;00m \u001b[38;5;28mrange\u001b[39m(N)]\n\u001b[0;32m      4\u001b[0m \u001b[38;5;28;01mfor\u001b[39;00m _ \u001b[38;5;129;01min\u001b[39;00m \u001b[38;5;28mrange\u001b[39m(M):\n\u001b[1;32m----> 5\u001b[0m     a,b\u001b[38;5;241m=\u001b[39m\u001b[38;5;28mmap\u001b[39m(\u001b[38;5;28mint\u001b[39m,\u001b[38;5;28;43mopen\u001b[39;49m\u001b[43m(\u001b[49m\u001b[38;5;241;43m0\u001b[39;49m\u001b[43m)\u001b[49m\u001b[38;5;241m.\u001b[39msplit())\n\u001b[0;32m      6\u001b[0m     num_max\u001b[38;5;241m=\u001b[39m\u001b[38;5;28mmax\u001b[39m(a,b)\n\u001b[0;32m      7\u001b[0m     cnt_list[num_max\u001b[38;5;241m-\u001b[39m\u001b[38;5;241m1\u001b[39m]\u001b[38;5;241m+\u001b[39m\u001b[38;5;241m=\u001b[39m\u001b[38;5;241m1\u001b[39m\n",
      "\u001b[1;31mOSError\u001b[0m: [WinError 6] ハンドルが無効です。"
     ]
    }
   ],
   "source": [
    "N,M=map(int,input().split())\n",
    "cnt_list=[0 for _ in range(N)]\n",
    "\n",
    "for _ in range(M):\n",
    "    a,b=map(int,open(0).split())\n",
    "    num_max=max(a,b)\n",
    "    cnt_list[num_max-1]+=1\n",
    "    \n",
    "ans=cnt_list.count(1)\n",
    "print(ans)"
   ]
  },
  {
   "cell_type": "code",
   "execution_count": 10,
   "id": "27ba73bd",
   "metadata": {},
   "outputs": [
    {
     "ename": "OSError",
     "evalue": "[WinError 6] ハンドルが無効です。",
     "output_type": "error",
     "traceback": [
      "\u001b[1;31m---------------------------------------------------------------------------\u001b[0m",
      "\u001b[1;31mOSError\u001b[0m                                   Traceback (most recent call last)",
      "Input \u001b[1;32mIn [10]\u001b[0m, in \u001b[0;36m<cell line: 1>\u001b[1;34m()\u001b[0m\n\u001b[1;32m----> 1\u001b[0m A, B, C, X \u001b[38;5;241m=\u001b[39m \u001b[38;5;28mmap\u001b[39m(\u001b[38;5;28mint\u001b[39m, \u001b[38;5;28;43mopen\u001b[39;49m\u001b[43m(\u001b[49m\u001b[38;5;241;43m0\u001b[39;49m\u001b[43m)\u001b[49m\u001b[38;5;241m.\u001b[39mread()\u001b[38;5;241m.\u001b[39msplit())\n",
      "\u001b[1;31mOSError\u001b[0m: [WinError 6] ハンドルが無効です。"
     ]
    }
   ],
   "source": [
    "A, B, C, X = map(int, open(0).read().split())"
   ]
  },
  {
   "cell_type": "code",
   "execution_count": 3,
   "id": "e86cb541",
   "metadata": {},
   "outputs": [
    {
     "name": "stdout",
     "output_type": "stream",
     "text": [
      "2\n"
     ]
    }
   ],
   "source": [
    "a=[1,2,31,2,1]\n",
    "b=a.count(1)\n",
    "print(b)"
   ]
  },
  {
   "cell_type": "code",
   "execution_count": null,
   "id": "76047a16",
   "metadata": {},
   "outputs": [],
   "source": [
    "D=[0]*9**6\n",
    "for t in[*open(0)][1:]:\n",
    "    D[max(map(int,t.split()))]+=1\n",
    "print(D.count(1))"
   ]
  },
  {
   "cell_type": "code",
   "execution_count": 7,
   "id": "f6e04612",
   "metadata": {},
   "outputs": [],
   "source": [
    "a=[0]*2"
   ]
  },
  {
   "cell_type": "code",
   "execution_count": 8,
   "id": "6c087a1c",
   "metadata": {},
   "outputs": [
    {
     "data": {
      "text/plain": [
       "[0, 0]"
      ]
     },
     "execution_count": 8,
     "metadata": {},
     "output_type": "execute_result"
    }
   ],
   "source": [
    "a"
   ]
  },
  {
   "cell_type": "code",
   "execution_count": null,
   "id": "f418a9ab",
   "metadata": {},
   "outputs": [],
   "source": []
  },
  {
   "cell_type": "code",
   "execution_count": null,
   "id": "49fa7385",
   "metadata": {},
   "outputs": [],
   "source": []
  },
  {
   "cell_type": "code",
   "execution_count": null,
   "id": "74e0f3ba",
   "metadata": {},
   "outputs": [],
   "source": []
  }
 ],
 "metadata": {
  "kernelspec": {
   "display_name": "Python 3 (ipykernel)",
   "language": "python",
   "name": "python3"
  },
  "language_info": {
   "codemirror_mode": {
    "name": "ipython",
    "version": 3
   },
   "file_extension": ".py",
   "mimetype": "text/x-python",
   "name": "python",
   "nbconvert_exporter": "python",
   "pygments_lexer": "ipython3",
   "version": "3.9.12"
  }
 },
 "nbformat": 4,
 "nbformat_minor": 5
}
