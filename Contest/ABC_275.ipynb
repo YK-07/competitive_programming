{
 "cells": [
  {
   "cell_type": "code",
   "execution_count": null,
   "id": "bbe3dd63",
   "metadata": {},
   "outputs": [],
   "source": [
    "n = int(input())\n",
    "=map(int,input().split())\n",
    "= [list(map(int, input().split())) for _ in range()]"
   ]
  },
  {
   "cell_type": "code",
   "execution_count": 8,
   "id": "4642bf99",
   "metadata": {},
   "outputs": [
    {
     "name": "stdout",
     "output_type": "stream",
     "text": [
      "10\n",
      "22 75 26 45 72 81 47 29 97 2\n",
      "9\n"
     ]
    }
   ],
   "source": [
    "N = int(input())\n",
    "h=list(map(int,input().split()))\n",
    "H=0\n",
    "ans=1\n",
    "for i in range(N):\n",
    "    if H<h[i]:\n",
    "        H=h[i]\n",
    "        ans=i+1\n",
    "    else:\n",
    "        pass\n",
    "print(ans)"
   ]
  },
  {
   "cell_type": "code",
   "execution_count": 12,
   "id": "0f025e15",
   "metadata": {},
   "outputs": [
    {
     "name": "stdout",
     "output_type": "stream",
     "text": [
      "1 1 1000000000 0 0 0\n",
      "1755647\n"
     ]
    }
   ],
   "source": [
    "A,B,C,D,E,F=map(int,input().split())\n",
    "mod=998244353\n",
    "A%=mod\n",
    "B%=mod\n",
    "C%=mod\n",
    "D%=mod\n",
    "E%=mod\n",
    "F%=mod\n",
    "ans=A*B*C%mod-D*E*F%mod\n",
    "ans%=mod\n",
    "print(ans)"
   ]
  },
  {
   "cell_type": "code",
   "execution_count": null,
   "id": "31097a4e",
   "metadata": {},
   "outputs": [],
   "source": [
    "##.......\n",
    "##.......\n",
    ".........\n",
    ".......#.\n",
    ".....#...\n",
    "........#\n",
    "......#..\n",
    ".........\n",
    ".........\n"
   ]
  },
  {
   "cell_type": "code",
   "execution_count": 25,
   "id": "d0a7a11e",
   "metadata": {},
   "outputs": [
    {
     "data": {
      "text/plain": [
       "[[1, 1], [1, 2], [2, 1], [2, 2], [4, 8], [5, 9]]"
      ]
     },
     "execution_count": 25,
     "metadata": {},
     "output_type": "execute_result"
    }
   ],
   "source": [
    "num"
   ]
  },
  {
   "cell_type": "code",
   "execution_count": 26,
   "id": "ca05b57c",
   "metadata": {
    "scrolled": true
   },
   "outputs": [
    {
     "data": {
      "text/plain": [
       "['##.......',\n",
       " '##.......',\n",
       " '.........',\n",
       " '.......#.',\n",
       " '........#',\n",
       " '.........',\n",
       " '.........',\n",
       " '.........',\n",
       " '.........']"
      ]
     },
     "execution_count": 26,
     "metadata": {},
     "output_type": "execute_result"
    }
   ],
   "source": [
    "S"
   ]
  },
  {
   "cell_type": "code",
   "execution_count": 27,
   "id": "5e7147a4",
   "metadata": {},
   "outputs": [
    {
     "data": {
      "text/plain": [
       "6"
      ]
     },
     "execution_count": 27,
     "metadata": {},
     "output_type": "execute_result"
    }
   ],
   "source": []
  },
  {
   "cell_type": "code",
   "execution_count": 22,
   "id": "c130b97a",
   "metadata": {},
   "outputs": [
    {
     "name": "stdout",
     "output_type": "stream",
     "text": [
      "##.......\n",
      "##.......\n",
      ".........\n",
      ".......#.\n",
      "........#\n",
      ".........\n",
      ".........\n",
      ".........\n",
      ".........\n"
     ]
    }
   ],
   "source": [
    "S=[]\n",
    "num=[]\n",
    "for i in range(9):\n",
    "    s=input()\n",
    "    S.append(s)\n",
    "    for j in range(9):\n",
    "        if s[j]=='#':\n",
    "            num.append([i+1,j+1])\n",
    "ans=0\n",
    "num2=[]\n",
    "num_len=len(num)\n",
    "for l in range(len(num)):\n",
    "    for k in range(num_len-1):\n",
    "        num2.append([abs(num[k][0]-num[-1][0])+abs(num[k][1]-num[-1][1]),l,k])\n"
   ]
  },
  {
   "cell_type": "code",
   "execution_count": 30,
   "id": "784ada0f",
   "metadata": {},
   "outputs": [
    {
     "data": {
      "text/plain": [
       "[4, 8]"
      ]
     },
     "execution_count": 30,
     "metadata": {},
     "output_type": "execute_result"
    }
   ],
   "source": [
    "num3=num\n",
    "num3.pop()"
   ]
  },
  {
   "cell_type": "code",
   "execution_count": 6,
   "id": "c08bae4f",
   "metadata": {},
   "outputs": [
    {
     "name": "stdout",
     "output_type": "stream",
     "text": [
      "[[1, 1, 1, 1], [1, 1, 1, 2], [1, 1, 2, 1], [1, 1, 2, 2], [1, 2, 1, 1], [1, 2, 1, 2], [1, 2, 2, 1], [1, 2, 2, 2], [2, 1, 1, 1], [2, 1, 1, 2], [2, 1, 2, 1], [2, 1, 2, 2], [2, 2, 1, 1], [2, 2, 1, 2], [2, 2, 2, 1], [2, 2, 2, 2]]\n"
     ]
    }
   ],
   "source": [
    "import itertools\n",
    "ij=[]\n",
    "for i1,j1,i2,j2 in itertools.product(range(1,3),repeat=4):\n",
    "    ij.append([i1,j1,i2,j2])\n",
    "print(ij)"
   ]
  },
  {
   "cell_type": "code",
   "execution_count": null,
   "id": "8276d466",
   "metadata": {},
   "outputs": [],
   "source": [
    "import itertools\n",
    "S=[input() for _ in range(9)]\n",
    "ans=0\n",
    " \n",
    "for i1,j1,i2,j2 in itertools.product(range(9),repeat=4):\n",
    "    # (i1,j1)から→↓の向きに(i2,j2)がある\n",
    "    if i2>i1 and j2>=j1 and S[i1][j1]==\"#\" and S[i2][j2]==\"#\":\n",
    "        di=i2-i1\n",
    "        dj=j2-j1\n",
    "        i3=i2+dj\n",
    "        j3=j2-di\n",
    "        i4=i3-di\n",
    "        j4=j3-dj\n",
    "        if 0<=i3<9 and 0<=j3<9 and 0<=i4<9 and 0<=j4<9 and S[i3][j3]==\"#\" and S[i4][j4]==\"#\":\n",
    "            ans+=1\n",
    "print(ans)"
   ]
  },
  {
   "cell_type": "code",
   "execution_count": null,
   "id": "a33a43fe",
   "metadata": {},
   "outputs": [],
   "source": [
    "s = [input() for _ in range(9)]\n",
    " \n",
    "ans = 0\n",
    "for y1 in range(9):\n",
    "    for x1 in range(9):\n",
    "        for y2 in range(9):\n",
    "            for x2 in range(9):\n",
    "                if (x1, y1) != (x2, y2):\n",
    "                    x3 = x2 + (y2-y1)\n",
    "                    y3 = y2 - (x2-x1)\n",
    "                    x4 = x3 + (y3-y2)\n",
    "                    y4 = y3 - (x3-x2)\n",
    "                    if (0<=x3<9 and 0<=y3<9 and 0<=x4<9 and 0<=y4<9 and\n",
    "                        s[y1][x1]==\"#\" and s[y2][x2]==\"#\" and\n",
    "                        s[y3][x3]==\"#\" and s[y4][x4]==\"#\"):\n",
    "                        ans += 1\n",
    "print(ans//4)"
   ]
  },
  {
   "cell_type": "code",
   "execution_count": null,
   "id": "72848483",
   "metadata": {},
   "outputs": [],
   "source": []
  },
  {
   "cell_type": "code",
   "execution_count": null,
   "id": "0bd624d6",
   "metadata": {},
   "outputs": [],
   "source": []
  },
  {
   "cell_type": "code",
   "execution_count": null,
   "id": "9a31f1ab",
   "metadata": {},
   "outputs": [],
   "source": []
  },
  {
   "cell_type": "code",
   "execution_count": null,
   "id": "9d86689b",
   "metadata": {},
   "outputs": [],
   "source": []
  },
  {
   "cell_type": "code",
   "execution_count": null,
   "id": "053056d1",
   "metadata": {},
   "outputs": [],
   "source": []
  },
  {
   "cell_type": "code",
   "execution_count": null,
   "id": "b3e17260",
   "metadata": {},
   "outputs": [],
   "source": []
  },
  {
   "cell_type": "code",
   "execution_count": null,
   "id": "aae3999a",
   "metadata": {},
   "outputs": [],
   "source": []
  },
  {
   "cell_type": "code",
   "execution_count": null,
   "id": "581ff104",
   "metadata": {},
   "outputs": [],
   "source": []
  },
  {
   "cell_type": "code",
   "execution_count": null,
   "id": "e5214d19",
   "metadata": {},
   "outputs": [],
   "source": []
  },
  {
   "cell_type": "code",
   "execution_count": null,
   "id": "7c5d58e2",
   "metadata": {},
   "outputs": [],
   "source": []
  },
  {
   "cell_type": "code",
   "execution_count": null,
   "id": "4e142c7a",
   "metadata": {},
   "outputs": [],
   "source": []
  },
  {
   "cell_type": "code",
   "execution_count": null,
   "id": "89f7ec15",
   "metadata": {},
   "outputs": [],
   "source": []
  }
 ],
 "metadata": {
  "kernelspec": {
   "display_name": "Python 3 (ipykernel)",
   "language": "python",
   "name": "python3"
  },
  "language_info": {
   "codemirror_mode": {
    "name": "ipython",
    "version": 3
   },
   "file_extension": ".py",
   "mimetype": "text/x-python",
   "name": "python",
   "nbconvert_exporter": "python",
   "pygments_lexer": "ipython3",
   "version": "3.9.12"
  }
 },
 "nbformat": 4,
 "nbformat_minor": 5
}
