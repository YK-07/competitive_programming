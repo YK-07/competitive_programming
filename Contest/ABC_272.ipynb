{
 "cells": [
  {
   "cell_type": "code",
   "execution_count": null,
   "id": "e2312d14",
   "metadata": {},
   "outputs": [],
   "source": [
    "=int(input())\n",
    "=map(int, input().split())\n",
    "=[list(map(int,input().split())) for _ in range()]\n",
    "#kxs=[list(map(int,input().split())) for _ in range(m)]"
   ]
  },
  {
   "cell_type": "code",
   "execution_count": null,
   "id": "58f9f9e3",
   "metadata": {},
   "outputs": [],
   "source": [
    "n=int(input())\n",
    "a=list(map(int,input().split()))\n",
    "print(sum(a))"
   ]
  },
  {
   "cell_type": "code",
   "execution_count": 22,
   "id": "d6bccc7b",
   "metadata": {},
   "outputs": [
    {
     "ename": "ValueError",
     "evalue": "list.remove(x): x not in list",
     "output_type": "error",
     "traceback": [
      "\u001b[1;31m---------------------------------------------------------------------------\u001b[0m",
      "\u001b[1;31mValueError\u001b[0m                                Traceback (most recent call last)",
      "Input \u001b[1;32mIn [22]\u001b[0m, in \u001b[0;36m<cell line: 2>\u001b[1;34m()\u001b[0m\n\u001b[0;32m      1\u001b[0m a\u001b[38;5;241m=\u001b[39m[\u001b[38;5;241m1\u001b[39m,\u001b[38;5;241m2\u001b[39m,\u001b[38;5;241m3\u001b[39m,\u001b[38;5;241m4\u001b[39m]\n\u001b[1;32m----> 2\u001b[0m \u001b[43ma\u001b[49m\u001b[38;5;241;43m.\u001b[39;49m\u001b[43mremove\u001b[49m\u001b[43m(\u001b[49m\u001b[38;5;241;43m8\u001b[39;49m\u001b[43m)\u001b[49m\n",
      "\u001b[1;31mValueError\u001b[0m: list.remove(x): x not in list"
     ]
    }
   ],
   "source": [
    "a=[1,2,3,4]\n",
    "a.remove(8)"
   ]
  },
  {
   "cell_type": "code",
   "execution_count": 51,
   "id": "a9e498cc",
   "metadata": {
    "scrolled": true
   },
   "outputs": [
    {
     "name": "stdout",
     "output_type": "stream",
     "text": [
      "4 2\n",
      "3 1 2 4\n",
      "3 2 3 4\n",
      "No\n"
     ]
    }
   ],
   "source": [
    "n,m=map(int,input().split())\n",
    "kxs=[]\n",
    "for _ in range(m):\n",
    "    k_x=list(map(int,input().split()))\n",
    "    del k_x[0]\n",
    "    kxs.append(k_x)\n",
    "import itertools\n",
    "nums = []\n",
    "comb=[]\n",
    "for i in range(n+1):\n",
    "    if i==0:\n",
    "        pass\n",
    "    else:\n",
    "        nums.append(i)\n",
    "pairs = itertools.combinations(nums, 2)\n",
    "for pair in pairs:\n",
    "    comb.append(pair)\n",
    "for kx in kxs:\n",
    "    kx_coms=itertools.combinations(kx, 2)\n",
    "    for kx_com in kx_coms:\n",
    "        if kx_com in comb:\n",
    "            comb.remove(kx_com)\n",
    "if not comb:\n",
    "    print('Yes')\n",
    "else:\n",
    "    print('No')"
   ]
  },
  {
   "cell_type": "code",
   "execution_count": 48,
   "id": "dfb833f3",
   "metadata": {},
   "outputs": [
    {
     "data": {
      "text/plain": [
       "[[1, 2], [1, 3], [2, 3]]"
      ]
     },
     "execution_count": 48,
     "metadata": {},
     "output_type": "execute_result"
    }
   ],
   "source": [
    "comb"
   ]
  },
  {
   "cell_type": "code",
   "execution_count": 46,
   "id": "b95fa5b6",
   "metadata": {},
   "outputs": [
    {
     "name": "stdout",
     "output_type": "stream",
     "text": [
      "[[2, 3]]\n"
     ]
    }
   ],
   "source": [
    "a=[[1,2],[2,3]]\n",
    "b=[1,2]\n",
    "a.remove(b)\n",
    "print(a)"
   ]
  },
  {
   "cell_type": "code",
   "execution_count": 17,
   "id": "93923a1f",
   "metadata": {},
   "outputs": [
    {
     "name": "stdout",
     "output_type": "stream",
     "text": [
      "[3, 4, 5]\n"
     ]
    }
   ],
   "source": [
    "a=[1,2,3,3,4]\n",
    "b=[1,2,3,3,3,4,4,5]\n",
    "for num in a:\n",
    "    b.remove(num)\n",
    "print(b)"
   ]
  },
  {
   "cell_type": "code",
   "execution_count": null,
   "id": "489a2fc0",
   "metadata": {},
   "outputs": [],
   "source": []
  },
  {
   "cell_type": "code",
   "execution_count": 11,
   "id": "180e74b6",
   "metadata": {},
   "outputs": [
    {
     "name": "stdout",
     "output_type": "stream",
     "text": [
      "yes\n"
     ]
    }
   ],
   "source": [
    "a=['a']\n",
    "b=[]\n",
    "if not b:\n",
    "    print('yes')"
   ]
  },
  {
   "cell_type": "code",
   "execution_count": 6,
   "id": "05eb2348",
   "metadata": {},
   "outputs": [
    {
     "name": "stdout",
     "output_type": "stream",
     "text": [
      "[1, 2, 3, 4, 5]\n",
      "[3, 4, 5, 6, 5, 6, 7, 7, 8, 9]\n"
     ]
    }
   ],
   "source": [
    "import itertools\n",
    "nums = []\n",
    "comb=[]\n",
    "n=5\n",
    "for i in range(n+1):\n",
    "    if i==0:\n",
    "        pass\n",
    "    else:\n",
    "        nums.append(i)\n",
    "print(nums)\n",
    "pairs = itertools.combinations(nums, 2)\n",
    "for pair in pairs:\n",
    "    comb.append(sum(pair))\n",
    "print(comb)"
   ]
  },
  {
   "cell_type": "code",
   "execution_count": 43,
   "id": "3b663f13",
   "metadata": {},
   "outputs": [],
   "source": [
    "n=[1,2,3,4]\n",
    "pairs = itertools.combinations(n, 2)\n",
    "a=[]\n",
    "for pair in pairs:\n",
    "    pair=list(pair)\n",
    "    a.append(pair)"
   ]
  },
  {
   "cell_type": "code",
   "execution_count": 44,
   "id": "13c24228",
   "metadata": {},
   "outputs": [
    {
     "name": "stdout",
     "output_type": "stream",
     "text": [
      "yed\n"
     ]
    }
   ],
   "source": [
    "b=[1,2]\n",
    "if b in a:\n",
    "    print('yed')"
   ]
  },
  {
   "cell_type": "code",
   "execution_count": 72,
   "id": "bc042c22",
   "metadata": {},
   "outputs": [],
   "source": [
    "a=set()"
   ]
  },
  {
   "cell_type": "code",
   "execution_count": 73,
   "id": "23abc1f3",
   "metadata": {},
   "outputs": [],
   "source": [
    "a.add(2)\n",
    "a.add(3)"
   ]
  },
  {
   "cell_type": "code",
   "execution_count": 74,
   "id": "22689681",
   "metadata": {},
   "outputs": [
    {
     "name": "stdout",
     "output_type": "stream",
     "text": [
      "2 3 4\n"
     ]
    }
   ],
   "source": [
    "a.add(map(int,input().split()))"
   ]
  },
  {
   "cell_type": "code",
   "execution_count": 75,
   "id": "72e05949",
   "metadata": {
    "scrolled": true
   },
   "outputs": [
    {
     "data": {
      "text/plain": [
       "{2, 3, <map at 0x17a5cfd7610>}"
      ]
     },
     "execution_count": 75,
     "metadata": {},
     "output_type": "execute_result"
    }
   ],
   "source": [
    "a"
   ]
  },
  {
   "cell_type": "code",
   "execution_count": 63,
   "id": "2d630b30",
   "metadata": {},
   "outputs": [
    {
     "name": "stdout",
     "output_type": "stream",
     "text": [
      "5\n"
     ]
    }
   ],
   "source": [
    "print(sum(a))"
   ]
  },
  {
   "cell_type": "code",
   "execution_count": 71,
   "id": "bdb04250",
   "metadata": {},
   "outputs": [
    {
     "name": "stdout",
     "output_type": "stream",
     "text": [
      "[<map object at 0x0000017A5CFFE4F0>]\n"
     ]
    }
   ],
   "source": []
  },
  {
   "cell_type": "code",
   "execution_count": 79,
   "id": "22aa81cb",
   "metadata": {
    "scrolled": true
   },
   "outputs": [
    {
     "name": "stdout",
     "output_type": "stream",
     "text": [
      "2\n",
      "1\n",
      "0\n",
      "-1\n"
     ]
    }
   ],
   "source": [
    "n=int(input())\n",
    "a=set()\n",
    "#a=list(map(int,input().split()))\n",
    "for _ in range(n):\n",
    "    a.add(int(input()))\n",
    "import itertools\n",
    "max_val=0\n",
    "pairs = itertools.combinations(a, 2)\n",
    "for pair in pairs:\n",
    "    pair_sum=sum(pair)\n",
    "    if pair_sum%2==0:\n",
    "        if max_val<pair_sum:\n",
    "            max_val=pair_sum\n",
    "        else:\n",
    "            pass\n",
    "if max_val==0:\n",
    "    print(-1)\n",
    "else:\n",
    "    print(max_val)"
   ]
  },
  {
   "cell_type": "code",
   "execution_count": 55,
   "id": "5efd3061",
   "metadata": {},
   "outputs": [],
   "source": [
    "import itertools"
   ]
  },
  {
   "cell_type": "code",
   "execution_count": 59,
   "id": "46f9b2b9",
   "metadata": {},
   "outputs": [
    {
     "name": "stdout",
     "output_type": "stream",
     "text": [
      "-1\n"
     ]
    }
   ],
   "source": [
    "max_val=0\n",
    "pairs = itertools.combinations(a, 2)\n",
    "for pair in pairs:\n",
    "    pair_sum=sum(pair)\n",
    "    if pair_sum%2==0:\n",
    "        if max_val<pair_sum:\n",
    "            max_val=pair_sum\n",
    "        else:\n",
    "            pass\n",
    "if max_val==0:\n",
    "    print(-1)\n",
    "else:\n",
    "    print(max_val)\n"
   ]
  },
  {
   "cell_type": "code",
   "execution_count": null,
   "id": "2685a501",
   "metadata": {},
   "outputs": [],
   "source": []
  }
 ],
 "metadata": {
  "kernelspec": {
   "display_name": "Python 3 (ipykernel)",
   "language": "python",
   "name": "python3"
  },
  "language_info": {
   "codemirror_mode": {
    "name": "ipython",
    "version": 3
   },
   "file_extension": ".py",
   "mimetype": "text/x-python",
   "name": "python",
   "nbconvert_exporter": "python",
   "pygments_lexer": "ipython3",
   "version": "3.9.12"
  }
 },
 "nbformat": 4,
 "nbformat_minor": 5
}
