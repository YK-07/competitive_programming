{
 "cells": [
  {
   "cell_type": "code",
   "execution_count": null,
   "id": "021172a4",
   "metadata": {},
   "outputs": [],
   "source": [
    "=map(int,input().split())\n",
    "=list(map(int,input().split()))"
   ]
  },
  {
   "cell_type": "code",
   "execution_count": 6,
   "id": "62247ae5",
   "metadata": {},
   "outputs": [
    {
     "name": "stdout",
     "output_type": "stream",
     "text": [
      "vvwvw\n",
      "7\n"
     ]
    }
   ],
   "source": [
    "s=input()\n",
    "v=s.count('v')\n",
    "w=s.count('w')\n",
    "print(v+w*2)"
   ]
  },
  {
   "cell_type": "code",
   "execution_count": 10,
   "id": "45c548a1",
   "metadata": {},
   "outputs": [
    {
     "name": "stdout",
     "output_type": "stream",
     "text": [
      "gorilla\n",
      "gorillagorillagorilla\n",
      "No\n"
     ]
    }
   ],
   "source": [
    "S=input()\n",
    "T=input()\n",
    "if T in S:\n",
    "    print('Yes')\n",
    "else:\n",
    "    print('No')"
   ]
  },
  {
   "cell_type": "code",
   "execution_count": 16,
   "id": "d605dacd",
   "metadata": {},
   "outputs": [
    {
     "name": "stdout",
     "output_type": "stream",
     "text": [
      "1000000000000000000 100\n",
      "8772053214538.598\n"
     ]
    }
   ],
   "source": [
    "import math\n",
    "A,B=map(int,input().split())\n",
    "cnt=int(pow(A/(2*B), 2/3))\n",
    "time_bef=B*cnt+A/math.sqrt(1+cnt)\n",
    "while True:\n",
    "    cnt+=1\n",
    "    time_aft=B*cnt+A/math.sqrt(1+cnt)\n",
    "    if time_bef<=time_aft:\n",
    "        break\n",
    "    else:\n",
    "        time_bef=time_aft\n",
    "\n",
    "print(round(time_bef,11))"
   ]
  },
  {
   "cell_type": "code",
   "execution_count": 48,
   "id": "4aa13dc7",
   "metadata": {},
   "outputs": [
    {
     "name": "stdout",
     "output_type": "stream",
     "text": [
      "1000000000000000000 100\n"
     ]
    },
    {
     "ename": "KeyboardInterrupt",
     "evalue": "",
     "output_type": "error",
     "traceback": [
      "\u001b[1;31m---------------------------------------------------------------------------\u001b[0m",
      "\u001b[1;31mKeyboardInterrupt\u001b[0m                         Traceback (most recent call last)",
      "Input \u001b[1;32mIn [48]\u001b[0m, in \u001b[0;36m<cell line: 8>\u001b[1;34m()\u001b[0m\n\u001b[0;32m      7\u001b[0m \u001b[38;5;28;01mwhile\u001b[39;00m \u001b[38;5;28;01mTrue\u001b[39;00m:\n\u001b[0;32m      8\u001b[0m     cnt\u001b[38;5;241m+\u001b[39m\u001b[38;5;241m=\u001b[39m\u001b[38;5;241m1\u001b[39m\n\u001b[1;32m----> 9\u001b[0m     time_aft\u001b[38;5;241m=\u001b[39mB\u001b[38;5;241m*\u001b[39mcnt\u001b[38;5;241m+\u001b[39mA\u001b[38;5;241m/\u001b[39m\u001b[43m(\u001b[49m\u001b[38;5;241;43m1\u001b[39;49m\u001b[38;5;241;43m+\u001b[39;49m\u001b[43mcnt\u001b[49m\u001b[43m)\u001b[49m\u001b[38;5;241;43m*\u001b[39;49m\u001b[38;5;241;43m*\u001b[39;49m\u001b[38;5;241;43m0.5\u001b[39;49m\n\u001b[0;32m     10\u001b[0m     \u001b[38;5;28;01mif\u001b[39;00m time_bef\u001b[38;5;241m<\u001b[39m\u001b[38;5;241m=\u001b[39mtime_aft:\n\u001b[0;32m     11\u001b[0m         \u001b[38;5;28;01mbreak\u001b[39;00m\n",
      "\u001b[1;31mKeyboardInterrupt\u001b[0m: "
     ]
    }
   ],
   "source": [
    "# TLE\n",
    "A,B=map(int,input().split())\n",
    "cnt=0\n",
    "if A>B:\n",
    "    cnt=A**0.5//1\n",
    "time_bef=B*cnt+A/(1+cnt)**0.5\n",
    "while True:\n",
    "    cnt+=1\n",
    "    time_aft=B*cnt+A/(1+cnt)**0.5\n",
    "    if time_bef<=time_aft:\n",
    "        break\n",
    "    else:\n",
    "        time_bef=time_aft\n",
    "\n",
    "print(round(time_bef,11))"
   ]
  },
  {
   "cell_type": "code",
   "execution_count": 45,
   "id": "0e325f93",
   "metadata": {},
   "outputs": [
    {
     "name": "stdout",
     "output_type": "stream",
     "text": [
      "3 4\n",
      "##.#\n",
      "##..\n",
      "#...\n",
      ".###\n",
      "..##\n",
      "...#\n",
      "Yes\n"
     ]
    }
   ],
   "source": [
    "import numpy as np\n",
    "H,W=map(int,input().split())\n",
    "S_list=[]\n",
    "T_list=[]\n",
    "for _ in range(H):\n",
    "    _S=input()\n",
    "    _S=list(_S)\n",
    "    S_list.append(_S)\n",
    "for _ in range(H):\n",
    "    _T=input()\n",
    "    _T=list(_T)\n",
    "    T_list.append(_T)\n",
    "S_list_t=np.array(S_list).T.tolist()\n",
    "T_list_t=np.array(T_list).T.tolist()\n",
    "S_list_t.sort()\n",
    "T_list_t.sort()\n",
    "\n",
    "if S_list_t==T_list_t:\n",
    "    print('Yes')\n",
    "else:\n",
    "    print('No')"
   ]
  },
  {
   "cell_type": "code",
   "execution_count": 46,
   "id": "f0237d0d",
   "metadata": {},
   "outputs": [
    {
     "data": {
      "text/plain": [
       "[['#', '#', '#'], ['#', '#', '.'], ['#', '.', '.'], ['.', '.', '.']]"
      ]
     },
     "execution_count": 46,
     "metadata": {},
     "output_type": "execute_result"
    }
   ],
   "source": [
    "S_list_t"
   ]
  },
  {
   "cell_type": "code",
   "execution_count": null,
   "id": "eb2eedc6",
   "metadata": {},
   "outputs": [],
   "source": [
    "3 4\n",
    "##.#\n",
    "##..\n",
    "#...\n",
    ".###\n",
    "..##\n",
    "...#\n"
   ]
  },
  {
   "cell_type": "code",
   "execution_count": 39,
   "id": "9bf8a567",
   "metadata": {},
   "outputs": [],
   "source": [
    "a=['#...#','..###','##.#.']\n",
    "a=list(a)"
   ]
  },
  {
   "cell_type": "code",
   "execution_count": 40,
   "id": "38e59695",
   "metadata": {},
   "outputs": [],
   "source": [
    "a.sort()"
   ]
  },
  {
   "cell_type": "code",
   "execution_count": 42,
   "id": "05287313",
   "metadata": {},
   "outputs": [],
   "source": [
    "ad = np.array(a).T.tolist()"
   ]
  },
  {
   "cell_type": "code",
   "execution_count": 43,
   "id": "c2b139f1",
   "metadata": {},
   "outputs": [
    {
     "data": {
      "text/plain": [
       "['##.#.', '#...#', '..###']"
      ]
     },
     "execution_count": 43,
     "metadata": {},
     "output_type": "execute_result"
    }
   ],
   "source": [
    "ad"
   ]
  },
  {
   "cell_type": "code",
   "execution_count": 33,
   "id": "9d7dc794",
   "metadata": {},
   "outputs": [],
   "source": [
    "import numpy as np\n",
    "#import pandas as pd\n",
    "l_2d = [[0, 1, 2], [3, 4, 5]]"
   ]
  },
  {
   "cell_type": "code",
   "execution_count": 34,
   "id": "2a865bdf",
   "metadata": {},
   "outputs": [],
   "source": [
    "l_2d_t = np.array(l_2d).T.tolist()"
   ]
  },
  {
   "cell_type": "code",
   "execution_count": 35,
   "id": "39b4903a",
   "metadata": {},
   "outputs": [
    {
     "data": {
      "text/plain": [
       "[[0, 3], [1, 4], [2, 5]]"
      ]
     },
     "execution_count": 35,
     "metadata": {},
     "output_type": "execute_result"
    }
   ],
   "source": [
    "l_2d_t"
   ]
  },
  {
   "cell_type": "code",
   "execution_count": 36,
   "id": "3ce07ad9",
   "metadata": {},
   "outputs": [],
   "source": [
    "c='#....###'"
   ]
  },
  {
   "cell_type": "code",
   "execution_count": 37,
   "id": "85588312",
   "metadata": {},
   "outputs": [],
   "source": [
    "c=list(c)"
   ]
  },
  {
   "cell_type": "code",
   "execution_count": 38,
   "id": "25aaf76f",
   "metadata": {},
   "outputs": [
    {
     "data": {
      "text/plain": [
       "['#', '.', '.', '.', '.', '#', '#', '#']"
      ]
     },
     "execution_count": 38,
     "metadata": {},
     "output_type": "execute_result"
    }
   ],
   "source": [
    "c"
   ]
  },
  {
   "cell_type": "code",
   "execution_count": 47,
   "id": "9a334328",
   "metadata": {},
   "outputs": [
    {
     "data": {
      "text/plain": [
       "3.1622776601683795"
      ]
     },
     "execution_count": 47,
     "metadata": {},
     "output_type": "execute_result"
    }
   ],
   "source": [
    "10**0.5"
   ]
  },
  {
   "cell_type": "code",
   "execution_count": 5,
   "id": "f3094acd",
   "metadata": {},
   "outputs": [],
   "source": [
    "s=[['##.#'],['##..'],['#...']]\n",
    "H,W=3,4"
   ]
  },
  {
   "cell_type": "code",
   "execution_count": 7,
   "id": "b81f9077",
   "metadata": {},
   "outputs": [],
   "source": [
    "H,W=3,4"
   ]
  },
  {
   "cell_type": "code",
   "execution_count": 11,
   "id": "d69c2300",
   "metadata": {},
   "outputs": [
    {
     "name": "stdout",
     "output_type": "stream",
     "text": [
      "##.#\n",
      "##..\n",
      "#...\n"
     ]
    }
   ],
   "source": [
    "S=[list(input()) for _ in range(H)] "
   ]
  },
  {
   "cell_type": "code",
   "execution_count": 9,
   "id": "922018c9",
   "metadata": {},
   "outputs": [],
   "source": [
    "S=sorted([[S[i][j] for i in range(H)] for j in range(W)])"
   ]
  },
  {
   "cell_type": "code",
   "execution_count": 12,
   "id": "abd125d0",
   "metadata": {},
   "outputs": [
    {
     "data": {
      "text/plain": [
       "[['#', '#', '.', '#'], ['#', '#', '.', '.'], ['#', '.', '.', '.']]"
      ]
     },
     "execution_count": 12,
     "metadata": {},
     "output_type": "execute_result"
    }
   ],
   "source": [
    "S"
   ]
  },
  {
   "cell_type": "code",
   "execution_count": null,
   "id": "32f14838",
   "metadata": {},
   "outputs": [],
   "source": []
  }
 ],
 "metadata": {
  "kernelspec": {
   "display_name": "Python 3 (ipykernel)",
   "language": "python",
   "name": "python3"
  },
  "language_info": {
   "codemirror_mode": {
    "name": "ipython",
    "version": 3
   },
   "file_extension": ".py",
   "mimetype": "text/x-python",
   "name": "python",
   "nbconvert_exporter": "python",
   "pygments_lexer": "ipython3",
   "version": "3.9.12"
  }
 },
 "nbformat": 4,
 "nbformat_minor": 5
}
