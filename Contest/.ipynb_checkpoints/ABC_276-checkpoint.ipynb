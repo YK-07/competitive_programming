{
 "cells": [
  {
   "cell_type": "code",
   "execution_count": 2,
   "id": "586417b6",
   "metadata": {},
   "outputs": [
    {
     "name": "stdout",
     "output_type": "stream",
     "text": [
      "dfdfd\n",
      "-1\n"
     ]
    }
   ],
   "source": [
    "s=str(input())\n",
    "ans=-1\n",
    "if 'a' not in s:\n",
    "    print(ans)\n",
    "else:\n",
    "    for i in range(len(s)):\n",
    "        if s[i]=='a':\n",
    "            ans=i\n",
    "    print(ans+1)"
   ]
  },
  {
   "cell_type": "code",
   "execution_count": null,
   "id": "c1e0c86e",
   "metadata": {},
   "outputs": [],
   "source": [
    "# AC\n",
    "N,M=map(int,input().split())\n",
    "ans_list=[[] for _ in range(N)]\n",
    "for _ in range(M):\n",
    "    A,B=map(int,input().split())\n",
    "    ans_list[A-1].append(B)\n",
    "    ans_list[B-1].append(A)\n",
    "\n",
    "for i in range(N):\n",
    "    ans=ans_list[i]\n",
    "    print(len(ans),*sorted(ans))"
   ]
  },
  {
   "cell_type": "code",
   "execution_count": null,
   "id": "f36e9b5b",
   "metadata": {},
   "outputs": [],
   "source": [
    "# 7/10 WA\n",
    "N,M=map(int,input().split())\n",
    "ans_list=[[] for _ in range(N)]\n",
    "for _ in range(M):\n",
    "    A,B=map(str,input().split())\n",
    "    ans_list[int(A)-1].append(B)\n",
    "    ans_list[int(B)-1].append(A)\n",
    "\n",
    "for i in range(N):\n",
    "    ans=ans_list[i]\n",
    "    if not ans:\n",
    "        print(0)\n",
    "    else:\n",
    "        ans.sort()\n",
    "        print(len(ans),' '.join(ans))"
   ]
  },
  {
   "cell_type": "code",
   "execution_count": null,
   "id": "6e17ed69",
   "metadata": {},
   "outputs": [],
   "source": [
    "# WA 一部正解\n",
    "N,M=map(int,input().split())\n",
    "ans_list=[[] for _ in range(N)]\n",
    "for _ in range(M):\n",
    "    A,B=map(str,input().split())\n",
    "    ans_list[int(A)-1].append(B)\n",
    "    ans_list[int(B)-1].append(A)\n",
    "\n",
    "for i in range(N):\n",
    "    ans=ans_list[i]\n",
    "    if not ans:\n",
    "        print(0)\n",
    "    else:\n",
    "        ans.sort()\n",
    "        ans1=len(ans)\n",
    "        for i in range(ans1):\n",
    "            ans[i]=int(ans[i])\n",
    "        print(ans1,*ans)"
   ]
  },
  {
   "cell_type": "code",
   "execution_count": null,
   "id": "e75a06dd",
   "metadata": {},
   "outputs": [],
   "source": [
    "#AC\n",
    "N,M=map(int,input().split())\n",
    "ans_list=[[] for _ in range(N)]\n",
    "for _ in range(M):\n",
    "    A,B=map(str,input().split())\n",
    "    A=int(A)\n",
    "    B=int(B)\n",
    "    ans_list[A-1].append(B)\n",
    "    ans_list[B-1].append(A)\n",
    "\n",
    "for i in range(N):\n",
    "    ans=ans_list[i]\n",
    "    if not ans:\n",
    "        print(0)\n",
    "    else:\n",
    "        ans.sort()\n",
    "        ans1=len(ans)\n",
    "        for i in range(ans1):\n",
    "            ans[i]=int(ans[i])\n",
    "        print(ans1,*ans)"
   ]
  },
  {
   "cell_type": "code",
   "execution_count": 70,
   "id": "28f44cef",
   "metadata": {},
   "outputs": [
    {
     "name": "stdout",
     "output_type": "stream",
     "text": [
      "10\n",
      "9 8 6 5 10 3 1 2 4 7\n",
      "9 8 6 5 10 2 7 4 3 1\n"
     ]
    }
   ],
   "source": [
    "# TLE\n",
    "import itertools\n",
    "N=int(input())\n",
    "P_ans=list(map(str,input().split()))\n",
    "P_tem=tuple(P_ans)\n",
    "#P_ans.sort()\n",
    "P_list=list(itertools.permutations(sorted(P_ans)))\n",
    "count=0\n",
    "for P in P_list:\n",
    "    if P_tem!=P:\n",
    "        count+=1\n",
    "    else:\n",
    "        ans=list(P_list[count-1])\n",
    "        print(' '.join(list(ans)))\n",
    "        break"
   ]
  },
  {
   "cell_type": "code",
   "execution_count": 87,
   "id": "9ba4a423",
   "metadata": {},
   "outputs": [
    {
     "name": "stdout",
     "output_type": "stream",
     "text": [
      "10\n",
      "9 8 6 5 10 3 1 2 4 7\n",
      "9 8 6 5 10 2 7 4 3 1\n"
     ]
    }
   ],
   "source": [
    "import itertools\n",
    "N=int(input())\n",
    "P_ans=list(map(str,input().split()))\n",
    "P_tem=tuple(P_ans)\n",
    "#P_ans.sort()\n",
    "P_list=list(itertools.permutations(sorted(P_ans)))\n",
    "num=P_list.index(P_tem)\n",
    "ans=list(P_list[num-1])\n",
    "print(' '.join(ans))"
   ]
  },
  {
   "cell_type": "code",
   "execution_count": 67,
   "id": "e341d09c",
   "metadata": {},
   "outputs": [
    {
     "data": {
      "text/plain": [
       "('3', '1', '2')"
      ]
     },
     "execution_count": 67,
     "metadata": {},
     "output_type": "execute_result"
    }
   ],
   "source": [
    "P_tem"
   ]
  },
  {
   "cell_type": "code",
   "execution_count": 73,
   "id": "6082ea80",
   "metadata": {
    "scrolled": true
   },
   "outputs": [
    {
     "data": {
      "text/plain": [
       "('1', '10', '2', '3', '4', '5', '6', '8', '7', '9')"
      ]
     },
     "execution_count": 73,
     "metadata": {},
     "output_type": "execute_result"
    }
   ],
   "source": [
    "P_list[2]"
   ]
  },
  {
   "cell_type": "code",
   "execution_count": null,
   "id": "8381c6b3",
   "metadata": {},
   "outputs": [
    {
     "name": "stdout",
     "output_type": "stream",
     "text": [
      "25\n",
      "1 2 3 4 5 6 7 8 9 10 11 12 13 14 15 16 17 18 19 20 21 22 23 24 25\n"
     ]
    }
   ],
   "source": [
    "import itertools\n",
    "N=int(input())\n",
    "P_ans=list(map(str,input().split()))\n",
    "P_tem=tuple(P_ans)\n",
    "#P_ans.sort()\n",
    "P_list=list(itertools.permutations(sorted(P_ans)))"
   ]
  },
  {
   "cell_type": "code",
   "execution_count": null,
   "id": "4b0bee4e",
   "metadata": {},
   "outputs": [],
   "source": [
    "N = int(input())\n",
    "P = list(map(int, input().split()))\n",
    "for i in reversed(range(N-1)):\n",
    "    if P[i] > P[i+1]:\n",
    "        x = sorted(P[i:], reverse=True)\n",
    "        j = x.index(P[i])\n",
    "        ans = P[:i] + [x[j+1]] + x[:j+1] + x[j+2:]\n",
    "        print(*ans)\n",
    "        break"
   ]
  },
  {
   "cell_type": "code",
   "execution_count": 19,
   "id": "a1b745f7",
   "metadata": {},
   "outputs": [
    {
     "name": "stdout",
     "output_type": "stream",
     "text": [
      "[3, 2]\n"
     ]
    }
   ],
   "source": [
    "a=[4,8,5,3,2,7,4,1,9]\n",
    "b=sorted(a[3:5],reverse=True)\n",
    "print(b)"
   ]
  },
  {
   "cell_type": "code",
   "execution_count": null,
   "id": "58acf6ce",
   "metadata": {},
   "outputs": [],
   "source": []
  },
  {
   "cell_type": "code",
   "execution_count": null,
   "id": "3ab1e09e",
   "metadata": {},
   "outputs": [],
   "source": []
  },
  {
   "cell_type": "code",
   "execution_count": null,
   "id": "4ec9ceab",
   "metadata": {},
   "outputs": [],
   "source": []
  }
 ],
 "metadata": {
  "kernelspec": {
   "display_name": "Python 3 (ipykernel)",
   "language": "python",
   "name": "python3"
  },
  "language_info": {
   "codemirror_mode": {
    "name": "ipython",
    "version": 3
   },
   "file_extension": ".py",
   "mimetype": "text/x-python",
   "name": "python",
   "nbconvert_exporter": "python",
   "pygments_lexer": "ipython3",
   "version": "3.9.12"
  }
 },
 "nbformat": 4,
 "nbformat_minor": 5
}
