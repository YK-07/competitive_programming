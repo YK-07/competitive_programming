{
 "cells": [
  {
   "cell_type": "code",
   "execution_count": null,
   "id": "e845eff1",
   "metadata": {},
   "outputs": [],
   "source": [
    "=int(iuput())"
   ]
  },
  {
   "cell_type": "code",
   "execution_count": null,
   "id": "c7477a2b",
   "metadata": {},
   "outputs": [],
   "source": [
    "=map(int,input().split())"
   ]
  },
  {
   "cell_type": "code",
   "execution_count": null,
   "id": "272bafdd",
   "metadata": {},
   "outputs": [],
   "source": [
    "=[map(int,input().split()) for_ in range()]"
   ]
  },
  {
   "cell_type": "code",
   "execution_count": 7,
   "id": "885248e9",
   "metadata": {
    "scrolled": true
   },
   "outputs": [
    {
     "name": "stdout",
     "output_type": "stream",
     "text": [
      "5 6\n"
     ]
    }
   ],
   "source": [
    "A,B=map(int,input().split())\n",
    "num=[1,2,3,4,5,6,7]\n",
    "C=0\n",
    "A2= filter(A,num)\n",
    "B2= filter(B,num)"
   ]
  },
  {
   "cell_type": "code",
   "execution_count": null,
   "id": "ae51627d",
   "metadata": {},
   "outputs": [],
   "source": [
    "A,B=map(int,input().split())\n",
    "print(A|B)"
   ]
  },
  {
   "cell_type": "code",
   "execution_count": 21,
   "id": "6c298265",
   "metadata": {},
   "outputs": [
    {
     "name": "stdout",
     "output_type": "stream",
     "text": [
      "2 5\n",
      "7\n"
     ]
    }
   ],
   "source": [
    "A,B=map(int,input().split())\n",
    "num=[0,1,2,4] #\n",
    "num1=[1,3,5] # 1\n",
    "num2=[2,3,6] # 2\n",
    "num3=[4,5,6] # 4\n",
    "if A==B:\n",
    "    print(A)\n",
    "elif A==7 or B==7:\n",
    "    print(7)\n",
    "elif A==3 and  B in num3:\n",
    "    print(7)\n",
    "elif A==5 and B in num2:\n",
    "    print(7)\n",
    "elif A ==6 and B in num1:\n",
    "    print(7)\n",
    "elif A==4 and B==3:\n",
    "    print(7)\n",
    "elif A==2 and B==5:\n",
    "    print(7)\n",
    "elif A==1 and B==6:\n",
    "    print(7)\n",
    "elif A==6 or B==6:\n",
    "    print(6)\n",
    "elif A==5 and B not in num2:\n",
    "    print(5)\n",
    "elif B==5 and A not in num2:\n",
    "    print(5)\n",
    "elif A ==4 and B not in num1 and B not in num2:\n",
    "    print(4)\n",
    "elif B ==4 and A not in num1 and A not in num2:\n",
    "    print(4)\n",
    "elif A==3 and B not in num3:\n",
    "    print(3)\n",
    "elif B==3 and A not in num3:\n",
    "    print(3)\n",
    "elif A==B:\n",
    "    print(A)\n",
    "elif A in num and B in num and A!=B:\n",
    "    print(A+B)"
   ]
  },
  {
   "cell_type": "code",
   "execution_count": 37,
   "id": "4a663432",
   "metadata": {},
   "outputs": [
    {
     "name": "stdout",
     "output_type": "stream",
     "text": [
      "10 -10 1\n",
      "10\n"
     ]
    }
   ],
   "source": [
    "x,y,z=map(int,input().split())\n",
    "if 0<y<z<x or 0<y<x<z:\n",
    "    print(-1)\n",
    "elif x<z<y<0 or z<x<y<0:\n",
    "    print(-1)\n",
    "elif x>0 and (x<y or y<0):\n",
    "    print(x) #直接\n",
    "elif x<0 and (y<x or y>0):\n",
    "    print(-x) #直接\n",
    "elif x>0:\n",
    "    if y>0 and z>0:\n",
    "        print (x)\n",
    "    elif y>0 and z<0:\n",
    "        print(x-z-z)\n",
    "elif x<0:\n",
    "    if y<0 and z>0:\n",
    "        print(z+z-x)\n",
    "    elif y<0 and z<0:\n",
    "        print(-x)\n"
   ]
  },
  {
   "cell_type": "code",
   "execution_count": 25,
   "id": "fe02dc03",
   "metadata": {},
   "outputs": [
    {
     "name": "stdout",
     "output_type": "stream",
     "text": [
      "y\n"
     ]
    }
   ],
   "source": [
    "x=-3\n",
    "y=-4\n",
    "if x<0 and (y<x or y>0):\n",
    "    print('y')"
   ]
  },
  {
   "cell_type": "code",
   "execution_count": null,
   "id": "20ea70ca",
   "metadata": {},
   "outputs": [],
   "source": []
  },
  {
   "cell_type": "code",
   "execution_count": null,
   "id": "f42935f7",
   "metadata": {},
   "outputs": [],
   "source": []
  }
 ],
 "metadata": {
  "kernelspec": {
   "display_name": "Python 3 (ipykernel)",
   "language": "python",
   "name": "python3"
  },
  "language_info": {
   "codemirror_mode": {
    "name": "ipython",
    "version": 3
   },
   "file_extension": ".py",
   "mimetype": "text/x-python",
   "name": "python",
   "nbconvert_exporter": "python",
   "pygments_lexer": "ipython3",
   "version": "3.9.12"
  }
 },
 "nbformat": 4,
 "nbformat_minor": 5
}
