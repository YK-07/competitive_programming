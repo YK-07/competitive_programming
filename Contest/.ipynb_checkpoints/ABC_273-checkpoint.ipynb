{
 "cells": [
  {
   "cell_type": "code",
   "execution_count": null,
   "id": "d65cf6f1",
   "metadata": {},
   "outputs": [],
   "source": [
    "=int(input())\n",
    "=map(int,input().split())\n",
    "=list(map(int,input().split()))\n",
    "=[list(map(int,input().split())) for _ in range(N)]"
   ]
  },
  {
   "cell_type": "code",
   "execution_count": 11,
   "id": "a2e62ee5",
   "metadata": {},
   "outputs": [
    {
     "name": "stdout",
     "output_type": "stream",
     "text": [
      "10\n",
      "3628800\n"
     ]
    }
   ],
   "source": [
    "N=int(input())\n",
    "fk=1\n",
    "for i in range(1,N+1):\n",
    "    fk*=i\n",
    "print(fk)"
   ]
  },
  {
   "cell_type": "code",
   "execution_count": 126,
   "id": "0255764e",
   "metadata": {},
   "outputs": [
    {
     "name": "stdout",
     "output_type": "stream",
     "text": [
      "1015 1\n",
      "1020\n"
     ]
    }
   ],
   "source": [
    "X,K=map(int,input().split())\n",
    "X=str(X)\n",
    "X='0'*15+X\n",
    "X=X[::-1]\n",
    "X=list(X)\n",
    "\n",
    "num_X=[]\n",
    "for x in X:\n",
    "    num_X.append(int(x))\n",
    "for i in range(K):\n",
    "    if num_X[i]>=5:\n",
    "        num_X[i]=0\n",
    "        num_X[i+1]+=1\n",
    "    else:\n",
    "        num_X[i]=0\n",
    "\n",
    "for _ in range(len(num_X)):\n",
    "    if num_X[-1]==0:\n",
    "        num_X.pop()\n",
    "    else:\n",
    "        break\n",
    "\n",
    "if not num_X:\n",
    "    print(0)\n",
    "else:\n",
    "    for i in range(len(num_X)):\n",
    "        num_X[i]=str(num_X[i])\n",
    "\n",
    "    num_X=num_X[::-1]\n",
    "    ans = \"\".join(num_X)\n",
    "    print(ans)"
   ]
  },
  {
   "cell_type": "code",
   "execution_count": null,
   "id": "24518a08",
   "metadata": {},
   "outputs": [],
   "source": []
  },
  {
   "cell_type": "code",
   "execution_count": null,
   "id": "486d4469",
   "metadata": {},
   "outputs": [],
   "source": []
  },
  {
   "cell_type": "code",
   "execution_count": null,
   "id": "c7310a24",
   "metadata": {},
   "outputs": [],
   "source": []
  },
  {
   "cell_type": "code",
   "execution_count": null,
   "id": "61e4cc31",
   "metadata": {},
   "outputs": [],
   "source": []
  }
 ],
 "metadata": {
  "kernelspec": {
   "display_name": "Python 3 (ipykernel)",
   "language": "python",
   "name": "python3"
  },
  "language_info": {
   "codemirror_mode": {
    "name": "ipython",
    "version": 3
   },
   "file_extension": ".py",
   "mimetype": "text/x-python",
   "name": "python",
   "nbconvert_exporter": "python",
   "pygments_lexer": "ipython3",
   "version": "3.9.12"
  }
 },
 "nbformat": 4,
 "nbformat_minor": 5
}
