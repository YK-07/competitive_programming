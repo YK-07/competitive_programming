{
 "cells": [
  {
   "cell_type": "code",
   "execution_count": null,
   "id": "84b1dc88",
   "metadata": {},
   "outputs": [],
   "source": [
    "=int(input())\n",
    "=map(int,input().split())"
   ]
  },
  {
   "cell_type": "code",
   "execution_count": 4,
   "id": "2dd986d2",
   "metadata": {},
   "outputs": [
    {
     "name": "stdout",
     "output_type": "stream",
     "text": [
      "4\n",
      "3\n",
      "2\n",
      "1\n",
      "0\n"
     ]
    }
   ],
   "source": [
    "N=int(input())\n",
    "_N=[i for i in range(N+1)]\n",
    "for i in reversed(_N):\n",
    "    print(i)"
   ]
  },
  {
   "cell_type": "code",
   "execution_count": 30,
   "id": "e35ffd68",
   "metadata": {},
   "outputs": [
    {
     "name": "stdout",
     "output_type": "stream",
     "text": [
      "K012345K\n",
      "Yes\n"
     ]
    }
   ],
   "source": [
    "import sys\n",
    "S=input()\n",
    "S=list(S)\n",
    "if len(S)!=8:\n",
    "    print('No')\n",
    "    sys.exit()\n",
    "_list='ABCDEFGHIJKLMNOPQRSTUVWXYZ'\n",
    "if S[0] in _list and S[-1] in _list:\n",
    "    S.pop(0)\n",
    "    S.pop(-1)\n",
    "    num=['0','1','2','3','4','5','6','7','8','9']\n",
    "    num_2=['1','2','3','4','5','6','7','8','9']\n",
    "    cnt=0\n",
    "    for i in range(6):\n",
    "        if i==0:\n",
    "            if S[i] in num_2:\n",
    "                cnt+=1\n",
    "        else:\n",
    "            if S[i] in num:\n",
    "                cnt+=1\n",
    "    if cnt==6:\n",
    "        print('Yes')\n",
    "    else:\n",
    "        print('No')\n",
    "else:\n",
    "    print('No')"
   ]
  },
  {
   "cell_type": "code",
   "execution_count": 43,
   "id": "95780c3a",
   "metadata": {},
   "outputs": [
    {
     "name": "stdout",
     "output_type": "stream",
     "text": [
      "10 5678912340\n",
      "1000000000 1000000000 1000000000 1000000000 1000000000 1000000000 1000000000 1000000000 1000000000 1000000000\n",
      "6 678912340\n"
     ]
    }
   ],
   "source": [
    "# TLE \n",
    "import sys\n",
    "N,T=map(int,input().split())\n",
    "A=list(map(int,input().split()))\n",
    "_sum=sum(A)\n",
    "\n",
    "while _sum<=T:\n",
    "    T-=_sum\n",
    "if T==0:\n",
    "    print(1,0)\n",
    "    sys.exit()\n",
    "for i in range(N):\n",
    "    if A[i]<=T:\n",
    "        T-=A[i]\n",
    "    else:\n",
    "        print(i+1,T)\n",
    "        break"
   ]
  },
  {
   "cell_type": "code",
   "execution_count": 76,
   "id": "0262bfbc",
   "metadata": {},
   "outputs": [
    {
     "name": "stdout",
     "output_type": "stream",
     "text": [
      "3 281\n",
      "94 94 94\n",
      "3 93\n"
     ]
    }
   ],
   "source": [
    "# TLE \n",
    "from itertools import accumulate\n",
    "import bisect\n",
    "N,T=map(int,input().split())\n",
    "A=list(map(int,input().split()))\n",
    "_A=list(accumulate(A)) \n",
    "\n",
    "while _A[-1]<=T:\n",
    "    T-=_A[-1]\n",
    "\n",
    "num=bisect.bisect(_A,T)\n",
    "if num==0:\n",
    "    pass\n",
    "else:\n",
    "    T-=_A[num-1]\n",
    "print(num+1,T)"
   ]
  },
  {
   "cell_type": "code",
   "execution_count": 63,
   "id": "74639348",
   "metadata": {},
   "outputs": [
    {
     "name": "stdout",
     "output_type": "stream",
     "text": [
      "2\n"
     ]
    }
   ],
   "source": [
    "import bisect\n",
    "a=[10,20,30,40,50,60,70,80,90,100]\n",
    " \n",
    "print(bisect.bisect(a,25))"
   ]
  },
  {
   "cell_type": "code",
   "execution_count": null,
   "id": "231bc832",
   "metadata": {},
   "outputs": [],
   "source": [
    "for i in range(N):\n",
    "    \n",
    "    if _A[i]>=T:\n",
    "        if i==0:\n",
    "            print(i+1,T)\n",
    "            break\n",
    "        else:\n",
    "            T-=_A[i-1]\n",
    "            print(i+1,T)\n",
    "            break"
   ]
  },
  {
   "cell_type": "code",
   "execution_count": null,
   "id": "85906bc2",
   "metadata": {},
   "outputs": [],
   "source": []
  },
  {
   "cell_type": "code",
   "execution_count": null,
   "id": "97e98f1f",
   "metadata": {},
   "outputs": [],
   "source": []
  }
 ],
 "metadata": {
  "kernelspec": {
   "display_name": "Python 3 (ipykernel)",
   "language": "python",
   "name": "python3"
  },
  "language_info": {
   "codemirror_mode": {
    "name": "ipython",
    "version": 3
   },
   "file_extension": ".py",
   "mimetype": "text/x-python",
   "name": "python",
   "nbconvert_exporter": "python",
   "pygments_lexer": "ipython3",
   "version": "3.9.12"
  }
 },
 "nbformat": 4,
 "nbformat_minor": 5
}
