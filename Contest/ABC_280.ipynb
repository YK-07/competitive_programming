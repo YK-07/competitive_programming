{
 "cells": [
  {
   "cell_type": "code",
   "execution_count": null,
   "id": "4a4fa777",
   "metadata": {},
   "outputs": [],
   "source": [
    "=map(int,input().split())\n",
    "=list(map(int,input().split()))\n",
    "for _ in range():"
   ]
  },
  {
   "cell_type": "code",
   "execution_count": 10,
   "id": "23723dc6",
   "metadata": {},
   "outputs": [
    {
     "name": "stdout",
     "output_type": "stream",
     "text": [
      "10\n",
      "314159265 358979323 846264338 -327950288 419716939 -937510582 97494459 230781640 628620899 -862803482\n",
      "314159265 44820058 487285015 -1174214626 747667227 -1357227521 1035005041 133287181 397839259 -1491424381\n"
     ]
    }
   ],
   "source": [
    "N=int(input())\n",
    "S=list(map(int,input().split()))\n",
    "ans=[]\n",
    "total=0\n",
    "for i in range(N):\n",
    "    ans.append(S[i]-total)\n",
    "    total+=ans[-1]\n",
    "print(*ans)"
   ]
  },
  {
   "cell_type": "code",
   "execution_count": 1,
   "id": "a6d58276",
   "metadata": {},
   "outputs": [
    {
     "name": "stdout",
     "output_type": "stream",
     "text": [
      "3 5\n",
      "#....\n",
      "#....\n",
      "#....\n",
      "3\n"
     ]
    }
   ],
   "source": [
    "H,W=map(int,input().split())\n",
    "ans=0\n",
    "for i in range(H):\n",
    "    s=input()\n",
    "    cnt=s.count('#')\n",
    "    ans+=cnt\n",
    "print(ans)"
   ]
  },
  {
   "cell_type": "code",
   "execution_count": 18,
   "id": "219eb522",
   "metadata": {},
   "outputs": [
    {
     "name": "stdout",
     "output_type": "stream",
     "text": [
      "milllion\n",
      "millliong\n",
      "9\n"
     ]
    }
   ],
   "source": [
    "S=input()\n",
    "T=input()\n",
    "S_len=len(S)\n",
    "ans=S_len\n",
    "for i in range(S_len):\n",
    "    if S[i]!=T[i]:\n",
    "        ans=i\n",
    "        break\n",
    "if ans==S_len:\n",
    "    ans=S_len\n",
    "print(ans+1)"
   ]
  },
  {
   "cell_type": "code",
   "execution_count": 78,
   "id": "05545d54",
   "metadata": {},
   "outputs": [
    {
     "name": "stdout",
     "output_type": "stream",
     "text": [
      "1366875\n",
      "21\n"
     ]
    }
   ],
   "source": [
    "K=int(input())\n",
    "\n",
    "def factorization(n):\n",
    "    arr = []\n",
    "    temp = n\n",
    "    for i in range(2, int(-(-n**0.5//1))+1):\n",
    "        if temp%i==0:\n",
    "            cnt=0\n",
    "            while temp%i==0:\n",
    "                cnt+=1\n",
    "                temp //= i\n",
    "            arr.append([i, cnt])\n",
    "    if temp!=1:\n",
    "        arr.append([temp, 1])\n",
    "    if arr==[]:\n",
    "        arr.append([n, 1])\n",
    "    return arr\n",
    "num=factorization(K)\n",
    "list_volume=[]\n",
    "_list=[]\n",
    "\n",
    "for i in range(len(num)):\n",
    "    _list.append(num[i][1])\n",
    "\n",
    "for i in range(len(num)):\n",
    "    for j in range(len(_list)):\n",
    "        if i==j:\n",
    "            pass\n",
    "        else:\n",
    "            over=_list[j]//num[i][0]\n",
    "            num[i][1]-=over\n",
    "\n",
    "for i in range(len(num)):\n",
    "    list_volume.append(num[i][0]*num[i][1])\n",
    "list_volume.sort()\n",
    "print(list_volume[-1])"
   ]
  },
  {
   "cell_type": "code",
   "execution_count": 72,
   "id": "c499f5be",
   "metadata": {},
   "outputs": [
    {
     "name": "stdout",
     "output_type": "stream",
     "text": [
      "[[3, 7], [5, 4]]\n"
     ]
    }
   ],
   "source": [
    "for i in range(len(num)):\n",
    "    for j in range(len(_list)):\n",
    "        if i==j:\n",
    "            pass\n",
    "        else:\n",
    "            over=_list[j]//num[i][0]\n",
    "            num[i][1]-=over\n",
    "print(num)"
   ]
  },
  {
   "cell_type": "code",
   "execution_count": 79,
   "id": "e6831a5b",
   "metadata": {},
   "outputs": [],
   "source": [
    "for i in range(len(num)):\n",
    "    _list.append(num[i][1])\n",
    "\n",
    "for i in range(len(num)):\n",
    "    for j in range(len(_list)):\n",
    "        if i==j:\n",
    "            pass\n",
    "        else:\n",
    "            over=_list[j]//num[i][0]\n",
    "            num[i][1]-=over"
   ]
  },
  {
   "cell_type": "code",
   "execution_count": 80,
   "id": "35278c46",
   "metadata": {},
   "outputs": [
    {
     "data": {
      "text/plain": [
       "1"
      ]
     },
     "execution_count": 80,
     "metadata": {},
     "output_type": "execute_result"
    }
   ],
   "source": [
    "7//5"
   ]
  },
  {
   "cell_type": "code",
   "execution_count": 81,
   "id": "ce0e2c46",
   "metadata": {},
   "outputs": [
    {
     "name": "stdout",
     "output_type": "stream",
     "text": [
      "[[3, 6], [5, 3]]\n",
      "[7, 4]\n",
      "[20, 21]\n"
     ]
    }
   ],
   "source": [
    "print(num)\n",
    "print(_list)\n",
    "print(list_volume)"
   ]
  },
  {
   "cell_type": "code",
   "execution_count": 28,
   "id": "81373dae",
   "metadata": {},
   "outputs": [
    {
     "name": "stdout",
     "output_type": "stream",
     "text": [
      "123456789011\n",
      "123456789011\n"
     ]
    },
    {
     "ename": "SystemExit",
     "evalue": "",
     "output_type": "error",
     "traceback": [
      "An exception has occurred, use %tb to see the full traceback.\n",
      "\u001b[1;31mSystemExit\u001b[0m\n"
     ]
    },
    {
     "name": "stderr",
     "output_type": "stream",
     "text": [
      "C:\\Users\\Yusuke\\anaconda3\\lib\\site-packages\\IPython\\core\\interactiveshell.py:3377: UserWarning: To exit: use 'exit', 'quit', or Ctrl-D.\n",
      "  warn(\"To exit: use 'exit', 'quit', or Ctrl-D.\", stacklevel=1)\n"
     ]
    }
   ],
   "source": [
    "import math\n",
    "import sys\n",
    "K=int(input())\n",
    "\n",
    "def is_prime(n):\n",
    "    sqrt_n = math.ceil(math.sqrt(n))\n",
    "    for i in range(2, sqrt_n):\n",
    "        if n % i == 0:\n",
    "            return False\n",
    "    return True\n",
    "\n",
    "if is_prime(K)==True:\n",
    "    print(K)\n",
    "    sys.exit()\n",
    "\n",
    "N_volume=1\n",
    "N=1\n",
    "while True:\n",
    "    if N_volume%K==0 and N_volume>=K:\n",
    "        break\n",
    "    N+=1\n",
    "    N_volume*=N\n",
    "print(N)"
   ]
  },
  {
   "cell_type": "code",
   "execution_count": 36,
   "id": "e13752b9",
   "metadata": {},
   "outputs": [
    {
     "name": "stdout",
     "output_type": "stream",
     "text": [
      "30\n",
      "5\n"
     ]
    }
   ],
   "source": [
    "import math\n",
    "import sys\n",
    "K=int(input())\n",
    "\n",
    "def is_prime(n):\n",
    "    sqrt_n = math.ceil(math.sqrt(n))\n",
    "    for i in range(2, sqrt_n):\n",
    "        if n % i == 0:\n",
    "            return False\n",
    "    return True\n",
    "\n",
    "if is_prime(K)==True:\n",
    "    print(K)\n",
    "    sys.exit()\n",
    "\n",
    "N_volume=1\n",
    "N=1\n",
    "while True: \n",
    "    if N_volume%K==0 and N_volume>=K:\n",
    "        break\n",
    "    N+=1\n",
    "    N_volume*=N\n",
    "print(N)"
   ]
  },
  {
   "cell_type": "code",
   "execution_count": 26,
   "id": "f893d9af",
   "metadata": {},
   "outputs": [],
   "source": [
    "import math\n",
    "\n",
    "def is_prime(n):\n",
    "    sqrt_n = math.ceil(math.sqrt(n))\n",
    "    for i in range(2, sqrt_n):\n",
    "        if n % i == 0:\n",
    "            return False\n",
    "    return True"
   ]
  },
  {
   "cell_type": "code",
   "execution_count": 27,
   "id": "ad0223e2",
   "metadata": {},
   "outputs": [
    {
     "data": {
      "text/plain": [
       "True"
      ]
     },
     "execution_count": 27,
     "metadata": {},
     "output_type": "execute_result"
    }
   ],
   "source": [
    "is_prime(123456789011)"
   ]
  },
  {
   "cell_type": "code",
   "execution_count": 33,
   "id": "7d511245",
   "metadata": {},
   "outputs": [
    {
     "name": "stdout",
     "output_type": "stream",
     "text": [
      "15\n"
     ]
    }
   ],
   "source": [
    "num=1\n",
    "for i in range(1,18):\n",
    "    num*=i\n",
    "print(len(str(num)))"
   ]
  },
  {
   "cell_type": "code",
   "execution_count": null,
   "id": "ceaa62be",
   "metadata": {},
   "outputs": [],
   "source": []
  }
 ],
 "metadata": {
  "kernelspec": {
   "display_name": "Python 3 (ipykernel)",
   "language": "python",
   "name": "python3"
  },
  "language_info": {
   "codemirror_mode": {
    "name": "ipython",
    "version": 3
   },
   "file_extension": ".py",
   "mimetype": "text/x-python",
   "name": "python",
   "nbconvert_exporter": "python",
   "pygments_lexer": "ipython3",
   "version": "3.9.12"
  }
 },
 "nbformat": 4,
 "nbformat_minor": 5
}
