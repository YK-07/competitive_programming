{
 "cells": [
  {
   "cell_type": "code",
   "execution_count": 1,
   "id": "07f6e677",
   "metadata": {},
   "outputs": [
    {
     "name": "stdout",
     "output_type": "stream",
     "text": [
      "5\n",
      "2 1 4\n"
     ]
    }
   ],
   "source": [
    "n = int(input())\n",
    "a,b,c=list(map(int, input().split()))\n",
    "num = [list(map(int, input().split())) for _ in range()]"
   ]
  },
  {
   "cell_type": "code",
   "execution_count": 4,
   "id": "9b57766e",
   "metadata": {},
   "outputs": [
    {
     "name": "stdout",
     "output_type": "stream",
     "text": [
      "1 2 5 3\n",
      "6\n",
      "Takahashi\n"
     ]
    }
   ],
   "source": [
    "a,b,c,d=list(map(int, input().split()))\n",
    "print((a+b)*(c-d))\n",
    "print('Takahashi')"
   ]
  },
  {
   "cell_type": "code",
   "execution_count": 40,
   "id": "2d6e25af",
   "metadata": {},
   "outputs": [
    {
     "name": "stdout",
     "output_type": "stream",
     "text": [
      "..........\n",
      "..........\n",
      "..........\n",
      "..........\n",
      "...######.\n",
      "...######.\n",
      "...######.\n",
      "...######.\n",
      "..........\n",
      "..........\n",
      "5 8\n",
      "4 9\n"
     ]
    }
   ],
   "source": [
    "#s = [list(map(str, input().split())) for _ in range(10)]\n",
    "s=[]\n",
    "for _ in range(10):\n",
    "    s.append(str(input()))\n",
    "count=0\n",
    "count2=0\n",
    "count3=1\n",
    "for i in range(10):\n",
    "    if '#' in s[i]:\n",
    "        num=[i for i, x in enumerate(s[i]) if x == '#']\n",
    "        \n",
    "        if count2<count:\n",
    "            count2+=(count+1)\n",
    "            count3=count+1\n",
    "        elif count==0:\n",
    "            count2+=1\n",
    "        else:\n",
    "            count2+=1\n",
    "    else:\n",
    "        count+=1\n",
    "\n",
    "A,B = count3,count2\n",
    "C,D = num[0]+1,num[-1]+1\n",
    "print(A,B)\n",
    "print(C,D)"
   ]
  },
  {
   "cell_type": "code",
   "execution_count": 35,
   "id": "3e88546b",
   "metadata": {},
   "outputs": [
    {
     "name": "stdout",
     "output_type": "stream",
     "text": [
      "1 10\n",
      "1 2\n"
     ]
    }
   ],
   "source": [
    "print(A,B)\n",
    "print(C,D)"
   ]
  },
  {
   "cell_type": "code",
   "execution_count": 23,
   "id": "69b493be",
   "metadata": {},
   "outputs": [
    {
     "ename": "TypeError",
     "evalue": "enumerate() missing required argument 'iterable' (pos 1)",
     "output_type": "error",
     "traceback": [
      "\u001b[1;31m---------------------------------------------------------------------------\u001b[0m",
      "\u001b[1;31mTypeError\u001b[0m                                 Traceback (most recent call last)",
      "Input \u001b[1;32mIn [23]\u001b[0m, in \u001b[0;36m<cell line: 2>\u001b[1;34m()\u001b[0m\n\u001b[0;32m      1\u001b[0m a\u001b[38;5;241m=\u001b[39m[[\u001b[38;5;241m1\u001b[39m,\u001b[38;5;241m2\u001b[39m],[\u001b[38;5;241m2\u001b[39m,\u001b[38;5;241m4\u001b[39m],[\u001b[38;5;241m4\u001b[39m,\u001b[38;5;241m5\u001b[39m],[\u001b[38;5;241m1\u001b[39m,\u001b[38;5;241m8\u001b[39m]]\n\u001b[1;32m----> 2\u001b[0m b\u001b[38;5;241m=\u001b[39m[i \u001b[38;5;28;01mfor\u001b[39;00m i, x \u001b[38;5;129;01min\u001b[39;00m \u001b[38;5;28;43menumerate\u001b[39;49m\u001b[43m(\u001b[49m\u001b[43m)\u001b[49m \u001b[38;5;28;01mif\u001b[39;00m x \u001b[38;5;241m==\u001b[39m \u001b[38;5;124m'\u001b[39m\u001b[38;5;124m4\u001b[39m\u001b[38;5;124m'\u001b[39m]\n",
      "\u001b[1;31mTypeError\u001b[0m: enumerate() missing required argument 'iterable' (pos 1)"
     ]
    }
   ],
   "source": [
    "a=[[1,2],[2,4],[4,5],[1,8]]\n",
    "b=[i for i, x in enumerate() if x == '4']"
   ]
  },
  {
   "cell_type": "code",
   "execution_count": null,
   "id": "be545fc8",
   "metadata": {},
   "outputs": [],
   "source": []
  },
  {
   "cell_type": "code",
   "execution_count": 10,
   "id": "2ef1fdb0",
   "metadata": {},
   "outputs": [],
   "source": [
    "a = 'aaaaaaaa'\n",
    "b= a.index(a)"
   ]
  },
  {
   "cell_type": "code",
   "execution_count": 11,
   "id": "07de4294",
   "metadata": {},
   "outputs": [
    {
     "data": {
      "text/plain": [
       "0"
      ]
     },
     "execution_count": 11,
     "metadata": {},
     "output_type": "execute_result"
    }
   ],
   "source": [
    "b"
   ]
  },
  {
   "cell_type": "code",
   "execution_count": 13,
   "id": "f4289c44",
   "metadata": {},
   "outputs": [],
   "source": [
    "list2 = ['a', 'b', 'c', 'd', 'a']\n",
    "b=[i for i, x in enumerate(list2) if x == 'a']"
   ]
  },
  {
   "cell_type": "code",
   "execution_count": 14,
   "id": "ea55b9db",
   "metadata": {},
   "outputs": [
    {
     "data": {
      "text/plain": [
       "[0, 4]"
      ]
     },
     "execution_count": 14,
     "metadata": {},
     "output_type": "execute_result"
    }
   ],
   "source": [
    "b"
   ]
  },
  {
   "cell_type": "code",
   "execution_count": 15,
   "id": "0cf645dc",
   "metadata": {},
   "outputs": [
    {
     "data": {
      "text/plain": [
       "4"
      ]
     },
     "execution_count": 15,
     "metadata": {},
     "output_type": "execute_result"
    }
   ],
   "source": [
    "b[1]"
   ]
  },
  {
   "cell_type": "code",
   "execution_count": 22,
   "id": "6d524dd7",
   "metadata": {},
   "outputs": [
    {
     "name": "stdout",
     "output_type": "stream",
     "text": [
      "GA\n",
      "GA\n",
      "GA\n",
      "GA\n"
     ]
    }
   ],
   "source": [
    "for i in range(10):\n",
    "    if i>5:\n",
    "        print('GA')\n",
    "       \n",
    "    else:\n",
    "        pass"
   ]
  },
  {
   "cell_type": "code",
   "execution_count": 9,
   "id": "8013e8df",
   "metadata": {},
   "outputs": [],
   "source": [
    "y=300\n",
    "def tx(t):\n",
    "    a=y*t\n",
    "    return a"
   ]
  },
  {
   "cell_type": "code",
   "execution_count": 10,
   "id": "cdf8ac87",
   "metadata": {},
   "outputs": [
    {
     "data": {
      "text/plain": [
       "600"
      ]
     },
     "execution_count": 10,
     "metadata": {},
     "output_type": "execute_result"
    }
   ],
   "source": [
    "tx(2)"
   ]
  },
  {
   "cell_type": "code",
   "execution_count": 11,
   "id": "ff00e7ad",
   "metadata": {},
   "outputs": [
    {
     "name": "stdout",
     "output_type": "stream",
     "text": [
      "600\n"
     ]
    }
   ],
   "source": [
    "print(tx(2))"
   ]
  },
  {
   "cell_type": "code",
   "execution_count": null,
   "id": "05b0cb78",
   "metadata": {},
   "outputs": [],
   "source": []
  }
 ],
 "metadata": {
  "kernelspec": {
   "display_name": "Python 3 (ipykernel)",
   "language": "python",
   "name": "python3"
  },
  "language_info": {
   "codemirror_mode": {
    "name": "ipython",
    "version": 3
   },
   "file_extension": ".py",
   "mimetype": "text/x-python",
   "name": "python",
   "nbconvert_exporter": "python",
   "pygments_lexer": "ipython3",
   "version": "3.9.12"
  }
 },
 "nbformat": 4,
 "nbformat_minor": 5
}
